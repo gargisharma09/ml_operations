{
 "cells": [
  {
   "cell_type": "code",
   "execution_count": 1,
   "id": "4166f6e4-3af0-4d1a-a876-d598edf7e200",
   "metadata": {},
   "outputs": [
    {
     "data": {
      "text/plain": [
       "3"
      ]
     },
     "execution_count": 1,
     "metadata": {},
     "output_type": "execute_result"
    }
   ],
   "source": [
    "#create a list of integers acess  the third element\n",
    "list=[1,2,3,4,5]\n",
    "third=list[2]\n",
    "third"
   ]
  },
  {
   "cell_type": "code",
   "execution_count": 5,
   "id": "2110e58c-2c9c-48c1-9f33-b1f380e8b6b9",
   "metadata": {},
   "outputs": [
    {
     "data": {
      "text/plain": [
       "['apple', 'strawberry', 'pineapple', 'mango', 'banana']"
      ]
     },
     "execution_count": 5,
     "metadata": {},
     "output_type": "execute_result"
    }
   ],
   "source": [
    "#add mango and banana to list\n",
    "list=[\"apple\",\"strawberry\",\"pineapple\"]\n",
    "list.append(\"mango\")\n",
    "list.append(\"banana\")\n",
    "list"
   ]
  },
  {
   "cell_type": "code",
   "execution_count": 6,
   "id": "d73e4238-2c5f-44b3-a0e9-7b2a443f35db",
   "metadata": {},
   "outputs": [
    {
     "data": {
      "text/plain": [
       "['apple', 'banana']"
      ]
     },
     "execution_count": 6,
     "metadata": {},
     "output_type": "execute_result"
    }
   ],
   "source": [
    "#remove orange\n",
    "list=[\"apple\",\"orange\",\"banana\"]\n",
    "list.remove(\"orange\")\n",
    "list"
   ]
  },
  {
   "cell_type": "code",
   "execution_count": 7,
   "id": "514af746-fcc6-4910-9d7b-4184e52ee706",
   "metadata": {},
   "outputs": [
    {
     "data": {
      "text/plain": [
       "[10, 20, 4, 45, 99]"
      ]
     },
     "execution_count": 7,
     "metadata": {},
     "output_type": "execute_result"
    }
   ],
   "source": [
    "#get max among the list\n",
    "list=[10,20,4,45,99]\n",
    "largest=max(list)"
   ]
  },
  {
   "cell_type": "code",
   "execution_count": 8,
   "id": "ea5b5c5c-eb86-4305-af54-d2702e4641d3",
   "metadata": {},
   "outputs": [
    {
     "data": {
      "text/plain": [
       "3"
      ]
     },
     "execution_count": 8,
     "metadata": {},
     "output_type": "execute_result"
    }
   ],
   "source": [
    "#count number of repetitions\n",
    "q=[1,3,5,3,3,7]\n",
    "q.count(3)\n",
    "\n"
   ]
  },
  {
   "cell_type": "code",
   "execution_count": 13,
   "id": "6db479d4-c53a-4db6-ab5b-6999b23569ee",
   "metadata": {},
   "outputs": [
    {
     "data": {
      "text/plain": [
       "[5, 4, 3, 2, 1]"
      ]
     },
     "execution_count": 13,
     "metadata": {},
     "output_type": "execute_result"
    }
   ],
   "source": [
    "#reverse\n",
    "l3=[1,2,3,4,5]\n",
    "l3.reverse()\n",
    "l3"
   ]
  },
  {
   "cell_type": "code",
   "execution_count": 27,
   "id": "d8a296bd-e621-4480-8ce4-bb94a0530952",
   "metadata": {},
   "outputs": [],
   "source": [
    "#sort\n",
    "l4=[4,2,9,1,5]\n",
    "l4.sort()\n"
   ]
  },
  {
   "cell_type": "code",
   "execution_count": 29,
   "id": "ea43485b-f506-42aa-aacd-714a54da4862",
   "metadata": {},
   "outputs": [],
   "source": [
    "l4.sort(reverse=True)"
   ]
  },
  {
   "cell_type": "code",
   "execution_count": 30,
   "id": "83be8352-ee53-428f-8055-80addfcfa257",
   "metadata": {},
   "outputs": [
    {
     "data": {
      "text/plain": [
       "[9, 5, 4, 2, 1]"
      ]
     },
     "execution_count": 30,
     "metadata": {},
     "output_type": "execute_result"
    }
   ],
   "source": [
    "l4"
   ]
  },
  {
   "cell_type": "code",
   "execution_count": 14,
   "id": "33ec31c4-5dc5-4180-88f1-35b095329262",
   "metadata": {},
   "outputs": [
    {
     "data": {
      "text/plain": [
       "'spiderman'"
      ]
     },
     "execution_count": 14,
     "metadata": {},
     "output_type": "execute_result"
    }
   ],
   "source": [
    "#dict\n",
    "d={1:\"batman\",2:\"spiderman\",3:\"pushpa\"}\n",
    "d[2]"
   ]
  },
  {
   "cell_type": "code",
   "execution_count": 16,
   "id": "b67d6b37-6954-4b76-9031-999d6b45cc0b",
   "metadata": {},
   "outputs": [
    {
     "name": "stdin",
     "output_type": "stream",
     "text": [
      "enter the number -4\n"
     ]
    },
    {
     "name": "stdout",
     "output_type": "stream",
     "text": [
      "-\n"
     ]
    }
   ],
   "source": [
    "num=int(input(\"enter the number\"))\n",
    "if num>0:\n",
    "    print(\"+\")\n",
    "elif num<0:\n",
    "    print(\"-\")\n",
    "else :\n",
    "    print(0)"
   ]
  },
  {
   "cell_type": "code",
   "execution_count": 24,
   "id": "e520e3c1-e5e5-4b0d-8745-804c75b88f4c",
   "metadata": {},
   "outputs": [
    {
     "name": "stdin",
     "output_type": "stream",
     "text": [
      "enter marks: 66\n"
     ]
    },
    {
     "name": "stdout",
     "output_type": "stream",
     "text": [
      "F\n"
     ]
    }
   ],
   "source": [
    "num=int(input(\"enter marks:\"))\n",
    "if num>=90:\n",
    "    print(\"A\")\n",
    "elif num<80 and num>70:\n",
    "    print(\"B\")\n",
    "elif num>70 and num<79:\n",
    "    print(\"C\")\n",
    "else: \n",
    "    print(\"F\")\n",
    "    \n",
    "    "
   ]
  },
  {
   "cell_type": "code",
   "execution_count": 31,
   "id": "6b14621d-3b7f-476c-b0f2-31f2f1fc3ca9",
   "metadata": {},
   "outputs": [
    {
     "name": "stdout",
     "output_type": "stream",
     "text": [
      "1\n",
      "2\n",
      "3\n",
      "4\n",
      "5\n",
      "6\n",
      "7\n",
      "8\n",
      "9\n",
      "10\n"
     ]
    }
   ],
   "source": [
    "for i in range(1,11):\n",
    "    print(i)"
   ]
  },
  {
   "cell_type": "code",
   "execution_count": 32,
   "id": "ef7a0624-a2b3-47cf-93c0-1486ca9971eb",
   "metadata": {},
   "outputs": [
    {
     "name": "stdout",
     "output_type": "stream",
     "text": [
      "1 2 3 4 5 6 7 8 9 10 "
     ]
    }
   ],
   "source": [
    "for i in range(1,11):\n",
    "    print(i,end=\" \")"
   ]
  },
  {
   "cell_type": "code",
   "execution_count": 34,
   "id": "fe304619-e925-4b6c-9329-060bb60698eb",
   "metadata": {},
   "outputs": [
    {
     "name": "stdout",
     "output_type": "stream",
     "text": [
      "12345678910"
     ]
    }
   ],
   "source": [
    "n=1 #initialisation\n",
    "while(n<11):\n",
    "    print(n,end=\"\")\n",
    "    n=n+1"
   ]
  },
  {
   "cell_type": "code",
   "execution_count": 48,
   "id": "325635b4-c1b5-4696-bb1d-2e72ecef14da",
   "metadata": {},
   "outputs": [
    {
     "data": {
      "text/plain": [
       "5050"
      ]
     },
     "execution_count": 48,
     "metadata": {},
     "output_type": "execute_result"
    }
   ],
   "source": [
    "#sum usingfor loop\n",
    "total_sum=0\n",
    "for i in range(1,101):\n",
    "    total_sum+=i\n",
    "total_sum"
   ]
  },
  {
   "cell_type": "code",
   "execution_count": 49,
   "id": "eba1b0ce-6669-48c4-82e9-2a3560692351",
   "metadata": {},
   "outputs": [
    {
     "name": "stdout",
     "output_type": "stream",
     "text": [
      "1\n",
      "3\n",
      "5\n",
      "7\n",
      "9\n",
      "11\n",
      "13\n",
      "15\n",
      "17\n",
      "19\n",
      "21\n",
      "23\n",
      "25\n",
      "27\n",
      "29\n",
      "31\n",
      "33\n",
      "35\n",
      "37\n",
      "39\n",
      "41\n",
      "43\n",
      "45\n",
      "47\n",
      "49\n"
     ]
    }
   ],
   "source": [
    "#odd number\n",
    "for i in range(1,51):\n",
    "    if(i %2!=0):\n",
    "        print(i)"
   ]
  },
  {
   "cell_type": "code",
   "execution_count": 50,
   "id": "1397ec29-5e54-4639-b417-fa96d809d276",
   "metadata": {},
   "outputs": [
    {
     "name": "stdout",
     "output_type": "stream",
     "text": [
      "p\n",
      "y\n",
      "t\n",
      "h\n",
      "o\n",
      "n\n"
     ]
    }
   ],
   "source": [
    "#reverse string\n",
    "s=\"\"\n",
    "for i in \"python\":\n",
    "    s+=i\n",
    "    print(i)"
   ]
  },
  {
   "cell_type": "code",
   "execution_count": 53,
   "id": "1a6182c5-64bb-48c0-8c91-472b836b3379",
   "metadata": {},
   "outputs": [
    {
     "name": "stdin",
     "output_type": "stream",
     "text": [
      "enter the string: gargi\n"
     ]
    },
    {
     "name": "stdout",
     "output_type": "stream",
     "text": [
      "g\n",
      "ag\n",
      "rag\n",
      "grag\n",
      "igrag\n"
     ]
    }
   ],
   "source": [
    "a=input(\"enter the string:\")\n",
    "s=\"\"\n",
    "for i in a:\n",
    "    s=i+s\n",
    "    print(s)\n",
    "    #1st s=p\"\"\n",
    "    #2nd s=y+p\n",
    "    #3rd s=t+yp"
   ]
  },
  {
   "cell_type": "code",
   "execution_count": null,
   "id": "be47bee4-70f3-4649-b1ef-b2fd9022bb2f",
   "metadata": {},
   "outputs": [],
   "source": [
    "d={1:pushpa,2:batman,3:spiderman}\n",
    "\n"
   ]
  },
  {
   "cell_type": "code",
   "execution_count": 56,
   "id": "6b8cb90c-44df-414c-9899-606ae0c9de87",
   "metadata": {},
   "outputs": [
    {
     "ename": "AttributeError",
     "evalue": "'dict' object has no attribute 'key'",
     "output_type": "error",
     "traceback": [
      "\u001b[1;31m---------------------------------------------------------------------------\u001b[0m",
      "\u001b[1;31mAttributeError\u001b[0m                            Traceback (most recent call last)",
      "Cell \u001b[1;32mIn[56], line 1\u001b[0m\n\u001b[1;32m----> 1\u001b[0m \u001b[38;5;28;01mfor\u001b[39;00m i \u001b[38;5;129;01min\u001b[39;00m d\u001b[38;5;241m.\u001b[39mkey():\n\u001b[0;32m      2\u001b[0m     \u001b[38;5;28mprint\u001b[39m(i)\n",
      "\u001b[1;31mAttributeError\u001b[0m: 'dict' object has no attribute 'key'"
     ]
    }
   ],
   "source": [
    "for i in d.key():\n",
    "    print(i)"
   ]
  },
  {
   "cell_type": "raw",
   "id": "12019d55-4457-4e52-8604-0cc9252ff10f",
   "metadata": {},
   "source": [
    "for i in d.values():\n",
    "    print(i)"
   ]
  },
  {
   "cell_type": "code",
   "execution_count": 57,
   "id": "d0b3d97e-e975-44d0-b274-d47253c15620",
   "metadata": {},
   "outputs": [
    {
     "name": "stdout",
     "output_type": "stream",
     "text": [
      "1 batman\n",
      "2 spiderman\n",
      "3 pushpa\n"
     ]
    }
   ],
   "source": [
    "for k,v in d.items():\n",
    "    print(k,v)"
   ]
  },
  {
   "cell_type": "code",
   "execution_count": 61,
   "id": "47b2afb4-77e7-4fdb-bfb4-7731a54cd5a0",
   "metadata": {},
   "outputs": [
    {
     "data": {
      "text/plain": [
       "[1, 3, 5]"
      ]
     },
     "execution_count": 61,
     "metadata": {},
     "output_type": "execute_result"
    }
   ],
   "source": [
    "#list comprihension\n",
    "l= [i for i in range(1,6) if i%2!=0]\n",
    "l"
   ]
  },
  {
   "cell_type": "code",
   "execution_count": 63,
   "id": "3b681a87-2c1f-460b-9811-b21da648f5f2",
   "metadata": {},
   "outputs": [
    {
     "data": {
      "text/plain": [
       "[1, 'even', 3, 'even', 5]"
      ]
     },
     "execution_count": 63,
     "metadata": {},
     "output_type": "execute_result"
    }
   ],
   "source": [
    "l2=[i if i%2!=0 else \"even\" for i in range (1,6) ]\n",
    "l2"
   ]
  },
  {
   "cell_type": "code",
   "execution_count": null,
   "id": "5092df8e-bc22-448c-b036-14c1c9983a4b",
   "metadata": {},
   "outputs": [],
   "source": []
  }
 ],
 "metadata": {
  "kernelspec": {
   "display_name": "Python 3 (ipykernel)",
   "language": "python",
   "name": "python3"
  },
  "language_info": {
   "codemirror_mode": {
    "name": "ipython",
    "version": 3
   },
   "file_extension": ".py",
   "mimetype": "text/x-python",
   "name": "python",
   "nbconvert_exporter": "python",
   "pygments_lexer": "ipython3",
   "version": "3.12.7"
  }
 },
 "nbformat": 4,
 "nbformat_minor": 5
}
