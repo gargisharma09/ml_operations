{
 "cells": [
  {
   "cell_type": "markdown",
   "id": "328fad4e",
   "metadata": {},
   "source": [
    "### Execute Python Syntax"
   ]
  },
  {
   "cell_type": "markdown",
   "id": "53552502",
   "metadata": {},
   "source": [
    "Python Syntax can be executed by writing directly in the command line"
   ]
  },
  {
   "cell_type": "code",
   "execution_count": 5,
   "id": "9fc226c3",
   "metadata": {
    "scrolled": true
   },
   "outputs": [
    {
     "name": "stdout",
     "output_type": "stream",
     "text": [
      "Hello World\n"
     ]
    }
   ],
   "source": [
    "print(\"Hello World\")"
   ]
  },
  {
   "cell_type": "markdown",
   "id": "3e055c8f",
   "metadata": {},
   "source": [
    "### Python Indentation"
   ]
  },
  {
   "cell_type": "markdown",
   "id": "dd1a8d32",
   "metadata": {},
   "source": [
    "Indentation refers to the spaces at the beginning of a code line where in other programming languages , it is for readability only, the indentation in Python is very important.\n",
    "Python uses indentation to indicate a block of code."
   ]
  },
  {
   "cell_type": "code",
   "execution_count": 7,
   "id": "51626a43",
   "metadata": {},
   "outputs": [
    {
     "ename": "SyntaxError",
     "evalue": "incomplete input (385583108.py, line 4)",
     "output_type": "error",
     "traceback": [
      "\u001b[1;36m  Cell \u001b[1;32mIn[7], line 4\u001b[1;36m\u001b[0m\n\u001b[1;33m    #print('557464')\u001b[0m\n\u001b[1;37m                    ^\u001b[0m\n\u001b[1;31mSyntaxError\u001b[0m\u001b[1;31m:\u001b[0m incomplete input\n"
     ]
    }
   ],
   "source": [
    "if (5<3):\n",
    "    print(\"Five is greater than three\")\n",
    "else:\n",
    "    print('557464')"
   ]
  },
  {
   "cell_type": "code",
   "execution_count": 11,
   "id": "a9503528",
   "metadata": {},
   "outputs": [
    {
     "ename": "NameError",
     "evalue": "name 'a' is not defined",
     "output_type": "error",
     "traceback": [
      "\u001b[1;31m---------------------------------------------------------------------------\u001b[0m",
      "\u001b[1;31mNameError\u001b[0m                                 Traceback (most recent call last)",
      "Cell \u001b[1;32mIn[11], line 1\u001b[0m\n\u001b[1;32m----> 1\u001b[0m \u001b[38;5;28;01mif\u001b[39;00m (a\u001b[38;5;241m==\u001b[39ma):\n\u001b[0;32m      2\u001b[0m     \u001b[38;5;28mprint\u001b[39m(\u001b[38;5;124m'\u001b[39m\u001b[38;5;124ma is equal to b\u001b[39m\u001b[38;5;124m'\u001b[39m)  \n\u001b[0;32m      3\u001b[0m \u001b[38;5;28;01melif\u001b[39;00m(a\u001b[38;5;241m==\u001b[39mq):\n",
      "\u001b[1;31mNameError\u001b[0m: name 'a' is not defined"
     ]
    }
   ],
   "source": [
    "if (a==a):\n",
    "    print('a is equal to b')  \n",
    "elif(a==q):\n",
    "    print('a is equal to a')\n",
    "    \n",
    "    \n",
    "    "
   ]
  },
  {
   "cell_type": "code",
   "execution_count": null,
   "id": "0a359ec9",
   "metadata": {},
   "outputs": [],
   "source": []
  },
  {
   "cell_type": "markdown",
   "id": "280bd563",
   "metadata": {},
   "source": [
    "### Python variables"
   ]
  },
  {
   "cell_type": "markdown",
   "id": "715a460b",
   "metadata": {},
   "source": [
    "Python Variable is containers that store values. Python is 'Statically typed'. We do not need to declare variables before using them or declare their type."
   ]
  },
  {
   "cell_type": "markdown",
   "id": "cad12cc2",
   "metadata": {},
   "source": [
    "A Variable is created the moment we first assign a value to it. Variable is a name given to a memory location. It is the basic unit of storage in a program."
   ]
  },
  {
   "cell_type": "code",
   "execution_count": 2,
   "id": "9e41b45f",
   "metadata": {},
   "outputs": [
    {
     "name": "stdout",
     "output_type": "stream",
     "text": [
      "name\n"
     ]
    }
   ],
   "source": [
    "v=\"namfdghjkljlhkjhgfghjbk uygdfhjgkhljhjfgdf kljhgfsadfghjkhjh hgfsdhfjghge\"\n",
    "print()"
   ]
  },
  {
   "cell_type": "code",
   "execution_count": 1,
   "id": "920ba2a4",
   "metadata": {},
   "outputs": [
    {
     "name": "stdout",
     "output_type": "stream",
     "text": [
      "Hyndai Creta\n"
     ]
    }
   ],
   "source": [
    "CAR='Hyndai Creta'\n",
    "print(CAR)"
   ]
  },
  {
   "cell_type": "markdown",
   "id": "552bb42a",
   "metadata": {},
   "source": [
    "### Rules for python variable"
   ]
  },
  {
   "cell_type": "markdown",
   "id": "da7d8885",
   "metadata": {},
   "source": [
    "- variable name must start with a letter or the underscore character.\n",
    "- variable name cannot start with a number.\n",
    "- variable name can only contain alpha numeric  characters and underscores\n",
    "- variable are case sensitive(name, Name and NAME are three different variables)"
   ]
  },
  {
   "cell_type": "code",
   "execution_count": 13,
   "id": "0b0fdbf0",
   "metadata": {},
   "outputs": [
    {
     "name": "stdout",
     "output_type": "stream",
     "text": [
      "1 2 3 4 5\n"
     ]
    }
   ],
   "source": [
    "Car=1\n",
    "CAr=2\n",
    "CAR=3\n",
    "C_A_R=4\n",
    "CAR_=5\n",
    "print(Car, CAr, CAR,C_A_R,CAR_)"
   ]
  },
  {
   "cell_type": "code",
   "execution_count": 4,
   "id": "09fdd02a",
   "metadata": {},
   "outputs": [
    {
     "name": "stdout",
     "output_type": "stream",
     "text": [
      "45\n",
      "1456.8\n",
      "John\n"
     ]
    }
   ],
   "source": [
    "age=45 #int datatype\n",
    "salary=1456.8 #float datatype\n",
    "name=\"John\" #string datatype\n",
    "print(age)\n",
    "print(salary)\n",
    "print(name)"
   ]
  },
  {
   "cell_type": "markdown",
   "id": "b895e608",
   "metadata": {},
   "source": [
    "### Redeclaring the variables"
   ]
  },
  {
   "cell_type": "markdown",
   "id": "6b51dde1",
   "metadata": {},
   "source": [
    "We can redeclare the python once we have declared the variable and define variable in python already"
   ]
  },
  {
   "cell_type": "code",
   "execution_count": 9,
   "id": "2360bf11",
   "metadata": {},
   "outputs": [
    {
     "name": "stdout",
     "output_type": "stream",
     "text": [
      "first declaration 100\n",
      "second declaraton 200\n"
     ]
    }
   ],
   "source": [
    "num=100\n",
    "print('first declaration', num)\n",
    "#num=200\n",
    "print('second declaraton', num)"
   ]
  },
  {
   "cell_type": "markdown",
   "id": "8b8f8ff7",
   "metadata": {},
   "source": [
    "### Assigning values to multiple variables"
   ]
  },
  {
   "cell_type": "markdown",
   "id": "19eb4ca3",
   "metadata": {},
   "source": [
    "Python allows assigning a single value to several variables simultaneously with '=' operator."
   ]
  },
  {
   "cell_type": "code",
   "execution_count": 17,
   "id": "0f810c8d",
   "metadata": {},
   "outputs": [
    {
     "name": "stdout",
     "output_type": "stream",
     "text": [
      "10\n",
      "10\n",
      "10\n"
     ]
    }
   ],
   "source": [
    "a=b=c=10\n",
    "print(a)\n",
    "print(b)\n",
    "print(c)"
   ]
  },
  {
   "cell_type": "markdown",
   "id": "9e029960",
   "metadata": {},
   "source": [
    "### Assigning different values to multiple variables"
   ]
  },
  {
   "cell_type": "markdown",
   "id": "8057d766",
   "metadata": {},
   "source": [
    "Python allows adding different values in a single line with \",\" operators."
   ]
  },
  {
   "cell_type": "code",
   "execution_count": 18,
   "id": "c4930e49",
   "metadata": {},
   "outputs": [
    {
     "name": "stdout",
     "output_type": "stream",
     "text": [
      "1\n",
      "20.2\n",
      "Value\n"
     ]
    }
   ],
   "source": [
    "a,b,c = 1,20.2, 'Value'\n",
    "print(a)\n",
    "print(b)\n",
    "print(c)"
   ]
  },
  {
   "cell_type": "markdown",
   "id": "c5069f7f",
   "metadata": {},
   "source": [
    "### Can we use the same name for different type"
   ]
  },
  {
   "cell_type": "markdown",
   "id": "e0e3b218",
   "metadata": {},
   "source": [
    "If we use the same name, the variable starts referring to a new value and type."
   ]
  },
  {
   "cell_type": "code",
   "execution_count": 5,
   "id": "3c0e0043",
   "metadata": {},
   "outputs": [
    {
     "name": "stdout",
     "output_type": "stream",
     "text": [
      "God\n"
     ]
    }
   ],
   "source": [
    "a= 10\n",
    "a= 'God'\n",
    "print(a)"
   ]
  },
  {
   "cell_type": "markdown",
   "id": "125ade17",
   "metadata": {},
   "source": [
    "### How does + operator work with variables?"
   ]
  },
  {
   "cell_type": "markdown",
   "id": "d6627fed",
   "metadata": {},
   "source": [
    "The Python plus operator + provides a convenient way to add a value if it is a number and concatenate if it is a string."
   ]
  },
  {
   "cell_type": "markdown",
   "id": "5ca174dd",
   "metadata": {},
   "source": [
    "If a variable is already created it assigns the new value back to the same variable."
   ]
  },
  {
   "cell_type": "code",
   "execution_count": 8,
   "id": "a0a2108b",
   "metadata": {},
   "outputs": [
    {
     "name": "stdout",
     "output_type": "stream",
     "text": [
      "10asdfgh jklkjh20\n"
     ]
    }
   ],
   "source": [
    "a='10'\n",
    "b='asdfgh jklkjh20'\n",
    "print(a+b)"
   ]
  },
  {
   "cell_type": "code",
   "execution_count": 18,
   "id": "99aae205",
   "metadata": {},
   "outputs": [
    {
     "name": "stdout",
     "output_type": "stream",
     "text": [
      "God isgreat\n"
     ]
    }
   ],
   "source": [
    "\n",
    "\n",
    "a = 'God'\n",
    "b='is'\n",
    "c='great'\n",
    "print(a+' '+b+c)"
   ]
  },
  {
   "cell_type": "markdown",
   "id": "c77dd7b5",
   "metadata": {},
   "source": [
    "### Can we use + for different datatype also?"
   ]
  },
  {
   "cell_type": "code",
   "execution_count": 19,
   "id": "abd25ca0",
   "metadata": {},
   "outputs": [
    {
     "ename": "TypeError",
     "evalue": "unsupported operand type(s) for +: 'int' and 'str'",
     "output_type": "error",
     "traceback": [
      "\u001b[1;31m---------------------------------------------------------------------------\u001b[0m",
      "\u001b[1;31mTypeError\u001b[0m                                 Traceback (most recent call last)",
      "Cell \u001b[1;32mIn[19], line 3\u001b[0m\n\u001b[0;32m      1\u001b[0m a\u001b[38;5;241m=\u001b[39m\u001b[38;5;241m10\u001b[39m\n\u001b[0;32m      2\u001b[0m b\u001b[38;5;241m=\u001b[39m\u001b[38;5;124m'\u001b[39m\u001b[38;5;124mTen\u001b[39m\u001b[38;5;124m'\u001b[39m\n\u001b[1;32m----> 3\u001b[0m \u001b[38;5;28mprint\u001b[39m(a\u001b[38;5;241m+\u001b[39mb)\n",
      "\u001b[1;31mTypeError\u001b[0m: unsupported operand type(s) for +: 'int' and 'str'"
     ]
    }
   ],
   "source": [
    "a=10\n",
    "b='Ten'\n",
    "print(a+b)"
   ]
  },
  {
   "cell_type": "markdown",
   "id": "1b8a8ea3",
   "metadata": {},
   "source": [
    "### Global and Local Python Variables"
   ]
  },
  {
   "cell_type": "markdown",
   "id": "3ff10b19",
   "metadata": {},
   "source": [
    "Global variables are the ones that are defined and declared outside a function while Local variables are the ones that are defined inside a function. "
   ]
  },
  {
   "cell_type": "code",
   "execution_count": 2,
   "id": "c63e6b48",
   "metadata": {},
   "outputs": [
    {
     "name": "stdout",
     "output_type": "stream",
     "text": [
      "10\n"
     ]
    },
    {
     "ename": "NameError",
     "evalue": "name 'c' is not defined",
     "output_type": "error",
     "traceback": [
      "\u001b[1;31m---------------------------------------------------------------------------\u001b[0m",
      "\u001b[1;31mNameError\u001b[0m                                 Traceback (most recent call last)",
      "Cell \u001b[1;32mIn[2], line 6\u001b[0m\n\u001b[0;32m      4\u001b[0m     \u001b[38;5;28mprint\u001b[39m(c)    \n\u001b[0;32m      5\u001b[0m abc()\n\u001b[1;32m----> 6\u001b[0m \u001b[38;5;28mprint\u001b[39m(c)\n",
      "\u001b[1;31mNameError\u001b[0m: name 'c' is not defined"
     ]
    }
   ],
   "source": [
    "a=5\n",
    "def abc():\n",
    "    c=10\n",
    "    print(c)    \n",
    "abc()\n",
    "print(c)\n"
   ]
  },
  {
   "cell_type": "markdown",
   "id": "673d180c",
   "metadata": {},
   "source": [
    "### Variable Types in Python"
   ]
  },
  {
   "cell_type": "markdown",
   "id": "67f7086b",
   "metadata": {},
   "source": [
    "Built in Python Data types are\n",
    "- Numeric\n",
    "- Text type\n",
    "- List\n",
    "- Tuple\n",
    "- Boolean\n",
    "- Set\n",
    "- Dictionary"
   ]
  },
  {
   "cell_type": "code",
   "execution_count": 10,
   "id": "eabda2c9",
   "metadata": {},
   "outputs": [
    {
     "name": "stdout",
     "output_type": "stream",
     "text": [
      "numeric data 123\n",
      "String welcome\n",
      "[19, 26, 29]\n",
      "(1, 2, 5)\n",
      "<class 'bool'>\n",
      "<class 'bool'>\n",
      "{'n', 'f', 'r', 't', 'i', 'e', 's', 'h', 'u', 'w', 'g', 'o'}\n",
      "{1, 2, 3, 4, 5}\n",
      "{'Germany': 'Berlin', 'Canada': 'Ottawa', 'England': 'London'}\n"
     ]
    }
   ],
   "source": [
    "n=123\n",
    "print('numeric data', n)\n",
    "\n",
    "s='welcome'\n",
    "print('String', s)\n",
    "\n",
    "list1 = [19,26,29]\n",
    "print(list1)\n",
    "\n",
    "tuple1=(1,2,5)\n",
    "print(tuple1)\n",
    "\n",
    "print(type(True))\n",
    "print(type(False))\n",
    "\n",
    "set1=set('setwiththeuseofstring')\n",
    "set2={1,2,3,4,5}\n",
    "print(set1)\n",
    "print(set2)\n",
    "\n",
    "country_capitals={\"Germany\":\"Berlin\",\"Canada\":\"Ottawa\",\"England\":\"London\"}\n",
    "print(country_capitals)"
   ]
  },
  {
   "cell_type": "markdown",
   "id": "cf89e6d1",
   "metadata": {},
   "source": [
    "### Python Operators"
   ]
  },
  {
   "cell_type": "markdown",
   "id": "1de93228",
   "metadata": {},
   "source": [
    "Operators in general are used to perform operations on values and variables.These are standard symbols used for logical and arithmetic operations"
   ]
  },
  {
   "cell_type": "markdown",
   "id": "bd2728aa",
   "metadata": {},
   "source": [
    "Types of operators in Python\n",
    "- Arithmetic Operators\n",
    "- Comparison Operators\n",
    "- Logical Operators\n",
    "- Bitwise Operators\n",
    "- Assignment Operators\n",
    "- Identity Operators\n",
    "- Membership Operators"
   ]
  },
  {
   "cell_type": "markdown",
   "id": "e2e908dd",
   "metadata": {},
   "source": [
    "#### Arithmetic Operators"
   ]
  },
  {
   "cell_type": "markdown",
   "id": "708657b3",
   "metadata": {},
   "source": [
    "- Addition :- + (x+y)\n",
    "- Subtraction:- - (x-y)\n",
    "- Multiplication:- * (x*y)\n",
    "- Division(float):- / (x/y)\n",
    "- Division(floor):- // (x//y)\n",
    "- Modulus :- % (x%y)\n",
    "- Power:- ** (x**y)"
   ]
  },
  {
   "cell_type": "code",
   "execution_count": 3,
   "id": "d9d0150a",
   "metadata": {},
   "outputs": [
    {
     "name": "stdout",
     "output_type": "stream",
     "text": [
      "11\n",
      "6\n",
      "36\n",
      "5.555555555555555\n",
      "5\n",
      "4\n",
      "5764801\n"
     ]
    }
   ],
   "source": [
    "print(5+6)\n",
    "print(10-4)\n",
    "print(9*4)\n",
    "print(50/9)\n",
    "print(50//9)\n",
    "print(60%7)\n",
    "print(7**8)"
   ]
  },
  {
   "cell_type": "markdown",
   "id": "6fcdc50f",
   "metadata": {},
   "source": [
    "#### Precedence of Arithmetic Operators"
   ]
  },
  {
   "cell_type": "markdown",
   "id": "499d1901",
   "metadata": {},
   "source": [
    "- P - Parantheses\n",
    "- E - Exponentiation\n",
    "- M - Multiplication\n",
    "- D - Division\n",
    "- A - Addition\n",
    "- S - Subtraction"
   ]
  },
  {
   "cell_type": "markdown",
   "id": "daf40354",
   "metadata": {},
   "source": [
    "#### Comparison Operators"
   ]
  },
  {
   "cell_type": "code",
   "execution_count": 13,
   "id": "1273c01f",
   "metadata": {},
   "outputs": [
    {
     "name": "stdout",
     "output_type": "stream",
     "text": [
      "True\n",
      "False\n",
      "True\n",
      "True\n",
      "True\n",
      "False\n"
     ]
    }
   ],
   "source": [
    "print(6>5) #Greater than\n",
    "print(9<4) #Less than\n",
    "print(4==4) #Equal to\n",
    "print(3!=2) #Not equal to\n",
    "print(6>=4) #Greater than equal to\n",
    "print(8<=2) #Less than equal to"
   ]
  },
  {
   "cell_type": "markdown",
   "id": "1fbd1c30",
   "metadata": {},
   "source": [
    "#### Logical Operators"
   ]
  },
  {
   "cell_type": "markdown",
   "id": "a0203cb3",
   "metadata": {},
   "source": [
    "Logical operators are used to combine conditional statements"
   ]
  },
  {
   "cell_type": "code",
   "execution_count": null,
   "id": "459eb1d2",
   "metadata": {},
   "outputs": [],
   "source": [
    "a=9\n",
    "b=10\n",
    "c=11\n",
    "if(a>b or a>c or c>a):\n",
    "    print('a is greater than c')\n",
    "else:\n",
    "    print('a is not greater than c')"
   ]
  },
  {
   "cell_type": "code",
   "execution_count": 15,
   "id": "958d0ca6",
   "metadata": {},
   "outputs": [
    {
     "name": "stdout",
     "output_type": "stream",
     "text": [
      "False\n",
      "True\n",
      "True\n"
     ]
    }
   ],
   "source": [
    "T=True\n",
    "F=False\n",
    "print(T and F) #and\n",
    "print(T or F) #or\n",
    "print(not F) #not"
   ]
  },
  {
   "cell_type": "markdown",
   "id": "a702f047",
   "metadata": {},
   "source": [
    "#### Bitwise Operators"
   ]
  },
  {
   "cell_type": "markdown",
   "id": "3d55424d",
   "metadata": {},
   "source": [
    "Bitwise Operators act on bits and perform bit-by-bit operations.These are used to operate on binary numbers.These operations manipulate the binary representations of the numbers."
   ]
  },
  {
   "cell_type": "code",
   "execution_count": 17,
   "id": "c6cc2e35",
   "metadata": {},
   "outputs": [
    {
     "name": "stdout",
     "output_type": "stream",
     "text": [
      "0\n",
      "14\n",
      "-11\n",
      "14\n",
      "2\n",
      "40\n"
     ]
    }
   ],
   "source": [
    "a=10\n",
    "b=4\n",
    "print(a & b) #AND\n",
    "print(a | b) #OR\n",
    "print(~a)  #NOT\n",
    "print(a^b) #XOR\n",
    "print(a>>2) #Right shift\n",
    "print(a<<2) #Left Shift"
   ]
  },
  {
   "cell_type": "markdown",
   "id": "6725a803",
   "metadata": {},
   "source": [
    "#### Assignment operators"
   ]
  },
  {
   "cell_type": "markdown",
   "id": "b105056c",
   "metadata": {},
   "source": [
    "Assignment Operators are used to assign values to the variables."
   ]
  },
  {
   "cell_type": "code",
   "execution_count": 18,
   "id": "87c18103",
   "metadata": {},
   "outputs": [
    {
     "name": "stdout",
     "output_type": "stream",
     "text": [
      "10\n",
      "20\n",
      "10\n",
      "100\n",
      "102400\n"
     ]
    }
   ],
   "source": [
    "a=10\n",
    "b=a\n",
    "print(b)\n",
    "b+=a\n",
    "print(b)\n",
    "b-=a\n",
    "print(b)\n",
    "b *= a\n",
    "print(b)\n",
    "b <<= a\n",
    "print(b)"
   ]
  },
  {
   "cell_type": "markdown",
   "id": "99b8b68c",
   "metadata": {},
   "source": [
    "#### Identity Operators"
   ]
  },
  {
   "cell_type": "markdown",
   "id": "dda46232",
   "metadata": {},
   "source": [
    "is and is not are the identity operators both are used to check if two values are located on the same part of the memory.Two variables that are equal do not imply that they are identical"
   ]
  },
  {
   "cell_type": "markdown",
   "id": "b3b0291a",
   "metadata": {},
   "source": [
    "- is - True if the operands are identical\n",
    "- is not - True if the operands are not identical"
   ]
  },
  {
   "cell_type": "code",
   "execution_count": 19,
   "id": "245abd49",
   "metadata": {},
   "outputs": [
    {
     "name": "stdout",
     "output_type": "stream",
     "text": [
      "True\n",
      "True\n"
     ]
    }
   ],
   "source": [
    "a = 10\n",
    "b = 20\n",
    "c = a\n",
    "\n",
    "print(a is not b)\n",
    "print(a is c)"
   ]
  },
  {
   "cell_type": "markdown",
   "id": "7c04dad2",
   "metadata": {},
   "source": [
    "#### Membership Operators"
   ]
  },
  {
   "cell_type": "markdown",
   "id": "d04376f8",
   "metadata": {},
   "source": [
    "In Python, in and not in are the membership operators that are used to test whether a value or variable is in a sequence."
   ]
  },
  {
   "cell_type": "markdown",
   "id": "97f99d5f",
   "metadata": {},
   "source": [
    "- in - True if value is found in the sequence\n",
    "- not in - True if value is not found in the sequence"
   ]
  },
  {
   "cell_type": "code",
   "execution_count": 9,
   "id": "be479ce0",
   "metadata": {},
   "outputs": [
    {
     "name": "stdout",
     "output_type": "stream",
     "text": [
      "24 is NOT present in given list\n",
      "y is present in given list\n"
     ]
    }
   ],
   "source": [
    "x = 24\n",
    "y = 20\n",
    "list = [10, 20, 30, 40, 50]\n",
    "\n",
    "if (x not in list):\n",
    "    print(x,'is NOT present in given list')\n",
    "else:\n",
    "    print(\"x is present in given list\")\n",
    "\n",
    "if (y in list):\n",
    "    print(\"y is present in given list\")\n",
    "else:\n",
    "    print(\"y is NOT present in given list\")"
   ]
  },
  {
   "cell_type": "markdown",
   "id": "6379002f",
   "metadata": {},
   "source": [
    "##### Q1 Code to implement basic arithmetic operations on integers"
   ]
  },
  {
   "cell_type": "markdown",
   "id": "2960abae",
   "metadata": {},
   "source": [
    "#### Q2 Code to implement Comparison operations on integers"
   ]
  },
  {
   "cell_type": "markdown",
   "id": "f958aca2",
   "metadata": {},
   "source": [
    "### Control Flow"
   ]
  },
  {
   "cell_type": "markdown",
   "id": "9cedee70",
   "metadata": {},
   "source": [
    "In Python, Control Flow is the order in which the program's code executes. Control Flow is regulated by conditional statements, loops and function calls."
   ]
  },
  {
   "cell_type": "markdown",
   "id": "0fa1f97e",
   "metadata": {},
   "source": [
    "- if else \n",
    "- for loop\n",
    "- while loop"
   ]
  },
  {
   "cell_type": "markdown",
   "id": "e5cddf46",
   "metadata": {},
   "source": [
    "### IF ELSE"
   ]
  },
  {
   "cell_type": "markdown",
   "id": "f985010d",
   "metadata": {},
   "source": [
    "In both real life and programming,decision-making is crucial.We often face situations where we need to make choices and based on those choices, we determine our next actions"
   ]
  },
  {
   "cell_type": "markdown",
   "id": "5ab8593e",
   "metadata": {},
   "source": [
    "Types of If Else\n",
    "- If statement\n",
    "- If Else statement\n",
    "- Nested If statement\n",
    "- Elif"
   ]
  },
  {
   "cell_type": "markdown",
   "id": "60061a90",
   "metadata": {},
   "source": [
    "#### If statement"
   ]
  },
  {
   "cell_type": "markdown",
   "id": "1c2e7770",
   "metadata": {},
   "source": [
    "The if statement is the most simple decision making statement.It is used to decide whether a certain statement or block of statements will be executed or not."
   ]
  },
  {
   "cell_type": "code",
   "execution_count": 4,
   "id": "5db8662a",
   "metadata": {},
   "outputs": [
    {
     "name": "stdout",
     "output_type": "stream",
     "text": [
      "10 is less than 30\n",
      "10 is greater than 9\n",
      "t\n"
     ]
    }
   ],
   "source": [
    "i = 10\n",
    "if (i>100):\n",
    "    print(i,'is greater than 15')\n",
    "if(i<30):\n",
    "    print(i,'is less than 30')\n",
    "if(i>9):\n",
    "    print(i,'is greater than 9')\n",
    "print('t')"
   ]
  },
  {
   "cell_type": "markdown",
   "id": "0f1559be",
   "metadata": {},
   "source": [
    "#### If Else Statement"
   ]
  },
  {
   "cell_type": "markdown",
   "id": "b6cdb1e2",
   "metadata": {},
   "source": [
    "The if statement alone tells us that if a conditoon is true it will execute a block of statements and if the condition is false it won't.But if we want to do else if the condition is false, we can use the else statement with the if statement."
   ]
  },
  {
   "cell_type": "code",
   "execution_count": 2,
   "id": "5b330c2f",
   "metadata": {},
   "outputs": [
    {
     "name": "stdout",
     "output_type": "stream",
     "text": [
      "i is smaller than 15\n",
      "if block\n",
      "not in if and not in else block\n"
     ]
    }
   ],
   "source": [
    "i=18\n",
    "if(i<15):\n",
    "    print('i is smaller than 15')\n",
    "    print('if block')\n",
    "else:\n",
    "    print('i is greater than 15')\n",
    "    print('else block')\n",
    "print('not in if and not in else block')"
   ]
  },
  {
   "cell_type": "markdown",
   "id": "0dbf2c15",
   "metadata": {},
   "source": [
    "#### Python Nested if Statement"
   ]
  },
  {
   "cell_type": "markdown",
   "id": "868e5e6b",
   "metadata": {},
   "source": [
    "Nested if statements mean an if statement inside another if statement"
   ]
  },
  {
   "cell_type": "code",
   "execution_count": 6,
   "id": "51f765ea",
   "metadata": {},
   "outputs": [
    {
     "name": "stdout",
     "output_type": "stream",
     "text": [
      "i is greater than 15\n"
     ]
    }
   ],
   "source": [
    "i = 14\n",
    "if(i>10):\n",
    "    if (i<15):\n",
    "        print('i is smaller than 15')\n",
    "        if (i<12):\n",
    "            print('i is smaller than 12')\n",
    "        elif(i<15):\n",
    "            print('i is between 15 and 12')\n",
    "    else:\n",
    "        print('i is greater than 15')\n",
    "else:\n",
    "    print('i is not valid')"
   ]
  },
  {
   "cell_type": "markdown",
   "id": "797f6a80",
   "metadata": {},
   "source": [
    "#### Python Elif"
   ]
  },
  {
   "cell_type": "markdown",
   "id": "ee11c60a",
   "metadata": {},
   "source": [
    "The if statements are executed from the top down.As soon as one of the conditions controlling the if is true,\n",
    "the statement associated with that if is executed, and the rest of the ladder is bypassed. If none of the conditions is true, then the final “else” statement will be executed."
   ]
  },
  {
   "cell_type": "code",
   "execution_count": 11,
   "id": "3d3c2842",
   "metadata": {},
   "outputs": [
    {
     "name": "stdout",
     "output_type": "stream",
     "text": [
      "Enter the number15\n",
      "i is 15\n"
     ]
    }
   ],
   "source": [
    "i = int(input(\"Enter the number\"))\n",
    "if (i == 10):\n",
    "    print(\"i is 10\")\n",
    "elif (i == 15):\n",
    "    print(\"i is 15\")\n",
    "elif (i == 20):\n",
    "    print(\"i is 20\")\n",
    "else:\n",
    "    print(\"i is not present\")"
   ]
  },
  {
   "cell_type": "code",
   "execution_count": 5,
   "id": "738387c0",
   "metadata": {},
   "outputs": [
    {
     "name": "stdout",
     "output_type": "stream",
     "text": [
      "Enter your input4\n"
     ]
    },
    {
     "data": {
      "text/plain": [
       "4"
      ]
     },
     "execution_count": 5,
     "metadata": {},
     "output_type": "execute_result"
    }
   ],
   "source": []
  },
  {
   "cell_type": "markdown",
   "id": "bd0606cf",
   "metadata": {},
   "source": [
    "#### Write a program to check whether a number entered by user is even or odd"
   ]
  },
  {
   "cell_type": "markdown",
   "id": "6792c427",
   "metadata": {},
   "source": [
    "#### Write a program to check whether a person is eligible for voting or not"
   ]
  },
  {
   "cell_type": "markdown",
   "id": "ea7c342f",
   "metadata": {},
   "source": [
    "#### Write a program to check whether a person is senior citizen or not"
   ]
  },
  {
   "cell_type": "markdown",
   "id": "99aad861",
   "metadata": {},
   "source": [
    "#### write a program to find the lowest number out of two numbers excepted from user."
   ]
  },
  {
   "cell_type": "markdown",
   "id": "d03f6830",
   "metadata": {},
   "source": [
    "#### write a program to check whether a number entered by user is positive or negative."
   ]
  },
  {
   "cell_type": "markdown",
   "id": "07cad5bf",
   "metadata": {},
   "source": [
    "#### write a program to check whether a number is even or odd."
   ]
  },
  {
   "cell_type": "markdown",
   "id": "d38097e9",
   "metadata": {},
   "source": [
    "### For Loops in Python"
   ]
  },
  {
   "cell_type": "markdown",
   "id": "48a6ea2c",
   "metadata": {},
   "source": [
    "#### For Loop with String"
   ]
  },
  {
   "cell_type": "code",
   "execution_count": 4,
   "id": "fa82ab3f",
   "metadata": {
    "scrolled": true
   },
   "outputs": [
    {
     "name": "stdout",
     "output_type": "stream",
     "text": [
      "string iteration"
     ]
    }
   ],
   "source": [
    "s='string iteration'\n",
    "for g in s:\n",
    "    print(g,end='')"
   ]
  },
  {
   "cell_type": "code",
   "execution_count": 2,
   "id": "cadafe5c",
   "metadata": {},
   "outputs": [
    {
     "ename": "TypeError",
     "evalue": "'int' object is not iterable",
     "output_type": "error",
     "traceback": [
      "\u001b[1;31m---------------------------------------------------------------------------\u001b[0m",
      "\u001b[1;31mTypeError\u001b[0m                                 Traceback (most recent call last)",
      "Cell \u001b[1;32mIn[2], line 2\u001b[0m\n\u001b[0;32m      1\u001b[0m a\u001b[38;5;241m=\u001b[39m\u001b[38;5;241m9\u001b[39m\n\u001b[1;32m----> 2\u001b[0m \u001b[38;5;28;01mfor\u001b[39;00m b \u001b[38;5;129;01min\u001b[39;00m a:\n\u001b[0;32m      3\u001b[0m     \u001b[38;5;28mprint\u001b[39m(b)\n",
      "\u001b[1;31mTypeError\u001b[0m: 'int' object is not iterable"
     ]
    }
   ],
   "source": [
    "a=9\n",
    "for b in a:\n",
    "    print(b)"
   ]
  },
  {
   "cell_type": "markdown",
   "id": "5e78ccf6",
   "metadata": {},
   "source": [
    "#### For Loop with Range"
   ]
  },
  {
   "cell_type": "code",
   "execution_count": 14,
   "id": "c7e37378",
   "metadata": {},
   "outputs": [
    {
     "name": "stdout",
     "output_type": "stream",
     "text": [
      "1 5 9 13 "
     ]
    }
   ],
   "source": [
    "for i in range(1,17,4):\n",
    "    print(i,end=' ')"
   ]
  },
  {
   "cell_type": "markdown",
   "id": "0256a9d0",
   "metadata": {},
   "source": [
    "#### For Loop with List"
   ]
  },
  {
   "cell_type": "code",
   "execution_count": 29,
   "id": "98adb608",
   "metadata": {},
   "outputs": [
    {
     "name": "stdout",
     "output_type": "stream",
     "text": [
      "1\n",
      "2\n",
      "3\n",
      "4\n"
     ]
    }
   ],
   "source": [
    "l=[1,2,3,4]\n",
    "for i in l:\n",
    "    print(i)"
   ]
  },
  {
   "cell_type": "code",
   "execution_count": 30,
   "id": "0cd5f752",
   "metadata": {},
   "outputs": [
    {
     "name": "stdout",
     "output_type": "stream",
     "text": [
      "['a', 'b', 'c']\n"
     ]
    }
   ],
   "source": [
    "l1=['a','b','c']\n",
    "print(l1)"
   ]
  },
  {
   "cell_type": "code",
   "execution_count": 9,
   "id": "8119b73b",
   "metadata": {},
   "outputs": [
    {
     "ename": "TypeError",
     "evalue": "'int' object is not iterable",
     "output_type": "error",
     "traceback": [
      "\u001b[1;31m---------------------------------------------------------------------------\u001b[0m",
      "\u001b[1;31mTypeError\u001b[0m                                 Traceback (most recent call last)",
      "Cell \u001b[1;32mIn[9], line 2\u001b[0m\n\u001b[0;32m      1\u001b[0m a\u001b[38;5;241m=\u001b[39m\u001b[38;5;241m12465\u001b[39m\n\u001b[1;32m----> 2\u001b[0m \u001b[38;5;28;01mfor\u001b[39;00m i \u001b[38;5;129;01min\u001b[39;00m a:\n\u001b[0;32m      3\u001b[0m     \u001b[38;5;28mprint\u001b[39m(i)\n",
      "\u001b[1;31mTypeError\u001b[0m: 'int' object is not iterable"
     ]
    }
   ],
   "source": [
    "a=12465\n",
    "for i in a:\n",
    "    print(i)"
   ]
  },
  {
   "cell_type": "markdown",
   "id": "d40b2159",
   "metadata": {},
   "source": [
    "#### For Loop with Tuple"
   ]
  },
  {
   "cell_type": "code",
   "execution_count": 32,
   "id": "86209950",
   "metadata": {},
   "outputs": [
    {
     "name": "stdout",
     "output_type": "stream",
     "text": [
      "1\n",
      "2\n",
      "3\n",
      "4\n",
      "5\n",
      "6\n"
     ]
    }
   ],
   "source": [
    "t=(1,2,3,4,5,6)\n",
    "for a in t:\n",
    "    print(a)"
   ]
  },
  {
   "cell_type": "markdown",
   "id": "e6b210dc",
   "metadata": {},
   "source": [
    "- WAP to print first 10 odd numbers"
   ]
  },
  {
   "cell_type": "code",
   "execution_count": 7,
   "id": "5a92b4cb",
   "metadata": {},
   "outputs": [
    {
     "name": "stdout",
     "output_type": "stream",
     "text": [
      "1\n",
      "3\n",
      "5\n",
      "7\n",
      "9\n",
      "11\n",
      "13\n",
      "15\n",
      "17\n",
      "19\n"
     ]
    }
   ],
   "source": [
    "for i in range(1,20,2):\n",
    "    print(i)"
   ]
  },
  {
   "cell_type": "markdown",
   "id": "4d096231",
   "metadata": {},
   "source": [
    "- WAP to print multiplication table of entered number"
   ]
  },
  {
   "cell_type": "code",
   "execution_count": 10,
   "id": "87b3f329",
   "metadata": {},
   "outputs": [
    {
     "name": "stdout",
     "output_type": "stream",
     "text": [
      "6\n",
      "6\n",
      "12\n",
      "18\n",
      "24\n",
      "30\n",
      "36\n",
      "42\n",
      "48\n",
      "54\n",
      "60\n"
     ]
    }
   ],
   "source": [
    "n=int(input())\n",
    "for i in range(1,11):\n",
    "    m=n*i\n",
    "    print(m)"
   ]
  },
  {
   "cell_type": "markdown",
   "id": "dffd99a2",
   "metadata": {},
   "source": [
    "- WAP to find the factorial of a number"
   ]
  },
  {
   "cell_type": "code",
   "execution_count": 4,
   "id": "767911b4",
   "metadata": {},
   "outputs": [
    {
     "name": "stdout",
     "output_type": "stream",
     "text": [
      "4\n",
      "24\n"
     ]
    }
   ],
   "source": [
    "n=int(input())\n",
    "f=1\n",
    "for i in range(1,n+1):\n",
    "    f=f*i\n",
    "print(f)"
   ]
  },
  {
   "cell_type": "code",
   "execution_count": 8,
   "id": "8172c845",
   "metadata": {},
   "outputs": [
    {
     "name": "stdout",
     "output_type": "stream",
     "text": [
      "6\n",
      "\n",
      "*\n",
      "**\n",
      "***\n",
      "****\n",
      "*****\n"
     ]
    }
   ],
   "source": [
    "n=int(input())\n",
    "for i in range(n):\n",
    "    print('*'*i)"
   ]
  },
  {
   "cell_type": "markdown",
   "id": "d34b074f",
   "metadata": {},
   "source": [
    "##### While Loop"
   ]
  },
  {
   "cell_type": "markdown",
   "id": "1a4f646e",
   "metadata": {},
   "source": [
    "The Main difference between for loop and while loop is that in for loop the number of iterations is known and in while loop the number of iterations is unknown."
   ]
  },
  {
   "cell_type": "code",
   "execution_count": 1,
   "id": "25f03acc",
   "metadata": {},
   "outputs": [
    {
     "name": "stdout",
     "output_type": "stream",
     "text": [
      "Hello\n",
      "Hello\n",
      "Hello\n"
     ]
    }
   ],
   "source": [
    "count=0\n",
    "while (count<3):\n",
    "    count=count+1\n",
    "    print('Hello')"
   ]
  },
  {
   "cell_type": "markdown",
   "id": "3c471ab9",
   "metadata": {},
   "source": [
    "WAP to calculate factorial of a number using while loop.\n",
    "Print Multiplication table using while loop\n"
   ]
  },
  {
   "cell_type": "code",
   "execution_count": 3,
   "id": "f75b83ea",
   "metadata": {},
   "outputs": [
    {
     "name": "stdout",
     "output_type": "stream",
     "text": [
      "4\n",
      "24\n"
     ]
    }
   ],
   "source": [
    "n=int(input())\n",
    "f=1\n",
    "while n>1:\n",
    "    f=f*n\n",
    "    n=n-1\n",
    "print(f)"
   ]
  },
  {
   "cell_type": "code",
   "execution_count": 6,
   "id": "aa4a5d1a",
   "metadata": {},
   "outputs": [
    {
     "name": "stdout",
     "output_type": "stream",
     "text": [
      "*****\n",
      "****\n",
      "***\n",
      "**\n",
      "*\n"
     ]
    }
   ],
   "source": [
    "i=5\n",
    "while i>=1:\n",
    "    print('*'*i)\n",
    "    i=i-1"
   ]
  },
  {
   "cell_type": "code",
   "execution_count": 10,
   "id": "30d7a559",
   "metadata": {},
   "outputs": [
    {
     "name": "stdout",
     "output_type": "stream",
     "text": [
      "Enter the size of the triangle: 6\n",
      "* \n",
      "* * \n",
      "* * * \n",
      "* * * * \n",
      "* * * * * \n",
      "* * * * * * \n"
     ]
    }
   ],
   "source": [
    "size = int(input(\"Enter the size of the triangle: \"))\n",
    "\n",
    "i = 1\n",
    "while i <= size:\n",
    "    j = 1\n",
    "    while j <= i:\n",
    "        print(\"*\", end=\" \")\n",
    "        j += 1\n",
    "    print()\n",
    "    i += 1"
   ]
  },
  {
   "cell_type": "markdown",
   "id": "7ca65f73",
   "metadata": {},
   "source": [
    "### Python Functions"
   ]
  },
  {
   "cell_type": "markdown",
   "id": "9b5abcb5",
   "metadata": {},
   "source": [
    "Python functions is a block of statements that return the specific task. The idea is to put some commonly or repeatedly done tasks together and make a function so that instead of writing the same code again and again for different inputs, we can do the function calls to reuse code contained in it over and over again."
   ]
  },
  {
   "cell_type": "markdown",
   "id": "9e77da31",
   "metadata": {},
   "source": [
    "Benefits of using functions\n",
    "- Increase code Readability\n",
    "- Increase code Reuseability"
   ]
  },
  {
   "cell_type": "markdown",
   "id": "c810b6cd",
   "metadata": {},
   "source": [
    "Types of functions in Python\n",
    "- Built in library function\n",
    "- User defined Function"
   ]
  },
  {
   "cell_type": "markdown",
   "id": "29c431f2",
   "metadata": {},
   "source": [
    "Some Built in Library Functions\n",
    "- any() function\n"
   ]
  },
  {
   "cell_type": "markdown",
   "id": "aef2490d",
   "metadata": {},
   "source": [
    "any() functions returns true if any of the elements of a given iterable(List,Dictionary,Tuple,Set etc) are True else it returns False."
   ]
  },
  {
   "cell_type": "markdown",
   "id": "dccce013",
   "metadata": {},
   "source": [
    "#### any() with List"
   ]
  },
  {
   "cell_type": "code",
   "execution_count": 3,
   "id": "cb6be1c0",
   "metadata": {},
   "outputs": [
    {
     "name": "stdout",
     "output_type": "stream",
     "text": [
      "True\n"
     ]
    }
   ],
   "source": [
    "l = [False, False, True, False, False]\n",
    "print(any(l))"
   ]
  },
  {
   "cell_type": "code",
   "execution_count": 4,
   "id": "d632501c",
   "metadata": {},
   "outputs": [
    {
     "name": "stdout",
     "output_type": "stream",
     "text": [
      "True\n",
      "False\n",
      "False\n"
     ]
    }
   ],
   "source": [
    "# All elements of list are True\n",
    "l = [4, 5, 0]\n",
    "print(any(l))\n",
    " \n",
    "# All elements of list are False\n",
    "l = [0, 0, False]\n",
    "print(any(l))\n",
    " \n",
    "# Some elements of list are\n",
    "# True while others are False\n",
    "# l = [1, 0, 6, 7, False]\n",
    "# print(any(l))\n",
    " \n",
    "# Empty list\n",
    "l = []\n",
    "print(any(l))"
   ]
  },
  {
   "cell_type": "markdown",
   "id": "cefca29a",
   "metadata": {},
   "source": [
    "#### any() with tuples"
   ]
  },
  {
   "cell_type": "code",
   "execution_count": 5,
   "id": "68245c19",
   "metadata": {},
   "outputs": [
    {
     "name": "stdout",
     "output_type": "stream",
     "text": [
      "True\n",
      "False\n",
      "True\n",
      "False\n"
     ]
    }
   ],
   "source": [
    "# All elements of tuple are True\n",
    "t = (2, 4, 6)\n",
    "print(any(t))\n",
    " \n",
    "# All elements of tuple are False\n",
    "t = (0, False, False)\n",
    "print(any(t))\n",
    " \n",
    "# Some elements of tuple are True while\n",
    "# others are False\n",
    "t = (5, 0, 3, 1, False)\n",
    "print(any(t))\n",
    " \n",
    "# Empty tuple\n",
    "t = ()\n",
    "print(any(t))"
   ]
  },
  {
   "cell_type": "markdown",
   "id": "0d729d1d",
   "metadata": {},
   "source": [
    "#### all() function"
   ]
  },
  {
   "cell_type": "markdown",
   "id": "8002898b",
   "metadata": {},
   "source": [
    "- all function returns true if all the elements of a given iterable(List, Dictionary, Tuple, Set etc) are True.\n",
    "- sometimes while working on some code if we want to ensure that user has not entered a False value then we can use all() function."
   ]
  },
  {
   "cell_type": "code",
   "execution_count": 6,
   "id": "6eeda5bb",
   "metadata": {},
   "outputs": [
    {
     "name": "stdout",
     "output_type": "stream",
     "text": [
      "False\n"
     ]
    }
   ],
   "source": [
    "print(all([True, True, False]))"
   ]
  },
  {
   "cell_type": "code",
   "execution_count": 7,
   "id": "306fee26",
   "metadata": {},
   "outputs": [
    {
     "name": "stdout",
     "output_type": "stream",
     "text": [
      "True\n",
      "False\n",
      "False\n",
      "True\n"
     ]
    }
   ],
   "source": [
    "l = [4, 5, 1]\n",
    "print(all(l))\n",
    " \n",
    "\n",
    "l = [0, 0, False]\n",
    "print(all(l))\n",
    " \n",
    "\n",
    "l = [1, 0, 6, 7, False]\n",
    "print(all(l))\n",
    " \n",
    "# Empty List\n",
    "l = []\n",
    "print(all(l))"
   ]
  },
  {
   "cell_type": "markdown",
   "id": "36572f1c",
   "metadata": {},
   "source": [
    "#### Enumerate()"
   ]
  },
  {
   "cell_type": "markdown",
   "id": "a0f1c095",
   "metadata": {},
   "source": [
    "- Often when dealing with iterators, we also need to keep a count of iterations.\n",
    "- Python eases the programmers’ task by providing a built-in function enumerate() for this task. \n",
    "- The enumerate () method adds a counter to an iterable and returns it in the form of an enumerating object."
   ]
  },
  {
   "cell_type": "code",
   "execution_count": 9,
   "id": "3d92918d",
   "metadata": {},
   "outputs": [
    {
     "name": "stdout",
     "output_type": "stream",
     "text": [
      "[(0, 'eat'), (1, 'sleep'), (2, 'repeat')]\n",
      "[(2, 'g'), (3, 'e'), (4, 'e'), (5, 'k')]\n"
     ]
    }
   ],
   "source": [
    "l1 = [\"eat\", \"sleep\", \"repeat\"]\n",
    "s1 = \"geek\"\n",
    "\n",
    "# creating enumerate objects\n",
    "obj1 = enumerate(l1)\n",
    "obj2 = enumerate(s1)\n",
    "\n",
    "print (list(enumerate(l1)))\n",
    "\n",
    "# changing start index to 2 from 0\n",
    "print (list(enumerate(s1, 2)))\n"
   ]
  },
  {
   "cell_type": "markdown",
   "id": "ddd870b6",
   "metadata": {},
   "source": [
    "#### Using Enumerate Object in Loops"
   ]
  },
  {
   "cell_type": "markdown",
   "id": "2950cc16",
   "metadata": {},
   "source": [
    "- Enumerate() is used with a list called l1. It first prints tuples of index and element pairs. \n",
    "- Then it changes the starting index while printing them together. \n",
    "- Finally, it prints the index and element separately, each on its own line."
   ]
  },
  {
   "cell_type": "code",
   "execution_count": 13,
   "id": "26499068",
   "metadata": {},
   "outputs": [
    {
     "name": "stdout",
     "output_type": "stream",
     "text": [
      "(0, 'eat')\n",
      "(1, 'sleep')\n",
      "(2, 'repeat')\n",
      "100 eat\n",
      "101 sleep\n",
      "102 repeat\n",
      "0\n",
      "eat\n",
      "1\n",
      "sleep\n",
      "2\n",
      "repeat\n"
     ]
    }
   ],
   "source": [
    "l1 = [\"eat\", \"sleep\", \"repeat\"]\n",
    "\n",
    "# printing the tuples in object directly\n",
    "for ele in enumerate(l1):\n",
    "    print (ele)\n",
    "\n",
    "# changing index and printing separately\n",
    "for count, ele in enumerate(l1, 100):\n",
    "    print (count, ele)\n",
    "\n",
    "# getting desired output from tuple\n",
    "for count, ele in enumerate(l1):\n",
    "    print(count)\n",
    "    print(ele)\n"
   ]
  },
  {
   "cell_type": "markdown",
   "id": "90327226",
   "metadata": {},
   "source": [
    "#### float() function"
   ]
  },
  {
   "cell_type": "markdown",
   "id": "e154c1a3",
   "metadata": {},
   "source": [
    "float() function is used to return a floating-point number from a number or a string representation of a numeric value."
   ]
  },
  {
   "cell_type": "code",
   "execution_count": 14,
   "id": "e6d4089c",
   "metadata": {},
   "outputs": [
    {
     "name": "stdout",
     "output_type": "stream",
     "text": [
      "10.0\n"
     ]
    }
   ],
   "source": [
    "num = float(10)\n",
    "print(num)"
   ]
  },
  {
   "cell_type": "code",
   "execution_count": 15,
   "id": "45e37b0d",
   "metadata": {},
   "outputs": [
    {
     "name": "stdout",
     "output_type": "stream",
     "text": [
      "21.89\n",
      "8.0\n",
      "23.0\n",
      "-16.54\n"
     ]
    }
   ],
   "source": [
    "\n",
    "# for integers\n",
    "print(float(21.89))\n",
    " \n",
    "# for floating point numbers\n",
    "print(float(8))\n",
    " \n",
    "# for integer type strings\n",
    "print(float(\"23\"))\n",
    " \n",
    "# for floating type strings\n",
    "print(float(\"-16.54\"))\n",
    " "
   ]
  },
  {
   "cell_type": "markdown",
   "id": "e8bfd64c",
   "metadata": {},
   "source": [
    "#### int() function"
   ]
  },
  {
   "cell_type": "markdown",
   "id": "70a5dbd5",
   "metadata": {},
   "source": [
    "Python int() function returns an integer from a given object or converts a number in a given base to a decimal."
   ]
  },
  {
   "cell_type": "code",
   "execution_count": 17,
   "id": "2d50acbd",
   "metadata": {},
   "outputs": [
    {
     "name": "stdout",
     "output_type": "stream",
     "text": [
      "age = 21\n"
     ]
    }
   ],
   "source": [
    "age = \"21\"\n",
    "print(\"age =\", int(age))"
   ]
  },
  {
   "cell_type": "code",
   "execution_count": 18,
   "id": "cbc9a5b7",
   "metadata": {},
   "outputs": [
    {
     "name": "stdout",
     "output_type": "stream",
     "text": [
      "int('9')) = 9\n",
      "int(9.9) = 9\n",
      "int(9) = 9\n"
     ]
    }
   ],
   "source": [
    "# int() on string representation of numbers\n",
    "print(\"int('9')) =\", int('9'))\n",
    " \n",
    "# int() on float values\n",
    "print(\"int(9.9) =\", int(9.9))\n",
    " \n",
    "# int() on Python integer\n",
    "print(\"int(9) =\", int(9))"
   ]
  },
  {
   "cell_type": "markdown",
   "id": "db0d3093",
   "metadata": {},
   "source": [
    "#### str() function"
   ]
  },
  {
   "cell_type": "markdown",
   "id": "d7d3142a",
   "metadata": {},
   "source": [
    "Python str() function is used to convert an object to its string representation. It is a built-in function that can be used to convert objects of different data types, such as integers, and floats.\n",
    "\n"
   ]
  },
  {
   "cell_type": "code",
   "execution_count": 19,
   "id": "c1f5ddd9",
   "metadata": {},
   "outputs": [
    {
     "name": "stdout",
     "output_type": "stream",
     "text": [
      "10\n"
     ]
    }
   ],
   "source": [
    "val=10\n",
    "val_str= str(val)\n",
    "print(val_str)"
   ]
  },
  {
   "cell_type": "code",
   "execution_count": 20,
   "id": "cab84cc6",
   "metadata": {},
   "outputs": [
    {
     "name": "stdout",
     "output_type": "stream",
     "text": [
      "100 <class 'str'>\n",
      "100.1 <class 'str'>\n"
     ]
    }
   ],
   "source": [
    "num = 100\n",
    "s = str(num)\n",
    "print(s, type(s))\n",
    " \n",
    "num = 100.1\n",
    "s = str(num)\n",
    "print(s, type(s))"
   ]
  },
  {
   "cell_type": "markdown",
   "id": "fda8c301",
   "metadata": {},
   "source": [
    "#### type function"
   ]
  },
  {
   "cell_type": "code",
   "execution_count": 22,
   "id": "b20698ce",
   "metadata": {},
   "outputs": [
    {
     "name": "stdout",
     "output_type": "stream",
     "text": [
      "<class 'tuple'>\n",
      "<class 'list'>\n",
      "<class 'dict'>\n",
      "<class 'str'>\n",
      "<class 'float'>\n",
      "<class 'float'>\n"
     ]
    }
   ],
   "source": [
    "a = (\"Dev\", \"Rajiv\", \"Abhijit\")\n",
    "b = [1,2,3,4]\n",
    "c = {\"a\": 1, \"b\":2, \"c\":3}\n",
    "d = \"Hello World\"\n",
    "e = 10.23\n",
    "f = 11.22\n",
    " \n",
    "print(type(a))\n",
    "print(type(b))\n",
    "print(type(c))\n",
    "print(type(d))\n",
    "print(type(e))\n",
    "print(type(f))"
   ]
  },
  {
   "cell_type": "markdown",
   "id": "36e4d8d7",
   "metadata": {},
   "source": [
    "#### check if an object is of type in Python"
   ]
  },
  {
   "cell_type": "code",
   "execution_count": 23,
   "id": "4c6410b1",
   "metadata": {},
   "outputs": [
    {
     "name": "stdout",
     "output_type": "stream",
     "text": [
      "True\n",
      "False\n",
      "True\n",
      "True\n",
      "True\n"
     ]
    }
   ],
   "source": [
    "print(type([]) is list)\n",
    " \n",
    "print(type([]) is not list)\n",
    " \n",
    "print(type(()) is tuple)\n",
    " \n",
    "print(type({}) is dict)\n",
    " \n",
    "print(type({}) is not list)"
   ]
  },
  {
   "cell_type": "markdown",
   "id": "2abfd28d",
   "metadata": {},
   "source": [
    "#### Using Type with conditional statement"
   ]
  },
  {
   "cell_type": "code",
   "execution_count": 24,
   "id": "f3b8aa66",
   "metadata": {},
   "outputs": [
    {
     "name": "stdout",
     "output_type": "stream",
     "text": [
      "The variables have different object types.\n"
     ]
    }
   ],
   "source": [
    "t = (10, 'Hello', 45, 'Hi')\n",
    "d = {1: 'One', 2: 'Two', 3: 'Three'}\n",
    " \n",
    "# Check if the variables have the same object type\n",
    "if type(my_tuple) is not type(my_dict):\n",
    "    print(\"The variables have different object types.\")\n",
    "else:\n",
    "    print(\"The variables have the same object type.\")"
   ]
  },
  {
   "cell_type": "markdown",
   "id": "3bf1ae26",
   "metadata": {},
   "source": [
    "### List() function"
   ]
  },
  {
   "cell_type": "markdown",
   "id": "4454834e",
   "metadata": {},
   "source": [
    "list() function takes any iterable as a parameter and returns a list."
   ]
  },
  {
   "cell_type": "code",
   "execution_count": null,
   "id": "2b02a914",
   "metadata": {},
   "outputs": [],
   "source": [
    "# initializing a string\n",
    "string = \"ABCDEF\"\n",
    "\n",
    "# using list() function to create a list\n",
    "list1 = list(string)\n",
    "\n",
    "# printing list1\n",
    "print(list1)\n",
    "\n",
    "# initializing a tuple\n",
    "tuple1 = ('A', 'B', 'C', 'D', 'E')\n",
    "\n",
    "# using list() function to create a list\n",
    "list1 = list(tuple1)\n",
    "\n",
    "# printing list1\n",
    "print(list1)\n",
    "\n",
    "# initializing a set\n",
    "set1 = {'A', 'B', 'C', 'D', 'E'}\n",
    "\n",
    "# initializing a dictibonary\n",
    "dictionary = {'A': 1, 'B': 2, 'C': 3, 'D': 4, 'E': 5}\n",
    "\n",
    "# using list() to create a list\n",
    "list1 = list(set1)\n",
    "list2 = list(dictionary)\n",
    "\n",
    "# printing\n",
    "print(list1)\n",
    "print(list2)"
   ]
  },
  {
   "cell_type": "markdown",
   "id": "94d34647",
   "metadata": {},
   "source": [
    "### Set() function"
   ]
  },
  {
   "cell_type": "markdown",
   "id": "c0e2ca6a",
   "metadata": {},
   "source": [
    "set() method is used to convert any of the iterable to a sequence of iterable elements with distinct elements, commonly called Set."
   ]
  },
  {
   "cell_type": "code",
   "execution_count": 27,
   "id": "20ef034c",
   "metadata": {},
   "outputs": [
    {
     "name": "stdout",
     "output_type": "stream",
     "text": [
      "{1, 3, 4, 5}\n",
      "{1, 3, 4, 5}\n",
      "{1, 3, 4}\n"
     ]
    }
   ],
   "source": [
    "lis1 = [ 3, 4, 1, 4, 5 ] \n",
    "print(set(lis1))\n",
    "tup1 = (3, 4, 1, 4, 5) \n",
    "print(set(tup1))\n",
    "dict1 = { 4 : 'c', 1 : 'f', 3 : 'g' }  \n",
    "print(set(dict1))"
   ]
  },
  {
   "cell_type": "markdown",
   "id": "8f85b301",
   "metadata": {},
   "source": [
    "#### Tuple() function\n"
   ]
  },
  {
   "cell_type": "markdown",
   "id": "11921592",
   "metadata": {},
   "source": [
    "tuple() function is a built-in function in Python that can be used to create a tuple. A tuple is an ordered and immutable sequence type."
   ]
  },
  {
   "cell_type": "markdown",
   "id": "0efee35f",
   "metadata": {},
   "source": [
    "- Mutable means its contents can be changed after it's created.\n",
    "- Immutable means its contents can not be changed after it's created.\n",
    "- list = mutable  (add,remove,replace,order change)\n",
    "- dictionary = mutable( values are mutable,keys should be immutable ,key can be only integers,strings or tuples)\n",
    "- tuple = immutable \n",
    "- set = immutable (add,remove is possible)\n",
    "\n",
    "\n"
   ]
  },
  {
   "cell_type": "markdown",
   "id": "594f6832",
   "metadata": {},
   "source": [
    "#### Sorted() function"
   ]
  },
  {
   "cell_type": "markdown",
   "id": "05c8d653",
   "metadata": {},
   "source": [
    "sorted() function returns a sorted list. It is not only defined for the list and it accepts any iterable (list, tuple, string, etc.)."
   ]
  },
  {
   "cell_type": "code",
   "execution_count": 29,
   "id": "c36f5088",
   "metadata": {},
   "outputs": [
    {
     "name": "stdout",
     "output_type": "stream",
     "text": [
      "[1, 2, 3, 4]\n"
     ]
    }
   ],
   "source": [
    "print(sorted([4, 1, 3, 2]))\n"
   ]
  },
  {
   "cell_type": "code",
   "execution_count": 30,
   "id": "94e9df55",
   "metadata": {},
   "outputs": [
    {
     "name": "stdout",
     "output_type": "stream",
     "text": [
      "[1, 2, 3, 4, 5]\n"
     ]
    }
   ],
   "source": [
    "# creating a list \n",
    "counting = [4,1,5,2,3] \n",
    "#print sorted list \n",
    "print(sorted(counting))"
   ]
  },
  {
   "cell_type": "code",
   "execution_count": 11,
   "id": "69f70f27",
   "metadata": {},
   "outputs": [
    {
     "name": "stdout",
     "output_type": "stream",
     "text": [
      "Sorted List returned : [1, 2, 3, 4, 6, 7, 8]\n",
      "Reverse sort : [8, 7, 6, 4, 3, 2, 1]\n"
     ]
    }
   ],
   "source": [
    "a1 = [2, 8, 1, 4, 6, 3, 7] \n",
    "  \n",
    "print(\"Sorted List returned :\", sorted(a1)) \n",
    "  \n",
    "print(\"Reverse sort :\", sorted(a1, reverse=True)) "
   ]
  },
  {
   "cell_type": "code",
   "execution_count": 13,
   "id": "d75429e9",
   "metadata": {},
   "outputs": [
    {
     "name": "stdout",
     "output_type": "stream",
     "text": [
      "[1, 2, 3, 4, 6, 7, 8]\n",
      "[1, 2, 3, 4, 6, 7, 8]\n"
     ]
    }
   ],
   "source": [
    "a2 = ('q', 'w', 'e', 'r', 't', 'y') \n",
    "print(sorted(a1)) \n",
    "a3 = {'q': 1, 'w': 2, 'e': 3, 'r': 4, 't': 5, 'y': 6} \n",
    "print(sorted(a1)) "
   ]
  },
  {
   "cell_type": "markdown",
   "id": "ff594065",
   "metadata": {},
   "source": [
    "#### reversed() function"
   ]
  },
  {
   "cell_type": "markdown",
   "id": "a88cf2d1",
   "metadata": {},
   "source": [
    "reversed() method returns an iterator that accesses the given sequence in the reverse order."
   ]
  },
  {
   "cell_type": "code",
   "execution_count": 34,
   "id": "f4206044",
   "metadata": {},
   "outputs": [
    {
     "name": "stdout",
     "output_type": "stream",
     "text": [
      "['BMW', 'bolero', 'swift', 'nano']\n"
     ]
    }
   ],
   "source": [
    "# creating a list\n",
    "cars = [\"nano\", \"swift\", \"bolero\", \"BMW\"]\n",
    "# reversing the list\n",
    "reversed_cars = list(reversed(cars))\n",
    "#printing the list\n",
    "print(reversed_cars)\n"
   ]
  },
  {
   "cell_type": "code",
   "execution_count": 35,
   "id": "9fb603dc",
   "metadata": {},
   "outputs": [
    {
     "name": "stdout",
     "output_type": "stream",
     "text": [
      "nohtyP ni desreveR"
     ]
    }
   ],
   "source": [
    "# Create a string\n",
    "str = \"Reversed in Python\"\n",
    "\n",
    "# Reverse the string and print its characters in reverse order\n",
    "for char in reversed(str):\n",
    "    print(char, end=\"\")\n"
   ]
  },
  {
   "cell_type": "markdown",
   "id": "c469b794",
   "metadata": {},
   "source": [
    "#### map() function in python"
   ]
  },
  {
   "cell_type": "markdown",
   "id": "767e8a72",
   "metadata": {},
   "source": [
    "map() function returns a map object(which is an iterator) of the results after applying the given function to each item of a given iterable (list, tuple etc.)"
   ]
  },
  {
   "cell_type": "code",
   "execution_count": 36,
   "id": "9982152a",
   "metadata": {},
   "outputs": [
    {
     "name": "stdout",
     "output_type": "stream",
     "text": [
      "[2, 4, 6, 8]\n"
     ]
    }
   ],
   "source": [
    "# Python program to demonstrate working\n",
    "# of map.\n",
    "\n",
    "# Return double of n\n",
    "def addition(n):\n",
    "    return n + n\n",
    "\n",
    "# We double all numbers using map()\n",
    "numbers = (1, 2, 3, 4)\n",
    "result = map(addition, numbers)\n",
    "print(list(result))\n"
   ]
  },
  {
   "cell_type": "code",
   "execution_count": 18,
   "id": "2fc1b5c6",
   "metadata": {},
   "outputs": [
    {
     "name": "stdout",
     "output_type": "stream",
     "text": [
      "(('s', 'a', 't'), ('b', 'a', 't'), ('c', 'a', 't'), ('m', 'a', 't'))\n"
     ]
    }
   ],
   "source": [
    "# List of strings\n",
    "l = ['sat', 'bat', 'cat', 'mat']\n",
    "\n",
    "# map() can listify the list of strings individually\n",
    "test = tuple(map(tuple,l))\n",
    "print(test)\n"
   ]
  },
  {
   "cell_type": "code",
   "execution_count": 19,
   "id": "d99f23d2",
   "metadata": {},
   "outputs": [
    {
     "name": "stdout",
     "output_type": "stream",
     "text": [
      "[3, 4, 9, 8, 15]\n"
     ]
    }
   ],
   "source": [
    "# Define a function that doubles even numbers and leaves odd numbers as is\n",
    "def double_even(num):\n",
    "    if num % 2 == 0:\n",
    "        return num * 2\n",
    "    else:\n",
    "        return num*3\n",
    "\n",
    "# Create a list of numbers to apply the function to\n",
    "numbers = [1, 2, 3, 4, 5]\n",
    "\n",
    "# Use map to apply the function to each element in the list\n",
    "result = list(map(double_even, numbers))\n",
    "\n",
    "# Print the result\n",
    "print(result)  \n"
   ]
  },
  {
   "cell_type": "markdown",
   "id": "54f82631",
   "metadata": {},
   "source": [
    "#### len() function"
   ]
  },
  {
   "cell_type": "markdown",
   "id": "96b69eaa",
   "metadata": {},
   "source": [
    "len() function returns the length of the string,tuple,dicttionary and sets."
   ]
  },
  {
   "cell_type": "code",
   "execution_count": 40,
   "id": "1dd4d402",
   "metadata": {},
   "outputs": [
    {
     "name": "stdout",
     "output_type": "stream",
     "text": [
      "9\n"
     ]
    }
   ],
   "source": [
    "string = \"Gwrjkweks\"\n",
    "print(len(string))"
   ]
  },
  {
   "cell_type": "code",
   "execution_count": 41,
   "id": "0214305f",
   "metadata": {},
   "outputs": [
    {
     "name": "stdout",
     "output_type": "stream",
     "text": [
      "3\n",
      "4\n"
     ]
    }
   ],
   "source": [
    " \n",
    "# with tuple\n",
    "tup = (1,2,3)\n",
    "print(len(tup))\n",
    " \n",
    "# with list\n",
    "l = [1,2,3,4]\n",
    "print(len(l))"
   ]
  },
  {
   "cell_type": "code",
   "execution_count": 42,
   "id": "2f2bcd0b",
   "metadata": {},
   "outputs": [
    {
     "name": "stdout",
     "output_type": "stream",
     "text": [
      "2\n",
      "4\n"
     ]
    }
   ],
   "source": [
    "dic = {'a':1, 'b': 2}\n",
    "print(len(dic))\n",
    " \n",
    "s = { 1, 2, 3, 4}\n",
    "print(len(s))"
   ]
  },
  {
   "cell_type": "markdown",
   "id": "5c92149f",
   "metadata": {},
   "source": [
    "#### input() function"
   ]
  },
  {
   "cell_type": "markdown",
   "id": "22061f40",
   "metadata": {},
   "source": [
    "input() function to take input from the user. Whatever you enter as input, the input function converts it into a string. If you enter an integer value still input() function converts it into a string."
   ]
  },
  {
   "cell_type": "code",
   "execution_count": 45,
   "id": "2e1e1e01",
   "metadata": {},
   "outputs": [
    {
     "name": "stdout",
     "output_type": "stream",
     "text": [
      "g\n",
      "g\n"
     ]
    }
   ],
   "source": [
    "s1 = input()\n",
    " \n",
    "# Output\n",
    "print(s1)"
   ]
  },
  {
   "cell_type": "code",
   "execution_count": 1,
   "id": "06341f75",
   "metadata": {},
   "outputs": [
    {
     "name": "stdout",
     "output_type": "stream",
     "text": [
      "Enter your nameasdadd\n",
      "Hello asdadd\n"
     ]
    }
   ],
   "source": [
    "# Taking input from the user\n",
    "name = input(\"Enter your name\")\n",
    " \n",
    "# Output\n",
    "print(\"Hello\", name)"
   ]
  },
  {
   "cell_type": "code",
   "execution_count": 2,
   "id": "31e5987c",
   "metadata": {},
   "outputs": [
    {
     "name": "stdout",
     "output_type": "stream",
     "text": [
      "Enter a number:12\n",
      "13\n"
     ]
    }
   ],
   "source": [
    "# Taking input from the user as integer\n",
    "num = int(input(\"Enter a number:\"))\n",
    "add = num + 1\n",
    " \n",
    "# Output\n",
    "print(add)"
   ]
  },
  {
   "cell_type": "code",
   "execution_count": 3,
   "id": "78399575",
   "metadata": {},
   "outputs": [
    {
     "name": "stdout",
     "output_type": "stream",
     "text": [
      "Enter number 12\n",
      "13.0\n"
     ]
    }
   ],
   "source": [
    "# Taking input from the user as float\n",
    " \n",
    "num =float(input(\"Enter number \"))\n",
    "add = num + 1\n",
    " \n",
    "# output\n",
    "print(add)"
   ]
  },
  {
   "cell_type": "code",
   "execution_count": 4,
   "id": "1b5ba430",
   "metadata": {},
   "outputs": [
    {
     "name": "stdout",
     "output_type": "stream",
     "text": [
      "Enter number 123453\n",
      "['1', '2', '3', '4', '5', '3']\n"
     ]
    }
   ],
   "source": [
    "# Taking input from the user as list\n",
    " \n",
    "li =list(input(\"Enter number \"))\n",
    " \n",
    "# output\n",
    "print(li)"
   ]
  },
  {
   "cell_type": "code",
   "execution_count": 5,
   "id": "b85e2054",
   "metadata": {},
   "outputs": [
    {
     "name": "stdout",
     "output_type": "stream",
     "text": [
      "Enter number 565\n",
      "('5', '6', '5')\n"
     ]
    }
   ],
   "source": [
    "# Taking input from the user as tuple\n",
    " \n",
    "num =tuple(input(\"Enter number \"))\n",
    " \n",
    "# output\n",
    "print(num)"
   ]
  },
  {
   "cell_type": "markdown",
   "id": "a74b786a",
   "metadata": {},
   "source": [
    "### User Defined functon"
   ]
  },
  {
   "cell_type": "markdown",
   "id": "8415d385",
   "metadata": {},
   "source": [
    "#### Creating a function in Python"
   ]
  },
  {
   "cell_type": "markdown",
   "id": "e950b39a",
   "metadata": {},
   "source": [
    "We can define a function in Python, using the def keyword. We can add any type of functionalities and properties to it as we require"
   ]
  },
  {
   "cell_type": "code",
   "execution_count": 6,
   "id": "3ec531c6",
   "metadata": {},
   "outputs": [],
   "source": [
    "def func():\n",
    "    print('This is a user defined function')"
   ]
  },
  {
   "cell_type": "markdown",
   "id": "d0d67a08",
   "metadata": {},
   "source": [
    "### Calling a function in Python"
   ]
  },
  {
   "cell_type": "markdown",
   "id": "60370f9c",
   "metadata": {},
   "source": [
    "After creating a function in Python we can call it by using the name of the functions Python followed by parenthesis containing parameters of that particular function."
   ]
  },
  {
   "cell_type": "code",
   "execution_count": 7,
   "id": "930d4f9a",
   "metadata": {},
   "outputs": [
    {
     "name": "stdout",
     "output_type": "stream",
     "text": [
      "This is a user defined function\n"
     ]
    }
   ],
   "source": [
    "def func():\n",
    "    print('This is a user defined function')\n",
    "func()"
   ]
  },
  {
   "cell_type": "markdown",
   "id": "d43a08c1",
   "metadata": {},
   "source": [
    "### Python function with parameters and arguments"
   ]
  },
  {
   "cell_type": "markdown",
   "id": "1f80f267",
   "metadata": {},
   "source": [
    "#### Parameters"
   ]
  },
  {
   "cell_type": "markdown",
   "id": "9f6c86ba",
   "metadata": {},
   "source": [
    "A parameter is the variable defined within the parameters during function definition.simply they are written when we declare a function."
   ]
  },
  {
   "cell_type": "code",
   "execution_count": 4,
   "id": "610b4450",
   "metadata": {},
   "outputs": [
    {
     "name": "stdout",
     "output_type": "stream",
     "text": [
      "0\n",
      "5.0\n",
      "3\n"
     ]
    }
   ],
   "source": [
    "# Here a,b are the parameters\n",
    "a=8\n",
    "b=8\n",
    "def sum(a,b):\n",
    "    print(a+b)\n",
    "  \n",
    "def avg(a,b):\n",
    "    print(a+b/2)\n",
    "\n",
    "print(a-b)\n",
    "avg(3,4)\n",
    "sum(1,2)\n"
   ]
  },
  {
   "cell_type": "markdown",
   "id": "a5084c19",
   "metadata": {},
   "source": [
    "#### Arguments"
   ]
  },
  {
   "cell_type": "markdown",
   "id": "22298eb2",
   "metadata": {},
   "source": [
    "An Argument is a value that is passed to a function when it is called. It might be a variable, value passed to function or method as input."
   ]
  },
  {
   "cell_type": "code",
   "execution_count": 9,
   "id": "353a9325",
   "metadata": {},
   "outputs": [
    {
     "name": "stdout",
     "output_type": "stream",
     "text": [
      "3\n"
     ]
    }
   ],
   "source": [
    "def sum(a,b):\n",
    "  print(a+b)\n",
    "  \n",
    "# Here the values 1,2 are arguments\n",
    "sum(1,2)\n"
   ]
  },
  {
   "cell_type": "markdown",
   "id": "f238d632",
   "metadata": {},
   "source": [
    "##### Types of Arguments"
   ]
  },
  {
   "cell_type": "markdown",
   "id": "5a9e26f6",
   "metadata": {},
   "source": [
    "- Positional arguments\n",
    "- Keyword arguments\n",
    "- Default Arguments\n",
    "- Arbitrary Keyword arguments"
   ]
  },
  {
   "cell_type": "markdown",
   "id": "826967cd",
   "metadata": {},
   "source": [
    "#### Positional Arguments"
   ]
  },
  {
   "cell_type": "markdown",
   "id": "1cb88d0f",
   "metadata": {},
   "source": [
    "Positional Arguments are needed to be included in proper order i.e the first argument is always listed first when the function is called, second argument needs to be called second and so on."
   ]
  },
  {
   "cell_type": "code",
   "execution_count": 1,
   "id": "c16155fd",
   "metadata": {},
   "outputs": [
    {
     "name": "stdout",
     "output_type": "stream",
     "text": [
      "Two\n",
      "One\n"
     ]
    }
   ],
   "source": [
    "def person_name(second,first):\n",
    "    print(first)\n",
    "    print(second)\n",
    "  \n",
    "\n",
    "person_name(\"One\",\"Two\")\n"
   ]
  },
  {
   "cell_type": "markdown",
   "id": "a234b323",
   "metadata": {},
   "source": [
    "#### Keyword arguments"
   ]
  },
  {
   "cell_type": "markdown",
   "id": "784a35d8",
   "metadata": {},
   "source": [
    "- Keyword Arguments is an argument passed to a function or method which is preceded by a keyword and an equal to sign. \n",
    "- The order of keyword argument with respect to another keyword rgument does not matter because the values are being explicitly assigned."
   ]
  },
  {
   "cell_type": "code",
   "execution_count": 4,
   "id": "32324b6f",
   "metadata": {},
   "outputs": [
    {
     "name": "stdout",
     "output_type": "stream",
     "text": [
      "11\n"
     ]
    }
   ],
   "source": [
    "def person_name(first,second):\n",
    "    print(first+second)\n",
    "\n",
    "\n",
    "person_name(second=5,first=6)\n"
   ]
  },
  {
   "cell_type": "markdown",
   "id": "d71c967e",
   "metadata": {},
   "source": [
    "#### Default Arguments"
   ]
  },
  {
   "cell_type": "markdown",
   "id": "d40ee8c1",
   "metadata": {},
   "source": [
    "A default argument is a parameter that assumes a default value if a value is not provided in the function call for that argument."
   ]
  },
  {
   "cell_type": "code",
   "execution_count": 5,
   "id": "bd03268c",
   "metadata": {},
   "outputs": [
    {
     "name": "stdout",
     "output_type": "stream",
     "text": [
      "x:  10\n",
      "y:  50\n"
     ]
    }
   ],
   "source": [
    "# Python program to demonstrate\n",
    "# default arguments\n",
    "def myFun(x, y=50):\n",
    "    print(\"x: \", x)\n",
    "    print(\"y: \", y)\n",
    "\n",
    "\n",
    "# Driver code (We call myFun() with only\n",
    "# argument)\n",
    "myFun(10)\n"
   ]
  },
  {
   "cell_type": "markdown",
   "id": "dda57222",
   "metadata": {},
   "source": [
    "#### Arbitrary Keyword Arguments"
   ]
  },
  {
   "cell_type": "markdown",
   "id": "a7a6f695",
   "metadata": {},
   "source": [
    "In Python Arbitrary Keyword Arguments, *args and **kwargs can pass a variable number of arguments to a function using special symbols."
   ]
  },
  {
   "cell_type": "markdown",
   "id": "7133236c",
   "metadata": {},
   "source": [
    "#### *args in Python(Non-Keyword Arguments)"
   ]
  },
  {
   "cell_type": "markdown",
   "id": "9452decf",
   "metadata": {},
   "source": [
    "The special syntax *args in function definitions in python is used to pass a variable number of arguments to a function. It is used to pass a non-keyworded, variable-length argument list"
   ]
  },
  {
   "cell_type": "markdown",
   "id": "daf315bf",
   "metadata": {},
   "source": [
    "- By convention it is often used with the word *args\n",
    "- with * args, any number of extra arguments can be tacked on to your current formal parameters\n",
    "- For example, we want to make a multiple function that takes any number of arguments and is able to multiply them all together. "
   ]
  },
  {
   "cell_type": "markdown",
   "id": "01bce388",
   "metadata": {},
   "source": [
    "Variable length non-keyword arguments"
   ]
  },
  {
   "cell_type": "code",
   "execution_count": 20,
   "id": "6751fd68",
   "metadata": {},
   "outputs": [
    {
     "name": "stdout",
     "output_type": "stream",
     "text": [
      "Sum: 8\n",
      "Sum: 22\n",
      "Sum: 21\n"
     ]
    }
   ],
   "source": [
    "def adder(*num):\n",
    "    sum=0\n",
    "    for n in num:\n",
    "        sum=sum+n\n",
    "    print('Sum:',sum)\n",
    "adder(3,5)\n",
    "adder(4,5,6,7)\n",
    "adder(1,2,3,4,5,6)"
   ]
  },
  {
   "cell_type": "code",
   "execution_count": 22,
   "id": "484c6cbb",
   "metadata": {},
   "outputs": [
    {
     "name": "stdout",
     "output_type": "stream",
     "text": [
      "value of a is 1\n",
      "args are-> 2\n",
      "args are-> 3\n",
      "args are-> 4\n",
      "args are-> 5\n",
      "args are-> 6\n",
      "args are-> 7\n"
     ]
    }
   ],
   "source": [
    "def func(a,b,c,*args):\n",
    "    print('value of a is',a)\n",
    "    for i in args:\n",
    "        print('args are->',i)\n",
    "func(1,2,3,4,5,6,7)"
   ]
  },
  {
   "cell_type": "markdown",
   "id": "3ac374eb",
   "metadata": {},
   "source": [
    "#### **kwargs in Python(variable length keyword argument )"
   ]
  },
  {
   "cell_type": "markdown",
   "id": "68fda9aa",
   "metadata": {},
   "source": [
    "**kwargs in function definitions in python is used to pass a keyworded, variable-length argument list.\n",
    "The double star allows us to pass through keyword argument(and any number of them)"
   ]
  },
  {
   "cell_type": "markdown",
   "id": "645e5b90",
   "metadata": {},
   "source": [
    "- A keyword argument is where you provide a name to the variable as you pass it into the function.\n",
    "- for example the program will print all the values passed to the function.But how will we identify what Delhi is?Is it the city he lives in? Is it the work location? Is it a state?\n",
    "- what is 38? Is it age, salary, person_id? \n",
    "- For such an issue we have a special symbol called as **kwargs."
   ]
  },
  {
   "cell_type": "code",
   "execution_count": 24,
   "id": "abb31f68",
   "metadata": {},
   "outputs": [
    {
     "name": "stdout",
     "output_type": "stream",
     "text": [
      "Name -> Sahil\n",
      "Sex -> Male\n",
      "Age -> 38\n",
      "City -> Delhi\n"
     ]
    }
   ],
   "source": [
    "\n",
    "# Print values of function Person along with its associated keywords\n",
    "def Person(**kwargs):\n",
    "    for key, value in kwargs.items():\n",
    "        print(\"{} -> {}\".format(key, value))\n",
    "\n",
    "Person(Name = 'Sahil', Sex = 'Male', \n",
    "       Age = 38, City = 'Delhi')"
   ]
  },
  {
   "cell_type": "code",
   "execution_count": null,
   "id": "20738b9d",
   "metadata": {},
   "outputs": [],
   "source": [
    "\n",
    "def func(a, b, *args, option = False, **kwargs):\n",
    "    print(a, b)\n",
    "    print(args)\n",
    "    print(option)\n",
    "    print(kwargs)\n",
    "\n",
    "func(1, 3, 10, 20, Name = 'Tarun', Age = 30)"
   ]
  },
  {
   "cell_type": "markdown",
   "id": "682eff02",
   "metadata": {},
   "source": [
    "## Lists"
   ]
  },
  {
   "cell_type": "markdown",
   "id": "67c29889",
   "metadata": {},
   "source": [
    "In Python , Lists allow us to store a sequence of items in a single variable."
   ]
  },
  {
   "cell_type": "markdown",
   "id": "9b2f97e2",
   "metadata": {},
   "source": [
    "we create a list by replacing elements inside square brackets [], separated by commas."
   ]
  },
  {
   "cell_type": "code",
   "execution_count": 1,
   "id": "c39c6b71",
   "metadata": {},
   "outputs": [
    {
     "name": "stdout",
     "output_type": "stream",
     "text": [
      "[2, 3, 45, 54, 3, 6, 7]\n"
     ]
    }
   ],
   "source": [
    " # a list of three elements\n",
    "ages = [2,3,45,54,3,6,7]\n",
    "print(ages)\n",
    "\n"
   ]
  },
  {
   "cell_type": "code",
   "execution_count": 2,
   "id": "84779626",
   "metadata": {},
   "outputs": [
    {
     "name": "stdout",
     "output_type": "stream",
     "text": [
      "['Jack', 32, 'Computer Science', 7.8]\n",
      "[]\n"
     ]
    }
   ],
   "source": [
    "# a list containing strings and numbers\n",
    "student = ['Jack', 32, 'Computer Science',7.8]\n",
    "print(student)\n",
    "\n",
    "# an empty list\n",
    "empty_list = []\n",
    "print(empty_list)"
   ]
  },
  {
   "cell_type": "code",
   "execution_count": 6,
   "id": "7831e8e6",
   "metadata": {},
   "outputs": [
    {
     "name": "stdout",
     "output_type": "stream",
     "text": [
      "['a', '0', 'x', 'z']\n"
     ]
    }
   ],
   "source": [
    "x = \"a0xz\"\n",
    "y= 785783\n",
    "\n",
    "# convert to list\n",
    "result1 = list(x)\n",
    "#result2=list(y)\n",
    "\n",
    "print(result1)\n",
    "#print(result2)"
   ]
  },
  {
   "cell_type": "code",
   "execution_count": 11,
   "id": "0cdb2931",
   "metadata": {},
   "outputs": [
    {
     "name": "stdout",
     "output_type": "stream",
     "text": [
      "['1', '2', '3', '4', '2', '4', '2']\n"
     ]
    }
   ],
   "source": [
    "num=1234242\n",
    "res=list(str(num))\n",
    "print(res)"
   ]
  },
  {
   "cell_type": "markdown",
   "id": "63ec38c9",
   "metadata": {},
   "source": [
    "#### List Characteristics "
   ]
  },
  {
   "cell_type": "markdown",
   "id": "3a36c7fb",
   "metadata": {},
   "source": [
    "- Ordered - maintain the order of elements\n",
    "- Mutable - can be changed after creation\n",
    "- Allow duplicate values - contain duplicate values"
   ]
  },
  {
   "cell_type": "markdown",
   "id": "5c67be83",
   "metadata": {},
   "source": [
    "#### Access List Elements"
   ]
  },
  {
   "cell_type": "markdown",
   "id": "8b41f896",
   "metadata": {},
   "source": [
    "Each element in a list is associated with a number, known as a index."
   ]
  },
  {
   "cell_type": "markdown",
   "id": "57cc4747",
   "metadata": {},
   "source": [
    "The index always starts from 0. The first element of list is at index 0, the second element is at index 1 and so on."
   ]
  },
  {
   "cell_type": "markdown",
   "id": "bc2f5932",
   "metadata": {},
   "source": [
    "#### Access Elements using Index"
   ]
  },
  {
   "cell_type": "markdown",
   "id": "32e7ff1c",
   "metadata": {},
   "source": [
    "we use index numbers to access list elements."
   ]
  },
  {
   "cell_type": "code",
   "execution_count": 7,
   "id": "aa084b82",
   "metadata": {},
   "outputs": [
    {
     "name": "stdout",
     "output_type": "stream",
     "text": [
      "Punjabi\n",
      "French\n"
     ]
    }
   ],
   "source": [
    "languages = ['Hindi','English','French','Punjabi']\n",
    "\n",
    "# access the first element\n",
    "print(languages[3])\n",
    "\n",
    "# access the third element\n",
    "print(languages[2])"
   ]
  },
  {
   "cell_type": "markdown",
   "id": "93fa2a6f",
   "metadata": {},
   "source": [
    "#### Negative indexing"
   ]
  },
  {
   "cell_type": "markdown",
   "id": "9393eb19",
   "metadata": {},
   "source": [
    "Python also supports negative indexing. The index of the last element is -1, the second last element is -2 and so on."
   ]
  },
  {
   "cell_type": "markdown",
   "id": "a9aabe9a",
   "metadata": {},
   "source": [
    "Negative indexing makes it easy to access list items from last ."
   ]
  },
  {
   "cell_type": "code",
   "execution_count": 2,
   "id": "eee3e2eb",
   "metadata": {},
   "outputs": [
    {
     "name": "stdout",
     "output_type": "stream",
     "text": [
      "Spanish\n",
      "Hindi\n"
     ]
    }
   ],
   "source": [
    "languages = ['Hindi', 'English', 'Spanish']\n",
    "\n",
    "# access item at index 0\n",
    "print(languages[-1])   \n",
    "# access item at index 2\n",
    "print(languages[-3])   "
   ]
  },
  {
   "cell_type": "markdown",
   "id": "26fdc1aa",
   "metadata": {},
   "source": [
    "#### Slicing of a list in python"
   ]
  },
  {
   "cell_type": "markdown",
   "id": "dbabd65a",
   "metadata": {},
   "source": [
    "In python , it is possible to access a section of items from the list using the slicing operator : "
   ]
  },
  {
   "cell_type": "markdown",
   "id": "1a93eb0b",
   "metadata": {},
   "source": [
    "The format for list slicing is [start:stop:step]\n",
    "- start is the index of the list where slicing starts\n",
    "- stop is the index of the list where slicing ends.\n",
    "- step allows you to select nth item within the range start to stop"
   ]
  },
  {
   "cell_type": "code",
   "execution_count": 9,
   "id": "47b6c38a",
   "metadata": {},
   "outputs": [
    {
     "name": "stdout",
     "output_type": "stream",
     "text": [
      "['c', 'e', 'g']\n",
      "['e', 'f', 'g', 'h']\n",
      "['a', 'b', 'c', 'd', 'e', 'f', 'g', 'h']\n",
      "['b', 'd']\n",
      "['a', 'b', 'c', 'd', 'e', 'f', 'g', 'h']\n",
      "['a', 'c', 'e', 'g']\n",
      "['f', 'e']\n"
     ]
    }
   ],
   "source": [
    "my_list = ['a', 'b', 'c', 'd', 'e', 'f', 'g','h']\n",
    "\n",
    "# items from index 2 to index 4\n",
    "print(my_list[2:7:2])\n",
    "\n",
    "# items from index 5 to end\n",
    "print(my_list[4:])\n",
    "\n",
    "# items beginning to end\n",
    "print(my_list[:])\n",
    "\n",
    "print(my_list[1:4:2])\n",
    "\n",
    "print(my_list[::1])\n",
    "\n",
    "print(my_list[::2])\n",
    "\n",
    "print(my_list[-3:-5:-1])\n"
   ]
  },
  {
   "cell_type": "markdown",
   "id": "6d1f39ee",
   "metadata": {},
   "source": [
    "#### Add elements to a list"
   ]
  },
  {
   "cell_type": "markdown",
   "id": "ca5ace7c",
   "metadata": {},
   "source": [
    "append()"
   ]
  },
  {
   "cell_type": "markdown",
   "id": "f5a533b5",
   "metadata": {},
   "source": [
    "we use the append() method to add an element to the end of a python list."
   ]
  },
  {
   "cell_type": "code",
   "execution_count": 12,
   "id": "c2cc9798",
   "metadata": {},
   "outputs": [
    {
     "name": "stdout",
     "output_type": "stream",
     "text": [
      "Original List: ['Banana', 'Apple']\n",
      "Updated List: ['Banana', 'Apple', 'cherry']\n"
     ]
    }
   ],
   "source": [
    "fruits = ['Banana','Apple']\n",
    "print('Original List:', fruits)\n",
    "\n",
    "# using append method \n",
    "fruits.append('cherry')\n",
    "\n",
    "print('Updated List:', fruits)"
   ]
  },
  {
   "cell_type": "code",
   "execution_count": 11,
   "id": "6e47a922",
   "metadata": {},
   "outputs": [
    {
     "data": {
      "text/plain": [
       "['cherry', 'Orange']"
      ]
     },
     "execution_count": 11,
     "metadata": {},
     "output_type": "execute_result"
    }
   ],
   "source": [
    "fruits.append('Orange')\n",
    "fruits"
   ]
  },
  {
   "cell_type": "markdown",
   "id": "1124de87",
   "metadata": {},
   "source": [
    "#### add elements at the specified index"
   ]
  },
  {
   "cell_type": "code",
   "execution_count": 8,
   "id": "f2891744",
   "metadata": {},
   "outputs": [],
   "source": [
    "fruits.append('Strawberry')"
   ]
  },
  {
   "cell_type": "code",
   "execution_count": 9,
   "id": "e95de01c",
   "metadata": {},
   "outputs": [
    {
     "data": {
      "text/plain": [
       "['cherry', 'Strawberry', 'Strawberry', 'Strawberry']"
      ]
     },
     "execution_count": 9,
     "metadata": {},
     "output_type": "execute_result"
    }
   ],
   "source": [
    "fruits"
   ]
  },
  {
   "cell_type": "markdown",
   "id": "dfc52a68",
   "metadata": {},
   "source": [
    "## Insert()"
   ]
  },
  {
   "cell_type": "markdown",
   "id": "22c4d05e",
   "metadata": {},
   "source": [
    "The insert() method adds an element at the specified index"
   ]
  },
  {
   "cell_type": "code",
   "execution_count": 14,
   "id": "6850c969",
   "metadata": {},
   "outputs": [
    {
     "name": "stdout",
     "output_type": "stream",
     "text": [
      "Original List: ['apple', 'banana', 'orange']\n",
      "Updated List: ['apple', 'cherry', 'banana', 'orange']\n"
     ]
    }
   ],
   "source": [
    "fruits = ['apple', 'banana', 'orange']\n",
    "print(\"Original List:\", fruits) \n",
    "\n",
    "# insert 'cherry' at index 2\n",
    "fruits.insert(1, 'cherry')\n",
    "\n",
    "print(\"Updated List:\", fruits)"
   ]
  },
  {
   "cell_type": "code",
   "execution_count": 5,
   "id": "c3f2dd57",
   "metadata": {},
   "outputs": [
    {
     "data": {
      "text/plain": [
       "['apple', 'banana', 'orange', 'cherry', 'Kiwi']"
      ]
     },
     "execution_count": 5,
     "metadata": {},
     "output_type": "execute_result"
    }
   ],
   "source": [
    "fruits.insert(4,'Kiwi')\n",
    "fruits"
   ]
  },
  {
   "cell_type": "markdown",
   "id": "828f853f",
   "metadata": {},
   "source": [
    "#### add elements to a list from other iterables"
   ]
  },
  {
   "cell_type": "markdown",
   "id": "29668efc",
   "metadata": {},
   "source": [
    "we use the extend() method to add elements to a list from other iterables."
   ]
  },
  {
   "cell_type": "code",
   "execution_count": 7,
   "id": "422e7d1b",
   "metadata": {},
   "outputs": [
    {
     "name": "stdout",
     "output_type": "stream",
     "text": [
      "Numbers: [1, 3, 5]\n",
      "Updated Numbers: [1, 3, 5, 2, 4, 6]\n"
     ]
    }
   ],
   "source": [
    "numbers = [1, 3, 5]\n",
    "print('Numbers:', numbers)\n",
    "\n",
    "even_numbers  = [2, 4, 6]\n",
    "\n",
    "# adding elements of one list to another\n",
    "numbers.extend(even_numbers)\n",
    "\n",
    "print('Updated Numbers:',numbers) "
   ]
  },
  {
   "cell_type": "markdown",
   "id": "761037aa",
   "metadata": {},
   "source": [
    "#### change list items"
   ]
  },
  {
   "cell_type": "markdown",
   "id": "4ba01928",
   "metadata": {},
   "source": [
    "we can change the items of a list by assigning new values using the = operator."
   ]
  },
  {
   "cell_type": "code",
   "execution_count": 42,
   "id": "3d494582",
   "metadata": {},
   "outputs": [
    {
     "name": "stdout",
     "output_type": "stream",
     "text": [
      "Original List: ['Red', 'Black', 'Green']\n",
      "Updated List: ['Red', 'Black', 'Blue']\n"
     ]
    }
   ],
   "source": [
    "colors = ['Red', 'Black', 'Green']\n",
    "print('Original List:', colors)\n",
    "\n",
    "# changing the third item to 'Blue'\n",
    "colors[2] = 'Blue'\n",
    "\n",
    "print('Updated List:', colors)"
   ]
  },
  {
   "cell_type": "markdown",
   "id": "1651a35e",
   "metadata": {},
   "source": [
    "#### Remove an item from list"
   ]
  },
  {
   "cell_type": "markdown",
   "id": "55f1a61d",
   "metadata": {},
   "source": [
    "we can remove an item from a list using the remove() method."
   ]
  },
  {
   "cell_type": "code",
   "execution_count": 18,
   "id": "0e37edf8",
   "metadata": {},
   "outputs": [
    {
     "name": "stdout",
     "output_type": "stream",
     "text": [
      "[2, 2, 2, 4, 7, 9]\n"
     ]
    }
   ],
   "source": [
    "numbers = [2,2,2,2,4,7,9]\n",
    "\n",
    "# remove 4 from the list\n",
    "numbers.remove(2)\n",
    "\n",
    "print(numbers) \n",
    "\n"
   ]
  },
  {
   "cell_type": "code",
   "execution_count": 19,
   "id": "d17b0210",
   "metadata": {},
   "outputs": [],
   "source": [
    "numbers.remove(2)"
   ]
  },
  {
   "cell_type": "code",
   "execution_count": 20,
   "id": "f0f96be1",
   "metadata": {},
   "outputs": [
    {
     "data": {
      "text/plain": [
       "[2, 2, 4, 7, 9]"
      ]
     },
     "execution_count": 20,
     "metadata": {},
     "output_type": "execute_result"
    }
   ],
   "source": [
    "numbers"
   ]
  },
  {
   "cell_type": "raw",
   "id": "323b6271",
   "metadata": {},
   "source": []
  },
  {
   "cell_type": "markdown",
   "id": "fd26f05a",
   "metadata": {},
   "source": [
    "#### Remove an item at the index"
   ]
  },
  {
   "cell_type": "markdown",
   "id": "f2a188ce",
   "metadata": {},
   "source": [
    "The pop() method removes the item at the specified index. The method also returns the removed item."
   ]
  },
  {
   "cell_type": "code",
   "execution_count": 19,
   "id": "b7524403",
   "metadata": {},
   "outputs": [
    {
     "name": "stdout",
     "output_type": "stream",
     "text": [
      "Removed Element: 5\n",
      "Updated List: [2, 3, 7]\n"
     ]
    }
   ],
   "source": [
    "\n",
    "prime_numbers = [2, 3, 5, 7]\n",
    "\n",
    "# remove the element at index 2\n",
    "removed_element = prime_numbers.pop(2)\n",
    "\n",
    "print('Removed Element:', removed_element)\n",
    "print('Updated List:', prime_numbers)\n"
   ]
  },
  {
   "cell_type": "code",
   "execution_count": 21,
   "id": "a401480e",
   "metadata": {},
   "outputs": [
    {
     "name": "stdout",
     "output_type": "stream",
     "text": [
      "When index is not passed:\n",
      "Return Value: Chinese\n",
      "Updated List: ['English', 'Spanish', 'French', 'Japanese']\n",
      "When -1 is passed:\n",
      "Return Value: Japanese\n",
      "Updated List: ['English', 'Spanish', 'French']\n",
      "\n",
      "When -3 is passed:\n",
      "Return Value: English\n",
      "Updated List: ['Spanish', 'French']\n"
     ]
    }
   ],
   "source": [
    "# programming languages list\n",
    "languages = ['English', 'Spanish', 'French', \n",
    "             'Japanese', 'Chinese']\n",
    "\n",
    "# remove and return the last item\n",
    "print('When index is not passed:') \n",
    "print('Return Value:', languages.pop())\n",
    "\n",
    "print('Updated List:', languages)\n",
    "\n",
    "# remove and return the last item\n",
    "print('\\nWhen -1 is passed:') \n",
    "print('Return Value:', languages.pop(-1))\n",
    "\n",
    "print('Updated List:', languages)\n",
    "\n",
    "# remove and return the third last item\n",
    "print('\\nWhen -3 is passed:') \n",
    "print('Return Value:', languages.pop(-3))\n",
    "\n",
    "print('Updated List:', languages)"
   ]
  },
  {
   "cell_type": "markdown",
   "id": "4239fcb1",
   "metadata": {},
   "source": [
    "#### Remove one or more elements of a list"
   ]
  },
  {
   "cell_type": "markdown",
   "id": "5f7c0498",
   "metadata": {},
   "source": [
    "The del statement removes one or more items from a list."
   ]
  },
  {
   "cell_type": "code",
   "execution_count": 17,
   "id": "1b3bf3e4",
   "metadata": {},
   "outputs": [
    {
     "name": "stdout",
     "output_type": "stream",
     "text": [
      "['John', 'Eva', 'Lance', 'Nick', 'Jack']\n",
      "['John', 'Nick', 'Jack']\n"
     ]
    }
   ],
   "source": [
    "names = ['John', 'Eva', 'Lance', 'Nick', 'Jack']\n",
    "\n",
    "# deleting the second item\n",
    "del names\n",
    "print(names)\n",
    "\n",
    "# deleting items from index 1 to index 3 \n",
    "#del names[1: 3]\n",
    "print(names) # Error! List doesn't exist."
   ]
  },
  {
   "cell_type": "markdown",
   "id": "c8a41bd2",
   "metadata": {},
   "source": [
    "we can also use the del statement to delete the entire list."
   ]
  },
  {
   "cell_type": "code",
   "execution_count": null,
   "id": "f07bfe68",
   "metadata": {},
   "outputs": [],
   "source": [
    "names = ['John', 'Eva', 'Lance', 'Nick','Jack']\n",
    "\n",
    "# deleting the entire list\n",
    "del names\n",
    "\n",
    "print(names)"
   ]
  },
  {
   "cell_type": "markdown",
   "id": "ab8a0cf1",
   "metadata": {},
   "source": [
    "#### Removing all items from the list"
   ]
  },
  {
   "cell_type": "markdown",
   "id": "2d34bc3e",
   "metadata": {},
   "source": [
    "The clear() method removes all items from the list."
   ]
  },
  {
   "cell_type": "code",
   "execution_count": 11,
   "id": "3556482a",
   "metadata": {},
   "outputs": [
    {
     "name": "stdout",
     "output_type": "stream",
     "text": [
      "List after clear(): []\n"
     ]
    }
   ],
   "source": [
    "prime_numbers = [2, 3, 5, 7, 9, 11]\n",
    "\n",
    "# remove all elements\n",
    "prime_numbers.clear()\n",
    "\n",
    "# Updated prime_numbers List  \n",
    "print('List after clear():', prime_numbers)"
   ]
  },
  {
   "cell_type": "markdown",
   "id": "e22cb465",
   "metadata": {},
   "source": [
    "Emptying the list using del"
   ]
  },
  {
   "cell_type": "code",
   "execution_count": null,
   "id": "7e80fe45",
   "metadata": {},
   "outputs": [],
   "source": [
    "prime_numbers = [2, 3, 5, 7, 9, 11]\n",
    "\n",
    "del prime_numbers[:]\n",
    "print('prime_numbers:',prime_numbers)"
   ]
  },
  {
   "cell_type": "markdown",
   "id": "3658a225",
   "metadata": {},
   "source": [
    "#### Iterating through a list"
   ]
  },
  {
   "cell_type": "markdown",
   "id": "5aa1fa8a",
   "metadata": {},
   "source": [
    "we can use a for loop to iterate over the elements of a list."
   ]
  },
  {
   "cell_type": "code",
   "execution_count": 23,
   "id": "57bdee3b",
   "metadata": {},
   "outputs": [
    {
     "name": "stdout",
     "output_type": "stream",
     "text": [
      "apple\n",
      "banana\n",
      "orange\n"
     ]
    }
   ],
   "source": [
    "fruits = ['apple', 'banana', 'orange']\n",
    "\n",
    "# iterate through the list\n",
    "for fruit in fruits:\n",
    "    print(fruit)"
   ]
  },
  {
   "cell_type": "markdown",
   "id": "37ddded9",
   "metadata": {},
   "source": [
    "#### count() method"
   ]
  },
  {
   "cell_type": "markdown",
   "id": "7b23948e",
   "metadata": {},
   "source": [
    "The count() method returns the number of times in the specified element appears in the list."
   ]
  },
  {
   "cell_type": "code",
   "execution_count": 1,
   "id": "ce559f4f",
   "metadata": {},
   "outputs": [
    {
     "name": "stdout",
     "output_type": "stream",
     "text": [
      "Count of 2: 3\n"
     ]
    }
   ],
   "source": [
    "# create a list\n",
    "numbers = [2, 3, 5, 2, 11, 2, 7]\n",
    "\n",
    "# check the count of 2\n",
    "count = numbers.count(2)\n",
    "\n",
    "print('Count of 2:', count)\n"
   ]
  },
  {
   "cell_type": "code",
   "execution_count": 24,
   "id": "834516f2",
   "metadata": {},
   "outputs": [
    {
     "name": "stdout",
     "output_type": "stream",
     "text": [
      "The count of i is: 2\n",
      "The count of p is: 0\n"
     ]
    }
   ],
   "source": [
    "# vowels list\n",
    "vowels = ['a', 'e', 'i', 'o', 'i', 'u']\n",
    "\n",
    "# count element 'i'\n",
    "count = vowels.count('i')\n",
    "\n",
    "# print count\n",
    "print('The count of i is:', count)\n",
    "\n",
    "# count element 'p'\n",
    "count = vowels.count('p')\n",
    "\n",
    "# print count\n",
    "print('The count of p is:', count)"
   ]
  },
  {
   "cell_type": "markdown",
   "id": "b93eacf8",
   "metadata": {},
   "source": [
    "#### sort() "
   ]
  },
  {
   "cell_type": "markdown",
   "id": "52da00f5",
   "metadata": {},
   "source": [
    "The sort() method sorts the elements of a list"
   ]
  },
  {
   "cell_type": "code",
   "execution_count": null,
   "id": "104e5f0e",
   "metadata": {},
   "outputs": [],
   "source": [
    "prime_numbers = [11, 3, 7, 5, 2]\n",
    "\n",
    "# sort the list in ascending order\n",
    "prime_numbers.sort()\n",
    "\n",
    "print(prime_numbers)\n"
   ]
  },
  {
   "cell_type": "markdown",
   "id": "5dd4b677",
   "metadata": {},
   "source": [
    "sort in descending order"
   ]
  },
  {
   "cell_type": "markdown",
   "id": "57c72770",
   "metadata": {},
   "source": [
    "we can sort a list in descending order by setting reverse to True. "
   ]
  },
  {
   "cell_type": "code",
   "execution_count": 25,
   "id": "a7e82bb6",
   "metadata": {},
   "outputs": [
    {
     "name": "stdout",
     "output_type": "stream",
     "text": [
      "[11, 7, 5, 3, 2]\n"
     ]
    }
   ],
   "source": [
    "numbers = [7, 3, 11, 2, 5]\n",
    "\n",
    "# reverse is set to True\n",
    "numbers.sort(reverse = True)\n",
    "\n",
    "print(numbers)"
   ]
  },
  {
   "cell_type": "code",
   "execution_count": 26,
   "id": "8a57bfe1",
   "metadata": {},
   "outputs": [
    {
     "name": "stdout",
     "output_type": "stream",
     "text": [
      "Dictionary order: ['London', 'Tokyo', 'Washington D.C']\n",
      "Reverse dictionary order: ['Washington D.C', 'Tokyo', 'London']\n"
     ]
    }
   ],
   "source": [
    "cities = [\"Tokyo\", \"London\", \"Washington D.C\"]\n",
    "\n",
    "# sort in dictionary order\n",
    "cities.sort()\n",
    "print(f\"Dictionary order: {cities}\")\n",
    "\n",
    "# sort in reverse dictionary order\n",
    "cities.sort(reverse = True)\n",
    "print(f\"Reverse dictionary order: {cities}\")"
   ]
  },
  {
   "cell_type": "markdown",
   "id": "66359525",
   "metadata": {},
   "source": [
    "sorting based on length of string"
   ]
  },
  {
   "cell_type": "markdown",
   "id": "af0d2d38",
   "metadata": {},
   "source": [
    "The sort() method can sort items based on a function"
   ]
  },
  {
   "cell_type": "code",
   "execution_count": 2,
   "id": "c7bd8631",
   "metadata": {},
   "outputs": [
    {
     "name": "stdout",
     "output_type": "stream",
     "text": [
      "['wxyz', 'abc', 'gh', 'a']\n"
     ]
    }
   ],
   "source": [
    "text = [\"abc\", \"wxyz\", \"gh\", \"a\"]\n",
    "\n",
    "text.sort(key = len,reverse=True)\n",
    "print(text)\n"
   ]
  },
  {
   "cell_type": "markdown",
   "id": "13cbb1d9",
   "metadata": {},
   "source": [
    "#### Reverse() "
   ]
  },
  {
   "cell_type": "markdown",
   "id": "53545dec",
   "metadata": {},
   "source": [
    "The reverse() method reverses the element of the list."
   ]
  },
  {
   "cell_type": "code",
   "execution_count": 29,
   "id": "f2c8302c",
   "metadata": {},
   "outputs": [
    {
     "name": "stdout",
     "output_type": "stream",
     "text": [
      "Reversed List: [7, 5, 3, 2]\n"
     ]
    }
   ],
   "source": [
    "# create a list of prime numbers\n",
    "prime_numbers = [2, 3, 5, 7]\n",
    "\n",
    "# reverse the order of list elements\n",
    "prime_numbers.reverse()\n",
    "\n",
    "print('Reversed List:', prime_numbers)"
   ]
  },
  {
   "cell_type": "code",
   "execution_count": 30,
   "id": "1f4fe1d7",
   "metadata": {},
   "outputs": [
    {
     "name": "stdout",
     "output_type": "stream",
     "text": [
      "Original List: ['Windows', 'macOS', 'Linux']\n",
      "Updated List: ['Linux', 'macOS', 'Windows']\n"
     ]
    }
   ],
   "source": [
    "# Operating System List\n",
    "systems = ['Windows', 'macOS', 'Linux']\n",
    "print('Original List:', systems)\n",
    "\n",
    "# Reversing a list\t\n",
    "# Syntax: reversed_list = systems[start:stop:step] \n",
    "reversed_list = systems[::-1]\n",
    "\n",
    "# updated list\n",
    "print('Updated List:', reversed_list)"
   ]
  },
  {
   "cell_type": "markdown",
   "id": "dd3a7dc8",
   "metadata": {},
   "source": [
    "#### Copy() "
   ]
  },
  {
   "cell_type": "markdown",
   "id": "9f679143",
   "metadata": {},
   "source": [
    "#### The copy() method returns a shallow copy of the list."
   ]
  },
  {
   "cell_type": "code",
   "execution_count": 32,
   "id": "82431853",
   "metadata": {},
   "outputs": [
    {
     "name": "stdout",
     "output_type": "stream",
     "text": [
      "Original List: [2, 3, 5]\n",
      "Copied List: [2, 3, 5]\n"
     ]
    }
   ],
   "source": [
    "# mixed list\n",
    "prime_numbers = [2, 3, 5]\n",
    "\n",
    "# copying a list\n",
    "numbers = prime_numbers.copy()\n",
    "\n",
    "print('Original List:', numbers)\n",
    "print('Copied List:', numbers)\n"
   ]
  },
  {
   "cell_type": "markdown",
   "id": "ff53df11",
   "metadata": {},
   "source": [
    "we can also use the = operator to copy a list."
   ]
  },
  {
   "cell_type": "code",
   "execution_count": 33,
   "id": "db8f5b85",
   "metadata": {},
   "outputs": [
    {
     "name": "stdout",
     "output_type": "stream",
     "text": [
      "[1, 2, 3]\n"
     ]
    }
   ],
   "source": [
    "old_list=[1,2,3]\n",
    "new_list=old_list\n",
    "print(new_list)"
   ]
  },
  {
   "cell_type": "markdown",
   "id": "614101dd",
   "metadata": {},
   "source": [
    "However, there is one problem with copying lists in this way. If you modify new_list, old_list is also modified. It is because the new list is referencing or pointing to the same old_list object."
   ]
  },
  {
   "cell_type": "code",
   "execution_count": 34,
   "id": "bbc8e746",
   "metadata": {},
   "outputs": [
    {
     "name": "stdout",
     "output_type": "stream",
     "text": [
      "New List: [1, 2, 3, 'a']\n",
      "Old List: [1, 2, 3, 'a']\n"
     ]
    }
   ],
   "source": [
    "old_list = [1, 2, 3]\n",
    "\n",
    "# copy list using =\n",
    "new_list = old_list\n",
    "\n",
    "# add an element to list\n",
    "new_list.append('a')\n",
    "\n",
    "print('New List:', new_list)\n",
    "print('Old List:', old_list)"
   ]
  },
  {
   "cell_type": "markdown",
   "id": "a8027b8c",
   "metadata": {},
   "source": [
    "#### Tuple()"
   ]
  },
  {
   "cell_type": "markdown",
   "id": "db3e9df5",
   "metadata": {},
   "source": [
    "A tuple is a collection similar to a list. The Primary difference is that we cannot modify a tuple once it is created."
   ]
  },
  {
   "cell_type": "markdown",
   "id": "e74ef1c0",
   "metadata": {},
   "source": [
    "- Tuple characteristics\n",
    "- Ordered - maintain the order of elements\n",
    "- Immutable - cannot be changed after creation\n",
    "- allow duplicates - contain duplicate values"
   ]
  },
  {
   "cell_type": "code",
   "execution_count": 35,
   "id": "8610e5f0",
   "metadata": {},
   "outputs": [
    {
     "name": "stdout",
     "output_type": "stream",
     "text": [
      "(1, 2, -5)\n"
     ]
    }
   ],
   "source": [
    "numbers = (1, 2, -5)\n",
    "print(numbers)"
   ]
  },
  {
   "cell_type": "code",
   "execution_count": null,
   "id": "16615dfa",
   "metadata": {},
   "outputs": [],
   "source": [
    "# tuple of string types\n",
    "names = ('James', 'Jack', 'Eva')\n",
    "print (names)\n",
    "\n",
    "# tuple of float types\n",
    "float_values = (1.2, 3.4, 2.1)\n",
    "print(float_values)\n",
    "\n",
    "# tuple including string and integer\n",
    "mixed_tuple = (2, 'Hello', 'Python')\n",
    "print(mixed_tuple)"
   ]
  },
  {
   "cell_type": "markdown",
   "id": "a77f2fd9",
   "metadata": {},
   "source": [
    "#### Access Items using Index"
   ]
  },
  {
   "cell_type": "code",
   "execution_count": 36,
   "id": "89514328",
   "metadata": {},
   "outputs": [
    {
     "name": "stdout",
     "output_type": "stream",
     "text": [
      "James\n",
      "Eva\n"
     ]
    }
   ],
   "source": [
    "names = ('James', 'Jack', 'Eva')\n",
    "print(names[0])\n",
    "print(names[2])"
   ]
  },
  {
   "cell_type": "markdown",
   "id": "d0db1157",
   "metadata": {},
   "source": [
    "#### Tuple cannot be modified"
   ]
  },
  {
   "cell_type": "markdown",
   "id": "7c723632",
   "metadata": {},
   "source": [
    "Tuples are immutable(unchangeable). we cannot change, add or delete items of a tuple."
   ]
  },
  {
   "cell_type": "code",
   "execution_count": 3,
   "id": "e909ead5",
   "metadata": {},
   "outputs": [
    {
     "ename": "TypeError",
     "evalue": "'tuple' object does not support item assignment",
     "output_type": "error",
     "traceback": [
      "\u001b[1;31m---------------------------------------------------------------------------\u001b[0m",
      "\u001b[1;31mTypeError\u001b[0m                                 Traceback (most recent call last)",
      "Cell \u001b[1;32mIn[3], line 3\u001b[0m\n\u001b[0;32m      1\u001b[0m cars \u001b[38;5;241m=\u001b[39m (\u001b[38;5;124m'\u001b[39m\u001b[38;5;124mBMW\u001b[39m\u001b[38;5;124m'\u001b[39m, \u001b[38;5;124m'\u001b[39m\u001b[38;5;124mTesla\u001b[39m\u001b[38;5;124m'\u001b[39m, \u001b[38;5;124m'\u001b[39m\u001b[38;5;124mFord\u001b[39m\u001b[38;5;124m'\u001b[39m, \u001b[38;5;124m'\u001b[39m\u001b[38;5;124mToyota\u001b[39m\u001b[38;5;124m'\u001b[39m)\n\u001b[1;32m----> 3\u001b[0m cars[\u001b[38;5;241m0\u001b[39m] \u001b[38;5;241m=\u001b[39m \u001b[38;5;124m'\u001b[39m\u001b[38;5;124mNissan\u001b[39m\u001b[38;5;124m'\u001b[39m \n\u001b[0;32m      5\u001b[0m \u001b[38;5;28mprint\u001b[39m(cars)\n",
      "\u001b[1;31mTypeError\u001b[0m: 'tuple' object does not support item assignment"
     ]
    }
   ],
   "source": [
    "cars = ('BMW', 'Tesla', 'Ford', 'Toyota')\n",
    "\n",
    "cars[0] = 'Nissan' \n",
    "       \n",
    "print(cars)"
   ]
  },
  {
   "cell_type": "markdown",
   "id": "47bab330",
   "metadata": {},
   "source": [
    "#### Iterate through a tuple"
   ]
  },
  {
   "cell_type": "markdown",
   "id": "36ee9f75",
   "metadata": {},
   "source": [
    "we use for loop to iterate over the items of a tuple."
   ]
  },
  {
   "cell_type": "code",
   "execution_count": null,
   "id": "2dfe06dc",
   "metadata": {},
   "outputs": [],
   "source": [
    "fruits = ('apple','banana','orange')\n",
    "\n",
    "# iterate through the tuple\n",
    "for fruit in fruits:\n",
    "    print(fruit)"
   ]
  },
  {
   "cell_type": "markdown",
   "id": "b3133bca",
   "metadata": {},
   "source": [
    "#### check if an item exists in the tuple"
   ]
  },
  {
   "cell_type": "markdown",
   "id": "87d3c0e0",
   "metadata": {},
   "source": [
    "we use the in keyword to check if an item exists in the tuple."
   ]
  },
  {
   "cell_type": "code",
   "execution_count": 37,
   "id": "2591dcb7",
   "metadata": {},
   "outputs": [
    {
     "name": "stdout",
     "output_type": "stream",
     "text": [
      "False\n",
      "True\n"
     ]
    }
   ],
   "source": [
    "colors = ('red', 'orange', 'blue')\n",
    "\n",
    "print('yellow' in colors)    # False\n",
    "print('red' in colors)       # True"
   ]
  },
  {
   "cell_type": "markdown",
   "id": "ee97717c",
   "metadata": {},
   "source": [
    "#### deleting the tuples"
   ]
  },
  {
   "cell_type": "markdown",
   "id": "32597939",
   "metadata": {},
   "source": [
    "we cannot delete individual items of a tuple. However, we can delete the tuple itself using the del statement."
   ]
  },
  {
   "cell_type": "code",
   "execution_count": 6,
   "id": "d968001e",
   "metadata": {},
   "outputs": [
    {
     "ename": "AttributeError",
     "evalue": "'tuple' object has no attribute 'clear'",
     "output_type": "error",
     "traceback": [
      "\u001b[1;31m---------------------------------------------------------------------------\u001b[0m",
      "\u001b[1;31mAttributeError\u001b[0m                            Traceback (most recent call last)",
      "Cell \u001b[1;32mIn[6], line 2\u001b[0m\n\u001b[0;32m      1\u001b[0m animals \u001b[38;5;241m=\u001b[39m (\u001b[38;5;124m'\u001b[39m\u001b[38;5;124mdog\u001b[39m\u001b[38;5;124m'\u001b[39m, \u001b[38;5;124m'\u001b[39m\u001b[38;5;124mcat\u001b[39m\u001b[38;5;124m'\u001b[39m, \u001b[38;5;124m'\u001b[39m\u001b[38;5;124mrat\u001b[39m\u001b[38;5;124m'\u001b[39m)\n\u001b[1;32m----> 2\u001b[0m animals\u001b[38;5;241m.\u001b[39mclear()\n",
      "\u001b[1;31mAttributeError\u001b[0m: 'tuple' object has no attribute 'clear'"
     ]
    }
   ],
   "source": [
    "animals = ('dog', 'cat', 'rat')\n",
    "animals.clear()\n"
   ]
  },
  {
   "cell_type": "code",
   "execution_count": 5,
   "id": "549fa29c",
   "metadata": {},
   "outputs": [
    {
     "ename": "NameError",
     "evalue": "name 'animals' is not defined",
     "output_type": "error",
     "traceback": [
      "\u001b[1;31m---------------------------------------------------------------------------\u001b[0m",
      "\u001b[1;31mNameError\u001b[0m                                 Traceback (most recent call last)",
      "Cell \u001b[1;32mIn[5], line 1\u001b[0m\n\u001b[1;32m----> 1\u001b[0m animals\n",
      "\u001b[1;31mNameError\u001b[0m: name 'animals' is not defined"
     ]
    }
   ],
   "source": [
    "animals"
   ]
  },
  {
   "cell_type": "markdown",
   "id": "b75c8492",
   "metadata": {},
   "source": [
    "#### count()"
   ]
  },
  {
   "cell_type": "markdown",
   "id": "5c82a67e",
   "metadata": {},
   "source": [
    "The count() method returns the number of times the specified elements appears in the tuple."
   ]
  },
  {
   "cell_type": "code",
   "execution_count": null,
   "id": "2b7e02b0",
   "metadata": {},
   "outputs": [],
   "source": [
    "# tuple of vowels\n",
    "vowels = ('a', 'e', 'i', 'o', 'i', 'u')\n",
    "\n",
    "# counts the number of i's in the tuple\n",
    "count = vowels.count('i')\n",
    "\n",
    "print(count)"
   ]
  },
  {
   "cell_type": "code",
   "execution_count": 38,
   "id": "17d6e92b",
   "metadata": {},
   "outputs": [
    {
     "name": "stdout",
     "output_type": "stream",
     "text": [
      "The count of tuple ('a', 'b') is: 2\n",
      "The count of list [3, 4] is: 1\n"
     ]
    }
   ],
   "source": [
    "# tuple containing list and tuples\n",
    "random = ('a', ('a', 'b'), ('a', 'b'), [3, 4])\n",
    "\n",
    "count = random.count(('a', 'b'))\n",
    "\n",
    "print(\"The count of tuple ('a', 'b') is:\", count)\n",
    "\n",
    "count = random.count([3, 4])\n",
    "\n",
    "print(\"The count of list [3, 4] is:\", count)"
   ]
  },
  {
   "cell_type": "markdown",
   "id": "0b5c70dd",
   "metadata": {},
   "source": [
    "#### Sets"
   ]
  },
  {
   "cell_type": "markdown",
   "id": "1d169e5b",
   "metadata": {},
   "source": [
    "A set is a collection of unique data , meaning that elements within a set cannot be duplicated."
   ]
  },
  {
   "cell_type": "markdown",
   "id": "344d3803",
   "metadata": {},
   "source": [
    "- we create sets by placing all the elements inside curly braces {}, separated by commas.\n",
    "- A set can have any number of items and they may be of different types (integer, float, tuple, string, etc.). But a set cannot have mutable elements."
   ]
  },
  {
   "cell_type": "code",
   "execution_count": 7,
   "id": "a6930781",
   "metadata": {},
   "outputs": [
    {
     "name": "stdout",
     "output_type": "stream",
     "text": [
      "Student ID: {112, 114, 115, 116, 118}\n",
      "Vowel Letters: {'e', 'a', 'u', 'i', 'o'}\n",
      "Set of mixed data types: {'Hello', 101, -2, 'Bye'}\n"
     ]
    }
   ],
   "source": [
    "# create a set of integer type\n",
    "student_id = {112, 114, 116, 118, 115}\n",
    "print('Student ID:', student_id)\n",
    "\n",
    "# create a set of string type\n",
    "vowel_letters = {'a', 'e', 'i', 'o', 'u'}\n",
    "print('Vowel Letters:', vowel_letters)\n",
    "\n",
    "# create a set of mixed data types\n",
    "mixed_set = {'Hello', 101, -2, 'Bye'}\n",
    "print('Set of mixed data types:', mixed_set)"
   ]
  },
  {
   "cell_type": "markdown",
   "id": "51a2d2c1",
   "metadata": {},
   "source": [
    "#### Duplicate items in set"
   ]
  },
  {
   "cell_type": "code",
   "execution_count": 44,
   "id": "0749aea2",
   "metadata": {},
   "outputs": [
    {
     "name": "stdout",
     "output_type": "stream",
     "text": [
      "{8, 2, 4, 6}\n"
     ]
    }
   ],
   "source": [
    "numbers = {2, 4, 6, 6, 2, 8}\n",
    "print(numbers)  "
   ]
  },
  {
   "cell_type": "markdown",
   "id": "f057d385",
   "metadata": {},
   "source": [
    "#### Adding and update items in set"
   ]
  },
  {
   "cell_type": "markdown",
   "id": "05d96c1a",
   "metadata": {},
   "source": [
    "- sets are mutable.However, since they are unordered, indexing has no meaning.\n",
    "- we cannot access or change an element of a set using indexing or slicing.The set data type does not supoprt it."
   ]
  },
  {
   "cell_type": "markdown",
   "id": "9ed34df8",
   "metadata": {},
   "source": [
    "Add items in set"
   ]
  },
  {
   "cell_type": "markdown",
   "id": "18181c24",
   "metadata": {},
   "source": [
    "we use the add() method to add an item to a set"
   ]
  },
  {
   "cell_type": "code",
   "execution_count": 45,
   "id": "1a92a1a2",
   "metadata": {},
   "outputs": [
    {
     "name": "stdout",
     "output_type": "stream",
     "text": [
      "Initial Set: {34, 12, 21, 54}\n",
      "Updated Set: {32, 34, 12, 21, 54}\n"
     ]
    }
   ],
   "source": [
    "numbers = {21, 34, 54, 12}\n",
    "\n",
    "print('Initial Set:',numbers)\n",
    "\n",
    "# using add() method\n",
    "numbers.add(32)\n",
    "\n",
    "print('Updated Set:', numbers) "
   ]
  },
  {
   "cell_type": "markdown",
   "id": "e2ed1c21",
   "metadata": {},
   "source": [
    "#### Update python set"
   ]
  },
  {
   "cell_type": "markdown",
   "id": "8f3a1d24",
   "metadata": {},
   "source": [
    "The update() method is used to update the set with items other collection types(lists,tuples,sets etc)"
   ]
  },
  {
   "cell_type": "code",
   "execution_count": 47,
   "id": "fd91a36c",
   "metadata": {},
   "outputs": [
    {
     "name": "stdout",
     "output_type": "stream",
     "text": [
      "{'Lacoste', 'google', 'Ralph Lauren', 'apple'}\n"
     ]
    }
   ],
   "source": [
    "companies = {'Lacoste', 'Ralph Lauren'}\n",
    "tech_companies = ['apple', 'google', 'apple']\n",
    "\n",
    "# using update() method\n",
    "companies.update(tech_companies)\n",
    "\n",
    "print(companies)"
   ]
  },
  {
   "cell_type": "markdown",
   "id": "1e8c9bda",
   "metadata": {},
   "source": [
    "#### remove an element from set"
   ]
  },
  {
   "cell_type": "markdown",
   "id": "65f76baf",
   "metadata": {},
   "source": [
    "we use the discard() method to remove the specified element from a set."
   ]
  },
  {
   "cell_type": "code",
   "execution_count": 8,
   "id": "221afdc0",
   "metadata": {},
   "outputs": [
    {
     "data": {
      "text/plain": [
       "set()"
      ]
     },
     "execution_count": 8,
     "metadata": {},
     "output_type": "execute_result"
    }
   ],
   "source": [
    "languages = {'Swift', 'Java', 'Python'}\n",
    "languages.clear()\n",
    "languages"
   ]
  },
  {
   "cell_type": "code",
   "execution_count": 9,
   "id": "47949431",
   "metadata": {},
   "outputs": [],
   "source": [
    "del languages"
   ]
  },
  {
   "cell_type": "code",
   "execution_count": 10,
   "id": "a731c597",
   "metadata": {},
   "outputs": [
    {
     "ename": "NameError",
     "evalue": "name 'languages' is not defined",
     "output_type": "error",
     "traceback": [
      "\u001b[1;31m---------------------------------------------------------------------------\u001b[0m",
      "\u001b[1;31mNameError\u001b[0m                                 Traceback (most recent call last)",
      "Cell \u001b[1;32mIn[10], line 1\u001b[0m\n\u001b[1;32m----> 1\u001b[0m languages\n",
      "\u001b[1;31mNameError\u001b[0m: name 'languages' is not defined"
     ]
    }
   ],
   "source": [
    "languages"
   ]
  },
  {
   "cell_type": "code",
   "execution_count": 48,
   "id": "c04b35c9",
   "metadata": {},
   "outputs": [
    {
     "name": "stdout",
     "output_type": "stream",
     "text": [
      "Initial Set: {'Java', 'Swift', 'Python'}\n",
      "Set after remove(): {'Swift', 'Python'}\n"
     ]
    }
   ],
   "source": [
    "languages = {'Swift', 'Java', 'Python'}\n",
    "\n",
    "print('Initial Set:',languages)\n",
    "\n",
    "removedValue = languages.discard('Java')\n",
    "\n",
    "print('Set after remove():', languages)"
   ]
  },
  {
   "cell_type": "markdown",
   "id": "a33a76a4",
   "metadata": {},
   "source": [
    "#### Built in functions with set"
   ]
  },
  {
   "cell_type": "markdown",
   "id": "1fcb1562",
   "metadata": {},
   "source": [
    "- all\n",
    "- any\n",
    "- enumerate\n",
    "- len\n",
    "- max\n",
    "- min\n",
    "- sorted\n",
    "- sum"
   ]
  },
  {
   "cell_type": "markdown",
   "id": "419301c1",
   "metadata": {},
   "source": [
    "### Dictionary"
   ]
  },
  {
   "cell_type": "markdown",
   "id": "c5435558",
   "metadata": {},
   "source": [
    " A Python dictionary is a collection of items, similar to lists and tuples. However, unlike lists and tuples, each item in a dictionary is a key-value pair (consisting of a key and a value)."
   ]
  },
  {
   "cell_type": "markdown",
   "id": "8d6de392",
   "metadata": {},
   "source": [
    "We cannot use mutable (changeable) objects such as lists as keys."
   ]
  },
  {
   "cell_type": "markdown",
   "id": "45b0a8b4",
   "metadata": {},
   "source": [
    "The keys of a dictionary must be unique. If there are duplicate keys,the later value of the key overwrites the previous value."
   ]
  },
  {
   "cell_type": "code",
   "execution_count": 4,
   "id": "9c7ae505",
   "metadata": {},
   "outputs": [
    {
     "name": "stdout",
     "output_type": "stream",
     "text": [
      "{'Germany': 'Berlin', 'Canada': 'Toronto', 'England': 'London'}\n"
     ]
    }
   ],
   "source": [
    "# creating a dictionary\n",
    "country_capitals = {\n",
    "  \"Germany\": \"Berlin\", \n",
    "  \"Canada\": \"Ottawa\", \n",
    "  \"England\": \"London\",\n",
    "   \"Canada\": \"Toronto\" \n",
    "}\n",
    "\n",
    "# printing the dictionary\n",
    "print(country_capitals)"
   ]
  },
  {
   "cell_type": "code",
   "execution_count": 6,
   "id": "abd006df",
   "metadata": {},
   "outputs": [
    {
     "name": "stdout",
     "output_type": "stream",
     "text": [
      "{1: 'one', 2: 'two', 3: 'three'}\n",
      "{(1, 2): 'one two', 3: 'three'}\n",
      "{'USA': ['Chicago', 'California', 'New York']}\n"
     ]
    }
   ],
   "source": [
    "# valid dictionary\n",
    "# integer as a key\n",
    "my_dict = {1: \"one\", 2: \"two\", 3: \"three\"}\n",
    "print(my_dict)\n",
    "\n",
    "# valid dictionary\n",
    "# tuple as a key\n",
    "my_dict1 = {(1, 2): \"one two\", 3: \"three\"}\n",
    "print(my_dict1)\n",
    "\n",
    "\n",
    "# valid dictionary\n",
    "# string as a key, list as a value\n",
    "my_dict2 = {\"USA\": [\"Chicago\", \"California\", \"New York\"]}\n",
    "print(my_dict2)"
   ]
  },
  {
   "cell_type": "code",
   "execution_count": 11,
   "id": "1faa2652",
   "metadata": {},
   "outputs": [
    {
     "ename": "TypeError",
     "evalue": "unhashable type: 'list'",
     "output_type": "error",
     "traceback": [
      "\u001b[1;31m---------------------------------------------------------------------------\u001b[0m",
      "\u001b[1;31mTypeError\u001b[0m                                 Traceback (most recent call last)",
      "Cell \u001b[1;32mIn[11], line 3\u001b[0m\n\u001b[0;32m      1\u001b[0m \u001b[38;5;66;03m# invalid dictionary\u001b[39;00m\n\u001b[0;32m      2\u001b[0m \u001b[38;5;66;03m# Error: using a list as a key is not allowed\u001b[39;00m\n\u001b[1;32m----> 3\u001b[0m my_dict3 \u001b[38;5;241m=\u001b[39m {\u001b[38;5;241m1\u001b[39m: \u001b[38;5;124m\"\u001b[39m\u001b[38;5;124mHello\u001b[39m\u001b[38;5;124m\"\u001b[39m, [\u001b[38;5;241m1\u001b[39m, \u001b[38;5;241m2\u001b[39m]: \u001b[38;5;124m\"\u001b[39m\u001b[38;5;124mHello Hi\u001b[39m\u001b[38;5;124m\"\u001b[39m}\n\u001b[0;32m      4\u001b[0m \u001b[38;5;28mprint\u001b[39m(my_dict3)\n",
      "\u001b[1;31mTypeError\u001b[0m: unhashable type: 'list'"
     ]
    }
   ],
   "source": [
    "# invalid dictionary\n",
    "# Error: using a list as a key is not allowed\n",
    "my_dict3 = {1: \"Hello\", [1, 2]: \"Hello Hi\"}\n",
    "print(my_dict3)"
   ]
  },
  {
   "cell_type": "code",
   "execution_count": null,
   "id": "6247497f",
   "metadata": {},
   "outputs": [],
   "source": [
    "hogwarts_houses = {\n",
    "    \"Harry Potter\": \"Gryffindor\",\n",
    "    \"Hermione Granger\": \"Gryffindor\",\n",
    "    \"Ron Weasley\": \"Gryffindor\",\n",
    "    # duplicate key with a different house\n",
    "    \"Harry Potter\": \"Slytherin\"\n",
    "}\n",
    "\n",
    "print(hogwarts_houses)"
   ]
  },
  {
   "cell_type": "markdown",
   "id": "0bea8eb0",
   "metadata": {},
   "source": [
    "#### Access Dictionary Items"
   ]
  },
  {
   "cell_type": "markdown",
   "id": "46ffa550",
   "metadata": {},
   "source": [
    "we can access the value of a dictionary item by placing the key inside square brackets."
   ]
  },
  {
   "cell_type": "code",
   "execution_count": 51,
   "id": "55128b8b",
   "metadata": {},
   "outputs": [
    {
     "name": "stdout",
     "output_type": "stream",
     "text": [
      "Berlin\n",
      "London\n"
     ]
    }
   ],
   "source": [
    "country_capitals = {\n",
    "  \"Germany\": \"Berlin\", \n",
    "  \"Canada\": \"Ottawa\", \n",
    "  \"England\": \"London\"\n",
    "}\n",
    "\n",
    "# access the value of keys\n",
    "print(country_capitals[\"Germany\"])   \n",
    "print(country_capitals[\"England\"])  "
   ]
  },
  {
   "cell_type": "markdown",
   "id": "ac09c6c0",
   "metadata": {},
   "source": [
    "We can also use get() method to return the value of specified key"
   ]
  },
  {
   "cell_type": "code",
   "execution_count": 52,
   "id": "a04ebabc",
   "metadata": {},
   "outputs": [
    {
     "name": "stdout",
     "output_type": "stream",
     "text": [
      "67\n"
     ]
    }
   ],
   "source": [
    "scores = {\n",
    "    'Physics': 67, \n",
    "    'Maths': 87,\n",
    "    'History': 75\n",
    "}\n",
    "\n",
    "result = scores.get('Physics')\n",
    "\n",
    "print(result)  \n"
   ]
  },
  {
   "cell_type": "markdown",
   "id": "c914cf08",
   "metadata": {},
   "source": [
    "#### Add items to a dictionary"
   ]
  },
  {
   "cell_type": "markdown",
   "id": "0520269a",
   "metadata": {},
   "source": [
    "we can add an item to a dictionary by assigning a value to a new key."
   ]
  },
  {
   "cell_type": "code",
   "execution_count": 7,
   "id": "0ebe1ebc",
   "metadata": {},
   "outputs": [
    {
     "name": "stdout",
     "output_type": "stream",
     "text": [
      "{'Germany': 'Berlin', 'Canada': 'Ottawa', 'Italy': 'Rome'}\n"
     ]
    }
   ],
   "source": [
    "country_capitals = {\n",
    "  \"Germany\": \"Berlin\", \n",
    "  \"Canada\": \"Ottawa\", }\n",
    "\n",
    "country_capitals[\"Italy\"] = \"Rome\"\n",
    "\n",
    "print(country_capitals)"
   ]
  },
  {
   "cell_type": "markdown",
   "id": "398bc20e",
   "metadata": {},
   "source": [
    "#### Remove Dictionary Items"
   ]
  },
  {
   "cell_type": "markdown",
   "id": "63326d27",
   "metadata": {},
   "source": [
    "we can use the del statement to remove an element from a dictionary."
   ]
  },
  {
   "cell_type": "code",
   "execution_count": null,
   "id": "0f52c36e",
   "metadata": {},
   "outputs": [],
   "source": [
    "country_capitals = {\n",
    "  \"Germany\": \"Berlin\", \n",
    "  \"Canada\": \"Ottawa\", }\n",
    "\n",
    "del country_capitals[\"Germany\"]\n",
    "\n",
    "print(country_capitals)"
   ]
  },
  {
   "cell_type": "markdown",
   "id": "918a19a8",
   "metadata": {},
   "source": [
    "we can also use the pop() method to remove an item from a dictionary."
   ]
  },
  {
   "cell_type": "code",
   "execution_count": 1,
   "id": "c588dacd",
   "metadata": {},
   "outputs": [
    {
     "name": "stdout",
     "output_type": "stream",
     "text": [
      "Popped Marks: 72\n"
     ]
    }
   ],
   "source": [
    "marks = { 'Physics': 67, 'Chemistry': 72, 'Math': 89 }\n",
    "element = marks.pop('Chemistry')\n",
    "\n",
    "print('Popped Marks:', element)\n",
    "\n"
   ]
  },
  {
   "cell_type": "markdown",
   "id": "39aed4c5",
   "metadata": {},
   "source": [
    "if we need to remove all items from a dictionary at once, we can use the clear() method."
   ]
  },
  {
   "cell_type": "code",
   "execution_count": null,
   "id": "73b667a4",
   "metadata": {},
   "outputs": [],
   "source": [
    "country_capitals = {\n",
    "  \"Germany\": \"Berlin\", \n",
    "  \"Canada\": \"Ottawa\", \n",
    "}\n",
    "\n",
    "country_capitals.clear()\n",
    "\n",
    "print(country_capitals)  "
   ]
  },
  {
   "cell_type": "markdown",
   "id": "6de8d064",
   "metadata": {},
   "source": [
    "#### Change Dictionary Items"
   ]
  },
  {
   "cell_type": "markdown",
   "id": "36ddc2b5",
   "metadata": {},
   "source": [
    "Python Dictionaries are mutable(changeable). we can change the value of a dictionary element by referring to its key."
   ]
  },
  {
   "cell_type": "code",
   "execution_count": null,
   "id": "a424808f",
   "metadata": {},
   "outputs": [],
   "source": [
    "country_capitals = {\n",
    "  \"Germany\": \"Berlin\", \n",
    "  \"Italy\": \"Naples\", \n",
    "  \"England\": \"London\"\n",
    "}\n",
    "\n",
    "country_capitals[\"Italy\"] = \"Rome\"\n",
    "\n",
    "print(country_capitals)"
   ]
  },
  {
   "cell_type": "markdown",
   "id": "7a258a69",
   "metadata": {},
   "source": [
    "#### Iterate through a dictionary"
   ]
  },
  {
   "cell_type": "code",
   "execution_count": 5,
   "id": "4978f949",
   "metadata": {},
   "outputs": [
    {
     "name": "stdout",
     "output_type": "stream",
     "text": [
      "Washington D.C.\n",
      "Rome\n"
     ]
    }
   ],
   "source": [
    "country_capitals = {\n",
    "  \"United States\": \"Washington D.C.\", \n",
    "  \"Italy\": \"Rome\" \n",
    "}\n",
    "\n",
    "#for country in country_capitals:\n",
    " #   print(country)\n",
    "\n",
    "\n",
    "for i in country_capitals:\n",
    "    print(i)\n",
    "    print(country_capitals[i])\n",
    "   \n",
    "    "
   ]
  },
  {
   "cell_type": "markdown",
   "id": "ef688f5e",
   "metadata": {},
   "source": [
    "### Introduction to NumPy"
   ]
  },
  {
   "cell_type": "markdown",
   "id": "df498943",
   "metadata": {},
   "source": [
    "- NumPy(Numerical Python) is a Python library that performs numerical calculations. It is generally used for working with arrays.\n",
    "\n",
    "- NumPy also includes a wide range of mathematical functions, such as linear algebra, Fourier transforms, and random number generation, which can be applied to arrays."
   ]
  },
  {
   "cell_type": "markdown",
   "id": "7fca9e1b",
   "metadata": {},
   "source": [
    "### NumPy used for"
   ]
  },
  {
   "cell_type": "markdown",
   "id": "2781e35b",
   "metadata": {},
   "source": [
    "NumPy is an important library generally used for\n",
    "- Machine Learning\n",
    "- Data Science\n",
    "- Image and Signal Processing\n",
    "- Scientific Computing\n"
   ]
  },
  {
   "cell_type": "markdown",
   "id": "0a3047bd",
   "metadata": {},
   "source": [
    "### Why we use NumPy?"
   ]
  },
  {
   "cell_type": "markdown",
   "id": "47784dbc",
   "metadata": {},
   "source": [
    "1. Faster Execution\n",
    "- In Python , we use lists to work with arrays. But when it comes to large array. Python lists are not optimized enough.\n",
    "- NumPy arrays are optimized for complex mathematical and statistical operations. Operations on NumPy are up to 50x faster than iterating over native Python lists using loops."
   ]
  },
  {
   "cell_type": "markdown",
   "id": "314fc613",
   "metadata": {},
   "source": [
    "2. Used with  Various other libraries\n",
    "- NumPy is heavily used with various libraries like Pandas, Scipy, scikit-learn, etc."
   ]
  },
  {
   "cell_type": "markdown",
   "id": "6922567d",
   "metadata": {},
   "source": [
    "### Import NumPy in Python\n"
   ]
  },
  {
   "cell_type": "code",
   "execution_count": null,
   "id": "2428217f",
   "metadata": {},
   "outputs": [],
   "source": [
    "import numpy as np"
   ]
  },
  {
   "cell_type": "markdown",
   "id": "1b786f2d",
   "metadata": {},
   "source": [
    "- the code above imports the numpy library in our program as an alias np.\n",
    "- if we import NumPy without an alias using import numpy, we can create an array using the numpy.array() function.\n",
    "- Using an alias np is a common convention among Python programmers, as it makes it easier and quicker to refer to the NumPy library in your code."
   ]
  },
  {
   "cell_type": "markdown",
   "id": "49f05a79",
   "metadata": {},
   "source": [
    "### NumPy Array Creation"
   ]
  },
  {
   "cell_type": "markdown",
   "id": "206f4110",
   "metadata": {},
   "source": [
    "- An array allows us to store a collection of multiple values in a single data structure.\n",
    "\n",
    "- The NumPy array is similar to a list, but with added benefits such as being faster and more memory efficient.\n",
    "\n",
    "- Numpy library provides various methods to work with data. To leverage all those features, we first need to create numpy arrays.\n",
    "\n",
    "- There are multiple techniques to generate arrays in NumPy, and we will explore each of them below."
   ]
  },
  {
   "cell_type": "markdown",
   "id": "dce7e403",
   "metadata": {},
   "source": [
    "#### Create Array using Python list"
   ]
  },
  {
   "cell_type": "code",
   "execution_count": null,
   "id": "7577d186",
   "metadata": {},
   "outputs": [],
   "source": [
    "import numpy as np\n",
    "\n",
    "# create a list named list1\n",
    "list1 = [2, 4, 6, 8]\n",
    "\n",
    "# create numpy array using list1\n",
    "array1 = np.array(list1)\n",
    "\n",
    "print(array1)\n",
    "\n"
   ]
  },
  {
   "cell_type": "code",
   "execution_count": 22,
   "id": "879e745a",
   "metadata": {},
   "outputs": [
    {
     "name": "stdout",
     "output_type": "stream",
     "text": [
      "[2 4 6 8]\n"
     ]
    }
   ],
   "source": [
    "import numpy as np\n",
    "\n",
    "# create numpy array using a list\n",
    "array1 = np.array([2, 4, 6, 8])\n",
    "print(array1)\n"
   ]
  },
  {
   "cell_type": "markdown",
   "id": "aa4dcc61",
   "metadata": {},
   "source": [
    "unlike lists, arrays can only store data of a similar type"
   ]
  },
  {
   "cell_type": "markdown",
   "id": "841adba8",
   "metadata": {},
   "source": [
    "### Create an Array Using np.zeros()"
   ]
  },
  {
   "cell_type": "code",
   "execution_count": 23,
   "id": "6ba85f45",
   "metadata": {},
   "outputs": [
    {
     "name": "stdout",
     "output_type": "stream",
     "text": [
      "[0. 0. 0. 0.]\n"
     ]
    }
   ],
   "source": [
    "import numpy as np\n",
    "\n",
    "# create an array with 4 elements filled with zeros\n",
    "array1 = np.zeros(4)\n",
    "\n",
    "print(array1)\n"
   ]
  },
  {
   "cell_type": "markdown",
   "id": "5175a20b",
   "metadata": {},
   "source": [
    "### Create an Array using np.ones()"
   ]
  },
  {
   "cell_type": "code",
   "execution_count": 9,
   "id": "ad3cba70",
   "metadata": {},
   "outputs": [
    {
     "name": "stdout",
     "output_type": "stream",
     "text": [
      "[1. 1. 1. 1.]\n"
     ]
    }
   ],
   "source": [
    "import numpy as np\n",
    "\n",
    "# create an array with 4 elements filled with ones\n",
    "array1 = np.ones(4)\n",
    "\n",
    "print(array1)"
   ]
  },
  {
   "cell_type": "markdown",
   "id": "d14f8bbc",
   "metadata": {},
   "source": [
    "### Create an Array with np.arange()"
   ]
  },
  {
   "cell_type": "code",
   "execution_count": 24,
   "id": "4d8d80c1",
   "metadata": {},
   "outputs": [
    {
     "name": "stdout",
     "output_type": "stream",
     "text": [
      "Using np.arange(5): [0 1 2 3 4]\n",
      "Using np.arange(1, 9, 2): [1 3 5 7]\n"
     ]
    }
   ],
   "source": [
    "import numpy as np\n",
    "\n",
    "# create an array with values from 0 to 4\n",
    "array1 = np.arange(5)\n",
    "\n",
    "print(\"Using np.arange(5):\", array1)\n",
    "\n",
    "# create an array with values from 1 to 8 with a step of 2\n",
    "array2 = np.arange(1, 9, 2)\n",
    "\n",
    "print(\"Using np.arange(1, 9, 2):\",array2)"
   ]
  },
  {
   "cell_type": "markdown",
   "id": "b4cc51e1",
   "metadata": {},
   "source": [
    "## NumPy N-D Array Creation"
   ]
  },
  {
   "cell_type": "markdown",
   "id": "fdcf08cf",
   "metadata": {},
   "source": [
    "- NumPy is not restricted to 1-D arrays, it can have arrays of multiple dimensions, also known as N-dimensional arrays or ndarrays.\n",
    "\n",
    "- An N-dimensional array refers to the number of dimensions in which the array is organized.\n",
    "\n",
    "- An array can have any number of dimensions and each dimension can have any number of elements.\n",
    "\n",
    "- For example, a 2D array represents a table with rows and columns, while a 3D array represents a cube with width, height, and depth.\n",
    "\n",
    "- There are multiple techniques to create N-d arrays in NumPy, and we will explore each of them below."
   ]
  },
  {
   "cell_type": "markdown",
   "id": "558fac32",
   "metadata": {},
   "source": [
    "### Create a 2-D NumPy Array"
   ]
  },
  {
   "cell_type": "code",
   "execution_count": 27,
   "id": "f0480812",
   "metadata": {},
   "outputs": [
    {
     "name": "stdout",
     "output_type": "stream",
     "text": [
      "[[1 2 3 4]\n",
      " [5 6 7 8]]\n"
     ]
    }
   ],
   "source": [
    "import numpy as np\n",
    "\n",
    "# create a 2D array with 2 rows and 4 columns\n",
    "array1 = np.array([[1, 2, 3, 4],\n",
    "                  [5, 6, 7, 8]])\n",
    "\n",
    "print(array1)"
   ]
  },
  {
   "cell_type": "markdown",
   "id": "1acc527d",
   "metadata": {},
   "source": [
    "### Create a 3-D NumPy Array"
   ]
  },
  {
   "cell_type": "code",
   "execution_count": 28,
   "id": "bf9ac143",
   "metadata": {},
   "outputs": [
    {
     "name": "stdout",
     "output_type": "stream",
     "text": [
      "[[[ 1  2  3  4]\n",
      "  [ 5  6  7  8]\n",
      "  [ 9 10 11 12]]\n",
      "\n",
      " [[13 14 15 16]\n",
      "  [17 18 19 20]\n",
      "  [21 22 23 24]]]\n"
     ]
    }
   ],
   "source": [
    "import numpy as np\n",
    "\n",
    "# create a 3D array with 2 \"slices\", each of 3 rows and 4 columns\n",
    "array1 = np.array([[[1, 2, 3, 4],\n",
    "                [5, 6, 7, 8], \n",
    "                [9, 10, 11, 12]],\n",
    "                     \n",
    "                [[13, 14, 15, 16], \n",
    "                 [17, 18, 19, 20], \n",
    "                 [21, 22, 23, 24]]])\n",
    "\n",
    "print(array1)"
   ]
  },
  {
   "cell_type": "markdown",
   "id": "683efef5",
   "metadata": {},
   "source": [
    "### Creating N-d Arrays From Scratch"
   ]
  },
  {
   "cell_type": "markdown",
   "id": "d26e4404",
   "metadata": {},
   "source": [
    "#### Create N-D Arrays"
   ]
  },
  {
   "cell_type": "code",
   "execution_count": 29,
   "id": "927bb00f",
   "metadata": {},
   "outputs": [
    {
     "name": "stdout",
     "output_type": "stream",
     "text": [
      "2-D Array: \n",
      "[[0. 0. 0.]\n",
      " [0. 0. 0.]]\n",
      "\n",
      "3-D Array: \n",
      "[[[0. 0. 0. 0.]\n",
      "  [0. 0. 0. 0.]\n",
      "  [0. 0. 0. 0.]]\n",
      "\n",
      " [[0. 0. 0. 0.]\n",
      "  [0. 0. 0. 0.]\n",
      "  [0. 0. 0. 0.]]]\n"
     ]
    }
   ],
   "source": [
    "import numpy as np\n",
    "\n",
    "# create 2D array with 2 rows and 3 columns filled with zeros\n",
    "array1 = np.zeros((2, 3))\n",
    "\n",
    "print(\"2-D Array: \")\n",
    "print(array1)\n",
    "\n",
    "# create 3D array with dimensions 2x3x4 filled with zeros\n",
    "array2 = np.zeros((2, 3, 4))\n",
    "\n",
    "print(\"\\n3-D Array: \")\n",
    "print(array2)"
   ]
  },
  {
   "cell_type": "code",
   "execution_count": 10,
   "id": "851e98c5",
   "metadata": {},
   "outputs": [
    {
     "name": "stdout",
     "output_type": "stream",
     "text": [
      "2-D Array: \n",
      "[[1. 1. 1.]\n",
      " [1. 1. 1.]]\n",
      "\n",
      "3-D Array: \n",
      "[[[1. 1. 1. 1.]\n",
      "  [1. 1. 1. 1.]\n",
      "  [1. 1. 1. 1.]]\n",
      "\n",
      " [[1. 1. 1. 1.]\n",
      "  [1. 1. 1. 1.]\n",
      "  [1. 1. 1. 1.]]]\n"
     ]
    }
   ],
   "source": [
    "import numpy as np\n",
    "\n",
    "# create 2D array with 2 rows and 3 columns filled with zeros\n",
    "array1 = np.ones((2, 3))\n",
    "\n",
    "print(\"2-D Array: \")\n",
    "print(array1)\n",
    "\n",
    "# create 3D array with dimensions 2x3x4 filled with zeros\n",
    "array2 = np.ones((2, 3, 4))\n",
    "\n",
    "print(\"\\n3-D Array: \")\n",
    "print(array2)"
   ]
  },
  {
   "cell_type": "markdown",
   "id": "f982a68d",
   "metadata": {},
   "source": [
    "#### Create N-D Array with a Specified Value"
   ]
  },
  {
   "cell_type": "markdown",
   "id": "13b9c9ae",
   "metadata": {},
   "source": [
    "we can use the np.full() to create a multi-dimensional array with a specified value."
   ]
  },
  {
   "cell_type": "code",
   "execution_count": 32,
   "id": "d2e7ed54",
   "metadata": {},
   "outputs": [
    {
     "name": "stdout",
     "output_type": "stream",
     "text": [
      "Array: [[5 5]\n",
      " [5 5]]\n",
      "Array 2 [[[[6 6 6 6]\n",
      "   [6 6 6 6]\n",
      "   [6 6 6 6]\n",
      "   [6 6 6 6]]\n",
      "\n",
      "  [[6 6 6 6]\n",
      "   [6 6 6 6]\n",
      "   [6 6 6 6]\n",
      "   [6 6 6 6]]\n",
      "\n",
      "  [[6 6 6 6]\n",
      "   [6 6 6 6]\n",
      "   [6 6 6 6]\n",
      "   [6 6 6 6]]]\n",
      "\n",
      "\n",
      " [[[6 6 6 6]\n",
      "   [6 6 6 6]\n",
      "   [6 6 6 6]\n",
      "   [6 6 6 6]]\n",
      "\n",
      "  [[6 6 6 6]\n",
      "   [6 6 6 6]\n",
      "   [6 6 6 6]\n",
      "   [6 6 6 6]]\n",
      "\n",
      "  [[6 6 6 6]\n",
      "   [6 6 6 6]\n",
      "   [6 6 6 6]\n",
      "   [6 6 6 6]]]]\n"
     ]
    }
   ],
   "source": [
    "import numpy as np\n",
    "\n",
    "# Create a 2-D array with elements initialized to 5 \n",
    "numpy_array = np.full((2, 2), 5)\n",
    "numpy_array1=np.full((2,3,4,4),6)\n",
    "print(\"Array:\", numpy_array)\n",
    "print('Array 2',numpy_array1)"
   ]
  },
  {
   "cell_type": "markdown",
   "id": "da02dc83",
   "metadata": {},
   "source": [
    "### NumPy Data Types"
   ]
  },
  {
   "cell_type": "markdown",
   "id": "71ceaa69",
   "metadata": {},
   "source": [
    "NumPy offers a wider range of numerical data types than what is available in Python. Here's the list of most commonly used numeric data types in NumPy:\n",
    "- int8, int16, int32, int64 - signed integer types with different bit sizes\n",
    "- uint8, uint16, uint32, uint64 - unsigned integer types with different bit sizes\n",
    "- float32, float64 - floating-point types with different precision levels\n",
    "- complex64, complex128 - complex number types with different precision levels"
   ]
  },
  {
   "cell_type": "markdown",
   "id": "24618e0a",
   "metadata": {},
   "source": [
    "### Check datatype of a NumPy Array"
   ]
  },
  {
   "cell_type": "code",
   "execution_count": 34,
   "id": "9c5b0c10",
   "metadata": {},
   "outputs": [
    {
     "name": "stdout",
     "output_type": "stream",
     "text": [
      "int32\n"
     ]
    }
   ],
   "source": [
    "import numpy as np\n",
    "\n",
    "# create an array of integers \n",
    "array1 = np.array([2, 4, 6])\n",
    "\n",
    "# check the data type of array1\n",
    "print(array1.dtype) \n",
    "\n"
   ]
  },
  {
   "cell_type": "code",
   "execution_count": 35,
   "id": "d781194a",
   "metadata": {},
   "outputs": [
    {
     "name": "stdout",
     "output_type": "stream",
     "text": [
      "int32\n",
      "float64\n",
      "complex128\n"
     ]
    }
   ],
   "source": [
    "import numpy as np\n",
    "\n",
    "# create an array of  integers\n",
    "int_array = np.array([-3, -1, 0, 1])\n",
    "\n",
    "# create an array of floating-point numbers\n",
    "float_array = np.array([0.1, 0.2, 0.3])\n",
    "\n",
    "# create an array of complex numbers\n",
    "complex_array = np.array([1+2j, 2+3j, 3+4j])\n",
    "\n",
    "# check the data type of int_array\n",
    "print(int_array.dtype) \n",
    "\n",
    "# check the data type of float_array\n",
    "print(float_array.dtype)  \n",
    "\n",
    "# check the data type of complex_array\n",
    "print(complex_array.dtype)  "
   ]
  },
  {
   "cell_type": "markdown",
   "id": "81f85cca",
   "metadata": {},
   "source": [
    "### Creating NumPy Arrays with a Defined Data Type"
   ]
  },
  {
   "cell_type": "code",
   "execution_count": 37,
   "id": "26c2d9ee",
   "metadata": {},
   "outputs": [
    {
     "name": "stdout",
     "output_type": "stream",
     "text": [
      "[1 3 7] int64\n"
     ]
    }
   ],
   "source": [
    "import numpy as np\n",
    "\n",
    "# create an array of 32-bit integers\n",
    "array1 = np.array([1, 3, 7], dtype='int64')\n",
    "\n",
    "print(array1, array1.dtype)"
   ]
  },
  {
   "cell_type": "code",
   "execution_count": null,
   "id": "489f54fe",
   "metadata": {},
   "outputs": [],
   "source": [
    "import numpy as np\n",
    "\n",
    "# create an array of 8-bit integers\n",
    "array1 = np.array([1, 3, 7], dtype='int8')\n",
    "\n",
    "# create an array of unsigned 16-bit integers\n",
    "array2 = np.array([2, 4, 6], dtype='uint16')\n",
    "\n",
    "# create an array of 32-bit floating-point numbers\n",
    "array3 = np.array([1.2, 2.3, 3.4], dtype='float32')\n",
    "\n",
    "# create an array of 64-bit complex numbers\n",
    "array4 = np.array([1+2j, 2+3j, 3+4j], dtype='complex64')\n",
    "\n",
    "# print the arrays and their data types\n",
    "print(array1, array1.dtype)\n",
    "print(array2, array2.dtype)\n",
    "print(array3, array3.dtype)\n",
    "print(array4, array4.dtype)"
   ]
  },
  {
   "cell_type": "markdown",
   "id": "726a2e00",
   "metadata": {},
   "source": [
    "### NumPy Type Conversion"
   ]
  },
  {
   "cell_type": "markdown",
   "id": "d1568de1",
   "metadata": {},
   "source": [
    "In NumPy, we can convert the data type of an array using the astype() method"
   ]
  },
  {
   "cell_type": "code",
   "execution_count": 38,
   "id": "7b7fbe16",
   "metadata": {},
   "outputs": [
    {
     "name": "stdout",
     "output_type": "stream",
     "text": [
      "[1 3 5 7] int32\n",
      "[1. 3. 5. 7.] float64\n"
     ]
    }
   ],
   "source": [
    "import numpy as np\n",
    "\n",
    "# create an array of integers\"\n",
    "int_array = np.array([1, 3, 5, 7])\n",
    "\n",
    "# convert data type of int_array to float\n",
    "float_array = int_array.astype('float')\n",
    "\n",
    "# print the arrays and their data types\n",
    "print(int_array, int_array.dtype)\n",
    "print(float_array, float_array.dtype)"
   ]
  },
  {
   "cell_type": "markdown",
   "id": "959b5080",
   "metadata": {},
   "source": [
    "## NumPy Array Attributes"
   ]
  },
  {
   "cell_type": "markdown",
   "id": "85d3dba2",
   "metadata": {},
   "source": [
    "In NumPy, attributes are properties of NumPy arrays that provide information about the array's shape, size, data type, dimension, and so on."
   ]
  },
  {
   "cell_type": "markdown",
   "id": "9b15047f",
   "metadata": {},
   "source": [
    "For example, to get the dimension of an array, we can use the ndim attribute."
   ]
  },
  {
   "cell_type": "markdown",
   "id": "83534372",
   "metadata": {},
   "source": [
    "### Common NumPy Attributes"
   ]
  },
  {
   "cell_type": "markdown",
   "id": "24037c3d",
   "metadata": {},
   "source": [
    "- ndim\n",
    "- size\n",
    "- dtype\n",
    "- shape\n",
    "- itemsize\n",
    "- data"
   ]
  },
  {
   "cell_type": "markdown",
   "id": "168f7044",
   "metadata": {},
   "source": [
    "#### NumPy Array ndim Attribute"
   ]
  },
  {
   "cell_type": "markdown",
   "id": "ca9b8bab",
   "metadata": {},
   "source": [
    "The ndim attribute returns the number of dimensions in the numpy array."
   ]
  },
  {
   "cell_type": "code",
   "execution_count": 27,
   "id": "fe07a7a8",
   "metadata": {},
   "outputs": [
    {
     "name": "stdout",
     "output_type": "stream",
     "text": [
      "2\n"
     ]
    }
   ],
   "source": [
    "import numpy as np\n",
    "\n",
    "# create a 2-D array \n",
    "array1 = np.array([[2, 4, 6],\n",
    "                  [1, 3, 5]])\n",
    "\n",
    "print(array1.ndim) "
   ]
  },
  {
   "cell_type": "markdown",
   "id": "cca59ff8",
   "metadata": {},
   "source": [
    "#### NumPy Array size Attribute"
   ]
  },
  {
   "cell_type": "markdown",
   "id": "83bab5be",
   "metadata": {},
   "source": [
    "The size attribute returns the total number of elements in the given array."
   ]
  },
  {
   "cell_type": "code",
   "execution_count": 28,
   "id": "3f10f792",
   "metadata": {},
   "outputs": [
    {
     "name": "stdout",
     "output_type": "stream",
     "text": [
      "6\n"
     ]
    }
   ],
   "source": [
    "import numpy as np\n",
    "\n",
    "array1 = np.array([[1, 2, 3],\n",
    "                 [6, 7, 8]])\n",
    "\n",
    "print(array1.size)"
   ]
  },
  {
   "cell_type": "markdown",
   "id": "e0b2a765",
   "metadata": {},
   "source": [
    "#### NumPy Array Shape Attribute"
   ]
  },
  {
   "cell_type": "markdown",
   "id": "2ae71bdb",
   "metadata": {},
   "source": [
    "The shape attribute returns a tuple of integers that gives the size of the array in each dimension"
   ]
  },
  {
   "cell_type": "code",
   "execution_count": 29,
   "id": "3886502e",
   "metadata": {},
   "outputs": [
    {
     "name": "stdout",
     "output_type": "stream",
     "text": [
      "(2, 3)\n"
     ]
    }
   ],
   "source": [
    "import numpy as np\n",
    "\n",
    "array1 = np.array([[1, 2, 3],\n",
    "                [6, 7, 8]])\n",
    "\n",
    "# return a tuple that gives size of array in each dimension\n",
    "print(array1.shape)\n"
   ]
  },
  {
   "cell_type": "markdown",
   "id": "467dfd54",
   "metadata": {},
   "source": [
    "#### NumPy Array dtype Attribute"
   ]
  },
  {
   "cell_type": "markdown",
   "id": "8887fec2",
   "metadata": {},
   "source": [
    "we can use the dtype attribute to check the datatype of a NumPy array"
   ]
  },
  {
   "cell_type": "code",
   "execution_count": 31,
   "id": "16bffded",
   "metadata": {},
   "outputs": [
    {
     "name": "stdout",
     "output_type": "stream",
     "text": [
      "int32\n"
     ]
    }
   ],
   "source": [
    "import numpy as np\n",
    "\n",
    "# create an array of integers \n",
    "array1 = np.array([6, 7, 8])\n",
    "\n",
    "# check the data type of array1\n",
    "print(array1.dtype) \n"
   ]
  },
  {
   "cell_type": "markdown",
   "id": "cf0d3bb5",
   "metadata": {},
   "source": [
    "#### NumPy Array itemsize Attribute"
   ]
  },
  {
   "cell_type": "markdown",
   "id": "7b124ca0",
   "metadata": {},
   "source": [
    "The itemsize attribute determines size(in bytes) of each element in the array. "
   ]
  },
  {
   "cell_type": "code",
   "execution_count": 34,
   "id": "8d5fdef0",
   "metadata": {},
   "outputs": [
    {
     "name": "stdout",
     "output_type": "stream",
     "text": [
      "4\n",
      "4\n"
     ]
    }
   ],
   "source": [
    "import numpy as np\n",
    "\n",
    "# create a default 1-D array of integers\n",
    "array1 = np.array([6, 7, 8, 10,13])\n",
    "\n",
    "# create a 1-D array of 32-bit integers \n",
    "array2 = np.array([6, 7, 8, 10, 13], dtype=np.int32)\n",
    "\n",
    "\n",
    "print(array1.itemsize) \n",
    "print(array2.itemsize)  "
   ]
  },
  {
   "cell_type": "markdown",
   "id": "1e3ce0bf",
   "metadata": {},
   "source": [
    "#### NumPy Array data Attribute"
   ]
  },
  {
   "cell_type": "markdown",
   "id": "e5e42268",
   "metadata": {},
   "source": [
    "In NumPy, the data attribute is like a pointer to the memory location where the array's data is stored in the computer's memory."
   ]
  },
  {
   "cell_type": "code",
   "execution_count": 35,
   "id": "81ad096c",
   "metadata": {},
   "outputs": [
    {
     "name": "stdout",
     "output_type": "stream",
     "text": [
      "\n",
      "Data of array1 is:  <memory at 0x000001E926CC59C0>\n",
      "Data of array2 is:  <memory at 0x000001E9271B4110>\n"
     ]
    }
   ],
   "source": [
    "import numpy as np\n",
    "\n",
    "array1 = np.array([6, 7, 8])\n",
    "array2 = np.array([[1, 2, 3],\n",
    "                       [6, 7, 8]])\n",
    "\n",
    "# print memory address of array1's and array2's data\n",
    "print(\"\\nData of array1 is: \",array1.data)\n",
    "print(\"Data of array2 is: \",array2.data)"
   ]
  },
  {
   "cell_type": "markdown",
   "id": "7bdc26cb",
   "metadata": {},
   "source": [
    "## NumPy Input Output\n"
   ]
  },
  {
   "cell_type": "markdown",
   "id": "a7fe3611",
   "metadata": {},
   "source": [
    "NumPy offers input/output (I/O) functions for loading and saving data to and from files.\n",
    "\n",
    "- Input/output functions support a variety of file formats, including binary and text formats.\n",
    "\n",
    "- The binary format is designed for efficient storage and retrieval of large arrays.\n",
    "- The text format is more human-readable and can be easily edited in a text editor."
   ]
  },
  {
   "cell_type": "markdown",
   "id": "fac54076",
   "metadata": {},
   "source": [
    "Most commonly used Input/Output functions"
   ]
  },
  {
   "cell_type": "markdown",
   "id": "edbfb252",
   "metadata": {},
   "source": [
    "- save()\n",
    "- load()\n",
    "- savetxt()\n",
    "- loadtxt()"
   ]
  },
  {
   "cell_type": "markdown",
   "id": "0670a053",
   "metadata": {},
   "source": [
    "#### NumPy save() function"
   ]
  },
  {
   "cell_type": "markdown",
   "id": "604c0255",
   "metadata": {},
   "source": [
    "The save() function is used to save an array to a binary file in the NumPy .npy format"
   ]
  },
  {
   "cell_type": "code",
   "execution_count": null,
   "id": "b21381a2",
   "metadata": {},
   "outputs": [],
   "source": [
    "import numpy as np\n",
    "\n",
    "# create a NumPy array\n",
    "array1 = np.array([[1, 3, 5], \n",
    "                   [7, 9, 11]])\n",
    "\n",
    "# save the array to a file\n",
    "np.save('file1.npy', array1)"
   ]
  },
  {
   "cell_type": "markdown",
   "id": "d835004b",
   "metadata": {},
   "source": [
    "#### NumPy load function"
   ]
  },
  {
   "cell_type": "markdown",
   "id": "33d54c4b",
   "metadata": {},
   "source": [
    "In the previous example, we saved an array to a binary file. Now we'll load that saved file using the load() function."
   ]
  },
  {
   "cell_type": "code",
   "execution_count": null,
   "id": "083afbdd",
   "metadata": {},
   "outputs": [],
   "source": [
    "import numpy as np\n",
    "\n",
    "# load the saved NumPy array\n",
    "loaded_array = np.load('file1.npy')\n",
    "\n",
    "# display the loaded array\n",
    "print(loaded_array)"
   ]
  },
  {
   "cell_type": "markdown",
   "id": "b2c6ca6b",
   "metadata": {},
   "source": [
    "#### NumPy savetxt() function"
   ]
  },
  {
   "cell_type": "markdown",
   "id": "a95677d0",
   "metadata": {},
   "source": [
    "In NumPy, we use the savetxt() function to save an array to a text file."
   ]
  },
  {
   "cell_type": "code",
   "execution_count": null,
   "id": "e856dd5d",
   "metadata": {},
   "outputs": [],
   "source": [
    "import numpy as np\n",
    "\n",
    "# create a NumPy array\n",
    "array2 = np.array([[1, 3, 5], \n",
    "                   [7, 9, 11]])\n",
    "\n",
    "# save the array to a file\n",
    "np.savetxt('file2.txt', array2)"
   ]
  },
  {
   "cell_type": "markdown",
   "id": "3304d963",
   "metadata": {},
   "source": [
    "#### NumPy loadtxt function()"
   ]
  },
  {
   "cell_type": "markdown",
   "id": "2cfccd4a",
   "metadata": {},
   "source": [
    "- We use the loadtxt() function to load the saved txt file.\n",
    "- The values in the loaded array have dots . because loadtxt() reads the values as floating point numbers by default."
   ]
  },
  {
   "cell_type": "code",
   "execution_count": null,
   "id": "96a40d97",
   "metadata": {},
   "outputs": [],
   "source": [
    "import numpy as np\n",
    "\n",
    "# load the saved NumPy array\n",
    "loaded_array = np.loadtxt('file2.txt')\n",
    "\n",
    "# display the loaded array\n",
    "print(loaded_array)"
   ]
  },
  {
   "cell_type": "markdown",
   "id": "75a28d96",
   "metadata": {},
   "source": [
    "#### NumPy Array Indexing"
   ]
  },
  {
   "cell_type": "markdown",
   "id": "b5e92041",
   "metadata": {},
   "source": [
    "In NumPy, each element in an array is associated with a number. The number is known as an array index"
   ]
  },
  {
   "cell_type": "markdown",
   "id": "0d003e37",
   "metadata": {},
   "source": [
    "#### Access Array Elements using Index"
   ]
  },
  {
   "cell_type": "code",
   "execution_count": 1,
   "id": "4e33df1b",
   "metadata": {},
   "outputs": [
    {
     "name": "stdout",
     "output_type": "stream",
     "text": [
      "1\n",
      "5\n",
      "9\n"
     ]
    }
   ],
   "source": [
    "import numpy as np\n",
    "\n",
    "array1 = np.array([1, 3, 5, 7, 9])\n",
    "\n",
    "# access numpy elements using index\n",
    "print(array1[0])    \n",
    "print(array1[2])    \n",
    "print(array1[4])    "
   ]
  },
  {
   "cell_type": "code",
   "execution_count": 25,
   "id": "6f9a7694",
   "metadata": {},
   "outputs": [
    {
     "name": "stdout",
     "output_type": "stream",
     "text": [
      "15\n",
      "3\n"
     ]
    }
   ],
   "source": [
    "import numpy as np\n",
    "\n",
    "# create a 2D array \n",
    "array1 = np.array([[[1, 3, 5, 7], \n",
    "                       [9, 11, 13, 15],\n",
    "                       [2, 4, 6, 8]]])\n",
    "\n",
    "\n",
    "#element1 = array1[1, 3]  \n",
    "print(array1)  \n",
    "\n",
    "\n",
    "element2 = array1[0, 1]  \n",
    "print(element2)  "
   ]
  },
  {
   "cell_type": "code",
   "execution_count": 3,
   "id": "7600e0f7",
   "metadata": {},
   "outputs": [
    {
     "name": "stdout",
     "output_type": "stream",
     "text": [
      "9\n",
      "7\n"
     ]
    }
   ],
   "source": [
    "import numpy as np\n",
    "\n",
    "numbers = np.array([1, 3, 5, 7, 9])\n",
    "\n",
    "\n",
    "print(numbers[-1]) \n",
    "\n",
    "\n",
    "print(numbers[-2])   "
   ]
  },
  {
   "cell_type": "markdown",
   "id": "bca65a0d",
   "metadata": {},
   "source": [
    "#### Modify array elements using negative indexing"
   ]
  },
  {
   "cell_type": "markdown",
   "id": "fbfbf1ed",
   "metadata": {},
   "source": [
    "similar to regular indexing, we can also modify array elements using negative indexing"
   ]
  },
  {
   "cell_type": "code",
   "execution_count": 4,
   "id": "c5c0f706",
   "metadata": {},
   "outputs": [
    {
     "name": "stdout",
     "output_type": "stream",
     "text": [
      "[ 2  3  5  7 13]\n",
      "[ 2  3  5 17 13]\n"
     ]
    }
   ],
   "source": [
    "import numpy as np\n",
    "\n",
    "numbers = np.array([2, 3, 5, 7, 11])\n",
    "\n",
    "numbers[-1] = 13\n",
    "print(numbers)    \n",
    "\n",
    "\n",
    "numbers[-2] = 17\n",
    "print(numbers)   "
   ]
  },
  {
   "cell_type": "code",
   "execution_count": 5,
   "id": "21891789",
   "metadata": {},
   "outputs": [
    {
     "name": "stdout",
     "output_type": "stream",
     "text": [
      "[7 9 2]\n",
      "[5 2 8]\n"
     ]
    }
   ],
   "source": [
    "import numpy as np\n",
    "\n",
    "# create a 2D array \n",
    "array1 = np.array([[1, 3, 5], \n",
    "             [7, 9, 2], \n",
    "             [4, 6, 8]])\n",
    "\n",
    "second_row = array1[1, :]\n",
    "print(second_row) \n",
    "\n",
    "third_col = array1[:, 2]\n",
    "print(third_col)"
   ]
  },
  {
   "cell_type": "markdown",
   "id": "18133029",
   "metadata": {},
   "source": [
    "#### 3-D NumPy Array Indexing"
   ]
  },
  {
   "cell_type": "markdown",
   "id": "166bd34f",
   "metadata": {},
   "source": [
    "To access an element of a 3D array, we use three indices separated by commas.\n",
    "\n",
    "- The first index refers to the slice\n",
    "- The second index refers to the row\n",
    "- The third index refers to the column."
   ]
  },
  {
   "cell_type": "code",
   "execution_count": 6,
   "id": "b58c1356",
   "metadata": {},
   "outputs": [
    {
     "name": "stdout",
     "output_type": "stream",
     "text": [
      "22\n"
     ]
    }
   ],
   "source": [
    "import numpy as np\n",
    "\n",
    "# create a 3D array with shape (2, 3, 4)\n",
    "array1 = np.array([[[1, 2, 3, 4], \n",
    "                   [5, 6, 7, 8], \n",
    "                   [9, 10, 11, 12]],\n",
    "                     \n",
    "                    [[13, 14, 15, 16], \n",
    "                    [17, 18, 19, 20], \n",
    "                    [21, 22, 23, 24]]])\n",
    "\n",
    "element = array1[1, 2, 1]\n",
    "\n",
    "\n",
    "print(element) \n",
    " "
   ]
  },
  {
   "cell_type": "markdown",
   "id": "f33a1bb1",
   "metadata": {},
   "source": [
    "## 4-D Array"
   ]
  },
  {
   "cell_type": "code",
   "execution_count": 2,
   "id": "ee4e17a7",
   "metadata": {},
   "outputs": [
    {
     "name": "stdout",
     "output_type": "stream",
     "text": [
      "[[[[0. 0. 0. 0. 0.]\n",
      "   [0. 0. 0. 0. 0.]\n",
      "   [0. 0. 0. 0. 0.]\n",
      "   [0. 0. 0. 0. 0.]]\n",
      "\n",
      "  [[0. 0. 0. 0. 0.]\n",
      "   [0. 0. 0. 0. 0.]\n",
      "   [0. 0. 0. 0. 0.]\n",
      "   [0. 0. 0. 0. 0.]]\n",
      "\n",
      "  [[0. 0. 0. 0. 0.]\n",
      "   [0. 0. 0. 0. 0.]\n",
      "   [0. 0. 0. 0. 0.]\n",
      "   [0. 0. 0. 0. 0.]]]]\n",
      "Shape of the array: (1, 3, 4, 5)\n"
     ]
    }
   ],
   "source": [
    "import numpy as np\n",
    "\n",
    "# Create a 4D array filled with zeros\n",
    "array_4d = np.zeros((2, 3, 4, 5)) #Blocks=2 (first),Matrices=3(second),Rows=4(third), Columns=5(fourth)\n",
    "\n",
    "print(array_4d)\n",
    "print(\"Shape of the array:\", array_4d.shape)\n"
   ]
  },
  {
   "cell_type": "markdown",
   "id": "5e2fb8f4",
   "metadata": {},
   "source": [
    "### NumPy Boolean Indexing"
   ]
  },
  {
   "cell_type": "markdown",
   "id": "cba4a758",
   "metadata": {},
   "source": [
    "- Boolean Indexing allows us to filter elements from an array based on a specific condition.\n",
    "-  Before we learn about boolean indexing,we need to know boolean masks."
   ]
  },
  {
   "cell_type": "markdown",
   "id": "44ed7ec7",
   "metadata": {},
   "source": [
    "### Boolean Masks in NumPy"
   ]
  },
  {
   "cell_type": "markdown",
   "id": "bef1443d",
   "metadata": {},
   "source": [
    "Boolean mask is a numpy array containing truth values (True/False) that correspond to each element in the array.\n",
    "\n",
    "- Suppose we have an array named array1."
   ]
  },
  {
   "cell_type": "code",
   "execution_count": 7,
   "id": "8d631fc5",
   "metadata": {},
   "outputs": [],
   "source": [
    "array1 = np.array([12, 24, 16, 21, 32, 29, 7, 15])\n"
   ]
  },
  {
   "cell_type": "markdown",
   "id": "56069b79",
   "metadata": {},
   "source": [
    "Now let's create a mask that selects all elements of array1 that are greater than 20."
   ]
  },
  {
   "cell_type": "code",
   "execution_count": 8,
   "id": "0427c2e4",
   "metadata": {},
   "outputs": [],
   "source": [
    "boolean_mask = array1 > 20"
   ]
  },
  {
   "cell_type": "code",
   "execution_count": 9,
   "id": "559acb8c",
   "metadata": {},
   "outputs": [
    {
     "data": {
      "text/plain": [
       "array([False,  True, False,  True,  True,  True, False, False])"
      ]
     },
     "execution_count": 9,
     "metadata": {},
     "output_type": "execute_result"
    }
   ],
   "source": [
    "boolean_mask"
   ]
  },
  {
   "cell_type": "markdown",
   "id": "0671bf0a",
   "metadata": {},
   "source": [
    "Here, array1 > 20 creates a boolean mask that evaluates to True for elements that are greater than 20, and False for elements that are less than or equal to 20."
   ]
  },
  {
   "cell_type": "markdown",
   "id": "aaad7e29",
   "metadata": {},
   "source": [
    "The resulting mask is an array stored in the boolean_mask variable as: "
   ]
  },
  {
   "cell_type": "markdown",
   "id": "ed00e76a",
   "metadata": {},
   "source": [
    "[False, True, False, True, True, True, False, False]"
   ]
  },
  {
   "cell_type": "markdown",
   "id": "e1164125",
   "metadata": {},
   "source": [
    "### 1D Boolean Indexing in NumPy "
   ]
  },
  {
   "cell_type": "markdown",
   "id": "822a3fc9",
   "metadata": {},
   "source": [
    "- Boolean Indexing allows us to create a filtered subset of an array by passing a boolean mask as an index.\n",
    "\n",
    "- The boolean mask selects only those elements in the array that have a True value at the corresponding index position."
   ]
  },
  {
   "cell_type": "code",
   "execution_count": 27,
   "id": "1f4a781c",
   "metadata": {},
   "outputs": [
    {
     "name": "stdout",
     "output_type": "stream",
     "text": [
      "[1 3 5 7 9]\n"
     ]
    }
   ],
   "source": [
    "import numpy as np\n",
    "\n",
    "# create an array of numbers\n",
    "array1 = np.array([1, 2, 3, 4, 5, 6, 7, 8, 9, 10])\n",
    "\n",
    "# create a boolean mask\n",
    "boolean_mask = (array1 % 2 != 0)\n",
    "\n",
    "# boolean indexing to filter the odd numbers\n",
    "result = array1[boolean_mask]\n",
    "\n",
    "print(result)\n"
   ]
  },
  {
   "cell_type": "code",
   "execution_count": 11,
   "id": "a2fc0680",
   "metadata": {},
   "outputs": [
    {
     "name": "stdout",
     "output_type": "stream",
     "text": [
      "[ 1  2  4  9 47 51 52]\n"
     ]
    }
   ],
   "source": [
    "import numpy as np\n",
    "\n",
    "array1 = np.array([1, 2, 4, 9, 11, 16, 18, 22, 26, 31, 33, 47, 51, 52])\n",
    "\n",
    "boolean_mask = (array1 < 10) | (array1 > 40)\n",
    "\n",
    "result = array1[boolean_mask]\n",
    "\n",
    "print(result)"
   ]
  },
  {
   "cell_type": "markdown",
   "id": "90243e43",
   "metadata": {},
   "source": [
    "### Modify Elements Using Boolean Indexing"
   ]
  },
  {
   "cell_type": "code",
   "execution_count": 28,
   "id": "f7b7eb75",
   "metadata": {},
   "outputs": [
    {
     "name": "stdout",
     "output_type": "stream",
     "text": [
      "[1 0 3 0 5 0 7 0 9 0]\n"
     ]
    }
   ],
   "source": [
    "import numpy as np\n",
    "\n",
    "# create an array of numbers\n",
    "numbers = np.array([1, 2, 3, 4, 5, 6, 7, 8, 9, 10])\n",
    "\n",
    "# make a copy of the array\n",
    "#numbers_copy = numbers.copy()\n",
    "\n",
    "# change all even numbers to 0 in the copy\n",
    "numbers[numbers % 2 == 0] = 0\n",
    "\n",
    "# print the modified copy\n",
    "print(numbers)\n"
   ]
  },
  {
   "cell_type": "markdown",
   "id": "669d2243",
   "metadata": {},
   "source": [
    "### 2D Boolean Indexing in NumPy"
   ]
  },
  {
   "cell_type": "code",
   "execution_count": 41,
   "id": "0e4663bf",
   "metadata": {},
   "outputs": [
    {
     "name": "stdout",
     "output_type": "stream",
     "text": [
      "[14 19 21 25 29 35]\n"
     ]
    }
   ],
   "source": [
    "import numpy as np\n",
    "\n",
    "# create a 2D  array\n",
    "array1 = np.array([[1, 7, 9], \n",
    "                    [14, 19, 21], \n",
    "                    [25, 29, 35]])\n",
    "\n",
    "\n",
    "boolean_mask = array1 > 9\n",
    "\n",
    "result = array1[boolean_mask]\n",
    "\n",
    "print(result)"
   ]
  },
  {
   "cell_type": "markdown",
   "id": "4910cd77",
   "metadata": {},
   "source": [
    "## NumPy Fancy Indexing"
   ]
  },
  {
   "cell_type": "markdown",
   "id": "bce93087",
   "metadata": {},
   "source": [
    "- In NumPy, fancy indexing allows us to use an array of indices to access multiple array elements at once.\n",
    "\n",
    "- Fancy indexing can perform more advanced and efficient array operations, including conditional filtering, sorting, and so on."
   ]
  },
  {
   "cell_type": "markdown",
   "id": "579a2078",
   "metadata": {},
   "source": [
    "### select multiple elements using NumPy Fancy Indexing"
   ]
  },
  {
   "cell_type": "code",
   "execution_count": 13,
   "id": "d53bb64e",
   "metadata": {},
   "outputs": [
    {
     "name": "stdout",
     "output_type": "stream",
     "text": [
      "[2 3 6 8]\n"
     ]
    }
   ],
   "source": [
    "import numpy as np\n",
    "\n",
    "# create a numpy array\n",
    "array1 = np.array([1, 2, 3, 4, 5, 6, 7, 8])\n",
    "\n",
    "# select elements at index 1, 2, 5, 7\n",
    "select_elements = array1[[1, 2, 5, 7]]\n",
    "\n",
    "print(select_elements)"
   ]
  },
  {
   "cell_type": "code",
   "execution_count": 14,
   "id": "93cd4b61",
   "metadata": {},
   "outputs": [
    {
     "name": "stdout",
     "output_type": "stream",
     "text": [
      "Simple Indexing: 4\n",
      "Fancy Indexing: [2 3 6 8]\n"
     ]
    }
   ],
   "source": [
    "import numpy as np\n",
    "\n",
    "array1 = np.array([1, 2, 3, 4, 5, 6, 7, 8])\n",
    "\n",
    "# select a single element\n",
    "simple_indexing = array1[3]\n",
    "\n",
    "print(\"Simple Indexing:\",simple_indexing)    \n",
    "\n",
    "# select multiple elements\n",
    "fancy_indexing = array1[[1, 2, 5, 7]]\n",
    "\n",
    "print(\"Fancy Indexing:\",fancy_indexing)   "
   ]
  },
  {
   "cell_type": "markdown",
   "id": "fab7a327",
   "metadata": {},
   "source": [
    "### Fancy Indexing to Assign New Values to Specific Elements"
   ]
  },
  {
   "cell_type": "code",
   "execution_count": 30,
   "id": "bab0c295",
   "metadata": {},
   "outputs": [
    {
     "name": "stdout",
     "output_type": "stream",
     "text": [
      "[ 3 10  6 20  8  5 30  4]\n"
     ]
    }
   ],
   "source": [
    "import numpy as np\n",
    "\n",
    "array1 = np.array([3, 2, 6, 1, 8, 5, 7, 4])\n",
    "\n",
    "# create a list of indices to assign new values\n",
    "indices = [1, 3, 6]\n",
    "\n",
    "# create a new array of values to assign\n",
    "new_values = [10, 20, 30]\n",
    "\n",
    "# use fancy indexing to assign new values to specific elements\n",
    "array1[indices] = new_values\n",
    "\n",
    "print(array1)\n"
   ]
  },
  {
   "cell_type": "markdown",
   "id": "aa62a299",
   "metadata": {},
   "source": [
    "## NumPy Array Slicing"
   ]
  },
  {
   "cell_type": "markdown",
   "id": "42c1a3f1",
   "metadata": {},
   "source": [
    "Array Slicing is the process of extracting a portion of an array."
   ]
  },
  {
   "cell_type": "markdown",
   "id": "e7768635",
   "metadata": {},
   "source": [
    "### 1D NumPy Array Slicing"
   ]
  },
  {
   "cell_type": "code",
   "execution_count": 16,
   "id": "94bc6e26",
   "metadata": {},
   "outputs": [
    {
     "name": "stdout",
     "output_type": "stream",
     "text": [
      "[5 7 8 9]\n",
      "[1 5 8 2]\n",
      "[7 8 9 2 4 6]\n",
      "[1 3 5 7 8 9 2 4 6]\n"
     ]
    }
   ],
   "source": [
    "import numpy as np\n",
    "\n",
    "# create a 1D array \n",
    "array1 = np.array([1, 3, 5, 7, 8, 9, 2, 4, 6])\n",
    "\n",
    "print(array1[2:6])  # [5 7 8 9]\n",
    "\n",
    "print(array1[0:8:2]) \n",
    "\n",
    "print(array1[3:])  \n",
    "\n",
    "print(array1[:])   "
   ]
  },
  {
   "cell_type": "markdown",
   "id": "6b8d86d7",
   "metadata": {},
   "source": [
    "### Modify Array Elements Using Slicing"
   ]
  },
  {
   "cell_type": "markdown",
   "id": "a8fe5d9a",
   "metadata": {},
   "source": [
    "#### 1.Using Start Parameter"
   ]
  },
  {
   "cell_type": "code",
   "execution_count": 17,
   "id": "6a0d769e",
   "metadata": {},
   "outputs": [
    {
     "name": "stdout",
     "output_type": "stream",
     "text": [
      "[ 2  4  6 20 20 20]\n"
     ]
    }
   ],
   "source": [
    "import numpy as np\n",
    "\n",
    "# create a numpy array\n",
    "numbers = np.array([2, 4, 6, 8, 10, 12])\n",
    "\n",
    "numbers[3:] = 20\n",
    "print(numbers)\n"
   ]
  },
  {
   "cell_type": "markdown",
   "id": "5a814389",
   "metadata": {},
   "source": [
    "#### Using stop parameter"
   ]
  },
  {
   "cell_type": "code",
   "execution_count": 18,
   "id": "798d092a",
   "metadata": {},
   "outputs": [
    {
     "name": "stdout",
     "output_type": "stream",
     "text": [
      "[40 40 40  8 10 12]\n"
     ]
    }
   ],
   "source": [
    "import numpy as np\n",
    "\n",
    "# create a numpy array\n",
    "numbers = np.array([2, 4, 6, 8, 10, 12])\n",
    "\n",
    "numbers[:3] = 40\n",
    "print(numbers)"
   ]
  },
  {
   "cell_type": "markdown",
   "id": "5622a7ab",
   "metadata": {},
   "source": [
    "#### Using start, stop and step"
   ]
  },
  {
   "cell_type": "code",
   "execution_count": 19,
   "id": "fa009698",
   "metadata": {},
   "outputs": [
    {
     "name": "stdout",
     "output_type": "stream",
     "text": [
      "[ 2 16  6 16 10 12]\n"
     ]
    }
   ],
   "source": [
    "import numpy as np\n",
    "\n",
    "# create a numpy array\n",
    "numbers = np.array([2, 4, 6, 8, 10, 12])\n",
    "\n",
    "numbers[1:5:2] = 16\n",
    "print(numbers)\n"
   ]
  },
  {
   "cell_type": "markdown",
   "id": "3791d903",
   "metadata": {},
   "source": [
    "### 2D NumPy array slicing"
   ]
  },
  {
   "cell_type": "code",
   "execution_count": 20,
   "id": "95e8583a",
   "metadata": {},
   "outputs": [
    {
     "name": "stdout",
     "output_type": "stream",
     "text": [
      "[[ 1  3]\n",
      " [ 9 11]]\n"
     ]
    }
   ],
   "source": [
    "# create a 2D array\n",
    "array1 = np.array([[1, 3, 5, 7], \n",
    "                   [9, 11, 13, 15]])\n",
    "\n",
    "print(array1[:2, :2])\n"
   ]
  },
  {
   "cell_type": "code",
   "execution_count": 21,
   "id": "b174c47c",
   "metadata": {},
   "outputs": [
    {
     "name": "stdout",
     "output_type": "stream",
     "text": [
      "First Two Rows and Columns: \n",
      " [[ 1  3]\n",
      " [ 9 11]]\n",
      "Last two Rows and Columns: \n",
      " [[13 15]\n",
      " [ 6  8]]\n"
     ]
    }
   ],
   "source": [
    "import numpy as np\n",
    "\n",
    "# create a 2D array \n",
    "array1 = np.array([[1, 3, 5, 7], \n",
    "                      [9, 11, 13, 15],\n",
    "                      [2, 4, 6, 8]])\n",
    "\n",
    "\n",
    "subarray1 = array1[:2, :2]\n",
    "\n",
    "subarray2 = array1[1:3, 2:4]\n",
    "\n",
    "\n",
    "print(\"First Two Rows and Columns: \\n\",subarray1)\n",
    "print(\"Last two Rows and Columns: \\n\",subarray2)"
   ]
  },
  {
   "cell_type": "markdown",
   "id": "0a653bd9",
   "metadata": {},
   "source": [
    "### NumPy Array Reshaping"
   ]
  },
  {
   "cell_type": "markdown",
   "id": "6e1a7e2f",
   "metadata": {},
   "source": [
    "NumPy array reshaping simply means changing the shape of an array without changing its data."
   ]
  },
  {
   "cell_type": "code",
   "execution_count": null,
   "id": "37a37a42",
   "metadata": {},
   "outputs": [],
   "source": [
    "# reshape 1D into 2D array \n",
    "# with 2 rows and 4 columns\n",
    "[[1 3 5 7]\n",
    " [2 4 6 8]]\n",
    "\n",
    "# reshape 1D into 3D array \n",
    "# with 2 rows, 2 columns, and 2 layers\n",
    "[[[1 3]\n",
    "  [5 7]]\n",
    "\n",
    " [[2 4]\n",
    "  [6 8]]]"
   ]
  },
  {
   "cell_type": "markdown",
   "id": "a7d1720b",
   "metadata": {},
   "source": [
    "#### Reshape 1D Array to 2D Array in NumPy\n"
   ]
  },
  {
   "cell_type": "markdown",
   "id": "29e7a0b6",
   "metadata": {},
   "source": [
    "We use the reshape() function to reshape a 1D array into a 2D array."
   ]
  },
  {
   "cell_type": "code",
   "execution_count": 22,
   "id": "f1d43f97",
   "metadata": {},
   "outputs": [
    {
     "name": "stdout",
     "output_type": "stream",
     "text": [
      "[[1 3 5 7]\n",
      " [2 4 6 8]]\n"
     ]
    }
   ],
   "source": [
    "import numpy as np\n",
    "\n",
    "array1 = np.array([1, 3, 5, 7, 2, 4, 6, 8])\n",
    "\n",
    "result = np.reshape(array1, (2, 4))\n",
    "print(result)"
   ]
  },
  {
   "cell_type": "markdown",
   "id": "13c73876",
   "metadata": {},
   "source": [
    "#### Reshape 1D Array to 3D Array in NumPy"
   ]
  },
  {
   "cell_type": "code",
   "execution_count": 23,
   "id": "f536a7ab",
   "metadata": {},
   "outputs": [
    {
     "name": "stdout",
     "output_type": "stream",
     "text": [
      "1D to 3D Array: \n",
      " [[[1 3]\n",
      "  [5 7]]\n",
      "\n",
      " [[2 4]\n",
      "  [6 8]]]\n"
     ]
    }
   ],
   "source": [
    "import numpy as np\n",
    "\n",
    "# create a 1D array\n",
    "array1 = np.array([1, 3, 5, 7, 2, 4, 6, 8])\n",
    "\n",
    "result = np.reshape(array1, (2, 2, 2))\n",
    "\n",
    "print(\"1D to 3D Array: \\n\",result)"
   ]
  },
  {
   "cell_type": "markdown",
   "id": "6967e5ae",
   "metadata": {},
   "source": [
    "#### Flatten N-d Array to 1-D Array Using reshape()"
   ]
  },
  {
   "cell_type": "markdown",
   "id": "7db5e8d6",
   "metadata": {},
   "source": [
    "- Flattening an array simply means converting a multidimensional array into a 1D array.\n",
    "\n",
    "- To flatten an N-d array to a 1-D array we can use reshape() and pass \"-1\" as an argument."
   ]
  },
  {
   "cell_type": "code",
   "execution_count": 24,
   "id": "f0ab5ca2",
   "metadata": {},
   "outputs": [
    {
     "name": "stdout",
     "output_type": "stream",
     "text": [
      "Flattened 2D array: [ 1  3  5  7  9 11]\n",
      "Flattened 3D array: [1 3 5 7 2 4 6 8]\n"
     ]
    }
   ],
   "source": [
    "import numpy as np\n",
    "\n",
    "# flatten 2D array to 1D\n",
    "array1 = np.array([[1, 3], [5, 7], [9, 11]])\n",
    "result1 = np.reshape(array1, -1)\n",
    "print(\"Flattened 2D array:\", result1)\n",
    "\n",
    "# flatten 3D array to 1D\n",
    "array2 = np.array([[[1, 3], [5, 7]], [[2, 4], [6, 8]]])\n",
    "result2 = np.reshape(array2, -1)\n",
    "print(\"Flattened 3D array:\", result2)"
   ]
  },
  {
   "cell_type": "markdown",
   "id": "5aaf58e5",
   "metadata": {},
   "source": [
    "### NumPy Arithmetic Array Operations"
   ]
  },
  {
   "cell_type": "markdown",
   "id": "985637ed",
   "metadata": {},
   "source": [
    "NumPy's arithmetic operations are widely used due to their ability to perform simple and efficient calculations on arrays."
   ]
  },
  {
   "cell_type": "markdown",
   "id": "bc50ab72",
   "metadata": {},
   "source": [
    "- addition - add()\n",
    "- subtraction - subtract()\n",
    "- Multiplication - multiply()\n",
    "- division - divide()\n",
    "- Exponentiation - power()\n",
    "- Modulus - mod()"
   ]
  },
  {
   "cell_type": "markdown",
   "id": "22b8389d",
   "metadata": {},
   "source": [
    "### Addition"
   ]
  },
  {
   "cell_type": "code",
   "execution_count": 31,
   "id": "622d5ddb",
   "metadata": {},
   "outputs": [
    {
     "name": "stdout",
     "output_type": "stream",
     "text": [
      "Using the + operator: [ 3  7 11 15]\n",
      "Using the add() function: [ 3  7 11 15]\n"
     ]
    }
   ],
   "source": [
    "import numpy as np\n",
    "\n",
    "first_array = np.array([1, 3, 5, 7])\n",
    "second_array = np.array([2, 4, 6, 8])\n",
    "\n",
    "# using the + operator\n",
    "result1 = first_array + second_array\n",
    "print(\"Using the + operator:\",result1) \n",
    "\n",
    "# using the add() function\n",
    "result2 = np.add(first_array, second_array)\n",
    "print(\"Using the add() function:\",result2) "
   ]
  },
  {
   "cell_type": "markdown",
   "id": "19aafb9c",
   "metadata": {},
   "source": [
    "### Subtraction"
   ]
  },
  {
   "cell_type": "code",
   "execution_count": null,
   "id": "6cff26de",
   "metadata": {},
   "outputs": [],
   "source": [
    "import numpy as np\n",
    "\n",
    "first_array = np.array([3, 9, 27, 81])\n",
    "second_array = np.array([2, 4, 8, 16])\n",
    "\n",
    "# using the - operator\n",
    "result1 = first_array - second_array\n",
    "print(\"Using the - operator:\",result1) \n",
    "\n",
    "# using the subtract() function\n",
    "result2 = np.subtract(first_array, second_array)\n",
    "print(\"Using the subtract() function:\",result2) "
   ]
  },
  {
   "cell_type": "markdown",
   "id": "4c04abfd",
   "metadata": {},
   "source": [
    "### Multiplication"
   ]
  },
  {
   "cell_type": "code",
   "execution_count": null,
   "id": "53c1bce8",
   "metadata": {},
   "outputs": [],
   "source": [
    "import numpy as np\n",
    "\n",
    "first_array = np.array([1, 3, 5, 7])\n",
    "second_array = np.array([2, 4, 6, 8])\n",
    "\n",
    "# using the * operator\n",
    "result1 = first_array * second_array\n",
    "print(\"Using the * operator:\",result1) \n",
    "\n",
    "# using the multiply() function\n",
    "result2 = np.multiply(first_array, second_array)\n",
    "print(\"Using the multiply() function:\",result2) "
   ]
  },
  {
   "cell_type": "markdown",
   "id": "0fa7594c",
   "metadata": {},
   "source": [
    "### Division"
   ]
  },
  {
   "cell_type": "code",
   "execution_count": null,
   "id": "38a61ba6",
   "metadata": {},
   "outputs": [],
   "source": [
    "import numpy as np\n",
    "\n",
    "first_array = np.array([1, 2, 3])\n",
    "second_array = np.array([4, 5, 6])\n",
    "\n",
    "# using the / operator\n",
    "result1 = first_array / second_array\n",
    "print(\"Using the / operator:\",result1) \n",
    "\n",
    "# using the divide() function\n",
    "result2 = np.divide(first_array, second_array)\n",
    "print(\"Using the divide() function:\",result2) "
   ]
  },
  {
   "cell_type": "markdown",
   "id": "49665fc7",
   "metadata": {},
   "source": [
    "### Exponentiation"
   ]
  },
  {
   "cell_type": "code",
   "execution_count": null,
   "id": "33fed8a5",
   "metadata": {},
   "outputs": [],
   "source": [
    "import numpy as np\n",
    "\n",
    "array1 = np.array([1, 2, 3])\n",
    "\n",
    "# using the ** operator\n",
    "result1 = array1 ** 2\n",
    "print(\"Using the ** operator:\",result1) \n",
    "\n",
    "# using the power() function\n",
    "result2 = np.power(array1, 2)\n",
    "print(\"Using the power() function:\",result2) "
   ]
  },
  {
   "cell_type": "markdown",
   "id": "2a739f7e",
   "metadata": {},
   "source": [
    "### Modulus"
   ]
  },
  {
   "cell_type": "code",
   "execution_count": null,
   "id": "4fa24d55",
   "metadata": {},
   "outputs": [],
   "source": [
    "import numpy as np\n",
    "\n",
    "first_array = np.array([9, 10, 20])\n",
    "second_array = np.array([2, 5, 7])\n",
    "\n",
    "# using the % operator\n",
    "result1 = first_array % second_array\n",
    "print(\"Using the % operator:\",result1) \n",
    "\n",
    "# using the mod() function\n",
    "result2 = np.mod(first_array, second_array)\n",
    "print(\"Using the mod() function:\",result2)"
   ]
  },
  {
   "cell_type": "markdown",
   "id": "3dfc3853",
   "metadata": {},
   "source": [
    "### NumPy Array Statistical functions"
   ]
  },
  {
   "cell_type": "code",
   "execution_count": null,
   "id": "a6a931ce",
   "metadata": {},
   "outputs": [],
   "source": [
    "import numpy as np\n",
    "\n",
    "# create a numpy array\n",
    "marks = np.array([76, 78, 81, 66, 85])\n",
    "\n",
    "# compute the mean of marks\n",
    "mean_marks = np.mean(marks)\n",
    "print(\"Mean:\",mean_marks)\n",
    "\n",
    "# compute the median of marks\n",
    "median_marks = np.median(marks)\n",
    "print(\"Median:\",median_marks)\n",
    "\n",
    "# find the minimum and maximum marks\n",
    "min_marks = np.min(marks)\n",
    "print(\"Minimum marks:\", min_marks)\n",
    "\n",
    "max_marks = np.max(marks)\n",
    "print(\"Maximum marks:\", max_marks)"
   ]
  },
  {
   "cell_type": "markdown",
   "id": "69c76391",
   "metadata": {},
   "source": [
    "### NumPy  Comparison/Logical Operations"
   ]
  },
  {
   "cell_type": "code",
   "execution_count": null,
   "id": "87b5f153",
   "metadata": {},
   "outputs": [],
   "source": [
    "import numpy as np\n",
    "\n",
    "array1 = np.array([1, 2, 3])\n",
    "array2 = np.array([3, 2, 1])\n",
    "\n",
    "\n",
    "result1 = array1 < array2\n",
    "print(\"array1 < array2:\",result1)    \n",
    "\n",
    "result2 = array1 > array2\n",
    "print(\"array1 > array2:\",result2)    \n",
    "\n",
    "\n",
    "result3 = array1 == array2\n",
    "print(\"array1 == array2:\",result3)    "
   ]
  },
  {
   "cell_type": "code",
   "execution_count": null,
   "id": "6d334bfb",
   "metadata": {},
   "outputs": [],
   "source": [
    "import numpy as np\n",
    "\n",
    "array1 = np.array([9, 12, 21])\n",
    "array2 = np.array([21, 12, 9])\n",
    "\n",
    "# use of less()\n",
    "result = np.less(array1, array2)\n",
    "print(\"Using less():\",result)    \n",
    "\n",
    "# use of less_equal()\n",
    "result = np.less_equal(array1, array2)\n",
    "print(\"Using less_equal():\",result)     \n",
    "\n",
    "# use of greater()\n",
    "result = np.greater(array1, array2)\n",
    "print(\"Using greater():\",result)    \n",
    "\n",
    "# use of greater_equal()\n",
    "result = np.greater_equal(array1, array2)\n",
    "print(\"Using greater_equal():\",result)    \n",
    "\n",
    "# use of equal()\n",
    "result = np.equal(array1, array2)\n",
    "print(\"Using equal():\",result)    \n",
    "\n",
    "# use of not_equal()\n",
    "result = np.not_equal(array1, array2)\n",
    "print(\"Using not_equal():\",result)   "
   ]
  },
  {
   "cell_type": "markdown",
   "id": "e57e08dc",
   "metadata": {},
   "source": [
    "### NumPy Logical Operations"
   ]
  },
  {
   "cell_type": "code",
   "execution_count": 50,
   "id": "a8923217",
   "metadata": {},
   "outputs": [
    {
     "name": "stdout",
     "output_type": "stream",
     "text": [
      "[False False  True]\n",
      "[ True False  True]\n",
      "[False  True False]\n"
     ]
    }
   ],
   "source": [
    "import numpy as np\n",
    "\n",
    "x1 = np.array([True, False, True])\n",
    "x2 = np.array([False, False, True])\n",
    "\n",
    "# Logical AND\n",
    "print(np.logical_and(x1, x2))\n",
    "\n",
    "# Logical OR\n",
    "print(np.logical_or(x1, x2)) \n",
    "\n",
    "# Logical NOT\n",
    "print(np.logical_not(x1)) "
   ]
  },
  {
   "cell_type": "markdown",
   "id": "03f4b89a",
   "metadata": {},
   "source": [
    "## NumPy Math Functions"
   ]
  },
  {
   "cell_type": "markdown",
   "id": "2201fcc9",
   "metadata": {},
   "source": [
    "Numpy provides a wide range of mathematical functions that can be performed on arrays.\n",
    "\n",
    "Let's explore three different types of math functions in NumPy:\n",
    "\n",
    "- Trigonometric Functions\n",
    "- Arithmetic Functions\n",
    "- Rounding Functions"
   ]
  },
  {
   "cell_type": "markdown",
   "id": "1a2147fe",
   "metadata": {},
   "source": [
    "### Trigonometric Functions"
   ]
  },
  {
   "cell_type": "markdown",
   "id": "cbad09c5",
   "metadata": {},
   "source": [
    "- sin()\n",
    "- cos()\n",
    "- tan()\n",
    "- arcsin()\n",
    "- arccos()\n",
    "- arctan()\n",
    "- degrees()\n",
    "- radians()\n"
   ]
  },
  {
   "cell_type": "code",
   "execution_count": 2,
   "id": "1ec788cd",
   "metadata": {},
   "outputs": [
    {
     "name": "stdout",
     "output_type": "stream",
     "text": [
      "Angles: [ 90 180 240 -90]\n",
      "Sine values: [ 0.89399666 -0.80115264  0.94544515 -0.89399666]\n"
     ]
    }
   ],
   "source": [
    "import numpy as np\n",
    "\n",
    "# array of angles in radians\n",
    "angles = np.array([90, 180, 240,-90])\n",
    "print(\"Angles:\", angles)\n",
    "\n",
    "# compute the sine of the angles\n",
    "sine_values = np.sin(angles)\n",
    "print(\"Sine values:\", sine_values)\n"
   ]
  },
  {
   "cell_type": "code",
   "execution_count": 14,
   "id": "bd24d7de",
   "metadata": {},
   "outputs": [
    {
     "name": "stdout",
     "output_type": "stream",
     "text": [
      "0.0\n",
      "-1.5707963267948966\n",
      "1.5707963267948966\n"
     ]
    }
   ],
   "source": [
    "import numpy as np \n",
    "  \n",
    "# computing sine inverse \n",
    "print(np.arcsin(0)) \n",
    "  \n",
    "# -pi/2 \n",
    "print(np.arcsin(-1)) \n",
    "  \n",
    "# pi/2 \n",
    "print(np.arcsin(1))"
   ]
  },
  {
   "cell_type": "code",
   "execution_count": null,
   "id": "acb511ee",
   "metadata": {},
   "outputs": [],
   "source": [
    "import numpy as np\n",
    "\n",
    "# define an angle in radians\n",
    "angle =  1.57079633\n",
    "print(\"Initial angle in radian:\", angle)\n",
    "\n",
    "# convert the angle to degrees\n",
    "angle_degree = np.degrees(angle)\n",
    "print(\"Angle in degrees:\", angle_degree)\n",
    "\n",
    "# convert the angle back to radians\n",
    "angle_radian = np.radians(angle_degree)\n",
    "print(\"Angle in radians (after conversion):\", angle_radian)"
   ]
  },
  {
   "cell_type": "markdown",
   "id": "a534a0d9",
   "metadata": {},
   "source": [
    "### Rounding Functions"
   ]
  },
  {
   "cell_type": "markdown",
   "id": "ae539109",
   "metadata": {},
   "source": [
    "- round()- returns the value rounded to the desired precision\n",
    "- floor()- returns the values of array down to the nearest integer that is less than each element\n",
    "- ceil()- returns the values of array up to the nearest integer that is greater than each element."
   ]
  },
  {
   "cell_type": "code",
   "execution_count": 15,
   "id": "4f3a6fb5",
   "metadata": {},
   "outputs": [
    {
     "name": "stdout",
     "output_type": "stream",
     "text": [
      "[1.23 2.35 3.46 4.57]\n"
     ]
    }
   ],
   "source": [
    "import numpy as np\n",
    "\n",
    "numbers = np.array([1.23456, 2.34567, 3.45678, 4.56789])\n",
    "\n",
    "# round the array to two decimal places\n",
    "rounded_array = np.round(numbers, 2)\n",
    "\n",
    "print(rounded_array)\n",
    "\n"
   ]
  },
  {
   "cell_type": "code",
   "execution_count": 16,
   "id": "e99faae7",
   "metadata": {},
   "outputs": [
    {
     "name": "stdout",
     "output_type": "stream",
     "text": [
      "Array after floor(): [1. 2. 3. 4.]\n",
      "Array after ceil(): [2. 3. 4. 5.]\n"
     ]
    }
   ],
   "source": [
    "import numpy as np\n",
    "\n",
    "array1 = np.array([1.23456, 2.34567, 3.45678, 4.56789])\n",
    "\n",
    "print(\"Array after floor():\", np.floor(array1))\n",
    "\n",
    "print(\"Array after ceil():\", np.ceil(array1))"
   ]
  },
  {
   "cell_type": "markdown",
   "id": "c5f0325a",
   "metadata": {},
   "source": [
    "### NumPy Constants"
   ]
  },
  {
   "cell_type": "markdown",
   "id": "dd1c5cd8",
   "metadata": {},
   "source": [
    "NumPy constants are the predefined fixed values used for mathematical calculations.\n",
    "\n",
    "- For example, np.pi is a mathematical constant that returns the value of pi (π), i.e. 3.141592653589793.\n",
    "\n",
    "- Using predefined constants makes our code concise and easier to read."
   ]
  },
  {
   "cell_type": "markdown",
   "id": "a84acab1",
   "metadata": {},
   "source": [
    "#### np.pi"
   ]
  },
  {
   "cell_type": "markdown",
   "id": "1590ea7f",
   "metadata": {},
   "source": [
    "np.pi is a mathematical constant that returns the value of pi(π) as a floating point number. Its value is approximately 3.141592653589793."
   ]
  },
  {
   "cell_type": "code",
   "execution_count": 17,
   "id": "39cdd060",
   "metadata": {},
   "outputs": [
    {
     "name": "stdout",
     "output_type": "stream",
     "text": [
      "12.566370614359172\n"
     ]
    }
   ],
   "source": [
    "import numpy as np\n",
    "\n",
    "radius = 2\n",
    "circumference = 2 * np.pi * radius\n",
    "print(circumference)"
   ]
  },
  {
   "cell_type": "markdown",
   "id": "9479fd16",
   "metadata": {},
   "source": [
    "### np.e"
   ]
  },
  {
   "cell_type": "markdown",
   "id": "cafc0aab",
   "metadata": {},
   "source": [
    "np.e is widely used with exponential and logarithmic functions. Its value is approximately 2.718281828459045."
   ]
  },
  {
   "cell_type": "code",
   "execution_count": 18,
   "id": "11ddeb30",
   "metadata": {},
   "outputs": [
    {
     "name": "stdout",
     "output_type": "stream",
     "text": [
      "2.718281828459045\n"
     ]
    }
   ],
   "source": [
    "import numpy as np\n",
    "\n",
    "y = np.e\n",
    "\n",
    "print(y)"
   ]
  },
  {
   "cell_type": "markdown",
   "id": "25bfc3ec",
   "metadata": {},
   "source": [
    "### Arithmetic Operations with Numpy Constants and Arrays"
   ]
  },
  {
   "cell_type": "code",
   "execution_count": 20,
   "id": "021e8b87",
   "metadata": {},
   "outputs": [
    {
     "name": "stdout",
     "output_type": "stream",
     "text": [
      "[4.14159265 5.14159265 6.14159265]\n"
     ]
    }
   ],
   "source": [
    "import numpy as np\n",
    "\n",
    "array1 = np.array([1, 2, 3])\n",
    "\n",
    "# add each array element with the constant pi\n",
    "y = array1 + np.pi\n",
    "\n",
    "print(y)"
   ]
  },
  {
   "cell_type": "markdown",
   "id": "eea95c8f",
   "metadata": {},
   "source": [
    "## NumPy Statistical functions"
   ]
  },
  {
   "cell_type": "markdown",
   "id": "44f15303",
   "metadata": {},
   "source": [
    "Statistics involves gathering data, analyzing it, and drawing conclusions based on the information collected.\n",
    "\n",
    "NumPy provides us with various statistical functions that can perform statistical data analysis."
   ]
  },
  {
   "cell_type": "markdown",
   "id": "f8490ae4",
   "metadata": {},
   "source": [
    "- median()\n",
    "- Mean()\n",
    "- std()\n",
    "- percentile()\n",
    "- min()\n",
    "- max()"
   ]
  },
  {
   "cell_type": "markdown",
   "id": "bfd006a8",
   "metadata": {},
   "source": [
    "### Find Median using NumPy"
   ]
  },
  {
   "cell_type": "markdown",
   "id": "2b4fa7a8",
   "metadata": {},
   "source": [
    "The median value of a numpy array is the middle value in a sorted array.\n",
    "\n",
    "In other words, it is the value that separates the higher half from the lower half of the data."
   ]
  },
  {
   "cell_type": "markdown",
   "id": "871bba1d",
   "metadata": {},
   "source": [
    "It is important to note that if the number of elements is\n",
    "\n",
    "Odd, the median is the middle element.\n",
    "Even, the median is the average of the two middle elements."
   ]
  },
  {
   "cell_type": "code",
   "execution_count": 1,
   "id": "4463de4e",
   "metadata": {},
   "outputs": [
    {
     "name": "stdout",
     "output_type": "stream",
     "text": [
      "3\n"
     ]
    }
   ],
   "source": [
    "import numpy as np\n",
    "\n",
    "# create a 1D array with 5 elements\n",
    "array1 = np.array([1, 2, 3, 4, 5])\n",
    "                                                                                                           \n",
    "# calculate the median\n",
    "median = np.median(array1)\n",
    "\n",
    "print(median) \n"
   ]
  },
  {
   "cell_type": "code",
   "execution_count": 2,
   "id": "bc0d6d10",
   "metadata": {},
   "outputs": [
    {
     "name": "stdout",
     "output_type": "stream",
     "text": [
      "3.5\n"
     ]
    }
   ],
   "source": [
    "import numpy as np\n",
    "\n",
    "# create a 1D array with 6 elements\n",
    "array1 = np.array([1, 2, 3, 4, 5, 7])\n",
    "\n",
    "# calculate the median\n",
    "median = np.median(array1)\n",
    "print(median) \n"
   ]
  },
  {
   "cell_type": "markdown",
   "id": "46e0b4ed",
   "metadata": {},
   "source": [
    "### Median of NumPy 2-D Array"
   ]
  },
  {
   "cell_type": "markdown",
   "id": "7d8f2009",
   "metadata": {},
   "source": [
    "In a 2D array, median can be calculated either along the horizontal or the vertical axis individually, or across the entire array.\n",
    "\n",
    "When computing the median of a 2D array, we use the axis parameter inside np.median() to specify the axis along which to compute the median.\n",
    "\n",
    "If we specify,\n",
    "\n",
    "- axis = 0, median is calculated along vertical axis\n",
    "- axis = 1, median is calculated along horizontal axis\n",
    "\n",
    "If we don't use the axis paramter, the median is computed over the entire array."
   ]
  },
  {
   "cell_type": "code",
   "execution_count": 3,
   "id": "7a52a561",
   "metadata": {},
   "outputs": [
    {
     "name": "stdout",
     "output_type": "stream",
     "text": [
      "Median along horizontal axis : [ 4. 10. 16.]\n",
      "Median along vertical axis: [ 8. 10. 12.]\n",
      "Median of entire array: 10.0\n"
     ]
    }
   ],
   "source": [
    "import numpy as np\n",
    "\n",
    "# create a 2D array\n",
    "array1 = np.array([[2, 4, 6], \n",
    "                   [8, 10, 12], \n",
    "                   [14, 16, 18]])\n",
    "\n",
    "# compute median along horizontal axis \n",
    "result1 = np.median(array1, axis=1)\n",
    "\n",
    "print(\"Median along horizontal axis :\", result1)\n",
    "\n",
    "# compute median along vertical axis\n",
    "result2 = np.median(array1, axis=0)\n",
    "\n",
    "print(\"Median along vertical axis:\", result2)\n",
    "\n",
    "# compute median of entire array\n",
    "result3 = np.median(array1)\n",
    "\n",
    "print(\"Median of entire array:\", result3)"
   ]
  },
  {
   "cell_type": "markdown",
   "id": "b554495b",
   "metadata": {},
   "source": [
    "### Mean using NumPy"
   ]
  },
  {
   "cell_type": "markdown",
   "id": "80d030ab",
   "metadata": {},
   "source": [
    "The mean value of a NumPy array is the average value of all the elements in the array.\n",
    "\n",
    "It is calculated by adding all elements in the array and then dividing the result by the total number of elements in the array."
   ]
  },
  {
   "cell_type": "code",
   "execution_count": 4,
   "id": "fffd4b1c",
   "metadata": {},
   "outputs": [
    {
     "name": "stdout",
     "output_type": "stream",
     "text": [
      "77.2\n"
     ]
    }
   ],
   "source": [
    "import numpy as np\n",
    "\n",
    "# create a numpy array\n",
    "marks = np.array([76, 78, 81, 66, 85])\n",
    "\n",
    "# compute the mean of marks\n",
    "mean_marks = np.mean(marks)\n",
    "\n",
    "print(mean_marks)\n"
   ]
  },
  {
   "cell_type": "markdown",
   "id": "542f1e42",
   "metadata": {},
   "source": [
    "### Mean of NumPy N-d array"
   ]
  },
  {
   "cell_type": "code",
   "execution_count": 5,
   "id": "157548ec",
   "metadata": {},
   "outputs": [
    {
     "name": "stdout",
     "output_type": "stream",
     "text": [
      "Entire Array: 4.0\n",
      "Along Vertical Axis: [3. 5.]\n",
      "Along Horizontal Axis : [2. 6.]\n"
     ]
    }
   ],
   "source": [
    "import numpy as np\n",
    "\n",
    "# create a 2D array\n",
    "array1 = np.array([[1, 3], \n",
    "                 [5, 7]])\n",
    "\n",
    "# calculate the mean of the entire array\n",
    "result1 = np.mean(array1)\n",
    "print(\"Entire Array:\",result1) \n",
    "\n",
    "# calculate the mean along vertical axis (axis=0)\n",
    "result2 = np.mean(array1, axis=0)\n",
    "print(\"Along Vertical Axis:\",result2)\n",
    "\n",
    "# calculate the mean along  (axis=1)\n",
    "result3 = np.mean(array1, axis=1)\n",
    "print(\"Along Horizontal Axis :\",result3)  "
   ]
  },
  {
   "cell_type": "markdown",
   "id": "f55efedd",
   "metadata": {},
   "source": [
    "### Standard Deviation of NumPy Array"
   ]
  },
  {
   "cell_type": "markdown",
   "id": "2cec3a50",
   "metadata": {},
   "source": [
    "The standard deviation is a measure of the spread of the data in the array. It gives us the degree to which the data points in an array deviate from the mean."
   ]
  },
  {
   "cell_type": "markdown",
   "id": "43229c2a",
   "metadata": {},
   "source": [
    "- Smaller standard deviation indicates that the data points are closer to the mean\n",
    "- Larger standard deviation indicates that the data points are more spread out."
   ]
  },
  {
   "cell_type": "code",
   "execution_count": 7,
   "id": "5ff4935b",
   "metadata": {},
   "outputs": [
    {
     "name": "stdout",
     "output_type": "stream",
     "text": [
      "6.368673331236263\n"
     ]
    }
   ],
   "source": [
    "import numpy as np\n",
    "\n",
    "# create a numpy array\n",
    "marks = np.array([76, 78, 81, 66, 85])\n",
    "\n",
    "# compute the standard deviation of marks\n",
    "std_marks = np.std(marks)\n",
    "print(std_marks)"
   ]
  },
  {
   "cell_type": "markdown",
   "id": "0ff28d4a",
   "metadata": {},
   "source": [
    "### Standard Deviation of NumPy 2D array"
   ]
  },
  {
   "cell_type": "markdown",
   "id": "c544bf64",
   "metadata": {},
   "source": [
    "In a 2D array, standard deviation can be calculated either along the horizontal or the vertical axis individually, or across the entire array."
   ]
  },
  {
   "cell_type": "code",
   "execution_count": 8,
   "id": "cbbf476c",
   "metadata": {},
   "outputs": [
    {
     "name": "stdout",
     "output_type": "stream",
     "text": [
      "Standard deviation along horizontal axis: [2.86744176 3.29983165 1.24721913]\n",
      "Standard deviation  along vertical axis: [0.81649658 1.24721913 1.63299316]\n",
      "Standard deviation of entire array: 2.7666443551086073\n"
     ]
    }
   ],
   "source": [
    "import numpy as np\n",
    "\n",
    "# create a 2D array\n",
    "array1 = np.array([[2, 5, 9], \n",
    "                 [3, 8, 11], \n",
    "                 [4, 6, 7]])\n",
    "\n",
    "# compute standard deviation along horizontal axis\n",
    "result1 = np.std(array1, axis=1)\n",
    "print(\"Standard deviation along horizontal axis:\", result1)\n",
    "\n",
    "# compute standard deviation along vertical axis\n",
    "result2 = np.std(array1, axis=0)\n",
    "print(\"Standard deviation  along vertical axis:\", result2)\n",
    "\n",
    "# compute standard deviation of entire array\n",
    "result3 = np.std(array1)\n",
    "print(\"Standard deviation of entire array:\", result3)"
   ]
  },
  {
   "cell_type": "markdown",
   "id": "ed289584",
   "metadata": {},
   "source": [
    "### Compute percentile of NumPy Array"
   ]
  },
  {
   "cell_type": "code",
   "execution_count": 14,
   "id": "7617cfcc",
   "metadata": {},
   "outputs": [
    {
     "name": "stdout",
     "output_type": "stream",
     "text": [
      "25th percentile: 10.0\n",
      "75th percentile: 14.5\n"
     ]
    }
   ],
   "source": [
    "import numpy as np\n",
    "\n",
    "# create an array\n",
    "array1 = np.array([1, 3, 5, 7, 9, 11, 13, 15, 17, 19])\n",
    "\n",
    "# compute the 25th percentile of the array\n",
    "result1 = np.percentile(array1, 50)\n",
    "print(\"25th percentile:\",result1)\n",
    "\n",
    "# compute the 75th percentile of the array\n",
    "result2 = np.percentile(array1, 75)\n",
    "print(\"75th percentile:\",result2)"
   ]
  },
  {
   "cell_type": "markdown",
   "id": "5c232c08",
   "metadata": {},
   "source": [
    "### Find Minimum and Maximum value of NumPy Array"
   ]
  },
  {
   "cell_type": "code",
   "execution_count": 10,
   "id": "c4846384",
   "metadata": {},
   "outputs": [
    {
     "name": "stdout",
     "output_type": "stream",
     "text": [
      "Minimum value: 1\n",
      "Maximum value: 65\n"
     ]
    }
   ],
   "source": [
    "import numpy as np\n",
    "\n",
    "# create an array\n",
    "array1 = np.array([2,6,9,15,17,22,65,1,62])\n",
    "\n",
    "# find the minimum value of the array\n",
    "min_val = np.min(array1)\n",
    "\n",
    "# find the maximum value of the array\n",
    "max_val = np.max(array1)\n",
    "\n",
    "# print the results\n",
    "print(\"Minimum value:\", min_val)\n",
    "print(\"Maximum value:\", max_val)"
   ]
  },
  {
   "cell_type": "markdown",
   "id": "2999b2a9",
   "metadata": {},
   "source": [
    "## NumPy String Functions"
   ]
  },
  {
   "cell_type": "markdown",
   "id": "80425839",
   "metadata": {},
   "source": [
    "- add() - concatenates two strings\n",
    "- multiply() - repeats a string for a specified number of times\n",
    "- capitalize - capitalizes the first letter of a string\n",
    "- lower() - converts all uppercase characters in a string to lowercase\n",
    "- upper() - converts all lowercase characters to uppercase\n",
    "- join() - joins a sequence of strings"
   ]
  },
  {
   "cell_type": "markdown",
   "id": "faf663f0",
   "metadata": {},
   "source": [
    "### NumPy Add Function"
   ]
  },
  {
   "cell_type": "code",
   "execution_count": 12,
   "id": "0be1a7d0",
   "metadata": {},
   "outputs": [
    {
     "name": "stdout",
     "output_type": "stream",
     "text": [
      "['iPhone: 15' 'price: $900']\n"
     ]
    }
   ],
   "source": [
    "import numpy as np\n",
    "\n",
    "array1 = np.array(['iPhone: ', 'price: '])\n",
    "array2 = np.array(['15', '$900'])\n",
    "\n",
    "# perform element-wise array string concatenation\n",
    "result = np.char.add(array1, array2)\n",
    "\n",
    "print(result)"
   ]
  },
  {
   "cell_type": "markdown",
   "id": "b02b2318",
   "metadata": {},
   "source": [
    "### NumPy Multiply function"
   ]
  },
  {
   "cell_type": "code",
   "execution_count": 3,
   "id": "7c361781",
   "metadata": {},
   "outputs": [
    {
     "name": "stdout",
     "output_type": "stream",
     "text": [
      "['AAAAA' 'BBBBB' 'CCCCC']\n"
     ]
    }
   ],
   "source": [
    "import numpy as np  \n",
    "\n",
    "# define array with three string elements\n",
    "array1 = np.array(['A', 'B', 'C']) \n",
    "\n",
    "#  repeat each element in array1 two times \n",
    "result = np.char.multiply(array1, 5)  \n",
    "\n",
    "print(result)  \n"
   ]
  },
  {
   "cell_type": "markdown",
   "id": "06df4f7b",
   "metadata": {},
   "source": [
    "### Capitalize Function"
   ]
  },
  {
   "cell_type": "code",
   "execution_count": 16,
   "id": "2fc94a9a",
   "metadata": {},
   "outputs": [
    {
     "name": "stdout",
     "output_type": "stream",
     "text": [
      "['Eric' 'Paul' 'Sean']\n"
     ]
    }
   ],
   "source": [
    "import numpy as np  \n",
    "\n",
    "# define an array with three string elements\n",
    "array1 = np.array(['eric', 'paul', 'sean'])  \n",
    "\n",
    "# capitalize the first letter of each string in array1 \n",
    "result = np.char.capitalize(array1)  \n",
    "\n",
    "print(result) \n"
   ]
  },
  {
   "cell_type": "markdown",
   "id": "448a03b8",
   "metadata": {},
   "source": [
    "### NumPy String upper() and lower() function"
   ]
  },
  {
   "cell_type": "code",
   "execution_count": 17,
   "id": "fff3eed5",
   "metadata": {},
   "outputs": [
    {
     "name": "stdout",
     "output_type": "stream",
     "text": [
      "To Uppercase:  ['NEPALI' 'AMERICAN' 'CANADIAN']\n",
      "To Lowercase:  ['nepali' 'american' 'canadian']\n"
     ]
    }
   ],
   "source": [
    "import numpy as np\n",
    "\n",
    "array1 = np.array(['nEpalI', 'AmeriCAN', 'CaNadIan'])\n",
    "\n",
    "# convert all string elements to uppercase\n",
    "result1 = np.char.upper(array1)\n",
    "\n",
    "# convert all string elements to lowercase\n",
    "result2 = np.char.lower(array1)\n",
    "\n",
    "print(\"To Uppercase: \",result1)\n",
    "print(\"To Lowercase: \",result2)"
   ]
  },
  {
   "cell_type": "markdown",
   "id": "bc085d25",
   "metadata": {},
   "source": [
    "## NumPy String join() function"
   ]
  },
  {
   "cell_type": "code",
   "execution_count": 7,
   "id": "48ce27b7",
   "metadata": {},
   "outputs": [
    {
     "name": "stdout",
     "output_type": "stream",
     "text": [
      "['h*e*l*l*o' 'w*o*r*l*d']\n"
     ]
    }
   ],
   "source": [
    "import numpy as np\n",
    "\n",
    "# create an array of strings\n",
    "array1 = np.array(['hello', 'world'])\n",
    "\n",
    "# join the strings in the array using a dash as the delimiter\n",
    "result = np.char.join('*', array1)\n",
    "\n",
    "print(result)\n"
   ]
  },
  {
   "cell_type": "markdown",
   "id": "1a880775",
   "metadata": {},
   "source": [
    "## NumPy String equal()"
   ]
  },
  {
   "cell_type": "code",
   "execution_count": 8,
   "id": "2eb0317f",
   "metadata": {},
   "outputs": [
    {
     "name": "stdout",
     "output_type": "stream",
     "text": [
      "[False  True False]\n"
     ]
    }
   ],
   "source": [
    "import numpy as np\n",
    "\n",
    "# create two arrays of strings\n",
    "array1 = np.array(['C', 'Python', 'Swift'])\n",
    "array2 = np.array(['C++', 'Python', 'Java'])\n",
    "\n",
    "# check if each element of the arrays is equal\n",
    "result = np.char.equal(array1, array2)\n",
    "\n",
    "print(result)\n",
    "\n"
   ]
  },
  {
   "cell_type": "markdown",
   "id": "563ecde1",
   "metadata": {},
   "source": [
    "## NumPy Matrix Operations"
   ]
  },
  {
   "cell_type": "markdown",
   "id": "c29e7d0c",
   "metadata": {},
   "source": [
    "A Matrix is two dimensional data structure where numbers are arranged into rows and columns."
   ]
  },
  {
   "cell_type": "markdown",
   "id": "f5fc7fd8",
   "metadata": {},
   "source": [
    "- array() - creates a matrix\n",
    "- dot() - performs matrix multiplication\n",
    "- transpose() - transposes a matrix\n",
    "- linalg.inv() - calculates the inverse of a matrix\n",
    "- linalg.det() - calculates the determinant of a matrix\n",
    "- flatten() - transforms a matrix into 1-D array"
   ]
  },
  {
   "cell_type": "markdown",
   "id": "3f44f6a2",
   "metadata": {},
   "source": [
    "### Create Matrix in NumPy"
   ]
  },
  {
   "cell_type": "code",
   "execution_count": 1,
   "id": "6eec8e06",
   "metadata": {},
   "outputs": [
    {
     "name": "stdout",
     "output_type": "stream",
     "text": [
      "2x2 Matrix:\n",
      " [[1 3]\n",
      " [5 7]]\n",
      "\n",
      "3x3 Matrix:\n",
      " [[[ 2  3  5]\n",
      "  [ 7 14 21]\n",
      "  [ 1  3  5]]]\n"
     ]
    }
   ],
   "source": [
    "import numpy as np\n",
    "\n",
    "# create a 2x2 matrix\n",
    "matrix1 = np.array([[1, 3], \n",
    "                   [5, 7]])\n",
    "\n",
    "print(\"2x2 Matrix:\\n\",matrix1)\n",
    "\n",
    "# create a 3x3  matrix\n",
    "matrix2 = np.array([[[2, 3, 5],\n",
    "             \t    [7, 14, 21],\n",
    "                    [1, 3, 5]]])\n",
    "                    \n",
    "print(\"\\n3x3 Matrix:\\n\",matrix2)"
   ]
  },
  {
   "cell_type": "markdown",
   "id": "bbd2c9ef",
   "metadata": {},
   "source": [
    "### Perform Matrix Multiplication in NumPy"
   ]
  },
  {
   "cell_type": "code",
   "execution_count": 3,
   "id": "d88f597c",
   "metadata": {},
   "outputs": [
    {
     "name": "stdout",
     "output_type": "stream",
     "text": [
      "matrix1 x matrix2: \n",
      " [[14 30]\n",
      " [38 86]]\n"
     ]
    }
   ],
   "source": [
    "import numpy as np\n",
    "\n",
    "# create two matrices\n",
    "matrix1 = np.array([[1, 3], \n",
    "             \t\t[5, 7]])\n",
    "             \n",
    "matrix2 = np.array([[2, 6], \n",
    "                    [4, 8]])\n",
    "\n",
    "# calculate the dot product of the two matrices\n",
    "result = np.dot(matrix1, matrix2)\n",
    "\n",
    "print(\"matrix1 x matrix2: \\n\",result)"
   ]
  },
  {
   "cell_type": "markdown",
   "id": "b0e29510",
   "metadata": {},
   "source": [
    "### Transpose NumPy Matrix"
   ]
  },
  {
   "cell_type": "code",
   "execution_count": 4,
   "id": "293bed92",
   "metadata": {},
   "outputs": [
    {
     "name": "stdout",
     "output_type": "stream",
     "text": [
      "[[1 5]\n",
      " [3 7]]\n"
     ]
    }
   ],
   "source": [
    "import numpy as np\n",
    "\n",
    "# create a matrix\n",
    "matrix1 = np.array([[1, 3], \n",
    "             \t\t[5, 7]])\n",
    "\n",
    "# get transpose of matrix1\n",
    "result = np.transpose(matrix1)\n",
    "\n",
    "print(result)"
   ]
  },
  {
   "cell_type": "markdown",
   "id": "94081c88",
   "metadata": {},
   "source": [
    "### Calculate inverse of matrix in NumPy"
   ]
  },
  {
   "cell_type": "code",
   "execution_count": 5,
   "id": "bc64b403",
   "metadata": {},
   "outputs": [
    {
     "name": "stdout",
     "output_type": "stream",
     "text": [
      "[[-1.11111111 -0.11111111  0.72222222]\n",
      " [ 0.88888889  0.22222222 -0.61111111]\n",
      " [-0.11111111 -0.11111111  0.22222222]]\n"
     ]
    }
   ],
   "source": [
    "import numpy as np\n",
    "\n",
    "# create a 3x3 square matrix\n",
    "matrix1 = np.array([[1, 3, 5], \n",
    "             \t\t[7, 9, 2],\n",
    "                    [4, 6, 8]])\n",
    "\n",
    "# find inverse of matrix1\n",
    "result = np.linalg.inv(matrix1)\n",
    "\n",
    "print(result)"
   ]
  },
  {
   "cell_type": "markdown",
   "id": "aaa8e31d",
   "metadata": {},
   "source": [
    "### Find Determinant of a Matrix in NumPy"
   ]
  },
  {
   "cell_type": "code",
   "execution_count": 6,
   "id": "8764b72c",
   "metadata": {},
   "outputs": [
    {
     "name": "stdout",
     "output_type": "stream",
     "text": [
      "-4.999999999999999\n"
     ]
    }
   ],
   "source": [
    "import numpy as np\n",
    "\n",
    "# create a matrix\n",
    "matrix1 = np.array([[1, 2, 3], \n",
    "             \t\t[4, 5, 1],\n",
    "                    [2, 3, 4]])\n",
    "\n",
    "# find determinant of matrix1\n",
    "result = np.linalg.det(matrix1)\n",
    "\n",
    "print(result)"
   ]
  },
  {
   "cell_type": "markdown",
   "id": "ad61367d",
   "metadata": {},
   "source": [
    "### Flatten Matrix in NumPy"
   ]
  },
  {
   "cell_type": "code",
   "execution_count": 7,
   "id": "e8aaee56",
   "metadata": {},
   "outputs": [
    {
     "name": "stdout",
     "output_type": "stream",
     "text": [
      "Flattened 2x3 matrix: [1 2 3 4 5 7]\n"
     ]
    }
   ],
   "source": [
    "import numpy as np\n",
    "\n",
    "# create a 2x3 matrix\n",
    "matrix1 = np.array([[1, 2, 3], \n",
    "             \t\t[4, 5, 7]])\n",
    "\n",
    "result = matrix1.flatten()\n",
    "print(\"Flattened 2x3 matrix:\", result)"
   ]
  },
  {
   "cell_type": "markdown",
   "id": "8e4562b6",
   "metadata": {},
   "source": [
    "## NumPy Set operations"
   ]
  },
  {
   "cell_type": "markdown",
   "id": "691847b3",
   "metadata": {},
   "source": [
    "- A set is a collection of unique data. That is, elements of a set cannot be repeated.\n",
    "- NumPy set operations perform mathematical set operations on arrays like union, intersection, difference, and symmetric difference."
   ]
  },
  {
   "cell_type": "markdown",
   "id": "40253aaf",
   "metadata": {},
   "source": [
    "### Set Union Operations "
   ]
  },
  {
   "cell_type": "code",
   "execution_count": 8,
   "id": "03cbe8a2",
   "metadata": {},
   "outputs": [
    {
     "name": "stdout",
     "output_type": "stream",
     "text": [
      "[0 1 2 3 5]\n"
     ]
    }
   ],
   "source": [
    "import numpy as np\n",
    "\n",
    "A = np.array([1, 3, 5])\n",
    "B = np.array([0, 2, 3])\n",
    "\n",
    "# union of two arrays\n",
    "result = np.union1d(A, B)\n",
    "\n",
    "print(result)  \n"
   ]
  },
  {
   "cell_type": "markdown",
   "id": "2c2180b9",
   "metadata": {},
   "source": [
    "### Set Intersection Operation"
   ]
  },
  {
   "cell_type": "code",
   "execution_count": 2,
   "id": "9ebbd723",
   "metadata": {},
   "outputs": [
    {
     "name": "stdout",
     "output_type": "stream",
     "text": [
      "[3 6]\n"
     ]
    }
   ],
   "source": [
    "import numpy as np\n",
    "\n",
    "A = np.array([1, 3, 5,6])\n",
    "B = np.array([0, 2, 3,6])\n",
    "\n",
    "# intersection of two arrays\n",
    "result = np.intersect1d(A, B)\n",
    "\n",
    "print(result)  \n"
   ]
  },
  {
   "cell_type": "markdown",
   "id": "59acc67a",
   "metadata": {},
   "source": [
    "### Set Difference operation"
   ]
  },
  {
   "cell_type": "markdown",
   "id": "9f922525",
   "metadata": {},
   "source": [
    "The difference between two sets A and B include elements of set A that are not present on set B."
   ]
  },
  {
   "cell_type": "markdown",
   "id": "3c18c180",
   "metadata": {},
   "source": [
    "np.setdiff1d(A,B) is equivalent to A - B set operation."
   ]
  },
  {
   "cell_type": "code",
   "execution_count": 3,
   "id": "c9a4f580",
   "metadata": {},
   "outputs": [
    {
     "name": "stdout",
     "output_type": "stream",
     "text": [
      "[0 2]\n"
     ]
    }
   ],
   "source": [
    "import numpy as np\n",
    "\n",
    "A = np.array([1, 3, 5])\n",
    "B = np.array([0, 2, 3])\n",
    "\n",
    "# difference of two arrays\n",
    "result = np.setdiff1d(B,A)\n",
    "\n",
    "print(result)  "
   ]
  },
  {
   "cell_type": "code",
   "execution_count": 11,
   "id": "fa9b41bf",
   "metadata": {},
   "outputs": [
    {
     "name": "stdout",
     "output_type": "stream",
     "text": [
      "[0 2]\n"
     ]
    }
   ],
   "source": [
    "import numpy as np\n",
    "\n",
    "A = np.array([1, 3, 5])\n",
    "B = np.array([0, 2, 3])\n",
    "\n",
    "# difference of two arrays\n",
    "result = np.setdiff1d(B,A)\n",
    "\n",
    "print(result) "
   ]
  },
  {
   "cell_type": "markdown",
   "id": "5024fa8f",
   "metadata": {},
   "source": [
    "### Set Symmetric Difference operation"
   ]
  },
  {
   "cell_type": "markdown",
   "id": "9bcf401a",
   "metadata": {},
   "source": [
    "The symmetric difference between two sets A and B includes all elements of A and B without the common elements."
   ]
  },
  {
   "cell_type": "code",
   "execution_count": 12,
   "id": "f45bde47",
   "metadata": {},
   "outputs": [
    {
     "name": "stdout",
     "output_type": "stream",
     "text": [
      "[0 1 2 5]\n"
     ]
    }
   ],
   "source": [
    "import numpy as np\n",
    "\n",
    "A = np.array([1, 3, 5])\n",
    "B = np.array([0, 2, 3])\n",
    "\n",
    "# symmetric difference of two arrays\n",
    "result = np.setxor1d(A, B)\n",
    "\n",
    "print(result)  \n"
   ]
  },
  {
   "cell_type": "markdown",
   "id": "f6ad840a",
   "metadata": {},
   "source": [
    "### unique values from a NumPy Array"
   ]
  },
  {
   "cell_type": "markdown",
   "id": "8c0d633a",
   "metadata": {},
   "source": [
    "To select the unique elements from a NumPy array, we use the np.unique() function. It returns the sorted unique elements of an array. It can also be used to create a set out of an array."
   ]
  },
  {
   "cell_type": "code",
   "execution_count": 13,
   "id": "900dad4e",
   "metadata": {},
   "outputs": [
    {
     "name": "stdout",
     "output_type": "stream",
     "text": [
      "[1 2 3 4 5 7]\n"
     ]
    }
   ],
   "source": [
    "import numpy as np\n",
    "\n",
    "array1 = np.array([1,1, 2, 2, 4, 7, 7, 3, 5, 2, 5])\n",
    "\n",
    "# unique values from array1\n",
    "result = np.unique(array1)\n",
    "\n",
    "print(result)  \n"
   ]
  },
  {
   "cell_type": "markdown",
   "id": "512765de",
   "metadata": {},
   "source": [
    "### NumPy Vectorization"
   ]
  },
  {
   "cell_type": "markdown",
   "id": "8f19e843",
   "metadata": {},
   "source": [
    "NumPy vectorization involves performing mathematical operations on entire arrays, eliminating the need to loop through individual elements."
   ]
  },
  {
   "cell_type": "code",
   "execution_count": 10,
   "id": "74f7383c",
   "metadata": {},
   "outputs": [
    {
     "name": "stdout",
     "output_type": "stream",
     "text": [
      "[11 12 13 14 15]\n"
     ]
    }
   ],
   "source": [
    "import numpy as np\n",
    "\n",
    "array1 = np.array([1, 2, 3, 4, 5 ])\n",
    "number = 10\n",
    "\n",
    "result = array1 + number\n",
    "\n",
    "print(result)"
   ]
  },
  {
   "cell_type": "code",
   "execution_count": 11,
   "id": "54e9e2ef",
   "metadata": {},
   "outputs": [
    {
     "name": "stdout",
     "output_type": "stream",
     "text": [
      "[11 12 13 14 15]\n"
     ]
    }
   ],
   "source": [
    "import numpy as np\n",
    "\n",
    "array1 = np.array([1, 2, 3, 4, 5])\n",
    "number = 10\n",
    "\n",
    "# Initialize an empty array with the same shape as array1\n",
    "a = np.empty_like(array1)\n",
    "\n",
    "# Use a for loop to add number to each element in array1\n",
    "for idx, value in enumerate(array1):\n",
    "    a[idx] = value + number\n",
    "\n",
    "print(a)\n"
   ]
  },
  {
   "cell_type": "markdown",
   "id": "e4984d6c",
   "metadata": {},
   "source": [
    "### NumPy Vectorization to Add two Arrays together"
   ]
  },
  {
   "cell_type": "code",
   "execution_count": 23,
   "id": "03c50348",
   "metadata": {},
   "outputs": [
    {
     "name": "stdout",
     "output_type": "stream",
     "text": [
      "Sum between two arrays:\n",
      " [[1 3 5]\n",
      " [4 6 8]]\n"
     ]
    }
   ],
   "source": [
    "import numpy as np\n",
    "\n",
    "# define two 2D arrays\n",
    "array1 = np.array([[1, 2, 3], [4, 5, 6]])\n",
    "array2 = np.array([[0, 1, 2], [0, 1, 2]])\n",
    "\n",
    "array_sum = array1 + array2\n",
    "\n",
    "print(\"Sum between two arrays:\\n\", array_sum)"
   ]
  },
  {
   "cell_type": "markdown",
   "id": "ca73cba6",
   "metadata": {},
   "source": [
    "Even though NumPy is a Python library, it inherited vectorization from C programming. As C is efficient in terms of speed and memory, NumPy vectorization is also much faster than Python"
   ]
  },
  {
   "cell_type": "markdown",
   "id": "0fe59b18",
   "metadata": {},
   "source": [
    "## NumPy Linear Algebra"
   ]
  },
  {
   "cell_type": "markdown",
   "id": "9beebc33",
   "metadata": {},
   "source": [
    "Linear algebra deals with mathematical concepts related to linear equations and their representations using matrices."
   ]
  },
  {
   "cell_type": "markdown",
   "id": "6ed811fd",
   "metadata": {},
   "source": [
    "- inner() - calculates inner product of arrays\n",
    "- outer() - calculates outer product of arrays\n",
    "- linalg.det() - calculates determinant of a matrix\n",
    "- linalg.solve() - solves linear matrix equation\n",
    "- linalg.inv() - calculates the multiplicative inverse of the matrix\n",
    "- trace() - calculates the sum of diagonal elements"
   ]
  },
  {
   "cell_type": "markdown",
   "id": "685ffbbb",
   "metadata": {},
   "source": [
    "### NumPy Inner() function"
   ]
  },
  {
   "cell_type": "markdown",
   "id": "9dd0edec",
   "metadata": {},
   "source": [
    "the inner() function computes the inner product of two arrays, which is the sum of the products of their corresponding entries."
   ]
  },
  {
   "cell_type": "code",
   "execution_count": 26,
   "id": "2d410d7b",
   "metadata": {},
   "outputs": [
    {
     "name": "stdout",
     "output_type": "stream",
     "text": [
      "[[14 30]\n",
      " [38 86]]\n"
     ]
    }
   ],
   "source": [
    "import numpy as np\n",
    "\n",
    "array1 = np.array([[1, 3], \n",
    "                   [5, 7]])\n",
    "array2 = np.array([[2, 4], \n",
    "                   [6, 8]])\n",
    "\n",
    "# inner() for 2D arrays\n",
    "result = np.inner(array1, array2)\n",
    "\n",
    "print(result)"
   ]
  },
  {
   "cell_type": "markdown",
   "id": "b5b06ebc",
   "metadata": {},
   "source": [
    "For 1D arrays, inner() is equivalent to dot()."
   ]
  },
  {
   "cell_type": "markdown",
   "id": "11ae7202",
   "metadata": {},
   "source": [
    "Here, the inner product is calculated as:"
   ]
  },
  {
   "cell_type": "code",
   "execution_count": null,
   "id": "8c42f1dc",
   "metadata": {},
   "outputs": [],
   "source": [
    "1*2+3*4        1*6+3*8\n",
    "5*2+7*4        5*6+7*8"
   ]
  },
  {
   "cell_type": "markdown",
   "id": "84a1582e",
   "metadata": {},
   "source": [
    "### NumPy outer () function"
   ]
  },
  {
   "cell_type": "markdown",
   "id": "851dcce5",
   "metadata": {},
   "source": [
    "The outer() function in NumPy computes the outer product of two arrays, which is the product of all possible pairs of their entries"
   ]
  },
  {
   "cell_type": "code",
   "execution_count": 27,
   "id": "fa3945c9",
   "metadata": {},
   "outputs": [
    {
     "name": "stdout",
     "output_type": "stream",
     "text": [
      "[[ 2  4  6]\n",
      " [ 6 12 18]\n",
      " [10 20 30]]\n"
     ]
    }
   ],
   "source": [
    "import numpy as np\n",
    "\n",
    "array1 = np.array([1, 3, 5])\n",
    "array2 = np.array([2, 4, 6])\n",
    "\n",
    "# outer() to perform outer multiplication\n",
    "result = np.outer(array1, array2)\n",
    "\n",
    "print(result)"
   ]
  },
  {
   "cell_type": "markdown",
   "id": "7a243c67",
   "metadata": {},
   "source": [
    "1*2      1*4       1*6        \n",
    "3*2      3*4       3*6\n",
    "5*2      5*4       5*6"
   ]
  },
  {
   "cell_type": "markdown",
   "id": "689df51a",
   "metadata": {},
   "source": [
    "### NumPy det() function"
   ]
  },
  {
   "cell_type": "markdown",
   "id": "c97445de",
   "metadata": {},
   "source": [
    "In NumPy, we use the det() function from the NumPy linalg module to calculate the determinant of a square matrix."
   ]
  },
  {
   "cell_type": "code",
   "execution_count": 28,
   "id": "9482ccd6",
   "metadata": {},
   "outputs": [
    {
     "name": "stdout",
     "output_type": "stream",
     "text": [
      "-7.999999999999998\n"
     ]
    }
   ],
   "source": [
    "import numpy as np\n",
    "\n",
    "# define a square matrix\n",
    "array1 = np.array([[1, 3], \n",
    "                  [5, 7]])\n",
    "\n",
    "# compute the determinant of array1\n",
    "result = np.linalg.det(array1)\n",
    "\n",
    "\n",
    "print(result)\n"
   ]
  },
  {
   "cell_type": "markdown",
   "id": "25556cc9",
   "metadata": {},
   "source": [
    "### NumPy solve() function"
   ]
  },
  {
   "cell_type": "markdown",
   "id": "c6760b3b",
   "metadata": {},
   "source": [
    "-In NumPy, we use the solve() function to solve a system of linear equations.\n",
    "\n",
    "-For a given matrix A and a vector b, solve(A, b) finds the solution vector x that satisfies the equation Ax = b."
   ]
  },
  {
   "cell_type": "code",
   "execution_count": 22,
   "id": "801ade13",
   "metadata": {},
   "outputs": [
    {
     "name": "stdout",
     "output_type": "stream",
     "text": [
      "[-2.    2.25]\n"
     ]
    }
   ],
   "source": [
    "import numpy as np\n",
    "\n",
    "# define the coefficient matrix A\n",
    "A = np.array([[2, 4], \n",
    "             [6, 8]])\n",
    "\n",
    "# define the constant vector b\n",
    "b = np.array([5, 6])\n",
    "\n",
    "# solve the system of linear equations Ax = b\n",
    "x = np.linalg.solve(A, b)\n",
    "\n",
    "print(x)"
   ]
  },
  {
   "cell_type": "markdown",
   "id": "30286485",
   "metadata": {},
   "source": [
    "Here, the output is [-2. 2.25], which is the solution to the system of linear equations 2x + 4y = 5 and 6x + 8y = 6."
   ]
  },
  {
   "cell_type": "markdown",
   "id": "9c286aea",
   "metadata": {},
   "source": [
    "### NumPy trace() function"
   ]
  },
  {
   "cell_type": "markdown",
   "id": "11add44e",
   "metadata": {},
   "source": [
    "we use the trace() function to compute the sum of the diagonal elements of a matrix."
   ]
  },
  {
   "cell_type": "code",
   "execution_count": 23,
   "id": "56bb8235",
   "metadata": {},
   "outputs": [
    {
     "name": "stdout",
     "output_type": "stream",
     "text": [
      "14\n"
     ]
    }
   ],
   "source": [
    "import numpy as np\n",
    "\n",
    "# define a 3x3 matrix\n",
    "array1 = np.array([[6, 3, 5], \n",
    "                   [9, 4, 1], \n",
    "                   [7, 8, 4]])\n",
    "\n",
    "# compute the trace of the matrix\n",
    "result = np.trace(array1)\n",
    "\n",
    "print(result)"
   ]
  },
  {
   "cell_type": "markdown",
   "id": "ff7d1948",
   "metadata": {},
   "source": [
    "## NumPy Histogram"
   ]
  },
  {
   "cell_type": "markdown",
   "id": "b186e8e9",
   "metadata": {},
   "source": [
    "NumPy histograms is a graphical representation of the distribution of numerical data. Using functions like histogram() and plt(), we can create and plot histograms."
   ]
  },
  {
   "cell_type": "code",
   "execution_count": 24,
   "id": "ff905313",
   "metadata": {},
   "outputs": [
    {
     "name": "stdout",
     "output_type": "stream",
     "text": [
      "(array([1, 3, 1, 0], dtype=int64), array([ 0, 10, 20, 30, 40]))\n"
     ]
    }
   ],
   "source": [
    "import numpy as np\n",
    "\n",
    "# create an array of data\n",
    "data = np.array([5, 10, 15, 18, 20])\n",
    "\n",
    "# create bin to set the interval\n",
    "bin = [0,10,20,30,40]\n",
    "\n",
    "# create histogram\n",
    "graph = np.histogram(data, bin)\n",
    "\n",
    "print(graph)"
   ]
  },
  {
   "cell_type": "markdown",
   "id": "858459f6",
   "metadata": {},
   "source": [
    "From the resulting output, we can see that:\n",
    "\n",
    "- Only 1 data point (i.e., 5) from the array data lies between the bin edges 0 and 10\n",
    "- 3 data points (i.e., 10, 15, 18) lie between 10 and 20, and\n",
    "- 1 data point (i.e., 20) lies between 20 and 30."
   ]
  },
  {
   "cell_type": "code",
   "execution_count": 32,
   "id": "7d76683a",
   "metadata": {},
   "outputs": [
    {
     "name": "stdout",
     "output_type": "stream",
     "text": [
      "(array([7, 4], dtype=int64), array([ 0,  5, 10]))\n"
     ]
    }
   ],
   "source": [
    "import numpy as np\n",
    "\n",
    "# create an array of data\n",
    "data = np.array([1, 2, 3, 4, 5, 6, 7, 8, 1, 2, 3])\n",
    "\n",
    "# create bin to set the interval\n",
    "bin = [0, 5, 10]\n",
    "\n",
    "# create histogram\n",
    "graph = np.histogram(data, bin)\n",
    "\n",
    "print(graph)"
   ]
  },
  {
   "cell_type": "markdown",
   "id": "2560fc67",
   "metadata": {},
   "source": [
    "The purpose of using bins is to segment the data into intervals to understand its distribution better. By grouping data points into bins, you can:\n",
    "\n",
    "- Identify patterns and trends in the data.\n",
    "- Visualize the frequency of data points within specified ranges.\n",
    "- Compare different segments of the data.\n",
    "\n",
    "In this example, the bins [0, 5, 10] help you see how many data points fall into the ranges 0 to 4 and 5 to 9, which can be useful for understanding the distribution of the data."
   ]
  },
  {
   "cell_type": "markdown",
   "id": "65676865",
   "metadata": {},
   "source": [
    "### Plot the Histogram"
   ]
  },
  {
   "cell_type": "markdown",
   "id": "f66833a5",
   "metadata": {},
   "source": [
    "We can use the plt() function to plot the numerical value returned by the histogram.\n",
    "\n",
    "The plt() is a function provided by Matplotlib. To use plt(), we need to import the Matplotlib."
   ]
  },
  {
   "cell_type": "code",
   "execution_count": 32,
   "id": "f2a48945",
   "metadata": {},
   "outputs": [
    {
     "name": "stdout",
     "output_type": "stream",
     "text": [
      "(array([2, 3, 1], dtype=int64), array([ 0, 10, 20, 30]))\n"
     ]
    },
    {
     "data": {
      "image/png": "[encoded data removed]",
      "text/plain": [
       "<Figure size 640x480 with 1 Axes>"
      ]
     },
     "metadata": {},
     "output_type": "display_data"
    }
   ],
   "source": [
    "import numpy as np\n",
    "from matplotlib import pyplot as plt\n",
    "\n",
    "# create an array of data\n",
    "data = np.array([5, 6 ,10, 15, 18, 20])\n",
    "\n",
    "# create bin to set the interval\n",
    "bins = [0,10,20,30]\n",
    "\n",
    "# create histogram\n",
    "graph = np.histogram(data, bins)\n",
    "print(graph)\n",
    "\n",
    "# plot histogram \n",
    "plt.hist(data, bins)\n",
    "\n",
    "plt.show()"
   ]
  },
  {
   "cell_type": "markdown",
   "id": "6aa0d2fb",
   "metadata": {},
   "source": [
    "The pyplot library, which is part of Matplotlib, is a popular Python library used for creating static, interactive, and animated visualizations."
   ]
  },
  {
   "cell_type": "markdown",
   "id": "99639e3a",
   "metadata": {},
   "source": [
    "### NumPy Interpolation"
   ]
  },
  {
   "cell_type": "markdown",
   "id": "898f4c6f",
   "metadata": {},
   "source": [
    "In NumPy, interpolation estimates the value of a function at points where the value is not known.\n",
    "\n",
    "Let's suppose we have two arrays: day representing the day of the week and gold_price representing the price of gold per gram."
   ]
  },
  {
   "cell_type": "markdown",
   "id": "c669113e",
   "metadata": {},
   "source": [
    "With the given data set, we can say the price of the gold on day 2 is 55. But we do not know the price of gold on day 3.\n",
    "\n",
    "In such a case, we use interpolation to estimate the price of the gold at any day within the data points."
   ]
  },
  {
   "cell_type": "markdown",
   "id": "f48dd232",
   "metadata": {},
   "source": [
    "NumPy provides an interp() function to work with interpolation."
   ]
  },
  {
   "cell_type": "code",
   "execution_count": 30,
   "id": "e120705e",
   "metadata": {},
   "outputs": [
    {
     "name": "stdout",
     "output_type": "stream",
     "text": [
      "The value of gold on day 3 is 56.5\n"
     ]
    }
   ],
   "source": [
    "import numpy as np\n",
    "\n",
    "day = np.array([2, 4, 7])\n",
    "gold_price = np.array([55, 58, 65])\n",
    "\n",
    "# find the value of gold on day 3\n",
    "day3_value = np.interp(3, day, gold_price)\n",
    "\n",
    "print(\"The value of gold on day 3 is\", day3_value)"
   ]
  },
  {
   "cell_type": "markdown",
   "id": "185056f9",
   "metadata": {},
   "source": [
    "Here, we used the interp() function to find the value of gold on day 3.\n",
    "\n",
    "We have sent 3 arguments to the interp() function:\n",
    "\n",
    "- 3: coordinate whose value needs to be interpolated\n",
    "- day: x-ordinate of the data points that represent days of the week\n",
    "- gold_price: y-coordinates of the data points that represent the gold price"
   ]
  },
  {
   "cell_type": "code",
   "execution_count": 35,
   "id": "f1eb1548",
   "metadata": {},
   "outputs": [
    {
     "name": "stdout",
     "output_type": "stream",
     "text": [
      "[55.         56.5        60.33333333 62.66666667 66.66666667 68.33333333]\n"
     ]
    }
   ],
   "source": [
    "import numpy as np\n",
    "\n",
    "day = np.array([2, 4, 7, 10])\n",
    "gold_price = np.array([55, 58, 65, 70])\n",
    "\n",
    "# days whose value is to be interpolated\n",
    "interpolate_days = np.array([1, 3, 5, 6, 8, 9])\n",
    "\n",
    "interpolated_price= np.interp(interpolate_days, day, gold_price)\n",
    "\n",
    "print(interpolated_price)"
   ]
  },
  {
   "cell_type": "markdown",
   "id": "8ab29b60",
   "metadata": {},
   "source": [
    "### Graph the Interpolated values"
   ]
  },
  {
   "cell_type": "markdown",
   "id": "fc44fd66",
   "metadata": {},
   "source": [
    "To plot the graph, we need to import the pyplot from the matplotlib module."
   ]
  },
  {
   "cell_type": "code",
   "execution_count": 43,
   "id": "07dfce33",
   "metadata": {},
   "outputs": [
    {
     "data": {
      "image/png": "[encoded data removed]",
      "text/plain": [
       "<Figure size 640x480 with 1 Axes>"
      ]
     },
     "metadata": {},
     "output_type": "display_data"
    }
   ],
   "source": [
    "import numpy as np\n",
    "import matplotlib.pyplot as plt\n",
    "\n",
    "# arrays with random data points\n",
    "x = np.array([0, 1, 2, 3, 4, 5])\n",
    "y = np.array([0, 3, 4, 5, 7, 8]) \n",
    "\n",
    "# generate evenly spaced values between the minimum and maximum x values\n",
    "x_interp = np.linspace(x.min(), x.max(), 100)\n",
    "\n",
    "# interp() to interpolate y values\n",
    "y_interp = np.interp(x_interp, x, y)\n",
    "\n",
    "# plot the original data points and the interpolated values\n",
    "plt.plot(x, y,'bo')\n",
    "plt.plot(x_interp, y_interp,'r-')\n",
    "\n",
    "plt.show()"
   ]
  },
  {
   "cell_type": "markdown",
   "id": "6ab3fed7",
   "metadata": {},
   "source": [
    "In this example, we have plotted the graph of the interpolated values in y_interp.\n",
    "\n",
    "First, we generated 100 evenly spaced values between the minimum and maximum of x using the linspace() function.\n",
    "\n",
    "Then we used the interp() function to interpolate the y values and plotted the interpolated values using plot() function."
   ]
  },
  {
   "cell_type": "markdown",
   "id": "868160e2",
   "metadata": {},
   "source": [
    "## NumPy Data Visualization"
   ]
  },
  {
   "cell_type": "markdown",
   "id": "8f1ce44d",
   "metadata": {},
   "source": [
    "NumPy provides several techniques for data visualization like line plots, scatter plots, bar graphs, and histograms.\n",
    "\n",
    "Data visualization allows us to have a visual representation of large amounts of data quickly and efficiently."
   ]
  },
  {
   "cell_type": "markdown",
   "id": "78fecf0e",
   "metadata": {},
   "source": [
    "### Line Plot for Data Visualization"
   ]
  },
  {
   "cell_type": "markdown",
   "id": "49b0af39",
   "metadata": {},
   "source": [
    "In Numpy, line plot displays data as a series of points connected by a line."
   ]
  },
  {
   "cell_type": "code",
   "execution_count": 47,
   "id": "7d177a4b",
   "metadata": {},
   "outputs": [
    {
     "data": {
      "image/png": "[encoded data removed]",
      "text/plain": [
       "<Figure size 640x480 with 1 Axes>"
      ]
     },
     "metadata": {},
     "output_type": "display_data"
    }
   ],
   "source": [
    "import numpy as np\n",
    "import matplotlib.pyplot as plt\n",
    "\n",
    "car = np.array([\"Caterham\", \"Tesla\", \"Audi\",  \"BMW\", \"Ford\", \"Jeep\"])\n",
    "weight = np.array([0.48, 1.7, 2, 2, 2.3, 3 ])\n",
    "\n",
    "plt.plot(car, weight,c='red')\n",
    "plt.show()"
   ]
  },
  {
   "cell_type": "markdown",
   "id": "bd3eda33",
   "metadata": {},
   "source": [
    "### Scatter Plots For Data Visualization"
   ]
  },
  {
   "cell_type": "markdown",
   "id": "9ab676ee",
   "metadata": {},
   "source": [
    "Scatter Plot displays data as a collection of points. It has a scatter() function to plot the data points."
   ]
  },
  {
   "cell_type": "code",
   "execution_count": 56,
   "id": "3ae0eb0a",
   "metadata": {},
   "outputs": [
    {
     "data": {
      "image/png": "[encoded data removed]",
      "text/plain": [
       "<Figure size 640x480 with 1 Axes>"
      ]
     },
     "metadata": {},
     "output_type": "display_data"
    }
   ],
   "source": [
    "import numpy as np\n",
    "import matplotlib.pyplot as plt\n",
    "\n",
    "car = np.array([\"Caterham\", \"Tesla\", \"Audi\",  \"BMW\", \"Ford\", \"Jeep\"])\n",
    "weight = np.array([0.48, 1.7, 2, 2, 2.3, 3 ])\n",
    "\n",
    "plt.scatter(car, weight,c='green',s=10)\n",
    "plt.show()"
   ]
  },
  {
   "cell_type": "markdown",
   "id": "1782a96b",
   "metadata": {},
   "source": [
    "However, in a scatter plot, we can also send c and s arguments to set the color and sizes of the points."
   ]
  },
  {
   "cell_type": "code",
   "execution_count": 39,
   "id": "acd76d62",
   "metadata": {},
   "outputs": [
    {
     "data": {
      "image/png": "[encoded data removed]",
      "text/plain": [
       "<Figure size 640x480 with 1 Axes>"
      ]
     },
     "metadata": {},
     "output_type": "display_data"
    }
   ],
   "source": [
    "import numpy as np\n",
    "import matplotlib.pyplot as plt\n",
    "\n",
    "car = np.array([\"Caterham\", \"Tesla\", \"Audi\",  \"BMW\", \"Ford\", \"Jeep\"])\n",
    "weight = np.array([0.48, 1.7, 2, 2, 2.3, 3 ])\n",
    "\n",
    "# set colors and sizes\n",
    "colors = np.array([0, 1, 2, 3, 4, 5])\n",
    "sizes = np.array([20, 40, 60, 80, 100, 120])\n",
    "\n",
    "plt.scatter(car, weight, c=colors, s=sizes)\n",
    "plt.show()"
   ]
  },
  {
   "cell_type": "markdown",
   "id": "ff821a63",
   "metadata": {},
   "source": [
    "### Bar Grpah for Data Visualization"
   ]
  },
  {
   "cell_type": "markdown",
   "id": "51ad5bd3",
   "metadata": {},
   "source": [
    "Bar Graphs represent data using rectangular boxes. Numpy has a bar() function to plot data in a bar graph."
   ]
  },
  {
   "cell_type": "code",
   "execution_count": 53,
   "id": "ed837f2f",
   "metadata": {},
   "outputs": [
    {
     "data": {
      "image/png": "[encoded data removed]",
      "text/plain": [
       "<Figure size 640x480 with 1 Axes>"
      ]
     },
     "metadata": {},
     "output_type": "display_data"
    }
   ],
   "source": [
    "import matplotlib.pyplot as plt\n",
    "import numpy as np\n",
    "\n",
    "car = np.array([\"Caterham\", \"Tesla\", \"Audi\",  \"BMW\", \"Ford\", \"Jeep\"])\n",
    "weight = np.array([0.48, 1.7, 2, 2, 2.3, 3 ])\n",
    "\n",
    "# create a bar graph\n",
    "plt.bar(car, weight)\n",
    "\n",
    "plt.title('Bar Graph')\n",
    "\n",
    "plt.show()"
   ]
  },
  {
   "cell_type": "markdown",
   "id": "19176ca3",
   "metadata": {},
   "source": [
    "### Histograms For Data Visualization"
   ]
  },
  {
   "cell_type": "markdown",
   "id": "911340a0",
   "metadata": {},
   "source": [
    "We use hist() to create histograms in NumPy."
   ]
  },
  {
   "cell_type": "code",
   "execution_count": 48,
   "id": "f9e0b8a7",
   "metadata": {},
   "outputs": [
    {
     "data": {
      "image/png": "[encoded data removed]",
      "text/plain": [
       "<Figure size 640x480 with 1 Axes>"
      ]
     },
     "metadata": {},
     "output_type": "display_data"
    }
   ],
   "source": [
    "import numpy as np\n",
    "import matplotlib.pyplot as plt\n",
    "\n",
    "weight = np.array([0.48, 1.7, 2, 3])\n",
    "\n",
    "plt.hist(weight,color='red')\n",
    "plt.show()"
   ]
  },
  {
   "cell_type": "markdown",
   "id": "4e90806d",
   "metadata": {},
   "source": [
    "## Introduction to Pandas"
   ]
  },
  {
   "cell_type": "markdown",
   "id": "643321a5",
   "metadata": {},
   "source": [
    "- Pandas is a python library used for data manipulation and analysis. Pandas provides a convenient way to analyze and clean data.\n",
    "- The Pandas library introduces two new data structures to python - series and dataframe, both of which are built on top of NumPy."
   ]
  },
  {
   "cell_type": "markdown",
   "id": "98d76f0b",
   "metadata": {},
   "source": [
    "### What is Pandas used for?"
   ]
  },
  {
   "cell_type": "markdown",
   "id": "05be2bad",
   "metadata": {},
   "source": [
    "Pandas is generally used for :\n",
    "- Data Cleaning\n",
    "- Data Transformation\n",
    "- Data Analysis\n",
    "- Machine Learning\n",
    "- Data visualization\n"
   ]
  },
  {
   "cell_type": "markdown",
   "id": "79c9e574",
   "metadata": {},
   "source": [
    "### Why we use Pandas"
   ]
  },
  {
   "cell_type": "markdown",
   "id": "7a1b873e",
   "metadata": {},
   "source": [
    "Some of the reasons why we should use pandas are as follows:\n",
    "1. Handle Large Data Efficiently\n",
    "- Pandas is designed for handling large datasets. It provides powerful tools that simplify tasks like data filtering, transforming, and merging.\n",
    "\n",
    "- It also provides built-in functions to work with formats like CSV, JSON, TXT, Excel, and SQL databases."
   ]
  },
  {
   "cell_type": "markdown",
   "id": "857eeb2b",
   "metadata": {},
   "source": [
    "2. Tabular Data Representation\n",
    "- Pandas DataFrames, the primary data structure of Pandas, handle data in tabular format.This allows easy indexing, selecting,replacing and slicing of data."
   ]
  },
  {
   "cell_type": "markdown",
   "id": "13cd0b5d",
   "metadata": {},
   "source": [
    "3. Data cleaning and preprocessing\n",
    "- Data cleaning and preprocessing are essential steps in the data analysis pipeline, and Pandas provides powerful tools to facilitate these tasks. It has methods for handling missing values, removing duplicates, handling outliers, data normalization, etc."
   ]
  },
  {
   "cell_type": "markdown",
   "id": "615334f1",
   "metadata": {},
   "source": [
    "4. Time Series Functionality\n",
    "- Pandas contains an extensive set of tools for working with dates, times, and time-indexed data as it was initially developed for financial modeling."
   ]
  },
  {
   "cell_type": "markdown",
   "id": "c2ba26f8",
   "metadata": {},
   "source": [
    "5. Free and open source\n",
    "- Pandas follows the same principles as Python, allowing you to use and distribute Pandas for free, even for commercial use."
   ]
  },
  {
   "cell_type": "markdown",
   "id": "f7693fc4",
   "metadata": {},
   "source": [
    "### Install Pandas"
   ]
  },
  {
   "cell_type": "markdown",
   "id": "3d7e82d7",
   "metadata": {},
   "source": [
    "pip install pandas"
   ]
  },
  {
   "cell_type": "markdown",
   "id": "f173cfe1",
   "metadata": {},
   "source": [
    "### Import pandas"
   ]
  },
  {
   "cell_type": "markdown",
   "id": "2e67cdbf",
   "metadata": {},
   "source": [
    "import pandas as pd"
   ]
  },
  {
   "cell_type": "markdown",
   "id": "82287be6",
   "metadata": {},
   "source": [
    "### Pandas Series"
   ]
  },
  {
   "cell_type": "markdown",
   "id": "044f96bd",
   "metadata": {},
   "source": [
    "- A Pandas Series is a one-dimensional labeled array-like object that can hold data of any type.\n",
    "\n",
    "- A Pandas Series can be thought of as a column in a spreadsheet or a single column of a DataFrame. It consists of two main components: the labels and the data."
   ]
  },
  {
   "cell_type": "markdown",
   "id": "7102907b",
   "metadata": {},
   "source": [
    "0    'John'\n",
    "1    30\n",
    "2    6.2\n",
    "3    False\n",
    "dtype: object"
   ]
  },
  {
   "cell_type": "markdown",
   "id": "41a48a53",
   "metadata": {},
   "source": [
    "- Here, the series has two columns, labels (0, 1, 2 and 3) and data ('John', 30, 6.2, False).\n",
    "\n",
    "- The labels are the index values assigned to each data point, while the data represents the actual values stored in the Series."
   ]
  },
  {
   "cell_type": "markdown",
   "id": "ae6b62c5",
   "metadata": {},
   "source": [
    "- Pandas Series can store elements of different data types. It uses a concept called dtype (data type) to manage and represent the underlying data in a Series.\n",
    "\n",
    "- By default, Pandas internally represents the Series of different datatypes using the object data type, a general-purpose data type that can hold any text or numeric data type(strings, integers, booleans, etc)."
   ]
  },
  {
   "cell_type": "markdown",
   "id": "7331bd79",
   "metadata": {},
   "source": [
    "## Create a Pandas Series"
   ]
  },
  {
   "cell_type": "markdown",
   "id": "797c6ad4",
   "metadata": {},
   "source": [
    "There are multiple ways to create a Pandas Series, but the most common way is by using a Python list"
   ]
  },
  {
   "cell_type": "code",
   "execution_count": 5,
   "id": "72bc0cf8",
   "metadata": {},
   "outputs": [
    {
     "name": "stdout",
     "output_type": "stream",
     "text": [
      "0    10\n",
      "1    20\n",
      "2    30\n",
      "3    40\n",
      "4    50\n",
      "dtype: int64\n"
     ]
    }
   ],
   "source": [
    "import pandas as pd\n",
    "\n",
    "# create a list\n",
    "data = [10, 20, 30, 40, 50]\n",
    "\n",
    "# create a series from the list\n",
    "my_series = pd.Series(data)\n",
    "\n",
    "print(my_series)"
   ]
  },
  {
   "cell_type": "markdown",
   "id": "8098384f",
   "metadata": {},
   "source": [
    "## Labels"
   ]
  },
  {
   "cell_type": "markdown",
   "id": "63cb1bee",
   "metadata": {},
   "source": [
    "The labels in the Pandas Series are index numbers by default. Like in dataframe and array, the index number in series starts from 0."
   ]
  },
  {
   "cell_type": "code",
   "execution_count": 6,
   "id": "4c581198",
   "metadata": {},
   "outputs": [
    {
     "name": "stdout",
     "output_type": "stream",
     "text": [
      "30\n"
     ]
    }
   ],
   "source": [
    "import pandas as pd\n",
    "\n",
    "# create a list\n",
    "data = [10, 20, 30, 40, 50]\n",
    "\n",
    "# create a series from the list\n",
    "my_series = pd.Series(data)\n",
    "\n",
    "# display third value in the series\n",
    "print(my_series[2])"
   ]
  },
  {
   "cell_type": "code",
   "execution_count": 6,
   "id": "13dc3731",
   "metadata": {},
   "outputs": [
    {
     "name": "stdout",
     "output_type": "stream",
     "text": [
      "3\n"
     ]
    }
   ],
   "source": [
    "import pandas as pd \n",
    "\n",
    "# create a list\n",
    "a = [1, 3, 5]\n",
    "\n",
    "# create a series and specify labels\n",
    "my_series = pd.Series(a, index = [\"x\", \"y\", \"z\"])\n",
    "\n",
    "print(my_series['y'])"
   ]
  },
  {
   "cell_type": "code",
   "execution_count": 11,
   "id": "a3252d0c",
   "metadata": {},
   "outputs": [
    {
     "name": "stdout",
     "output_type": "stream",
     "text": [
      "3\n"
     ]
    }
   ],
   "source": [
    "import pandas as pd \n",
    "\n",
    "# create a list\n",
    "a = [1, 3, 5]\n",
    "\n",
    "# create a series and specify labels\n",
    "my_series = pd.Series(a, index = [\"x\", \"y\", \"z\"])\n",
    "\n",
    "# display the value with label y\n",
    "print(my_series[\"y\"])"
   ]
  },
  {
   "cell_type": "markdown",
   "id": "19364d1a",
   "metadata": {},
   "source": [
    "## Create Series From a Python Dictionary"
   ]
  },
  {
   "cell_type": "code",
   "execution_count": 12,
   "id": "20093f97",
   "metadata": {},
   "outputs": [
    {
     "name": "stdout",
     "output_type": "stream",
     "text": [
      "sub1    3.25\n",
      "sub2    3.28\n",
      "sub3    3.75\n",
      "dtype: float64\n"
     ]
    }
   ],
   "source": [
    "import pandas as pd\n",
    "\n",
    "# create a dictionary\n",
    "grades = {\"sub1\": 3.25, \"sub2\": 3.28, \"sub3\": 3.75}\n",
    "\n",
    "# create a series from the dictionary\n",
    "my_series = pd.Series(grades)\n",
    "\n",
    "# display the series\n",
    "print(my_series)"
   ]
  },
  {
   "cell_type": "code",
   "execution_count": 14,
   "id": "0e288eeb",
   "metadata": {},
   "outputs": [
    {
     "name": "stdout",
     "output_type": "stream",
     "text": [
      "sub1    3.25\n",
      "sub2    3.28\n",
      "sub3    3.75\n",
      "dtype: float64\n"
     ]
    }
   ],
   "source": [
    "import pandas as pd\n",
    "\n",
    "# create a dictionary\n",
    "grades = {\"sub1\": 3.25, \"sub2\": 3.28, \"sub3\": 3.75}\n",
    "\n",
    "# select specific dictionary items using index argument\n",
    "my_series = pd.Series(grades, index = [\"sub1\", \"sub2\",\"sub3\"])\n",
    "\n",
    "# display the series\n",
    "print(my_series)"
   ]
  },
  {
   "cell_type": "markdown",
   "id": "2594e12f",
   "metadata": {},
   "source": [
    "## Pandas DataFrame"
   ]
  },
  {
   "cell_type": "markdown",
   "id": "f29cba9f",
   "metadata": {},
   "source": [
    "A DataFrame is like a table where the data is organized in rows and columns. It is a two-dimensional data structure like a two-dimensional array. "
   ]
  },
  {
   "cell_type": "code",
   "execution_count": null,
   "id": "23dbd492",
   "metadata": {},
   "outputs": [],
   "source": [
    "  Country      Capital      Population\n",
    "0    Canada       Ottawa       37742154\n",
    "1    Australia    Canberra     25499884\n",
    "2    UK           London       67886011\n",
    "3    Brazil       Brasília     212559417"
   ]
  },
  {
   "cell_type": "markdown",
   "id": "1ea10935",
   "metadata": {},
   "source": [
    "The DataFrame is similar to a table in a SQL database, or a spreadsheet in Excel. It is designed to manage ordered and unordered datasets in Python."
   ]
  },
  {
   "cell_type": "markdown",
   "id": "759dbfaf",
   "metadata": {},
   "source": [
    "### Pandas DataFrame Using Python Dictionary"
   ]
  },
  {
   "cell_type": "markdown",
   "id": "a0ac284c",
   "metadata": {},
   "source": [
    "We can create a dataframe using a dictionary by passing it to the DataFrame() function."
   ]
  },
  {
   "cell_type": "code",
   "execution_count": 15,
   "id": "839a61c8",
   "metadata": {},
   "outputs": [
    {
     "name": "stdout",
     "output_type": "stream",
     "text": [
      "    Name  Age      City\n",
      "0   John   25  New York\n",
      "1  Alice   30    London\n",
      "2    Bob   35     Paris\n"
     ]
    }
   ],
   "source": [
    "import pandas as pd\n",
    "\n",
    "# create a dictionary\n",
    "data = {'Name': ['John', 'Alice', 'Bob'],\n",
    "       'Age': [25, 30, 35],\n",
    "       'City': ['New York', 'London', 'Paris']}\n",
    "\n",
    "# create a dataframe from the dictionary\n",
    "df = pd.DataFrame(data)\n",
    "\n",
    "print(df)"
   ]
  },
  {
   "cell_type": "markdown",
   "id": "7f09c38d",
   "metadata": {},
   "source": [
    "### Pandas DataFrame Using Python List"
   ]
  },
  {
   "cell_type": "markdown",
   "id": "e8719fcb",
   "metadata": {},
   "source": [
    "We can also create a DataFrame using a two-dimensional list. "
   ]
  },
  {
   "cell_type": "code",
   "execution_count": 16,
   "id": "55b0236a",
   "metadata": {},
   "outputs": [
    {
     "name": "stdout",
     "output_type": "stream",
     "text": [
      "    Name  Age      City\n",
      "0   John   25  New York\n",
      "1  Alice   30    London\n",
      "2    Bob   35     Paris\n"
     ]
    }
   ],
   "source": [
    "import pandas as pd\n",
    "\n",
    "# create a two-dimensional list\n",
    "data = [['John', 25, 'New York'],\n",
    "       ['Alice', 30, 'London'],\n",
    "       ['Bob', 35, 'Paris']]\n",
    "\n",
    "# create a DataFrame from the list\n",
    "df = pd.DataFrame(data, columns=['Name', 'Age', 'City'])\n",
    "\n",
    "print(df)"
   ]
  },
  {
   "cell_type": "markdown",
   "id": "5112a287",
   "metadata": {},
   "source": [
    "### Pandas DataFrame From a File"
   ]
  },
  {
   "cell_type": "markdown",
   "id": "878aec24",
   "metadata": {},
   "source": [
    "Another common way to create a DataFrame is by loading data from a CSV (Comma-Separated Values) file."
   ]
  },
  {
   "cell_type": "code",
   "execution_count": 7,
   "id": "3bef1141",
   "metadata": {},
   "outputs": [
    {
     "ename": "FileNotFoundError",
     "evalue": "[Errno 2] No such file or directory: 'data.csv'",
     "output_type": "error",
     "traceback": [
      "\u001b[1;31m---------------------------------------------------------------------------\u001b[0m",
      "\u001b[1;31mFileNotFoundError\u001b[0m                         Traceback (most recent call last)",
      "Cell \u001b[1;32mIn[7], line 4\u001b[0m\n\u001b[0;32m      1\u001b[0m \u001b[38;5;28;01mimport\u001b[39;00m \u001b[38;5;21;01mpandas\u001b[39;00m \u001b[38;5;28;01mas\u001b[39;00m \u001b[38;5;21;01mpd\u001b[39;00m\n\u001b[0;32m      3\u001b[0m \u001b[38;5;66;03m# load data from a CSV file\u001b[39;00m\n\u001b[1;32m----> 4\u001b[0m df \u001b[38;5;241m=\u001b[39m pd\u001b[38;5;241m.\u001b[39mread_csv(\u001b[38;5;124m'\u001b[39m\u001b[38;5;124mdata.csv\u001b[39m\u001b[38;5;124m'\u001b[39m)\n\u001b[0;32m      6\u001b[0m \u001b[38;5;28mprint\u001b[39m(df)\n",
      "File \u001b[1;32m~\\anaconda3\\Lib\\site-packages\\pandas\\io\\parsers\\readers.py:912\u001b[0m, in \u001b[0;36mread_csv\u001b[1;34m(filepath_or_buffer, sep, delimiter, header, names, index_col, usecols, dtype, engine, converters, true_values, false_values, skipinitialspace, skiprows, skipfooter, nrows, na_values, keep_default_na, na_filter, verbose, skip_blank_lines, parse_dates, infer_datetime_format, keep_date_col, date_parser, date_format, dayfirst, cache_dates, iterator, chunksize, compression, thousands, decimal, lineterminator, quotechar, quoting, doublequote, escapechar, comment, encoding, encoding_errors, dialect, on_bad_lines, delim_whitespace, low_memory, memory_map, float_precision, storage_options, dtype_backend)\u001b[0m\n\u001b[0;32m    899\u001b[0m kwds_defaults \u001b[38;5;241m=\u001b[39m _refine_defaults_read(\n\u001b[0;32m    900\u001b[0m     dialect,\n\u001b[0;32m    901\u001b[0m     delimiter,\n\u001b[1;32m   (...)\u001b[0m\n\u001b[0;32m    908\u001b[0m     dtype_backend\u001b[38;5;241m=\u001b[39mdtype_backend,\n\u001b[0;32m    909\u001b[0m )\n\u001b[0;32m    910\u001b[0m kwds\u001b[38;5;241m.\u001b[39mupdate(kwds_defaults)\n\u001b[1;32m--> 912\u001b[0m \u001b[38;5;28;01mreturn\u001b[39;00m _read(filepath_or_buffer, kwds)\n",
      "File \u001b[1;32m~\\anaconda3\\Lib\\site-packages\\pandas\\io\\parsers\\readers.py:577\u001b[0m, in \u001b[0;36m_read\u001b[1;34m(filepath_or_buffer, kwds)\u001b[0m\n\u001b[0;32m    574\u001b[0m _validate_names(kwds\u001b[38;5;241m.\u001b[39mget(\u001b[38;5;124m\"\u001b[39m\u001b[38;5;124mnames\u001b[39m\u001b[38;5;124m\"\u001b[39m, \u001b[38;5;28;01mNone\u001b[39;00m))\n\u001b[0;32m    576\u001b[0m \u001b[38;5;66;03m# Create the parser.\u001b[39;00m\n\u001b[1;32m--> 577\u001b[0m parser \u001b[38;5;241m=\u001b[39m TextFileReader(filepath_or_buffer, \u001b[38;5;241m*\u001b[39m\u001b[38;5;241m*\u001b[39mkwds)\n\u001b[0;32m    579\u001b[0m \u001b[38;5;28;01mif\u001b[39;00m chunksize \u001b[38;5;129;01mor\u001b[39;00m iterator:\n\u001b[0;32m    580\u001b[0m     \u001b[38;5;28;01mreturn\u001b[39;00m parser\n",
      "File \u001b[1;32m~\\anaconda3\\Lib\\site-packages\\pandas\\io\\parsers\\readers.py:1407\u001b[0m, in \u001b[0;36mTextFileReader.__init__\u001b[1;34m(self, f, engine, **kwds)\u001b[0m\n\u001b[0;32m   1404\u001b[0m     \u001b[38;5;28mself\u001b[39m\u001b[38;5;241m.\u001b[39moptions[\u001b[38;5;124m\"\u001b[39m\u001b[38;5;124mhas_index_names\u001b[39m\u001b[38;5;124m\"\u001b[39m] \u001b[38;5;241m=\u001b[39m kwds[\u001b[38;5;124m\"\u001b[39m\u001b[38;5;124mhas_index_names\u001b[39m\u001b[38;5;124m\"\u001b[39m]\n\u001b[0;32m   1406\u001b[0m \u001b[38;5;28mself\u001b[39m\u001b[38;5;241m.\u001b[39mhandles: IOHandles \u001b[38;5;241m|\u001b[39m \u001b[38;5;28;01mNone\u001b[39;00m \u001b[38;5;241m=\u001b[39m \u001b[38;5;28;01mNone\u001b[39;00m\n\u001b[1;32m-> 1407\u001b[0m \u001b[38;5;28mself\u001b[39m\u001b[38;5;241m.\u001b[39m_engine \u001b[38;5;241m=\u001b[39m \u001b[38;5;28mself\u001b[39m\u001b[38;5;241m.\u001b[39m_make_engine(f, \u001b[38;5;28mself\u001b[39m\u001b[38;5;241m.\u001b[39mengine)\n",
      "File \u001b[1;32m~\\anaconda3\\Lib\\site-packages\\pandas\\io\\parsers\\readers.py:1661\u001b[0m, in \u001b[0;36mTextFileReader._make_engine\u001b[1;34m(self, f, engine)\u001b[0m\n\u001b[0;32m   1659\u001b[0m     \u001b[38;5;28;01mif\u001b[39;00m \u001b[38;5;124m\"\u001b[39m\u001b[38;5;124mb\u001b[39m\u001b[38;5;124m\"\u001b[39m \u001b[38;5;129;01mnot\u001b[39;00m \u001b[38;5;129;01min\u001b[39;00m mode:\n\u001b[0;32m   1660\u001b[0m         mode \u001b[38;5;241m+\u001b[39m\u001b[38;5;241m=\u001b[39m \u001b[38;5;124m\"\u001b[39m\u001b[38;5;124mb\u001b[39m\u001b[38;5;124m\"\u001b[39m\n\u001b[1;32m-> 1661\u001b[0m \u001b[38;5;28mself\u001b[39m\u001b[38;5;241m.\u001b[39mhandles \u001b[38;5;241m=\u001b[39m get_handle(\n\u001b[0;32m   1662\u001b[0m     f,\n\u001b[0;32m   1663\u001b[0m     mode,\n\u001b[0;32m   1664\u001b[0m     encoding\u001b[38;5;241m=\u001b[39m\u001b[38;5;28mself\u001b[39m\u001b[38;5;241m.\u001b[39moptions\u001b[38;5;241m.\u001b[39mget(\u001b[38;5;124m\"\u001b[39m\u001b[38;5;124mencoding\u001b[39m\u001b[38;5;124m\"\u001b[39m, \u001b[38;5;28;01mNone\u001b[39;00m),\n\u001b[0;32m   1665\u001b[0m     compression\u001b[38;5;241m=\u001b[39m\u001b[38;5;28mself\u001b[39m\u001b[38;5;241m.\u001b[39moptions\u001b[38;5;241m.\u001b[39mget(\u001b[38;5;124m\"\u001b[39m\u001b[38;5;124mcompression\u001b[39m\u001b[38;5;124m\"\u001b[39m, \u001b[38;5;28;01mNone\u001b[39;00m),\n\u001b[0;32m   1666\u001b[0m     memory_map\u001b[38;5;241m=\u001b[39m\u001b[38;5;28mself\u001b[39m\u001b[38;5;241m.\u001b[39moptions\u001b[38;5;241m.\u001b[39mget(\u001b[38;5;124m\"\u001b[39m\u001b[38;5;124mmemory_map\u001b[39m\u001b[38;5;124m\"\u001b[39m, \u001b[38;5;28;01mFalse\u001b[39;00m),\n\u001b[0;32m   1667\u001b[0m     is_text\u001b[38;5;241m=\u001b[39mis_text,\n\u001b[0;32m   1668\u001b[0m     errors\u001b[38;5;241m=\u001b[39m\u001b[38;5;28mself\u001b[39m\u001b[38;5;241m.\u001b[39moptions\u001b[38;5;241m.\u001b[39mget(\u001b[38;5;124m\"\u001b[39m\u001b[38;5;124mencoding_errors\u001b[39m\u001b[38;5;124m\"\u001b[39m, \u001b[38;5;124m\"\u001b[39m\u001b[38;5;124mstrict\u001b[39m\u001b[38;5;124m\"\u001b[39m),\n\u001b[0;32m   1669\u001b[0m     storage_options\u001b[38;5;241m=\u001b[39m\u001b[38;5;28mself\u001b[39m\u001b[38;5;241m.\u001b[39moptions\u001b[38;5;241m.\u001b[39mget(\u001b[38;5;124m\"\u001b[39m\u001b[38;5;124mstorage_options\u001b[39m\u001b[38;5;124m\"\u001b[39m, \u001b[38;5;28;01mNone\u001b[39;00m),\n\u001b[0;32m   1670\u001b[0m )\n\u001b[0;32m   1671\u001b[0m \u001b[38;5;28;01massert\u001b[39;00m \u001b[38;5;28mself\u001b[39m\u001b[38;5;241m.\u001b[39mhandles \u001b[38;5;129;01mis\u001b[39;00m \u001b[38;5;129;01mnot\u001b[39;00m \u001b[38;5;28;01mNone\u001b[39;00m\n\u001b[0;32m   1672\u001b[0m f \u001b[38;5;241m=\u001b[39m \u001b[38;5;28mself\u001b[39m\u001b[38;5;241m.\u001b[39mhandles\u001b[38;5;241m.\u001b[39mhandle\n",
      "File \u001b[1;32m~\\anaconda3\\Lib\\site-packages\\pandas\\io\\common.py:859\u001b[0m, in \u001b[0;36mget_handle\u001b[1;34m(path_or_buf, mode, encoding, compression, memory_map, is_text, errors, storage_options)\u001b[0m\n\u001b[0;32m    854\u001b[0m \u001b[38;5;28;01melif\u001b[39;00m \u001b[38;5;28misinstance\u001b[39m(handle, \u001b[38;5;28mstr\u001b[39m):\n\u001b[0;32m    855\u001b[0m     \u001b[38;5;66;03m# Check whether the filename is to be opened in binary mode.\u001b[39;00m\n\u001b[0;32m    856\u001b[0m     \u001b[38;5;66;03m# Binary mode does not support 'encoding' and 'newline'.\u001b[39;00m\n\u001b[0;32m    857\u001b[0m     \u001b[38;5;28;01mif\u001b[39;00m ioargs\u001b[38;5;241m.\u001b[39mencoding \u001b[38;5;129;01mand\u001b[39;00m \u001b[38;5;124m\"\u001b[39m\u001b[38;5;124mb\u001b[39m\u001b[38;5;124m\"\u001b[39m \u001b[38;5;129;01mnot\u001b[39;00m \u001b[38;5;129;01min\u001b[39;00m ioargs\u001b[38;5;241m.\u001b[39mmode:\n\u001b[0;32m    858\u001b[0m         \u001b[38;5;66;03m# Encoding\u001b[39;00m\n\u001b[1;32m--> 859\u001b[0m         handle \u001b[38;5;241m=\u001b[39m \u001b[38;5;28mopen\u001b[39m(\n\u001b[0;32m    860\u001b[0m             handle,\n\u001b[0;32m    861\u001b[0m             ioargs\u001b[38;5;241m.\u001b[39mmode,\n\u001b[0;32m    862\u001b[0m             encoding\u001b[38;5;241m=\u001b[39mioargs\u001b[38;5;241m.\u001b[39mencoding,\n\u001b[0;32m    863\u001b[0m             errors\u001b[38;5;241m=\u001b[39merrors,\n\u001b[0;32m    864\u001b[0m             newline\u001b[38;5;241m=\u001b[39m\u001b[38;5;124m\"\u001b[39m\u001b[38;5;124m\"\u001b[39m,\n\u001b[0;32m    865\u001b[0m         )\n\u001b[0;32m    866\u001b[0m     \u001b[38;5;28;01melse\u001b[39;00m:\n\u001b[0;32m    867\u001b[0m         \u001b[38;5;66;03m# Binary mode\u001b[39;00m\n\u001b[0;32m    868\u001b[0m         handle \u001b[38;5;241m=\u001b[39m \u001b[38;5;28mopen\u001b[39m(handle, ioargs\u001b[38;5;241m.\u001b[39mmode)\n",
      "\u001b[1;31mFileNotFoundError\u001b[0m: [Errno 2] No such file or directory: 'data.csv'"
     ]
    }
   ],
   "source": [
    "import pandas as pd\n",
    "\n",
    "# load data from a CSV file\n",
    "df = pd.read_csv('data.csv')\n",
    "\n",
    "print(df)"
   ]
  },
  {
   "cell_type": "markdown",
   "id": "0f0a39be",
   "metadata": {},
   "source": [
    "We can also create a DataFrame using other file types like JSON, Excel spreadsheet, SQL database, etc. The methods to read different file types are listed below:\n",
    "\n",
    "- JSON - read_json()\n",
    "- Excel spreadsheet - read_excel()\n",
    "- SQL - read_sql()"
   ]
  },
  {
   "cell_type": "markdown",
   "id": "1b4428fd",
   "metadata": {},
   "source": [
    "### Create an Empty DataFrame"
   ]
  },
  {
   "cell_type": "markdown",
   "id": "cce5243f",
   "metadata": {},
   "source": [
    "Sometimes we may want to create an empty DataFrame and then add data later."
   ]
  },
  {
   "cell_type": "code",
   "execution_count": 17,
   "id": "d6a217a0",
   "metadata": {},
   "outputs": [
    {
     "name": "stdout",
     "output_type": "stream",
     "text": [
      "Empty DataFrame\n",
      "Columns: []\n",
      "Index: []\n"
     ]
    }
   ],
   "source": [
    "import pandas as pd\n",
    "\n",
    "# create an empty DataFrame\n",
    "df = pd.DataFrame()\n",
    "\n",
    "print(df)"
   ]
  },
  {
   "cell_type": "markdown",
   "id": "6759c9f5",
   "metadata": {},
   "source": [
    "## Pandas Index"
   ]
  },
  {
   "cell_type": "markdown",
   "id": "6171f174",
   "metadata": {},
   "source": [
    "In Pandas, an index refers to the labeled array that identifies rows or columns in a DataFrame or a Series."
   ]
  },
  {
   "cell_type": "markdown",
   "id": "89a54043",
   "metadata": {},
   "source": [
    "### Default Index"
   ]
  },
  {
   "cell_type": "markdown",
   "id": "131bf11f",
   "metadata": {},
   "source": [
    "When we create a DataFrame or Series without specifying an index explicitly, Pandas assigns a default integer index starting from 0."
   ]
  },
  {
   "cell_type": "code",
   "execution_count": 18,
   "id": "f87e6bcb",
   "metadata": {},
   "outputs": [
    {
     "name": "stdout",
     "output_type": "stream",
     "text": [
      "    Name  Age      City\n",
      "0   John   25  New York\n",
      "1  Alice   28    London\n",
      "2    Bob   32     Paris\n"
     ]
    }
   ],
   "source": [
    "import pandas as pd\n",
    "\n",
    "data = {'Name': ['John', 'Alice', 'Bob'],\n",
    "        'Age': [25, 28, 32],\n",
    "        'City': ['New York', 'London', 'Paris']}\n",
    "\n",
    "df = pd.DataFrame(data)\n",
    "print(df)"
   ]
  },
  {
   "cell_type": "markdown",
   "id": "6e48c59a",
   "metadata": {},
   "source": [
    "### Setting Index"
   ]
  },
  {
   "cell_type": "markdown",
   "id": "112285ad",
   "metadata": {},
   "source": [
    "We can set an existing column as the index using the set_index() method."
   ]
  },
  {
   "cell_type": "code",
   "execution_count": 2,
   "id": "ab184fbd",
   "metadata": {},
   "outputs": [
    {
     "name": "stdout",
     "output_type": "stream",
     "text": [
      "       Age      City\n",
      "Name                \n",
      "John    25  New York\n",
      "Alice   28    London\n",
      "Bob     32     Paris\n"
     ]
    }
   ],
   "source": [
    "import pandas as pd\n",
    "\n",
    "# create dataframe\n",
    "data = {'Name': ['John', 'Alice', 'Bob'],\n",
    "        'Age': [25, 28, 32],\n",
    "        'City': ['New York', 'London', 'Paris']}\n",
    "\n",
    "df = pd.DataFrame(data)\n",
    "\n",
    "# set the 'Name' column as index\n",
    "df.set_index('Name',inplace=True)\n",
    "\n",
    "print(df)"
   ]
  },
  {
   "cell_type": "markdown",
   "id": "89b4917e",
   "metadata": {},
   "source": [
    "Here, the inplace=True parameter performs the operation directly on the object itself, without creating a new object. When we specify inplace=True, the original object is modified, and the changes are directly applied"
   ]
  },
  {
   "cell_type": "markdown",
   "id": "f92ef88c",
   "metadata": {},
   "source": [
    "### Creating a Range Index"
   ]
  },
  {
   "cell_type": "markdown",
   "id": "e731fc6d",
   "metadata": {},
   "source": [
    "We can create a range index with specific start and end values using the RangeIndex() function."
   ]
  },
  {
   "cell_type": "code",
   "execution_count": 3,
   "id": "3ccb2849",
   "metadata": {},
   "outputs": [
    {
     "name": "stdout",
     "output_type": "stream",
     "text": [
      "       Name  Age      City\n",
      "S.no                      \n",
      "5      John   25  New York\n",
      "6     Alice   28    London\n",
      "7       Bob   32     Paris\n"
     ]
    }
   ],
   "source": [
    "import pandas as pd\n",
    "\n",
    "# create dataframe\n",
    "data = {'Name': ['John', 'Alice', 'Bob'],\n",
    "        'Age': [25, 28, 32],\n",
    "        'City': ['New York', 'London', 'Paris']}\n",
    "\n",
    "df = pd.DataFrame(data)\n",
    "\n",
    "# create a range index\n",
    "df = pd.DataFrame(data, index=pd.RangeIndex(5, 8, name='S.no'))\n",
    "\n",
    "print(df)"
   ]
  },
  {
   "cell_type": "markdown",
   "id": "40437166",
   "metadata": {},
   "source": [
    "### Modifying Indexes in Pandas"
   ]
  },
  {
   "cell_type": "markdown",
   "id": "6511f95c",
   "metadata": {},
   "source": [
    "Pandas allows us to make changes to indexes easily. Some common modification operations are:\n",
    "\n",
    "- Renaming Index\n",
    "- Resetting Index"
   ]
  },
  {
   "cell_type": "markdown",
   "id": "ba66ba93",
   "metadata": {},
   "source": [
    "### Renaming Index"
   ]
  },
  {
   "cell_type": "markdown",
   "id": "c65da859",
   "metadata": {},
   "source": [
    "We can rename an index using the rename() method. "
   ]
  },
  {
   "cell_type": "code",
   "execution_count": 21,
   "id": "a757d3cb",
   "metadata": {},
   "outputs": [
    {
     "name": "stdout",
     "output_type": "stream",
     "text": [
      "Original DataFrame:\n",
      "    Name  Age      City\n",
      "0   John   25  New York\n",
      "1  Alice   28    London\n",
      "2    Bob   32     Paris\n",
      "\n",
      "Modified DataFrame\n",
      "    Name  Age      City\n",
      "A   John   25  New York\n",
      "B  Alice   28    London\n",
      "C    Bob   32     Paris\n"
     ]
    }
   ],
   "source": [
    "import pandas as pd\n",
    "\n",
    "# create a dataframe\n",
    "data = {'Name': ['John', 'Alice', 'Bob'],\n",
    "        'Age': [25, 28, 32],\n",
    "        'City': ['New York', 'London', 'Paris']}\n",
    "df = pd.DataFrame(data)\n",
    "\n",
    "# display original dataframe\n",
    "print('Original DataFrame:')\n",
    "print(df)\n",
    "print()\n",
    "\n",
    "# rename index\n",
    "df.rename(index={0: 'A', 1: 'B', 2: 'C'}, inplace=True)\n",
    "\n",
    "# display dataframe after index is renamed\n",
    "print('Modified DataFrame')\n",
    "print(df)"
   ]
  },
  {
   "cell_type": "markdown",
   "id": "826c8691",
   "metadata": {},
   "source": [
    "### Resetting Index"
   ]
  },
  {
   "cell_type": "markdown",
   "id": "49fbcb4f",
   "metadata": {},
   "source": [
    "We can reset the index to the default integer index using the reset_index() method."
   ]
  },
  {
   "cell_type": "code",
   "execution_count": 22,
   "id": "f45221f1",
   "metadata": {
    "scrolled": true
   },
   "outputs": [
    {
     "name": "stdout",
     "output_type": "stream",
     "text": [
      "Original DataFrame:\n",
      "    Name  Age      City\n",
      "A   John   25  New York\n",
      "B  Alice   28    London\n",
      "C    Bob   32     Paris\n",
      "\n",
      "\n",
      "Modified DataFrame:\n",
      "  index   Name  Age      City\n",
      "0     A   John   25  New York\n",
      "1     B  Alice   28    London\n",
      "2     C    Bob   32     Paris\n"
     ]
    }
   ],
   "source": [
    "import pandas as pd\n",
    "\n",
    "data = {'Name': ['John', 'Alice', 'Bob'],\n",
    "        'Age': [25, 28, 32],\n",
    "        'City': ['New York', 'London', 'Paris']}\n",
    "\n",
    "# create a dataframe\n",
    "df = pd.DataFrame(data)\n",
    "\n",
    "# rename index\n",
    "df.rename(index={0: 'A', 1: 'B', 2: 'C'}, inplace=True)\n",
    "\n",
    "# display dataframe\n",
    "print('Original DataFrame:')\n",
    "print(df)\n",
    "print('\\n')\n",
    "\n",
    "# reset index\n",
    "df.reset_index(inplace=True)\n",
    "\n",
    "# display dataframe after index is reset\n",
    "print('Modified DataFrame:')\n",
    "print(df)"
   ]
  },
  {
   "cell_type": "markdown",
   "id": "569f3322",
   "metadata": {},
   "source": [
    "### Pandas Array"
   ]
  },
  {
   "cell_type": "markdown",
   "id": "4ca5cc00",
   "metadata": {},
   "source": [
    "Pandas array is designed to provide a more memory-efficient and performance-enhanced alternative to Python's built-in lists, NumPy arrays, and other data structures for handling the same type of data."
   ]
  },
  {
   "cell_type": "markdown",
   "id": "75663131",
   "metadata": {},
   "source": [
    "### Create Array Using Python List"
   ]
  },
  {
   "cell_type": "code",
   "execution_count": 1,
   "id": "e8ad68a6",
   "metadata": {},
   "outputs": [
    {
     "name": "stdout",
     "output_type": "stream",
     "text": [
      "<IntegerArray>\n",
      "[2, 4, 6, 8]\n",
      "Length: 4, dtype: Int64\n"
     ]
    }
   ],
   "source": [
    "import pandas as pd\n",
    "\n",
    "# create a list named data\n",
    "data = [2, 4, 6, 8]\n",
    "\n",
    "# create Pandas array using data\n",
    "array1 = pd.array(data)\n",
    "\n",
    "print(array1)"
   ]
  },
  {
   "cell_type": "code",
   "execution_count": 2,
   "id": "e65b2b5b",
   "metadata": {},
   "outputs": [
    {
     "name": "stdout",
     "output_type": "stream",
     "text": [
      "<IntegerArray>\n",
      "[2, 4, 6, 8]\n",
      "Length: 4, dtype: Int64\n"
     ]
    }
   ],
   "source": [
    "import pandas as pd\n",
    "\n",
    "# create Pandas array by passing list directly\n",
    "array1 = pd.array([2, 4, 6, 8])\n",
    "\n",
    "print(array1)"
   ]
  },
  {
   "cell_type": "markdown",
   "id": "fef019a4",
   "metadata": {},
   "source": [
    "### Explicitly Specify Array Elements Data Type"
   ]
  },
  {
   "cell_type": "code",
   "execution_count": 3,
   "id": "dd2f910d",
   "metadata": {},
   "outputs": [
    {
     "name": "stdout",
     "output_type": "stream",
     "text": [
      "<PandasArray>\n",
      "[1, 2, 3, 4, 5]\n",
      "Length: 5, dtype: int32\n",
      "\n",
      "<PandasArray>\n",
      "[1.1, 2.2, 3.3, 4.4, 5.5]\n",
      "Length: 5, dtype: float64\n",
      "\n",
      "<PandasArray>\n",
      "['apple', 'banana', 'cherry', 'date']\n",
      "Length: 4, dtype: str192\n",
      "\n",
      "<PandasArray>\n",
      "[True, False, True, False]\n",
      "Length: 4, dtype: bool\n",
      "\n"
     ]
    }
   ],
   "source": [
    "import pandas as pd\n",
    "\n",
    "# creating a pandas.array of integers\n",
    "int_array = pd.array([1, 2, 3, 4, 5], dtype='int')\n",
    "print(int_array)\n",
    "print()\n",
    "\n",
    "# creating a pandas.array of floating-point numbers\n",
    "float_array = pd.array([1.1, 2.2, 3.3, 4.4, 5.5], dtype='float')\n",
    "print(float_array)\n",
    "print()\n",
    "\n",
    "# creating a pandas.array of strings\n",
    "string_array = pd.array(['apple', 'banana', 'cherry', 'date'], dtype='str')\n",
    "print(string_array)\n",
    "print()\n",
    "\n",
    "# creating a pandas.array of boolean values\n",
    "bool_array = pd.array([True, False, True, False], dtype='bool')\n",
    "print(bool_array)\n",
    "print()"
   ]
  },
  {
   "cell_type": "markdown",
   "id": "52bbd7af",
   "metadata": {},
   "source": [
    "### Create Series From Pandas Array"
   ]
  },
  {
   "cell_type": "code",
   "execution_count": 4,
   "id": "e896d87a",
   "metadata": {},
   "outputs": [
    {
     "name": "stdout",
     "output_type": "stream",
     "text": [
      "0    18\n",
      "1    20\n",
      "2    19\n",
      "3    21\n",
      "4    22\n",
      "dtype: Int64\n"
     ]
    }
   ],
   "source": [
    "import pandas as pd\n",
    "\n",
    "# create a Pandas array\n",
    "arr = pd.array([18, 20, 19, 21, 22])\n",
    "\n",
    "# create a Pandas series from the Pandas array\n",
    "arr_series = pd.Series(arr)\n",
    "\n",
    "print(arr_series)"
   ]
  },
  {
   "cell_type": "markdown",
   "id": "8e059943",
   "metadata": {},
   "source": [
    "### Pandas DataFrame Analysis"
   ]
  },
  {
   "cell_type": "markdown",
   "id": "8c3e6150",
   "metadata": {},
   "source": [
    "Pandas DataFrame objects come with a variety of built-in functions like head(), tail() and info() that allow us to view and analyze DataFrames."
   ]
  },
  {
   "cell_type": "markdown",
   "id": "3876b5d8",
   "metadata": {},
   "source": [
    "### Pandas head()"
   ]
  },
  {
   "cell_type": "markdown",
   "id": "f95cdd82",
   "metadata": {},
   "source": [
    "The head() method provides a rapid summary of a DataFrame. It returns the column headers and a specified number of rows from the beginning."
   ]
  },
  {
   "cell_type": "code",
   "execution_count": 16,
   "id": "4243178a",
   "metadata": {},
   "outputs": [
    {
     "name": "stdout",
     "output_type": "stream",
     "text": [
      "First Five Rows:\n",
      "    Name  Age      City\n",
      "0   John   25  New York\n",
      "1  Alice   30     Paris\n",
      "2    Bob   35    London\n",
      "3   Emma   28    Sydney\n",
      "4   Mike   32     Tokyo\n",
      "\n",
      "First Three Rows:\n",
      "    Name  Age      City\n",
      "0   John   25  New York\n",
      "1  Alice   30     Paris\n",
      "2    Bob   35    London\n",
      "3   Emma   28    Sydney\n",
      "4   Mike   32     Tokyo\n",
      "5  Sarah   27    Berlin\n",
      "6  David   40      Rome\n",
      "7  Linda   33    Madrid\n",
      "8    Tom   29   Toronto\n",
      "9  Emily   31    Moscow\n"
     ]
    }
   ],
   "source": [
    "import pandas as pd\n",
    "\n",
    "# create a dataframe\n",
    "data = {'Name': ['John', 'Alice', 'Bob', 'Emma', 'Mike', 'Sarah', 'David', 'Linda', 'Tom', 'Emily'],\n",
    "        'Age': [25, 30, 35, 28, 32, 27, 40, 33, 29, 31],\n",
    "        'City': ['New York', 'Paris', 'London', 'Sydney', 'Tokyo', 'Berlin', 'Rome', 'Madrid', 'Toronto', 'Moscow']}\n",
    "df = pd.DataFrame(data)\n",
    "\n",
    "# display the first five rows\n",
    "print('First Five Rows:')\n",
    "print(df.head())\n",
    "\n",
    "print()\n",
    "\n",
    "# display the first three rows\n",
    "print('First Three Rows:')\n",
    "print(df.head(30))"
   ]
  },
  {
   "cell_type": "markdown",
   "id": "27e0709e",
   "metadata": {},
   "source": [
    "### Pandas Tail()"
   ]
  },
  {
   "cell_type": "markdown",
   "id": "aa4df302",
   "metadata": {},
   "source": [
    "The tail() method is similar to head() but it returns data starting from the end of the DataFrame. "
   ]
  },
  {
   "cell_type": "code",
   "execution_count": 8,
   "id": "40608d8e",
   "metadata": {},
   "outputs": [
    {
     "name": "stdout",
     "output_type": "stream",
     "text": [
      "Last Five Rows:\n",
      "    Name  Age     City\n",
      "5  Sarah   27   Berlin\n",
      "6  David   40     Rome\n",
      "7  Linda   33   Madrid\n",
      "8    Tom   29  Toronto\n",
      "9  Emily   31   Moscow\n",
      "\n",
      "Last Three Rows:\n",
      "    Name  Age     City\n",
      "7  Linda   33   Madrid\n",
      "8    Tom   29  Toronto\n",
      "9  Emily   31   Moscow\n"
     ]
    }
   ],
   "source": [
    "import pandas as pd\n",
    "\n",
    "# create a dataframe\n",
    "data = {'Name': ['John', 'Alice', 'Bob', 'Emma', 'Mike', 'Sarah', 'David', 'Linda', 'Tom', 'Emily'],\n",
    "        'Age': [25, 30, 35, 28, 32, 27, 40, 33, 29, 31],\n",
    "        'City': ['New York', 'Paris', 'London', 'Sydney', 'Tokyo', 'Berlin', 'Rome', 'Madrid', 'Toronto', 'Moscow']}\n",
    "\n",
    "df = pd.DataFrame(data)\n",
    "\n",
    "# display the last five rows\n",
    "print('Last Five Rows:')\n",
    "print(df.tail())\n",
    "print()\n",
    "\n",
    "# display the last three rows\n",
    "print('Last Three Rows:')\n",
    "print(df.tail(3))"
   ]
  },
  {
   "cell_type": "markdown",
   "id": "7c671de3",
   "metadata": {},
   "source": [
    "### Get DataFrame Information"
   ]
  },
  {
   "cell_type": "markdown",
   "id": "af6242ef",
   "metadata": {},
   "source": [
    "The info() method gives us the overall information about the DataFrame such as its class, data type, size etc."
   ]
  },
  {
   "cell_type": "code",
   "execution_count": 8,
   "id": "6b636f6a",
   "metadata": {},
   "outputs": [
    {
     "name": "stdout",
     "output_type": "stream",
     "text": [
      "<class 'pandas.core.frame.DataFrame'>\n",
      "RangeIndex: 10 entries, 0 to 9\n",
      "Data columns (total 3 columns):\n",
      " #   Column  Non-Null Count  Dtype \n",
      "---  ------  --------------  ----- \n",
      " 0   Name    10 non-null     object\n",
      " 1   Age     10 non-null     int64 \n",
      " 2   City    10 non-null     object\n",
      "dtypes: int64(1), object(2)\n",
      "memory usage: 372.0+ bytes\n"
     ]
    }
   ],
   "source": [
    "import pandas as pd\n",
    "\n",
    "# create dataframe\n",
    "data = {'Name': ['John', 'Alice', 'Bob', 'Emma', 'Mike', 'Sarah', 'David', 'Linda', 'Tom', 'Emily'],\n",
    "        'Age': [25, 30, 35, 28, 32, 27, 40, 33, 29, 31],\n",
    "        'City': ['New York', 'Paris', 'London', 'Sydney', 'Tokyo', 'Berlin', 'Rome', 'Madrid', 'Toronto', 'Moscow']}\n",
    "df = pd.DataFrame(data)\n",
    "\n",
    "# get info about dataframe\n",
    "df.info()\n"
   ]
  },
  {
   "cell_type": "code",
   "execution_count": 9,
   "id": "757f658e",
   "metadata": {},
   "outputs": [
    {
     "data": {
      "text/html": [
       "<div>\n",
       "<style scoped>\n",
       "    .dataframe tbody tr th:only-of-type {\n",
       "        vertical-align: middle;\n",
       "    }\n",
       "\n",
       "    .dataframe tbody tr th {\n",
       "        vertical-align: top;\n",
       "    }\n",
       "\n",
       "    .dataframe thead th {\n",
       "        text-align: right;\n",
       "    }\n",
       "</style>\n",
       "<table border=\"1\" class=\"dataframe\">\n",
       "  <thead>\n",
       "    <tr style=\"text-align: right;\">\n",
       "      <th></th>\n",
       "      <th>Age</th>\n",
       "    </tr>\n",
       "  </thead>\n",
       "  <tbody>\n",
       "    <tr>\n",
       "      <th>count</th>\n",
       "      <td>10.000000</td>\n",
       "    </tr>\n",
       "    <tr>\n",
       "      <th>mean</th>\n",
       "      <td>31.000000</td>\n",
       "    </tr>\n",
       "    <tr>\n",
       "      <th>std</th>\n",
       "      <td>4.320494</td>\n",
       "    </tr>\n",
       "    <tr>\n",
       "      <th>min</th>\n",
       "      <td>25.000000</td>\n",
       "    </tr>\n",
       "    <tr>\n",
       "      <th>25%</th>\n",
       "      <td>28.250000</td>\n",
       "    </tr>\n",
       "    <tr>\n",
       "      <th>50%</th>\n",
       "      <td>30.500000</td>\n",
       "    </tr>\n",
       "    <tr>\n",
       "      <th>75%</th>\n",
       "      <td>32.750000</td>\n",
       "    </tr>\n",
       "    <tr>\n",
       "      <th>max</th>\n",
       "      <td>40.000000</td>\n",
       "    </tr>\n",
       "  </tbody>\n",
       "</table>\n",
       "</div>"
      ],
      "text/plain": [
       "             Age\n",
       "count  10.000000\n",
       "mean   31.000000\n",
       "std     4.320494\n",
       "min    25.000000\n",
       "25%    28.250000\n",
       "50%    30.500000\n",
       "75%    32.750000\n",
       "max    40.000000"
      ]
     },
     "execution_count": 9,
     "metadata": {},
     "output_type": "execute_result"
    }
   ],
   "source": [
    "df.describe()"
   ]
  },
  {
   "cell_type": "markdown",
   "id": "330123be",
   "metadata": {},
   "source": [
    "As you can see, the info() method provides the following information about a Pandas DataFrame:\n",
    "\n",
    "- Class: The class of the object, which indicates that it is a pandas DataFrame\n",
    "- RangeIndex: The index range of the DataFrame, showing the starting and ending index values\n",
    "- Data columns: The total number of columns in the DataFrame\n",
    "- Column names: The names of the columns in the DataFrame\n",
    "- Non-Null Count: The count of non-null values for each column\n",
    "- Dtype: The data types of the columns\n",
    "- Memory usage: The memory usage of the DataFrame in bytes"
   ]
  },
  {
   "cell_type": "markdown",
   "id": "e3263042",
   "metadata": {},
   "source": [
    "### Pandas DataFrame Manipulation"
   ]
  },
  {
   "cell_type": "markdown",
   "id": "f27b9365",
   "metadata": {},
   "source": [
    "DataFrame manipulation in Pandas involves editing and modifying existing DataFrames. Some common DataFrame manipulation operations are:\n",
    "\n",
    "- Adding rows/columns\n",
    "- Removing rows/columns\n",
    "- Renaming rows/columns"
   ]
  },
  {
   "cell_type": "markdown",
   "id": "7b302a4f",
   "metadata": {},
   "source": [
    "### Add a New Column to a Pandas DataFrame"
   ]
  },
  {
   "cell_type": "code",
   "execution_count": 11,
   "id": "debf5e6e",
   "metadata": {},
   "outputs": [
    {
     "name": "stdout",
     "output_type": "stream",
     "text": [
      "      Name  Height Qualification   Address\n",
      "0     John     5.5           BSc  New York\n",
      "1     Emma     6.0           BBA    London\n",
      "2  Michael     5.8           MBA    Sydney\n",
      "3   Sophia     5.3           BSc   Toronto\n"
     ]
    }
   ],
   "source": [
    "import pandas as pd\n",
    "\n",
    "# define a dictionary containing student data\n",
    "data = {'Name': ['John', 'Emma', 'Michael', 'Sophia'],\n",
    "        'Height': [5.5, 6.0, 5.8, 5.3],\n",
    "        'Qualification': ['BSc', 'BBA', 'MBA', 'BSc']}\n",
    "\n",
    "# convert the dictionary into a DataFrame\n",
    "df = pd.DataFrame(data)\n",
    "\n",
    "# declare a new list\n",
    "address = ['New York', 'London', 'Sydney', 'Toronto']\n",
    "\n",
    "# assign the list as a column\n",
    "df['Address'] = address\n",
    "\n",
    "print(df)"
   ]
  },
  {
   "cell_type": "markdown",
   "id": "b983692a",
   "metadata": {},
   "source": [
    "### Add a New Row to a Pandas DataFrame"
   ]
  },
  {
   "cell_type": "markdown",
   "id": "df95876e",
   "metadata": {},
   "source": [
    "Adding rows to a DataFrame is not quite as straightforward as adding columns in Pandas. We use the .loc property to add a new row to a Pandas DataFrame."
   ]
  },
  {
   "cell_type": "code",
   "execution_count": 21,
   "id": "47371afd",
   "metadata": {},
   "outputs": [
    {
     "name": "stdout",
     "output_type": "stream",
     "text": [
      "Original DataFrame:\n",
      "      Name  Height Qualification\n",
      "0     John     5.5           BSc\n",
      "1     Emma     6.0           BBA\n",
      "2  Michael     5.8           MBA\n",
      "3   Sophia     5.3           BSc\n",
      "\n",
      "Modified DataFrame:\n",
      "      Name  Height Qualification\n",
      "0     John     5.5           BSc\n",
      "1     Emma     6.0           BBA\n",
      "2  Michael     5.8           MBA\n",
      "3   Sophia     5.3           BSc\n",
      "5      Amy     5.2           BIT\n"
     ]
    }
   ],
   "source": [
    "import pandas as pd\n",
    "\n",
    "# define a dictionary containing student data\n",
    "data = {'Name': ['John', 'Emma', 'Michael', 'Sophia'],\n",
    "        'Height': [5.5, 6.0, 5.8, 5.3],\n",
    "        'Qualification': ['BSc', 'BBA', 'MBA', 'BSc']}\n",
    "\n",
    "# convert the dictionary into a DataFrame\n",
    "df = pd.DataFrame(data)\n",
    "\n",
    "print(\"Original DataFrame:\")\n",
    "print(df)\n",
    "print()\n",
    "\n",
    "# add a new row\n",
    "df.loc[5] = ['Amy', 5.2, 'BIT'] \n",
    "\n",
    "print(\"Modified DataFrame:\")\n",
    "print(df)"
   ]
  },
  {
   "cell_type": "markdown",
   "id": "a995c7a6",
   "metadata": {},
   "source": [
    "### Remove Rows/Columns from a Pandas DataFrame"
   ]
  },
  {
   "cell_type": "markdown",
   "id": "3eef20e0",
   "metadata": {},
   "source": [
    "We can use drop() to delete rows and columns from a DataFrame."
   ]
  },
  {
   "cell_type": "code",
   "execution_count": 4,
   "id": "1cf05d82",
   "metadata": {},
   "outputs": [
    {
     "name": "stdout",
     "output_type": "stream",
     "text": [
      "Original DataFrame:\n",
      "      Name  Age      City\n",
      "0    Alice   25  New York\n",
      "1      Bob   30    London\n",
      "2  Charlie   35     Paris\n",
      "3    David   40     Tokyo\n",
      "4   Felipe   22    Bogota\n",
      "5     Rita   29  Banglore\n",
      "\n",
      "Modified DataFrame:\n",
      "      Name  Age      City\n",
      "0    Alice   25  New York\n",
      "2  Charlie   35     Paris\n",
      "4   Felipe   22    Bogota\n",
      "5     Rita   29  Banglore\n"
     ]
    }
   ],
   "source": [
    "import pandas as pd\n",
    "\n",
    "# create a sample DataFrame\n",
    "data = {'Name': ['Alice', 'Bob', 'Charlie', 'David', 'Felipe', 'Rita'],\n",
    "        'Age': [25, 30, 35, 40, 22, 29],\n",
    "        'City': ['New York', 'London', 'Paris', 'Tokyo', 'Bogota', 'Banglore']}\n",
    "df = pd.DataFrame(data)\n",
    "\n",
    "# display the original DataFrame\n",
    "print(\"Original DataFrame:\")\n",
    "print(df)\n",
    "print()\n",
    "\n",
    "# delete row with index 4\n",
    "df.drop(4, axis=0, inplace=True)\n",
    "\n",
    "# delete row with index 5\n",
    "#df.drop(index=5,inplace=True)\n",
    "\n",
    "# delete rows with index 1 and 3\n",
    "df.drop([1, 3], inplace=True)\n",
    "\n",
    "# display the modified DataFrame after deleting rows\n",
    "print(\"Modified DataFrame:\")\n",
    "print(df)"
   ]
  },
  {
   "cell_type": "markdown",
   "id": "c815226a",
   "metadata": {},
   "source": [
    "### Removing Columns in DataFrame"
   ]
  },
  {
   "cell_type": "code",
   "execution_count": 62,
   "id": "7b41ded0",
   "metadata": {},
   "outputs": [
    {
     "name": "stdout",
     "output_type": "stream",
     "text": [
      "Modified DataFrame:\n",
      "      Name  Age      City Marital Status\n",
      "0    Alice   25  New York         Single\n",
      "1      Bob   30    London        Married\n",
      "2  Charlie   35     Paris       Divorced\n",
      "3    David   40     Tokyo        Engaged\n"
     ]
    }
   ],
   "source": [
    "import pandas as pd\n",
    "\n",
    "# create a sample DataFrame\n",
    "data = {'Name': ['Alice', 'Bob', 'Charlie', 'David'],\n",
    "        'Age': [25, 30, 35, 40],\n",
    "        'City': ['New York', 'London', 'Paris', 'Tokyo'],\n",
    "        'Height': ['165', '178', '185', '171'],\n",
    "        'Profession': ['Engineer', 'Entrepreneur', 'Unemployed', 'Actor'],\n",
    "        'Marital Status': ['Single', 'Married', 'Divorced', 'Engaged']}\n",
    "df = pd.DataFrame(data)\n",
    "\n",
    "# display the original DataFrame\n",
    "#print(\"Original DataFrame:\")\n",
    "#print(df)\n",
    "#print()\n",
    "\n",
    "# delete age column\n",
    "#df.drop('Age', inplace=True)\n",
    "\n",
    "# delete marital status column\n",
    "df.drop(columns='Marital Status', inplace=True)\n",
    "\n",
    "# delete height and profession columns\n",
    "df.drop(['Height', 'Profession'],axis=1, inplace=True)\n",
    "\n",
    "# display the modified DataFrame after deleting rows\n",
    "print(\"Modified DataFrame:\")\n",
    "print(df)"
   ]
  },
  {
   "cell_type": "markdown",
   "id": "ff0f2c4c",
   "metadata": {},
   "source": [
    "### Rename Labels in a DataFrame\n"
   ]
  },
  {
   "cell_type": "markdown",
   "id": "4c7d7228",
   "metadata": {},
   "source": [
    "We can rename columns in a Pandas DataFrame using the rename() function."
   ]
  },
  {
   "cell_type": "markdown",
   "id": "e0eedfe6",
   "metadata": {},
   "source": [
    "### Rename Columns"
   ]
  },
  {
   "cell_type": "code",
   "execution_count": 9,
   "id": "6197e2d4",
   "metadata": {},
   "outputs": [
    {
     "name": "stdout",
     "output_type": "stream",
     "text": [
      "Original DataFrame:\n",
      "      Name  Age      City\n",
      "0    Alice   25  New York\n",
      "1      Bob   30    London\n",
      "2  Charlie   35     Paris\n",
      "3    David   40     Tokyo\n",
      "\n",
      "Modified DataFrame:\n",
      "  First_Name  Year   Address\n",
      "0      Alice    25  New York\n",
      "1        Bob    30    London\n",
      "2    Charlie    35     Paris\n",
      "3      David    40     Tokyo\n"
     ]
    }
   ],
   "source": [
    "import pandas as pd\n",
    "\n",
    "# create a sample DataFrame\n",
    "data = {'Name': ['Alice', 'Bob', 'Charlie', 'David'],\n",
    "        'Age': [25, 30, 35, 40],\n",
    "        'City': ['New York', 'London', 'Paris', 'Tokyo']}\n",
    "df = pd.DataFrame(data)\n",
    "\n",
    "# display the original DataFrame\n",
    "print(\"Original DataFrame:\")\n",
    "print(df)\n",
    "print()\n",
    "\n",
    "# rename column 'Name' to 'First_Name'\n",
    "df.rename(columns= {'Name': 'First_Name','City':'Address','Age': 'Year'}, inplace=True)\n",
    "\n",
    "\n",
    "# display the DataFrame after renaming column\n",
    "print(\"Modified DataFrame:\")\n",
    "print(df)"
   ]
  },
  {
   "cell_type": "markdown",
   "id": "66eb9ec9",
   "metadata": {},
   "source": [
    "- we renamed a single column using the columns={'Name': 'First_Name'} parameter. \n",
    "- We also renamed multiple columns with mapper={'Age': 'Number', 'City':'Address'} argument."
   ]
  },
  {
   "cell_type": "markdown",
   "id": "e4c50390",
   "metadata": {},
   "source": [
    "### Rename Row Labels"
   ]
  },
  {
   "cell_type": "code",
   "execution_count": 20,
   "id": "2ba9894a",
   "metadata": {},
   "outputs": [
    {
     "name": "stdout",
     "output_type": "stream",
     "text": [
      "Original DataFrame:\n",
      "      Name  Age      City\n",
      "0    Alice   25  New York\n",
      "1      Bob   30    London\n",
      "2  Charlie   35     Paris\n",
      "3    David   40     Tokyo\n",
      "\n",
      "Modified DataFrame:\n",
      "        Name  Age      City\n",
      "7      Alice   25  New York\n",
      "10       Bob   30    London\n",
      "100  Charlie   35     Paris\n",
      "3      David   40     Tokyo\n"
     ]
    }
   ],
   "source": [
    "import pandas as pd\n",
    "\n",
    "# create a sample DataFrame\n",
    "data = {'Name': ['Alice', 'Bob', 'Charlie', 'David'],\n",
    "        'Age': [25, 30, 35, 40],\n",
    "        'City': ['New York', 'London', 'Paris', 'Tokyo']}\n",
    "df = pd.DataFrame(data)\n",
    "\n",
    "# display the original DataFrame\n",
    "print(\"Original DataFrame:\")\n",
    "print(df)\n",
    "print()\n",
    "\n",
    "# rename column one index label\n",
    "#df.rename(index={0: 7}, inplace=True)\n",
    "\n",
    "# rename columns multiple index labels\n",
    "df.rename(mapper={1: 10, 2: 100}, axis=0, inplace=True)\n",
    "\n",
    "# display the DataFrame after renaming column\n",
    "print(\"Modified DataFrame:\")\n",
    "print(df)"
   ]
  },
  {
   "cell_type": "markdown",
   "id": "f7366f43",
   "metadata": {},
   "source": [
    "## Pandas Indexing and Slicing"
   ]
  },
  {
   "cell_type": "markdown",
   "id": "dadf58ab",
   "metadata": {},
   "source": [
    "In Pandas, indexing refers to accessing rows and columns of data from a DataFrame, whereas slicing refers to accessing a range of rows and columns."
   ]
  },
  {
   "cell_type": "markdown",
   "id": "2ad1a320",
   "metadata": {},
   "source": [
    "### Access Columns of a DataFrame"
   ]
  },
  {
   "cell_type": "code",
   "execution_count": 21,
   "id": "7ae02d32",
   "metadata": {},
   "outputs": [
    {
     "name": "stdout",
     "output_type": "stream",
     "text": [
      "0      Alice\n",
      "1        Bob\n",
      "2    Charlie\n",
      "3      David\n",
      "4        Eve\n",
      "Name: Name, dtype: object\n"
     ]
    }
   ],
   "source": [
    "import pandas as pd\n",
    "\n",
    "# create a DataFrame\n",
    "data = {\n",
    "    'Name': ['Alice', 'Bob', 'Charlie', 'David', 'Eve'],\n",
    "    'Age': [25, 32, 18, 47, 33],\n",
    "    'City': ['New York', 'Paris', 'London', 'Tokyo', 'Sydney']\n",
    "}\n",
    "df = pd.DataFrame(data)\n",
    "\n",
    "# access the Name column\n",
    "names = df['Name']\n",
    "\n",
    "print(names)"
   ]
  },
  {
   "cell_type": "code",
   "execution_count": 22,
   "id": "d9f5085b",
   "metadata": {},
   "outputs": [
    {
     "name": "stdout",
     "output_type": "stream",
     "text": [
      "      Name      City\n",
      "0    Alice  New York\n",
      "1      Bob     Paris\n",
      "2  Charlie    London\n",
      "3    David     Tokyo\n",
      "4      Eve    Sydney\n"
     ]
    }
   ],
   "source": [
    "import pandas as pd\n",
    "\n",
    "# create a DataFrame\n",
    "data = {\n",
    "    'Name': ['Alice', 'Bob', 'Charlie', 'David', 'Eve'],\n",
    "    'Age': [25, 32, 18, 47, 33],\n",
    "    'City': ['New York', 'Paris', 'London', 'Tokyo', 'Sydney']\n",
    "}\n",
    "df = pd.DataFrame(data)\n",
    "\n",
    "# access multiple columns\n",
    "name_city = df[['Name','City']]\n",
    "\n",
    "print(name_city)"
   ]
  },
  {
   "cell_type": "markdown",
   "id": "fa299dba",
   "metadata": {},
   "source": [
    "### Pandas .loc"
   ]
  },
  {
   "cell_type": "markdown",
   "id": "122e6c07",
   "metadata": {},
   "source": [
    "In Pandas, we use the .loc property to access and modify data within a DataFrame using label-based indexing. It allows us to select specific rows and columns based on their labels."
   ]
  },
  {
   "cell_type": "markdown",
   "id": "d86bf6ef",
   "metadata": {},
   "source": [
    "### Indexing Using .loc"
   ]
  },
  {
   "cell_type": "markdown",
   "id": "bcc4dcf8",
   "metadata": {},
   "source": [
    "We can use .loc to access the data from a dataframe using its indexes."
   ]
  },
  {
   "cell_type": "code",
   "execution_count": null,
   "id": "9a6499d6",
   "metadata": {},
   "outputs": [],
   "source": [
    "df.loc[row_indexer, column_indexer]"
   ]
  },
  {
   "cell_type": "code",
   "execution_count": 11,
   "id": "5fcfacd3",
   "metadata": {},
   "outputs": [
    {
     "name": "stdout",
     "output_type": "stream",
     "text": [
      "Single row:\n",
      "Name    Charlie\n",
      "Age          18\n",
      "City     London\n",
      "Name: 2, dtype: object\n",
      "\n",
      "List of Rows:\n",
      "    Name  Age      City\n",
      "0  Alice   25  New York\n",
      "3  David   47     Tokyo\n",
      "4    Eve   33    Sydney\n",
      "\n",
      "List of Columns:\n",
      "      Name  Age\n",
      "0    Alice   25\n",
      "1      Bob   32\n",
      "2  Charlie   18\n",
      "3    David   47\n",
      "4      Eve   33\n",
      "\n",
      "Specific Value:\n",
      "Bob\n"
     ]
    }
   ],
   "source": [
    "import pandas as pd\n",
    "\n",
    "# create a DataFrame\n",
    "data = {\n",
    "    'Name': ['Alice', 'Bob', 'Charlie', 'David', 'Eve'],\n",
    "    'Age': [25, 32, 18, 47, 33],\n",
    "    'City': ['New York', 'Paris', 'London', 'Tokyo', 'Sydney']\n",
    "}\n",
    "df = pd.DataFrame(data)\n",
    "\n",
    "# access a single row\n",
    "single_row = df.loc[2]\n",
    "\n",
    "print(\"Single row:\")\n",
    "print(single_row)\n",
    "print()\n",
    "\n",
    "# access rows 0, 3 and 4\n",
    "row_list = df.loc[[0, 3, 4]]\n",
    "\n",
    "print(\"List of Rows:\")\n",
    "print(row_list)\n",
    "print()\n",
    "\n",
    "# access a list of columns\n",
    "column_list = df.loc[:,['Name', 'Age']]\n",
    "\n",
    "print(\"List of Columns:\")\n",
    "print(column_list)\n",
    "print()\n",
    "\n",
    "# access second row of 'Name' column\n",
    "specific_value = df.loc[1, 'Name']\n",
    "\n",
    "print(\"Specific Value:\")\n",
    "print(specific_value)"
   ]
  },
  {
   "cell_type": "markdown",
   "id": "65636202",
   "metadata": {},
   "source": [
    "- Here, we used .loc to access a row, a list of rows, a list of columns and a specific value using the respective labels.\n",
    "\n",
    "- In the line, column_list = df.loc[:,['Name', 'Age']]\n",
    "\n",
    "- The : operator indicates that all the rows are to be selected."
   ]
  },
  {
   "cell_type": "markdown",
   "id": "6edb9c0d",
   "metadata": {},
   "source": [
    "### Slicing Using .loc"
   ]
  },
  {
   "cell_type": "markdown",
   "id": "d16982dc",
   "metadata": {},
   "source": [
    "We can also use .loc to access a range of rows and columns. If we sequentially access a DataFrame (say from index 1 to 3), we call it slicing."
   ]
  },
  {
   "cell_type": "code",
   "execution_count": 24,
   "id": "d4ef2ba1",
   "metadata": {},
   "outputs": [
    {
     "name": "stdout",
     "output_type": "stream",
     "text": [
      "Sliced Rows:\n",
      "      Name  Age    City\n",
      "1      Bob   32   Paris\n",
      "2  Charlie   18  London\n",
      "3    David   47   Tokyo\n",
      "\n",
      "Sliced Columns:\n",
      "      Name  Age\n",
      "0    Alice   25\n",
      "1      Bob   32\n",
      "2  Charlie   18\n",
      "3    David   47\n",
      "4      Eve   33\n"
     ]
    }
   ],
   "source": [
    "import pandas as pd\n",
    "\n",
    "# create a DataFrame\n",
    "data = {\n",
    "    'Name': ['Alice', 'Bob', 'Charlie', 'David', 'Eve'],\n",
    "    'Age': [25, 32, 18, 47, 33],\n",
    "    'City': ['New York', 'Paris', 'London', 'Tokyo', 'Sydney']\n",
    "}\n",
    "\n",
    "df = pd.DataFrame(data)\n",
    "\n",
    "# slice rows from index 1 to 3\n",
    "slice_rows = df.loc[1:3]\n",
    "\n",
    "print(\"Sliced Rows:\")\n",
    "print(slice_rows)\n",
    "print()\n",
    "\n",
    " # slicing columns from 'Name' to 'Age'\n",
    "slice_columns = df.loc[:, 'Name':'Age']\n",
    "\n",
    "print(\"Sliced Columns:\")\n",
    "print(slice_columns)"
   ]
  },
  {
   "cell_type": "markdown",
   "id": "045d696f",
   "metadata": {},
   "source": [
    "Here, we sliced rows and columns using .loc and : operator.\n",
    "\n",
    "Notice the endpoints are inclusive i.e. both 1 and 3 positions are included in df.loc[1:3]."
   ]
  },
  {
   "cell_type": "markdown",
   "id": "b427638a",
   "metadata": {},
   "source": [
    "### Boolean Indexing With .loc"
   ]
  },
  {
   "cell_type": "code",
   "execution_count": 63,
   "id": "30b70ba3",
   "metadata": {},
   "outputs": [
    {
     "name": "stdout",
     "output_type": "stream",
     "text": [
      "Filtered DataFrame: \n",
      "  Name  Age    City\n",
      "1  Bob   32   Paris\n",
      "4  Eve   33  Sydney\n"
     ]
    }
   ],
   "source": [
    "import pandas as pd\n",
    "\n",
    "# create a DataFrame\n",
    "data = {\n",
    "    'Name': ['Alice', 'Bob', 'Charlie', 'David', 'Eve'],\n",
    "    'Age': [25, 32, 18, 47, 33],\n",
    "    'City': ['New York', 'Paris', 'London', 'Tokyo', 'Sydney']\n",
    "}\n",
    "df = pd.DataFrame(data)\n",
    "\n",
    "# boolean indexing with .loc\n",
    "boolean_index = df.loc[(df['Age'] > 30) & (df['Age'] <40)]\n",
    "\n",
    "print(\"Filtered DataFrame: \")\n",
    "print(boolean_index)"
   ]
  },
  {
   "cell_type": "markdown",
   "id": "d9bcbd1f",
   "metadata": {},
   "source": [
    "### Pandas .iloc"
   ]
  },
  {
   "cell_type": "markdown",
   "id": "f5b99cbc",
   "metadata": {},
   "source": [
    "In Pandas, the .iloc property is used to access and modify data within a DataFrame using integer-based indexing. It allows us to select specific rows and columns based on their integer locations."
   ]
  },
  {
   "cell_type": "code",
   "execution_count": null,
   "id": "fe1db2a8",
   "metadata": {},
   "outputs": [],
   "source": [
    "df.iloc[row_indexer, column_indexer]"
   ]
  },
  {
   "cell_type": "markdown",
   "id": "1320aec2",
   "metadata": {},
   "source": [
    "### Indexing Using .iloc"
   ]
  },
  {
   "cell_type": "code",
   "execution_count": 2,
   "id": "7a7d89a6",
   "metadata": {},
   "outputs": [
    {
     "name": "stdout",
     "output_type": "stream",
     "text": [
      "Single Row:\n",
      "Name    Charlie\n",
      "Age          18\n",
      "City     London\n",
      "Name: 2, dtype: object\n",
      "\n",
      "List of Rows:\n",
      "    Name  Age      City\n",
      "0  Alice   25  New York\n",
      "3  David   47     Tokyo\n",
      "4    Eve   33    Sydney\n",
      "\n",
      "List of Columns:\n",
      "      Name      City\n",
      "0    Alice  New York\n",
      "1      Bob     Paris\n",
      "2  Charlie    London\n",
      "3    David     Tokyo\n",
      "4      Eve    Sydney\n",
      "\n",
      "Specific Value:\n",
      "Bob\n"
     ]
    }
   ],
   "source": [
    "import pandas as pd\n",
    "\n",
    "# create a DataFrame\n",
    "data = {\n",
    "    'Name': ['Alice', 'Bob', 'Charlie', 'David', 'Eve'],\n",
    "    'Age': [25, 32, 18, 47, 33],\n",
    "    'City': ['New York', 'Paris', 'London', 'Tokyo', 'Sydney']\n",
    "}\n",
    "df = pd.DataFrame(data)\n",
    "\n",
    "# access single row\n",
    "single_row = df.iloc[2]\n",
    "\n",
    "# access rows 0, 3 and 4\n",
    "row_list = df.iloc[[0, 3, 4]]\n",
    "\n",
    "# access columns 0 and 2\n",
    "column_list = df.iloc[:,[0,2]]\n",
    "\n",
    "# access a specific value\n",
    "specific_value = df.iloc[1, 0]\n",
    "\n",
    "# display result\n",
    "print(\"Single Row:\")\n",
    "print(single_row)\n",
    "print()\n",
    "print(\"List of Rows:\")\n",
    "print(row_list)\n",
    "print()\n",
    "print(\"List of Columns:\")\n",
    "print(column_list)\n",
    "print()\n",
    "print(\"Specific Value:\")\n",
    "print(specific_value)"
   ]
  },
  {
   "cell_type": "markdown",
   "id": "3061f9e6",
   "metadata": {},
   "source": [
    "### Slicing Using .iloc"
   ]
  },
  {
   "cell_type": "code",
   "execution_count": 3,
   "id": "52b255b8",
   "metadata": {},
   "outputs": [
    {
     "name": "stdout",
     "output_type": "stream",
     "text": [
      "Sliced Rows:\n",
      "      Name  Age    City\n",
      "1      Bob   32   Paris\n",
      "2  Charlie   18  London\n",
      "3    David   47   Tokyo\n",
      "\n",
      "Sliced Columns:\n",
      "      Name  Age\n",
      "0    Alice   25\n",
      "1      Bob   32\n",
      "2  Charlie   18\n",
      "3    David   47\n",
      "4      Eve   33\n"
     ]
    }
   ],
   "source": [
    "import pandas as pd\n",
    "\n",
    "# create a sample DataFrame\n",
    "data = {\n",
    "    'Name': ['Alice', 'Bob', 'Charlie', 'David', 'Eve'],\n",
    "    'Age': [25, 32, 18, 47, 33],\n",
    "    'City': ['New York', 'Paris', 'London', 'Tokyo', 'Sydney']\n",
    "}\n",
    "df = pd.DataFrame(data)\n",
    "\n",
    "# slice rows from position 1 to 3\n",
    "slice_rows = df.iloc[1:4]\n",
    "\n",
    "# slice columns from position 0 to 1\n",
    "slice_columns = df.iloc[:, 0:2]\n",
    "\n",
    "# display results\n",
    "print(\"Sliced Rows:\")\n",
    "print(slice_rows)\n",
    "print()\n",
    "print(\"Sliced Columns:\")\n",
    "print(slice_columns)"
   ]
  },
  {
   "cell_type": "markdown",
   "id": "7e6d65c9",
   "metadata": {},
   "source": [
    "### .loc vs .iloc"
   ]
  },
  {
   "cell_type": "markdown",
   "id": "bce0f908",
   "metadata": {},
   "source": [
    ".loc\n",
    "- Label based indexing\n",
    "- Endpoint is included\n",
    "- Boolean Indexing is supported"
   ]
  },
  {
   "cell_type": "markdown",
   "id": "8c6ea2de",
   "metadata": {},
   "source": [
    ".iloc\n",
    "- integer based indexing\n",
    "- Endpoint is not included\n",
    "- Boolean indexing is not supported"
   ]
  },
  {
   "cell_type": "markdown",
   "id": "802f11a7",
   "metadata": {},
   "source": [
    "### Pandas Select"
   ]
  },
  {
   "cell_type": "markdown",
   "id": "f173d5f8",
   "metadata": {},
   "source": [
    "- Pandas select refers to the process of extracting specific portions of data from a DataFrame.\n",
    "\n",
    "- Data selection involves choosing specific rows and columns based on labels, positions, or conditions.\n",
    "\n",
    "- Pandas provides various methods, such as basic indexing, slicing, boolean indexing, and querying, to efficiently extract, filter, and transform data, enabling users to focus on relevant information for analysis and decision-making."
   ]
  },
  {
   "cell_type": "markdown",
   "id": "fba565cd",
   "metadata": {},
   "source": [
    "### Select Data Using Indexing and Slicing"
   ]
  },
  {
   "cell_type": "code",
   "execution_count": 64,
   "id": "7a7a40ba",
   "metadata": {},
   "outputs": [
    {
     "name": "stdout",
     "output_type": "stream",
     "text": [
      "Selecting single column: Name\n",
      "0      Alice\n",
      "1        Bob\n",
      "2    Charlie\n",
      "3      David\n",
      "4        Eve\n",
      "Name: Name, dtype: object\n",
      "\n",
      "Selecting multiple columns: Age and Salary\n",
      " Age  Salary\n",
      "  25   50000\n",
      "  30   60000\n",
      "  22   45000\n",
      "  27   55000\n",
      "  29   52000\n",
      "\n",
      "Selecting rows 1 to 3\n",
      "      Name  Age  Salary\n",
      "1      Bob   30   60000\n",
      "2  Charlie   22   45000\n",
      "3    David   27   55000\n",
      "\n"
     ]
    }
   ],
   "source": [
    "import pandas as pd\n",
    "\n",
    "# create a DataFrame\n",
    "data = {\n",
    "    'Name': ['Alice', 'Bob', 'Charlie', 'David', 'Eve'],\n",
    "    'Age': [25, 30, 22, 27, 29],\n",
    "    'Salary': [50000, 60000, 45000, 55000, 52000]\n",
    "}\n",
    "\n",
    "df = pd.DataFrame(data)\n",
    "\n",
    "# selecting a single column\n",
    "name_column = df['Name']\n",
    "\n",
    "print(\"Selecting single column: Name\")\n",
    "print(name_column)\n",
    "print()\n",
    "\n",
    "# selecting multiple columns\n",
    "age_salary_columns = df[['Age', 'Salary']]\n",
    "\n",
    "print(\"Selecting multiple columns: Age and Salary\")\n",
    "print(age_salary_columns.to_string(index=False))\n",
    "print()\n",
    "\n",
    "# selecting rows using slicing\n",
    "selected_rows = df[1:4]\n",
    "\n",
    "print(\"Selecting rows 1 to 3\")\n",
    "print(selected_rows.to_string(index=True))\n",
    "print()"
   ]
  },
  {
   "cell_type": "markdown",
   "id": "71c3efdf",
   "metadata": {},
   "source": [
    "The .to_string(index=False) is used to display values without the index."
   ]
  },
  {
   "cell_type": "markdown",
   "id": "bb14e984",
   "metadata": {},
   "source": [
    "### Using loc and iloc to Select Data"
   ]
  },
  {
   "cell_type": "markdown",
   "id": "d3695b48",
   "metadata": {},
   "source": [
    "- loc selects rows and columns with specific labels\n",
    "- iloc selects rows and columns at specific index"
   ]
  },
  {
   "cell_type": "code",
   "execution_count": 5,
   "id": "4e00411c",
   "metadata": {},
   "outputs": [
    {
     "name": "stdout",
     "output_type": "stream",
     "text": [
      "Original DataFrame \n",
      "       Name  Age           City\n",
      "0    Alice   25       New York\n",
      "1      Bob   30    Los Angeles\n",
      "2  Charlie   22        Chicago\n",
      "3    David   27        Houston\n",
      "4    Emily   29  San Francisco \n",
      "\n",
      "   Name  Age\n",
      "    Bob   30\n",
      "Charlie   22\n",
      "  David   27\n",
      "\n",
      "   Name        City\n",
      "    Bob Los Angeles\n",
      "Charlie     Chicago\n",
      "  David     Houston\n"
     ]
    }
   ],
   "source": [
    "import pandas as pd\n",
    "\n",
    "data = {\n",
    "    'Name': ['Alice', 'Bob', 'Charlie', 'David', 'Emily'],\n",
    "    'Age': [25, 30, 22, 27, 29],\n",
    "    'City': ['New York', 'Los Angeles', 'Chicago', 'Houston', 'San Francisco']\n",
    "}\n",
    "\n",
    "df = pd.DataFrame(data)\n",
    "print(f\"Original DataFrame \\n {df} \\n\") \n",
    "\n",
    "# loc to select rows and columns by labels\n",
    "# select rows 1 to 3 and columns Name and Age\n",
    "selected_data_loc = df.loc[1:3, ['Name', 'Age']]\n",
    "\n",
    "print(selected_data_loc.to_string(index = False))\n",
    "print() \n",
    "\n",
    "# iloc to select rows and columns by index\n",
    "# select rows 1 to 3 and columns 0 and 2 \n",
    "selected_data_iloc = df.iloc[1:4, [0, 2]]\n",
    "\n",
    "print(selected_data_iloc.to_string(index = False))"
   ]
  },
  {
   "cell_type": "markdown",
   "id": "f879f129",
   "metadata": {},
   "source": [
    "### Select Rows Based on Specific Criteria"
   ]
  },
  {
   "cell_type": "markdown",
   "id": "2d72c933",
   "metadata": {},
   "source": [
    "In Pandas, we can use boolean conditions to filter rows based on specific criteria."
   ]
  },
  {
   "cell_type": "code",
   "execution_count": 6,
   "id": "431377b1",
   "metadata": {},
   "outputs": [
    {
     "name": "stdout",
     "output_type": "stream",
     "text": [
      "    Name  Age Gender\n",
      "1    Bob   30   Male\n",
      "3  David   28   Male\n"
     ]
    }
   ],
   "source": [
    "import pandas as pd\n",
    "\n",
    "# creating a DataFrame\n",
    "data = {\n",
    "    'Name': ['Alice', 'Bob', 'Charlie', 'David', 'Emily'],\n",
    "    'Age': [25, 30, 22, 28, 24],\n",
    "    'Gender': ['Female', 'Male', 'Male', 'Male', 'Female']\n",
    "}\n",
    "\n",
    "df = pd.DataFrame(data)\n",
    "\n",
    "# select rows where Age is greater than 25\n",
    "selected_rows = df[df['Age'] > 25]\n",
    "\n",
    "print(selected_rows)"
   ]
  },
  {
   "cell_type": "markdown",
   "id": "050cdc5a",
   "metadata": {},
   "source": [
    "The boolean indexing is done using the condition"
   ]
  },
  {
   "cell_type": "code",
   "execution_count": null,
   "id": "9e74c049",
   "metadata": {},
   "outputs": [],
   "source": [
    "df['Age'] > 25"
   ]
  },
  {
   "cell_type": "markdown",
   "id": "681ea325",
   "metadata": {},
   "source": [
    "### query() to select data"
   ]
  },
  {
   "cell_type": "markdown",
   "id": "a37a94a5",
   "metadata": {},
   "source": [
    "The query() method in Pandas allows you to select data using a more SQL like syntax."
   ]
  },
  {
   "cell_type": "code",
   "execution_count": 7,
   "id": "5249462d",
   "metadata": {},
   "outputs": [
    {
     "name": "stdout",
     "output_type": "stream",
     "text": [
      " Name  Age  Score\n",
      "  Bob   30     90\n",
      "David   28     80\n",
      "  Eva   35     95\n"
     ]
    }
   ],
   "source": [
    "import pandas as pd\n",
    "\n",
    "data = {\n",
    "    'Name': ['Alice', 'Bob', 'Charlie', 'David', 'Eva'],\n",
    "    'Age': [25, 30, 22, 28, 35],\n",
    "    'Score': [85, 90, 75, 80, 95]\n",
    "}\n",
    "\n",
    "df = pd.DataFrame(data)\n",
    "\n",
    "# select the rows where the age is greater than 25\n",
    "selected_rows = df.query('Age > 25')\n",
    "\n",
    "print(selected_rows.to_string(index = False))"
   ]
  },
  {
   "cell_type": "markdown",
   "id": "7c721281",
   "metadata": {},
   "source": [
    "### Select Rows based on a list of Values"
   ]
  },
  {
   "cell_type": "markdown",
   "id": "7bd08e12",
   "metadata": {},
   "source": [
    "Pandas provides us with the method named isin() to filter rows based on a list of values. "
   ]
  },
  {
   "cell_type": "code",
   "execution_count": 65,
   "id": "7119da46",
   "metadata": {},
   "outputs": [
    {
     "name": "stdout",
     "output_type": "stream",
     "text": [
      "  Bob 30\n",
      "David 28\n"
     ]
    }
   ],
   "source": [
    "import pandas as pd\n",
    "\n",
    "data = {\n",
    "    'Name': ['Alice', 'Bob', 'Charlie', 'David', 'Emily'],\n",
    "    'Age': [25, 30, 22, 28, 24]\n",
    "}\n",
    "\n",
    "df = pd.DataFrame(data)\n",
    "\n",
    "# create a list of names to select\n",
    "names_to_filter = ['Bob', 'David']\n",
    "\n",
    "# use isin() to select rows based on the 'Name' column\n",
    "selected_rows = df[df['Name'].isin(names_to_filter)]\n",
    "\n",
    "print(selected_rows.to_string(header=False,index = False))"
   ]
  },
  {
   "cell_type": "markdown",
   "id": "6c86b772",
   "metadata": {},
   "source": [
    "### Pandas MultiIndex"
   ]
  },
  {
   "cell_type": "markdown",
   "id": "c20998bb",
   "metadata": {},
   "source": [
    "- A MultiIndex in Pandas is a hierarchical indexing structure that allows us to represent and work with higher-dimensional data efficiently.\n",
    "\n",
    "- While a typical index refers to a single column, a MultiIndex contains multiple levels of indexes. Each column in a MultiIndex is linked to one another through a parent/relationship."
   ]
  },
  {
   "cell_type": "code",
   "execution_count": 9,
   "id": "e61b2e04",
   "metadata": {
    "scrolled": true
   },
   "outputs": [
    {
     "name": "stdout",
     "output_type": "stream",
     "text": [
      "       Continent         Country  Population\n",
      "0  North America   United States   331002651\n",
      "1         Europe         Germany    83783942\n",
      "2           Asia           China  1439323776\n",
      "3  North America          Canada    37742154\n",
      "4           Asia           Japan   126476461\n",
      "5         Europe          France    65273511\n",
      "6  North America          Mexico   128932753\n",
      "7           Asia           India  1380004385\n",
      "8         Europe  United Kingdom    67886011\n",
      "9           Asia           Nepal    29136808\n"
     ]
    }
   ],
   "source": [
    "import pandas as pd\n",
    "\n",
    "# create a dictionary\n",
    "data = {\n",
    "    \"Continent\": [\"North America\", \"Europe\", \"Asia\", \"North America\", \"Asia\", \"Europe\", \"North America\", \"Asia\", \"Europe\", \"Asia\"],\n",
    "    \"Country\": [\"United States\", \"Germany\", \"China\", \"Canada\", \"Japan\", \"France\", \"Mexico\", \"India\", \"United Kingdom\", \"Nepal\"],\n",
    "    \"Population\": [331002651, 83783942, 1439323776, 37742154, 126476461, 65273511, 128932753, 1380004385, 67886011, 29136808]\n",
    "}\n",
    "\n",
    "# create dataframe from dictionary\n",
    "df = pd.DataFrame(data)\n",
    "\n",
    "print(df)"
   ]
  },
  {
   "cell_type": "markdown",
   "id": "d78b7d19",
   "metadata": {},
   "source": [
    "- Notice the redundancy in the Continent column. North America and Europe are repeated three times each while Asia is repeated four times.\n",
    "\n",
    "- Additionally, we have arranged the entries in a random order and used integer values as index for the rows, thus complicating the task of locating data for a particular country. This task becomes tedious as the size of the data set grows.\n",
    "- In situations like this, hierarchical indexing makes much more sense"
   ]
  },
  {
   "cell_type": "markdown",
   "id": "cec38035",
   "metadata": {},
   "source": [
    "### Create MultiIndex in Pandas"
   ]
  },
  {
   "cell_type": "markdown",
   "id": "979ce95f",
   "metadata": {},
   "source": [
    "In Pandas, we achieve hierarchical indexing using the concept of MultiIndex."
   ]
  },
  {
   "cell_type": "code",
   "execution_count": 68,
   "id": "dee911fb",
   "metadata": {},
   "outputs": [
    {
     "name": "stdout",
     "output_type": "stream",
     "text": [
      "                              Population\n",
      "Continent     Country                   \n",
      "Asia          China           1439323776\n",
      "              Japan            126476461\n",
      "              India           1380004385\n",
      "              Nepal             29136808\n",
      "Europe        Germany           83783942\n",
      "              France            65273511\n",
      "              United Kingdom    67886011\n",
      "North America United States    331002651\n",
      "              Canada            37742154\n",
      "              Mexico           128932753\n"
     ]
    }
   ],
   "source": [
    "import pandas as pd\n",
    "\n",
    "# create a dictionary\n",
    "data = {\n",
    "    \"Continent\": [\"North America\", \"Europe\", \"Asia\", \"North America\", \"Asia\", \"Europe\", \"North America\", \"Asia\", \"Europe\", \"Asia\"],\n",
    "    \"Country\": [\"United States\", \"Germany\", \"China\", \"Canada\", \"Japan\", \"France\", \"Mexico\", \"India\", \"United Kingdom\", \"Nepal\"],\n",
    "    \"Population\": [331002651, 83783942, 1439323776, 37742154, 126476461, 65273511, 128932753, 1380004385, 67886011, 29136808]\n",
    "}\n",
    "\n",
    "# create dataframe from dictionary\n",
    "df = pd.DataFrame(data)\n",
    "\n",
    "# sort the data by continent\n",
    "df.sort_values('Continent', inplace=True)\n",
    "\n",
    "# create a multiindex\n",
    "df.set_index(['Continent','Country'], inplace=True)\n",
    "\n",
    "print(df)"
   ]
  },
  {
   "cell_type": "markdown",
   "id": "ce933e22",
   "metadata": {},
   "source": [
    "- In the above example, we first sorted the values in the dataframe df based on the Continent column. This groups the entries of the same continent together.\n",
    "\n",
    "- We then created a MultiIndex by passing a list of columns as an argument to the set_index() function."
   ]
  },
  {
   "cell_type": "markdown",
   "id": "d2bd5190",
   "metadata": {},
   "source": [
    "### Access Rows with MultiIndex"
   ]
  },
  {
   "cell_type": "code",
   "execution_count": 11,
   "id": "64e69c94",
   "metadata": {},
   "outputs": [
    {
     "name": "stdout",
     "output_type": "stream",
     "text": [
      "Asia\n",
      "          Population\n",
      "Country            \n",
      "China    1439323776\n",
      "Japan     126476461\n",
      "India    1380004385\n",
      "Nepal      29136808\n",
      "\n",
      "Canada\n",
      " Population    37742154\n",
      "Name: (North America, Canada), dtype: int64\n"
     ]
    }
   ],
   "source": [
    "import pandas as pd\n",
    "\n",
    "# create a dictionary\n",
    "data = {\n",
    "    \"Continent\": [\"North America\", \"Europe\", \"Asia\", \"North America\", \"Asia\", \"Europe\", \"North America\", \"Asia\", \"Europe\", \"Asia\"],\n",
    "    \"Country\": [\"United States\", \"Germany\", \"China\", \"Canada\", \"Japan\", \"France\", \"Mexico\", \"India\", \"United Kingdom\", \"Nepal\"],\n",
    "    \"Population\": [331002651, 83783942, 1439323776, 37742154, 126476461, 65273511, 128932753, 1380004385, 67886011, 29136808]\n",
    "}\n",
    "\n",
    "# create dataframe from dictionary\n",
    "df = pd.DataFrame(data)\n",
    "\n",
    "# sort the data by continent\n",
    "df.sort_values('Continent', inplace=True)\n",
    "\n",
    "# create a multiindex\n",
    "df.set_index(['Continent','Country'], inplace=True)\n",
    "\n",
    "# access all entries under Asia\n",
    "asia = df.loc['Asia']\n",
    "\n",
    "# access Canada\n",
    "canada = df.loc[('North America', 'Canada')]\n",
    "\n",
    "print('Asia\\n', asia)\n",
    "print('\\nCanada\\n', canada)"
   ]
  },
  {
   "cell_type": "markdown",
   "id": "66d8cf1e",
   "metadata": {},
   "source": [
    "- We need to provide the full hierarchical index in the form of a tuple in order to access a particular row.\n",
    "\n",
    "- Only providing the label of the child column will result in an error."
   ]
  },
  {
   "cell_type": "code",
   "execution_count": null,
   "id": "a476dec0",
   "metadata": {},
   "outputs": [],
   "source": [
    "# correct\n",
    "df.loc[('North America' , 'Canada')]\n",
    "\n",
    "# error\n",
    "df.loc['Canada']"
   ]
  },
  {
   "cell_type": "markdown",
   "id": "7d761be7",
   "metadata": {},
   "source": [
    "### MultiIndex from Arrays"
   ]
  },
  {
   "cell_type": "markdown",
   "id": "3bee2b37",
   "metadata": {},
   "source": [
    "We can also create a MultiIndex from an array of arrays using the from_arrays() method."
   ]
  },
  {
   "cell_type": "code",
   "execution_count": 12,
   "id": "257b7216",
   "metadata": {},
   "outputs": [
    {
     "name": "stdout",
     "output_type": "stream",
     "text": [
      "                              Population\n",
      "Continent     Country                   \n",
      "Asia          China           1439323776\n",
      "              India           1380004385\n",
      "              Japan            126476461\n",
      "              Nepal             29136808\n",
      "Europe        France            65273511\n",
      "              Germany           83783942\n",
      "              United Kingdom    67886011\n",
      "North America Canada            37742154\n",
      "              Mexico           128932753\n",
      "              United States    331002651\n"
     ]
    }
   ],
   "source": [
    "import pandas as pd\n",
    "\n",
    "# create arrays\n",
    "continent = ['Asia', 'Asia', 'Asia', 'Asia', 'Europe', 'Europe', 'Europe', 'North America', 'North America', 'North America']\n",
    "country = ['China', 'India', 'Japan', 'Nepal', 'France', 'Germany', 'United Kingdom', 'Canada', 'Mexico', 'United States']\n",
    "population = [1439323776, 1380004385, 126476461, 29136808, 65273511, 83783942, 67886011, 37742154, 128932753, 331002651]\n",
    "\n",
    "# create array of arrays\n",
    "index_array = [continent, country]\n",
    "\n",
    "# create multiindex from array\n",
    "multi_index = pd.MultiIndex.from_arrays(index_array, names=['Continent', 'Country'])\n",
    "\n",
    "# create dataframe using multiindex\n",
    "df = pd.DataFrame({'Population' :population}, index=multi_index)\n",
    "\n",
    "print(df)"
   ]
  },
  {
   "cell_type": "markdown",
   "id": "ea70707f",
   "metadata": {},
   "source": [
    "- we created a MultiIndex object named multi_index from two arrays: continent and country.\n",
    "\n",
    "- We then created a DataFrame using the population array and assigned multi_index as its index."
   ]
  },
  {
   "cell_type": "markdown",
   "id": "16820f67",
   "metadata": {},
   "source": [
    "## Pandas Reshape"
   ]
  },
  {
   "cell_type": "markdown",
   "id": "f11411ba",
   "metadata": {},
   "source": [
    "- In Pandas, reshaping data refers to the process of converting a DataFrame from one format to another for better data visualization and analysis.\n",
    "\n",
    "- Pandas provides multiple methods like pivot(), pivot_table(), stack(), unstack() and melt() to reshape data."
   ]
  },
  {
   "cell_type": "code",
   "execution_count": 13,
   "id": "0e1137ea",
   "metadata": {},
   "outputs": [
    {
     "name": "stdout",
     "output_type": "stream",
     "text": [
      "Original Dataframe:\n",
      "          Date Category  Value\n",
      "0  2023-08-01        A     10\n",
      "1  2023-08-01        B     20\n",
      "2  2023-08-02        A     30\n",
      "3  2023-08-02        B     40\n",
      "Reshaped DataFrame:\n",
      " Category     A   B\n",
      "Date              \n",
      "2023-08-01  10  20\n",
      "2023-08-02  30  40\n"
     ]
    }
   ],
   "source": [
    "import pandas as pd\n",
    "\n",
    "# create a DataFrame\n",
    "data = {'Date': ['2023-08-01', '2023-08-01', '2023-08-02', '2023-08-02'],\n",
    "        'Category': ['A', 'B', 'A', 'B'],\n",
    "        'Value': [10, 20, 30, 40]}\n",
    "df = pd.DataFrame(data)\n",
    "\n",
    "print(\"Original Dataframe:\\n\", df)\n",
    "\n",
    "# pivot the  DataFrame\n",
    "pivot_df = df.pivot(index='Date', columns='Category', values='Value')\n",
    "print(\"Reshaped DataFrame:\\n\", pivot_df)"
   ]
  },
  {
   "cell_type": "markdown",
   "id": "0952c9d9",
   "metadata": {},
   "source": [
    "- we have passed the parameters index, columns and values to the pivot function. Here,\n",
    "\n",
    "- index specifies the column to be used as the index for the pivoted DataFrame\n",
    "- columns specifies the column whose unique values will become the new column headers\n",
    "- values specifies the column containing the values to be placed in the new columns"
   ]
  },
  {
   "cell_type": "markdown",
   "id": "31871900",
   "metadata": {},
   "source": [
    "### Reshape Data using pivot_table"
   ]
  },
  {
   "cell_type": "markdown",
   "id": "9018838d",
   "metadata": {},
   "source": [
    "- The pivot_table() function in Pandas is a way for reshaping and summarizing data in a DataFrame.\n",
    "\n",
    "- It allows us to create a pivot table that aggregates and summarizes data based on the specified index, columns, and aggregation functions."
   ]
  },
  {
   "cell_type": "code",
   "execution_count": 14,
   "id": "fac9f0aa",
   "metadata": {},
   "outputs": [
    {
     "name": "stdout",
     "output_type": "stream",
     "text": [
      "Original Dataframe:\n",
      "   Category  Value\n",
      "0        A     10\n",
      "1        B     20\n",
      "2        A     30\n",
      "3        B     40\n",
      "4        A     50\n",
      "5        B     60\n",
      "Reshaped Dataframe:\n",
      "           Value\n",
      "Category       \n",
      "A            30\n",
      "B            40\n"
     ]
    }
   ],
   "source": [
    "import pandas as pd\n",
    "\n",
    "# create a DataFrame\n",
    "data = {'Category': ['A', 'B', 'A', 'B', 'A', 'B'],\n",
    "        'Value': [10, 20, 30, 40, 50, 60]}\n",
    "df = pd.DataFrame(data)\n",
    "print(\"Original Dataframe:\\n\", df)\n",
    "\n",
    "# create a pivot table\n",
    "pivot_table_df = df.pivot_table(index='Category', values='Value', aggfunc='mean')\n",
    "print(\"Reshaped Dataframe:\\n\", pivot_table_df)"
   ]
  },
  {
   "cell_type": "markdown",
   "id": "759cdb5f",
   "metadata": {},
   "source": [
    "Inside the pivot_table(), we have passed parameters as\n",
    "\n",
    "- index = Category - specifying the Category column as the index of the pivot table. This means that each unique value in Category will become a row index in the pivot table\n",
    "- values = Value - specifying the Value column as the source of values that will be used for aggregation in the pivot table\n",
    "- aggfunc = mean - we are using the mean aggregation function to calculate the average value of the Value column for each category."
   ]
  },
  {
   "cell_type": "markdown",
   "id": "19ca486a",
   "metadata": {},
   "source": [
    "### Reshape Data Using stack() and unstack()"
   ]
  },
  {
   "cell_type": "markdown",
   "id": "38df7177",
   "metadata": {},
   "source": [
    "- In Pandas, we can also use the stack() and unstack() to reshape data.\n",
    "\n",
    "- stack() is used to pivot a level of the column labels, transforming them into innermost row index levels.\n",
    "- unstack() is used to pivot a level of the row index, transforming it into an outermost column level"
   ]
  },
  {
   "cell_type": "code",
   "execution_count": 15,
   "id": "deec0669",
   "metadata": {},
   "outputs": [
    {
     "name": "stdout",
     "output_type": "stream",
     "text": [
      "Stack:\n",
      " Date                  \n",
      "2023-08-01  Category_A    10\n",
      "            Category_B    30\n",
      "2023-08-02  Category_A    20\n",
      "            Category_B    40\n",
      "dtype: int64\n",
      "\n",
      "Unstack: \n",
      "             Category_A  Category_B\n",
      "Date                              \n",
      "2023-08-01          10          30\n",
      "2023-08-02          20          40\n"
     ]
    }
   ],
   "source": [
    "import pandas as pd\n",
    "\n",
    "# create a DataFrame\n",
    "data = {'Date': ['2023-08-01', '2023-08-02'],\n",
    "        'Category_A': [10, 20],\n",
    "        'Category_B': [30, 40]}\n",
    "df = pd.DataFrame(data)\n",
    "\n",
    "# set 'Date' column as the index\n",
    "df.set_index('Date', inplace=True)\n",
    "\n",
    "# stack the columns into rows\n",
    "stacked_df = df.stack()\n",
    "print(\"Stack:\\n\", stacked_df)\n",
    "print()\n",
    "\n",
    "# unstack the rows back to columns\n",
    "unstacked_df = stacked_df.unstack()\n",
    "print(\"Unstack: \\n\", unstacked_df)"
   ]
  },
  {
   "cell_type": "markdown",
   "id": "e4ca4c98",
   "metadata": {},
   "source": [
    "- stack() is applied to the df DataFrame, which pivots the column labels (Category_A and Category_B) into a new level of row index.\n",
    "- unstack() is applied to the stacked_df, which reverses the operation and pivots the innermost level of row index back to columns."
   ]
  },
  {
   "cell_type": "markdown",
   "id": "a434e674",
   "metadata": {},
   "source": [
    "### Use of melt() to Reshape DataFrame"
   ]
  },
  {
   "cell_type": "markdown",
   "id": "338d37b4",
   "metadata": {},
   "source": [
    "The melt() function in Pandas transforms a DataFrame from a wide format to a long format."
   ]
  },
  {
   "cell_type": "code",
   "execution_count": 16,
   "id": "ad769bba",
   "metadata": {},
   "outputs": [
    {
     "name": "stdout",
     "output_type": "stream",
     "text": [
      "    Name  Subject  Score\n",
      "0  Alice     Math     90\n",
      "1    Bob     Math     85\n",
      "2  Alice  History     75\n",
      "3    Bob  History     92\n"
     ]
    }
   ],
   "source": [
    "import pandas as pd\n",
    "\n",
    "# create a sample DataFrame\n",
    "data = {'Name': ['Alice', 'Bob'],\n",
    "        'Math': [90, 85],\n",
    "        'History': [75, 92]}\n",
    "df = pd.DataFrame(data)\n",
    "\n",
    "# melt the DataFrame\n",
    "melted_df = pd.melt(df, id_vars='Name', var_name='Subject', value_name='Score')\n",
    "\n",
    "print(melted_df)"
   ]
  },
  {
   "cell_type": "markdown",
   "id": "bf86921f",
   "metadata": {},
   "source": [
    "Inside melt(), we have passed different parameters,\n",
    "\n",
    "- id_vars specifies the column that we want to keep unchanged\n",
    "- var_name specifies the name for the new column that will hold the variable names ( Math and History).\n",
    "- value_name specifies the name for the new column that will hold the values (the scores)."
   ]
  },
  {
   "cell_type": "markdown",
   "id": "199aa658",
   "metadata": {},
   "source": [
    "### Pandas Handling Duplicate Values"
   ]
  },
  {
   "cell_type": "markdown",
   "id": "b77407ca",
   "metadata": {},
   "source": [
    "In large datasets, we often encounter duplicate entries in tables. These duplicate entries can throw off our analysis and skew the results."
   ]
  },
  {
   "cell_type": "markdown",
   "id": "204ade83",
   "metadata": {},
   "source": [
    "### Find duplicate entries"
   ]
  },
  {
   "cell_type": "markdown",
   "id": "39dc5ac5",
   "metadata": {},
   "source": [
    "We can find duplicate entries in a DataFrame using the duplicated() method. It returns True if a row is duplicated and returns False otherwise."
   ]
  },
  {
   "cell_type": "code",
   "execution_count": 17,
   "id": "7d540793",
   "metadata": {},
   "outputs": [
    {
     "name": "stdout",
     "output_type": "stream",
     "text": [
      "0    False\n",
      "1    False\n",
      "2     True\n",
      "3     True\n",
      "4    False\n",
      "dtype: bool\n"
     ]
    }
   ],
   "source": [
    "import pandas as pd\n",
    "\n",
    "# create dataframe\n",
    "data = {\n",
    "    'Name': ['John', 'Anna', 'John', 'Anna', 'John'],\n",
    "    'Age': [28, 24, 28, 24, 19],\n",
    "    'City': ['New York', 'Los Angeles', 'New York', 'Los Angeles', 'Chicago']\n",
    "}\n",
    "df = pd.DataFrame(data)\n",
    "\n",
    "# check for duplicate entries\n",
    "print(df.duplicated())"
   ]
  },
  {
   "cell_type": "markdown",
   "id": "5be9ef17",
   "metadata": {},
   "source": [
    "### Find Duplicates based on Columns"
   ]
  },
  {
   "cell_type": "markdown",
   "id": "e9d58360",
   "metadata": {},
   "source": [
    "By default, duplicated() considers all columns. To find duplicates based on certain columns, we can pass them as a list to the duplicated() function."
   ]
  },
  {
   "cell_type": "code",
   "execution_count": 18,
   "id": "df891547",
   "metadata": {},
   "outputs": [
    {
     "name": "stdout",
     "output_type": "stream",
     "text": [
      "0    False\n",
      "1    False\n",
      "2    False\n",
      "3     True\n",
      "4    False\n",
      "dtype: bool\n"
     ]
    }
   ],
   "source": [
    "import pandas as pd\n",
    "\n",
    "# create dataframe\n",
    "data = {\n",
    "    'Name': ['John', 'Anna', 'Johnny', 'Anna', 'John'],\n",
    "    'Age': [28, 24, 28, 24, 19],\n",
    "    'City': ['New York', 'Las Vegas', 'New York', 'Los Angeles', 'Chicago']\n",
    "}\n",
    "df = pd.DataFrame(data)\n",
    "\n",
    "# check for duplicate entries in columns Name and Age\n",
    "print(df.duplicated(subset=['Name', 'Age']))"
   ]
  },
  {
   "cell_type": "markdown",
   "id": "e8e924d7",
   "metadata": {},
   "source": [
    "### Remove Duplicate Entries"
   ]
  },
  {
   "cell_type": "markdown",
   "id": "ed3bc682",
   "metadata": {},
   "source": [
    "We can remove duplicate entries in Pandas using the drop_duplicates() method. "
   ]
  },
  {
   "cell_type": "code",
   "execution_count": 19,
   "id": "d0dd307b",
   "metadata": {},
   "outputs": [
    {
     "name": "stdout",
     "output_type": "stream",
     "text": [
      "   Name  Age         City\n",
      "0  John   28     New York\n",
      "1  Anna   24  Los Angeles\n",
      "4  John   19      Chicago\n"
     ]
    }
   ],
   "source": [
    "import pandas as pd\n",
    "\n",
    "# create dataframe\n",
    "data = {\n",
    "    'Name': ['John', 'Anna', 'John', 'Anna', 'John'],\n",
    "    'Age': [28, 24, 28, 24, 19],\n",
    "    'City': ['New York', 'Los Angeles', 'New York', 'Los Angeles', 'Chicago']\n",
    "}\n",
    "df = pd.DataFrame(data)\n",
    "\n",
    "# remove duplicates\n",
    "df.drop_duplicates(inplace=True)\n",
    "\n",
    "print(df)"
   ]
  },
  {
   "cell_type": "markdown",
   "id": "403fd9f4",
   "metadata": {},
   "source": [
    "- Here, inplace=True specifies that the changes are to be made in the original dataframe.\n",
    "\n",
    "- Notice that the drop_duplicates() function keeps the first duplicate entry and removes the last by default. Here, the first and the second rows are kept while the third and the fourth rows are removed."
   ]
  },
  {
   "cell_type": "markdown",
   "id": "b2c6ab18",
   "metadata": {},
   "source": [
    "To keep the last entry, we can pass the keep='last' argument."
   ]
  },
  {
   "cell_type": "code",
   "execution_count": 20,
   "id": "3ff2acdf",
   "metadata": {
    "scrolled": true
   },
   "outputs": [
    {
     "name": "stdout",
     "output_type": "stream",
     "text": [
      "   Name  Age         City\n",
      "2  John   28     New York\n",
      "3  Anna   24  Los Angeles\n",
      "4  John   19      Chicago\n"
     ]
    }
   ],
   "source": [
    "import pandas as pd\n",
    "\n",
    "# create dataframe\n",
    "data = {\n",
    "    'Name': ['John', 'Anna', 'John', 'Anna', 'John'],\n",
    "    'Age': [28, 24, 28, 24, 19],\n",
    "    'City': ['New York', 'Los Angeles', 'New York', 'Los Angeles', 'Chicago']\n",
    "}\n",
    "df = pd.DataFrame(data)\n",
    "\n",
    "# remove duplicates, keep last entries\n",
    "df.drop_duplicates(keep='last', inplace=True)\n",
    "\n",
    "print(df)"
   ]
  },
  {
   "cell_type": "markdown",
   "id": "da1d4479",
   "metadata": {},
   "source": [
    "### Pandas Pivot"
   ]
  },
  {
   "cell_type": "markdown",
   "id": "e58d8ef7",
   "metadata": {},
   "source": [
    "The pivot() function in Pandas reshapes data based on column values. It takes simple column-wise data as input, and groups the entries into a two-dimensional table."
   ]
  },
  {
   "cell_type": "code",
   "execution_count": 8,
   "id": "dcead746",
   "metadata": {},
   "outputs": [
    {
     "name": "stdout",
     "output_type": "stream",
     "text": [
      "Original DataFrame\n",
      "          Date         City  Temperature\n",
      "0  2023-01-01     New York           32\n",
      "1  2023-01-01  Los Angeles           75\n",
      "2  2023-01-02     New York           30\n",
      "3  2023-01-02  Los Angeles           77\n",
      "\n",
      "Reshaped DataFrame\n",
      " City        Los Angeles  New York\n",
      "Date                             \n",
      "2023-01-01           75        32\n",
      "2023-01-02           77        30\n"
     ]
    }
   ],
   "source": [
    "import pandas as pd\n",
    "\n",
    "# create a dataframe\n",
    "data = {'Date': ['2023-01-01', '2023-01-01', '2023-01-02', '2023-01-02'],\n",
    "        'City': ['New York', 'Los Angeles', 'New York', 'Los Angeles'],\n",
    "        'Temperature': [32, 75, 30, 77]}\n",
    "df = pd.DataFrame(data)\n",
    "\n",
    "print(\"Original DataFrame\\n\", df)\n",
    "print()\n",
    "\n",
    "# pivot the dataframe\n",
    "pivot_df = df.pivot(index='Date', columns='City', values='Temperature')\n",
    "\n",
    "print(\"Reshaped DataFrame\\n\", pivot_df)"
   ]
  },
  {
   "cell_type": "markdown",
   "id": "f73c16b5",
   "metadata": {},
   "source": [
    "- Notice the original and reshaped DataFrame in the output section. The reshaped DataFrame is a multidimensional table that shows the temperature based on the city and the date.\n",
    "\n",
    "- Thus the pivot() operation reshapes the data to make it clearer for further analysis."
   ]
  },
  {
   "cell_type": "markdown",
   "id": "739daeed",
   "metadata": {},
   "source": [
    "### pivot() syntax"
   ]
  },
  {
   "cell_type": "code",
   "execution_count": null,
   "id": "18a3db5d",
   "metadata": {},
   "outputs": [],
   "source": [
    "df.pivot(index=none,columns=none,values=none)"
   ]
  },
  {
   "cell_type": "markdown",
   "id": "5cf4cc40",
   "metadata": {},
   "source": [
    "- index: the column to use as row labels\n",
    "- columns: the column that will be reshaped as columns\n",
    "- values: the column(s) to use for the new DataFrame's values"
   ]
  },
  {
   "cell_type": "markdown",
   "id": "71152e40",
   "metadata": {},
   "source": [
    "### pivot for multiple values"
   ]
  },
  {
   "cell_type": "markdown",
   "id": "2cecd38d",
   "metadata": {},
   "source": [
    "If we omit the values argument in pivot(), it selects all the remaining columns (besides the ones specified index and columns) as values for the pivot table."
   ]
  },
  {
   "cell_type": "code",
   "execution_count": 9,
   "id": "e6c425c2",
   "metadata": {},
   "outputs": [
    {
     "name": "stdout",
     "output_type": "stream",
     "text": [
      "Original DataFrame\n",
      "         Date         City  Temperature  Humidity\n",
      "0  2023-01-01     New York           32        80\n",
      "1  2023-01-01  Los Angeles           75        10\n",
      "2  2023-01-02     New York           30        85\n",
      "3  2023-01-02  Los Angeles           77         5\n",
      "\n",
      "Reshaped DataFrame\n",
      "           Temperature             Humidity         \n",
      "City       Los Angeles New York Los Angeles New York\n",
      "Date                                                \n",
      "2023-01-01          75       32          10       80\n",
      "2023-01-02          77       30           5       85\n"
     ]
    }
   ],
   "source": [
    "import pandas as pd\n",
    "\n",
    "# create a dataframe\n",
    "data = {'Date': ['2023-01-01', '2023-01-01', '2023-01-02', '2023-01-02'],\n",
    "        'City': ['New York', 'Los Angeles', 'New York', 'Los Angeles'],\n",
    "        'Temperature': [32, 75, 30, 77],\n",
    "        'Humidity': [80, 10, 85, 5]}\n",
    "\n",
    "df = pd.DataFrame(data)\n",
    "\n",
    "print('Original DataFrame')\n",
    "print(df)\n",
    "print()\n",
    "\n",
    "# pivot the dataframe\n",
    "pivot_df = df.pivot(index='Date', columns='City')\n",
    "\n",
    "print('Reshaped DataFrame')\n",
    "print(pivot_df)"
   ]
  },
  {
   "cell_type": "markdown",
   "id": "e4c0c0ef",
   "metadata": {},
   "source": [
    "### pivot() vs pivot_table()"
   ]
  },
  {
   "cell_type": "markdown",
   "id": "8713e64f",
   "metadata": {},
   "source": [
    "The pivot() and pivot_table() functions perform similar operations but with few key differences."
   ]
  },
  {
   "cell_type": "markdown",
   "id": "354273a2",
   "metadata": {},
   "source": [
    "#### pivot()\n",
    "- does not allow aggregation of data\n",
    "- cannot handle duplicate index values\n",
    "- only accepts a single level index."
   ]
  },
  {
   "cell_type": "markdown",
   "id": "c77d77a1",
   "metadata": {},
   "source": [
    "#### pivot_table()\n",
    "- allows aggregation(sum,mean,count etc)\n",
    "- can handle duplicate index values\n",
    "- accepts multi-level index for complex data."
   ]
  },
  {
   "cell_type": "markdown",
   "id": "9a5f5f82",
   "metadata": {},
   "source": [
    "### Pandas Pivot Table"
   ]
  },
  {
   "cell_type": "markdown",
   "id": "1b41b402",
   "metadata": {},
   "source": [
    "The pivot_table() function in Pandas allows us to create a spreadsheet-style pivot table making it easier to group and analyze our data."
   ]
  },
  {
   "cell_type": "code",
   "execution_count": 57,
   "id": "a3114448",
   "metadata": {},
   "outputs": [
    {
     "name": "stdout",
     "output_type": "stream",
     "text": [
      "Original DataFrame\n",
      "          Date         City  Temperature\n",
      "0  2023-01-01     New York           32\n",
      "1  2023-01-01  Los Angeles           75\n",
      "2  2023-01-02     New York           30\n",
      "3  2023-01-02  Los Angeles           77\n",
      "\n",
      "Reshaped DataFrame\n",
      " City        Los Angeles  New York\n",
      "Date                             \n",
      "2023-01-01           75        32\n",
      "2023-01-02           77        30\n"
     ]
    }
   ],
   "source": [
    "import pandas as pd\n",
    "\n",
    "# create a dataframe\n",
    "data = {'Date': ['2023-01-01', '2023-01-01', '2023-01-02', '2023-01-02'],\n",
    "        'City': ['New York', 'Los Angeles', 'New York', 'Los Angeles'],\n",
    "        'Temperature': [32, 75, 30, 77]}\n",
    "df = pd.DataFrame(data)\n",
    "\n",
    "print(\"Original DataFrame\\n\", df)\n",
    "print()\n",
    "\n",
    "# pivot the dataframe\n",
    "pivot_df = df.pivot_table(index='Date', columns='City', values='Temperature')\n",
    "\n",
    "print(\"Reshaped DataFrame\\n\", pivot_df)"
   ]
  },
  {
   "cell_type": "markdown",
   "id": "dbaae343",
   "metadata": {},
   "source": [
    "- index: the column to use as row labels\n",
    "- columns: the column that will be reshaped as columns\n",
    "- values: the column(s) to use for the new DataFrame's values\n",
    "- aggfunc: the function to use for aggregation, defaulting to 'mean'\n",
    "- fill_value: value to replace missing values with\n",
    "- dropna: whether to exclude the columns whose entries are all NaN"
   ]
  },
  {
   "cell_type": "markdown",
   "id": "ad825e70",
   "metadata": {},
   "source": [
    "### pivot_table() with Multiple Values"
   ]
  },
  {
   "cell_type": "markdown",
   "id": "c1c1edcc",
   "metadata": {},
   "source": [
    "If we omit the values argument in pivot_table(), it selects all the remaining columns (besides the ones specified index and columns) as values for the pivot table."
   ]
  },
  {
   "cell_type": "code",
   "execution_count": 58,
   "id": "ca87d329",
   "metadata": {},
   "outputs": [
    {
     "name": "stdout",
     "output_type": "stream",
     "text": [
      "Original DataFrame\n",
      "         Date         City  Temperature  Humidity\n",
      "0  2023-01-01     New York           32        80\n",
      "1  2023-01-01  Los Angeles           75        10\n",
      "2  2023-01-02     New York           30        85\n",
      "3  2023-01-02  Los Angeles           77         5\n",
      "\n",
      "Reshaped DataFrame\n",
      "              Humidity          Temperature         \n",
      "City       Los Angeles New York Los Angeles New York\n",
      "Date                                                \n",
      "2023-01-01          10       80          75       32\n",
      "2023-01-02           5       85          77       30\n"
     ]
    }
   ],
   "source": [
    "import pandas as pd\n",
    "\n",
    "# create a dataframe\n",
    "data = {'Date': ['2023-01-01', '2023-01-01', '2023-01-02', '2023-01-02'],\n",
    "        'City': ['New York', 'Los Angeles', 'New York', 'Los Angeles'],\n",
    "        'Temperature': [32, 75, 30, 77],\n",
    "        'Humidity': [80, 10, 85, 5]}\n",
    "\n",
    "df = pd.DataFrame(data)\n",
    "\n",
    "print('Original DataFrame')\n",
    "print(df)\n",
    "print()\n",
    "\n",
    "# pivot the dataframe\n",
    "pivot_df = df.pivot_table(index='Date', columns='City')\n",
    "\n",
    "print('Reshaped DataFrame')\n",
    "print(pivot_df)"
   ]
  },
  {
   "cell_type": "markdown",
   "id": "bab3c179",
   "metadata": {},
   "source": [
    "### pivot_table() With Aggregate Functions"
   ]
  },
  {
   "cell_type": "markdown",
   "id": "306a3af7",
   "metadata": {},
   "source": [
    "We can use the pivot_table() method with different aggregate functions using the aggfunc parameter. We can set the value of aggfunc to functions such as 'sum', 'mean', 'count', 'max' or 'min'."
   ]
  },
  {
   "cell_type": "code",
   "execution_count": 59,
   "id": "f890783f",
   "metadata": {},
   "outputs": [
    {
     "name": "stdout",
     "output_type": "stream",
     "text": [
      "             Temperature\n",
      "City                    \n",
      "Los Angeles    76.666667\n",
      "New York       31.666667\n"
     ]
    }
   ],
   "source": [
    "import pandas as pd\n",
    "\n",
    "data = {'Date': ['2023-01-01', '2023-01-01', '2023-01-02', '2023-01-02', '2023-01-03', '2023-01-03'],\n",
    "        'City': ['New York', 'Los Angeles', 'New York', 'Los Angeles', 'New York', 'Los Angeles'],\n",
    "        'Temperature': [32, 75, 30, 77, 33, 78],\n",
    "        'Humidity': [80, 10, 85, 5, 81, 7]}\n",
    "\n",
    "df = pd.DataFrame(data)\n",
    "\n",
    "# calculate mean temperature for each city using pivot_table()\n",
    "mean_temperature = df.pivot_table(index='City', values='Temperature', aggfunc='mean')\n",
    "\n",
    "print(mean_temperature)"
   ]
  },
  {
   "cell_type": "markdown",
   "id": "d0cd7a72",
   "metadata": {},
   "source": [
    "### Pivot Table with MultiIndex"
   ]
  },
  {
   "cell_type": "code",
   "execution_count": 60,
   "id": "425652f2",
   "metadata": {},
   "outputs": [
    {
     "name": "stdout",
     "output_type": "stream",
     "text": [
      "Original DataFrame\n",
      "          Date         City Country  Temperature\n",
      "0  2023-01-01     New York     USA           32\n",
      "1  2023-01-01  Los Angeles     USA           75\n",
      "2  2023-01-02     New York     USA           30\n",
      "3  2023-01-02  Los Angeles     USA           77\n",
      "4  2023-01-01        Delhi   India           75\n",
      "5  2023-01-01      Chennai   India           80\n",
      "6  2023-01-02        Delhi   India           78\n",
      "7  2023-01-02      Chennai   India           79\n",
      "\n",
      "Reshaped DataFrame\n",
      " Date                 2023-01-01  2023-01-02\n",
      "Country City                               \n",
      "India   Chennai              80          79\n",
      "        Delhi                75          78\n",
      "USA     Los Angeles          75          77\n",
      "        New York             32          30\n"
     ]
    }
   ],
   "source": [
    "import pandas as pd\n",
    "\n",
    "# create a dataframe\n",
    "data = {'Date': ['2023-01-01', '2023-01-01', '2023-01-02', '2023-01-02', '2023-01-01', '2023-01-01', '2023-01-02', '2023-01-02'],\n",
    "        'City': ['New York', 'Los Angeles', 'New York', 'Los Angeles','Delhi', 'Chennai', 'Delhi', 'Chennai'],\n",
    "        'Country': ['USA', 'USA', 'USA', 'USA', 'India', 'India', 'India', 'India'],\n",
    "        'Temperature': [32, 75, 30, 77, 75, 80, 78, 79]}\n",
    "df = pd.DataFrame(data)\n",
    "\n",
    "print(\"Original DataFrame\\n\", df)\n",
    "print()\n",
    "\n",
    "# create a pivot table with multiindex\n",
    "pivot_df = df.pivot_table(index=['Country', 'City'], columns='Date', values='Temperature')\n",
    "\n",
    "print(\"Reshaped DataFrame\\n\", pivot_df)"
   ]
  },
  {
   "cell_type": "markdown",
   "id": "3595c8af",
   "metadata": {},
   "source": [
    "### Handle Missing values with pivot_table"
   ]
  },
  {
   "cell_type": "markdown",
   "id": "ded44a36",
   "metadata": {},
   "source": [
    "- Sometimes while reshaping data using pivot_table(), missing values may occur in the pivot table. Such missing values or NaN values can be handled in a pivot_table() operation using the arguments fill_value and dropna.\n",
    "\n",
    "- The dropna argument specifies whether to remove the columns whose entries are all NaN. The default value of dropna is True."
   ]
  },
  {
   "cell_type": "code",
   "execution_count": 61,
   "id": "13e97089",
   "metadata": {},
   "outputs": [
    {
     "name": "stdout",
     "output_type": "stream",
     "text": [
      "\n",
      "Default Pivot Table\n",
      " City        Los Angeles  New York\n",
      "Date                             \n",
      "2023-01-01         75.0      32.0\n",
      "2023-01-02         77.0      30.0\n",
      "2023-01-03         76.0       NaN\n",
      "\n",
      "Pivot Table with dropna=False:\n",
      " City        Chicago  Los Angeles  New York\n",
      "Date                                      \n",
      "2023-01-01      NaN         75.0      32.0\n",
      "2023-01-02      NaN         77.0      30.0\n",
      "2023-01-03      NaN         76.0       NaN\n"
     ]
    }
   ],
   "source": [
    "import pandas as pd\n",
    "import numpy as np\n",
    "\n",
    "# Creating the DataFrame\n",
    "data = {'Date': ['2023-01-01', '2023-01-01', '2023-01-02', '2023-01-02', '2023-01-03', '2023-01-03', '2023-01-03'],\n",
    "        'City': ['New York', 'Los Angeles', 'New York', 'Los Angeles', 'New York', 'Los Angeles', 'Chicago'],\n",
    "        'Temperature': [32, 75, 30, 77, np.nan, 76, np.nan]}\n",
    "df = pd.DataFrame(data)\n",
    "\n",
    "# create a pivot table\n",
    "pivot_df = df.pivot_table(index='Date', columns='City', values='Temperature')\n",
    "\n",
    "print(\"\\nDefault Pivot Table\\n\", pivot_df)\n",
    "\n",
    "# create a pivot table with dropna=True\n",
    "pivot_df_dropna = df.pivot_table(index='Date', columns='City', values='Temperature', dropna=False)\n",
    "\n",
    "print(\"\\nPivot Table with dropna=False:\\n\", pivot_df_dropna)"
   ]
  },
  {
   "cell_type": "markdown",
   "id": "be188696",
   "metadata": {},
   "source": [
    "- Notice that the New York column is not dropped despite having one NaN value. This is because dropna removes the columns whose entries are all NaN.\n",
    "\n",
    "- The fill_value argument on the other hand replaces all the NaN values with a specified value."
   ]
  },
  {
   "cell_type": "code",
   "execution_count": 62,
   "id": "7128fef4",
   "metadata": {},
   "outputs": [
    {
     "name": "stdout",
     "output_type": "stream",
     "text": [
      "\n",
      "Default Pivot Table\n",
      " City        Los Angeles  New York\n",
      "Date                             \n",
      "2023-01-01          NaN      32.0\n",
      "2023-01-02         77.0      30.0\n",
      "2023-01-03         76.0       NaN\n",
      "\n",
      "Pivot Table with fill_value=0:\n",
      " City        Los Angeles  New York\n",
      "Date                             \n",
      "2023-01-01            0        32\n",
      "2023-01-02           77        30\n",
      "2023-01-03           76         0\n"
     ]
    }
   ],
   "source": [
    "import pandas as pd\n",
    "import numpy as np\n",
    "\n",
    "# Creating the DataFrame\n",
    "data = {'Date': ['2023-01-01', '2023-01-01', '2023-01-02', '2023-01-02', '2023-01-03', '2023-01-03'],\n",
    "        'City': ['New York', 'Los Angeles', 'New York', 'Los Angeles', 'New York', 'Los Angeles'],\n",
    "        'Temperature': [32, np.nan, 30, 77, np.nan, 76]}\n",
    "df = pd.DataFrame(data)\n",
    "\n",
    "# create a pivot table\n",
    "pivot_df = df.pivot_table(index='Date', columns='City', values='Temperature')\n",
    "\n",
    "print(\"\\nDefault Pivot Table\\n\", pivot_df)\n",
    "\n",
    "# create a pivot table with fill_value=0\n",
    "pivot_df_dropna = df.pivot_table(index='Date', columns='City', values='Temperature', fill_value=0)\n",
    "\n",
    "print(\"\\nPivot Table with fill_value=0:\\n\", pivot_df_dropna)"
   ]
  },
  {
   "cell_type": "markdown",
   "id": "f787fae6",
   "metadata": {},
   "source": [
    "### Pandas Cleaning Data"
   ]
  },
  {
   "cell_type": "markdown",
   "id": "c7844fc1",
   "metadata": {},
   "source": [
    "Data cleaning often involves:\n",
    "- Dropping irrelevant columns\n",
    "- Renaming column names to meaningful names\n",
    "- Making Data values consistent\n",
    "- replacing or filling in missing values"
   ]
  },
  {
   "cell_type": "markdown",
   "id": "0e148907",
   "metadata": {},
   "source": [
    "### Drop Rows with Missing values"
   ]
  },
  {
   "cell_type": "markdown",
   "id": "cc192f5c",
   "metadata": {},
   "source": [
    "In Pandas, we can drop rows with missing values using the dropna() function."
   ]
  },
  {
   "cell_type": "code",
   "execution_count": 63,
   "id": "6e69679e",
   "metadata": {},
   "outputs": [
    {
     "name": "stdout",
     "output_type": "stream",
     "text": [
      "Original Data:\n",
      "      A    B    C\n",
      "0  1.0  NaN  1.0\n",
      "1  2.0  2.0  2.0\n",
      "2  3.0  3.0  NaN\n",
      "3  NaN  4.0  NaN\n",
      "4  5.0  5.0  5.0\n",
      "\n",
      "Cleaned Data:\n",
      "      A    B    C\n",
      "1  2.0  2.0  2.0\n",
      "4  5.0  5.0  5.0\n"
     ]
    }
   ],
   "source": [
    "import pandas as pd\n",
    "\n",
    "# define a dictionary with sample data which includes some missing values\n",
    "data = {\n",
    "    'A': [1, 2, 3, None, 5],  \n",
    "    'B': [None, 2, 3, 4, 5],  \n",
    "    'C': [1, 2, None, None, 5]\n",
    "}\n",
    "\n",
    "df = pd.DataFrame(data)\n",
    "print(\"Original Data:\\n\",df)\n",
    "print()\n",
    "\n",
    "# use dropna() to remove rows with any missing values\n",
    "df_cleaned = df.dropna()\n",
    "\n",
    "print(\"Cleaned Data:\\n\",df_cleaned)"
   ]
  },
  {
   "cell_type": "markdown",
   "id": "43f77e68",
   "metadata": {},
   "source": [
    "### Fill Missing values"
   ]
  },
  {
   "cell_type": "markdown",
   "id": "3073acb0",
   "metadata": {},
   "source": [
    "To fill the missing values in Pandas, we use the fillna() function."
   ]
  },
  {
   "cell_type": "code",
   "execution_count": 64,
   "id": "9a766aa0",
   "metadata": {},
   "outputs": [
    {
     "name": "stdout",
     "output_type": "stream",
     "text": [
      "Original Data:\n",
      "      A    B    C\n",
      "0  1.0  NaN  1.0\n",
      "1  2.0  2.0  2.0\n",
      "2  3.0  3.0  NaN\n",
      "3  NaN  4.0  NaN\n",
      "4  5.0  5.0  5.0\n",
      "\n",
      "Data after filling NaN with 0:\n",
      "      A    B    C\n",
      "0  1.0  0.0  1.0\n",
      "1  2.0  2.0  2.0\n",
      "2  3.0  3.0  0.0\n",
      "3  0.0  4.0  0.0\n",
      "4  5.0  5.0  5.0\n"
     ]
    }
   ],
   "source": [
    "import pandas as pd\n",
    "\n",
    "# define a dictionary with sample data which includes some missing values\n",
    "data = {\n",
    "    'A': [1, 2, 3, None, 5],  \n",
    "    'B': [None, 2, 3, 4, 5],  \n",
    "    'C': [1, 2, None, None, 5]\n",
    "}\n",
    "\n",
    "df = pd.DataFrame(data)\n",
    "\n",
    "print(\"Original Data:\\n\", df)\n",
    "\n",
    "# filling NaN values with 0\n",
    "df.fillna(0, inplace=True)\n",
    "\n",
    "print(\"\\nData after filling NaN with 0:\\n\", df)"
   ]
  },
  {
   "cell_type": "markdown",
   "id": "42b504e8",
   "metadata": {},
   "source": [
    "### Fill Missing Values"
   ]
  },
  {
   "cell_type": "markdown",
   "id": "dc16e885",
   "metadata": {},
   "source": [
    "To fill the missing values in Pandas, we use the fillna() function."
   ]
  },
  {
   "cell_type": "code",
   "execution_count": 66,
   "id": "3a904943",
   "metadata": {},
   "outputs": [
    {
     "name": "stdout",
     "output_type": "stream",
     "text": [
      "Original Data:\n",
      "      A    B    C\n",
      "0  1.0  NaN  1.0\n",
      "1  2.0  2.0  2.0\n",
      "2  3.0  3.0  NaN\n",
      "3  NaN  4.0  NaN\n",
      "4  5.0  5.0  5.0\n",
      "\n",
      "Data after filling NaN with 0:\n",
      "      A    B    C\n",
      "0  1.0  0.0  1.0\n",
      "1  2.0  2.0  2.0\n",
      "2  3.0  3.0  0.0\n",
      "3  0.0  4.0  0.0\n",
      "4  5.0  5.0  5.0\n"
     ]
    }
   ],
   "source": [
    "import pandas as pd\n",
    "\n",
    "# define a dictionary with sample data which includes some missing values\n",
    "data = {\n",
    "    'A': [1, 2, 3, None, 5],  \n",
    "    'B': [None, 2, 3, 4, 5],  \n",
    "    'C': [1, 2, None, None, 5]\n",
    "}\n",
    "\n",
    "df = pd.DataFrame(data)\n",
    "\n",
    "print(\"Original Data:\\n\", df)\n",
    "\n",
    "# filling NaN values with 0\n",
    "df.fillna(0, inplace=True)\n",
    "\n",
    "print(\"\\nData after filling NaN with 0:\\n\", df)"
   ]
  },
  {
   "cell_type": "markdown",
   "id": "d09e8d4b",
   "metadata": {},
   "source": [
    "### Use aggregate functions to fill missing values"
   ]
  },
  {
   "cell_type": "markdown",
   "id": "27687957",
   "metadata": {},
   "source": [
    "Instead of filling with 0, we can also use aggregate functions to fill missing values."
   ]
  },
  {
   "cell_type": "code",
   "execution_count": 67,
   "id": "bb7966ee",
   "metadata": {},
   "outputs": [
    {
     "name": "stdout",
     "output_type": "stream",
     "text": [
      "Original Data:\n",
      "      A    B    C\n",
      "0  1.0  NaN  1.0\n",
      "1  2.0  2.0  2.0\n",
      "2  3.0  3.0  NaN\n",
      "3  NaN  4.0  NaN\n",
      "4  5.0  5.0  5.0\n",
      "\n",
      "Data after filling NaN with mean:\n",
      "       A    B         C\n",
      "0  1.00  3.5  1.000000\n",
      "1  2.00  2.0  2.000000\n",
      "2  3.00  3.0  2.666667\n",
      "3  2.75  4.0  2.666667\n",
      "4  5.00  5.0  5.000000\n"
     ]
    }
   ],
   "source": [
    "import pandas as pd\n",
    "\n",
    "# define a dictionary with sample data which includes some missing values\n",
    "data = {\n",
    "    'A': [1, 2, 3, None, 5],  \n",
    "    'B': [None, 2, 3, 4, 5],  \n",
    "    'C': [1, 2, None, None, 5]\n",
    "}\n",
    "\n",
    "df = pd.DataFrame(data)\n",
    "\n",
    "print(\"Original Data:\\n\", df)\n",
    "\n",
    "# filling NaN values with the mean of each column\n",
    "df.fillna(df.mean(), inplace=True)\n",
    "\n",
    "print(\"\\nData after filling NaN with mean:\\n\", df)"
   ]
  },
  {
   "cell_type": "markdown",
   "id": "21d0d883",
   "metadata": {},
   "source": [
    "### Handle duplicate values"
   ]
  },
  {
   "cell_type": "markdown",
   "id": "9afdfc0b",
   "metadata": {},
   "source": [
    "In Pandas, to handle duplicate rows, we can use the duplicated() and the drop_duplicates() function.\n",
    "\n",
    "- duplicated() - to check for duplicates\n",
    "- drop_duplicates() - remove duplicate rows"
   ]
  },
  {
   "cell_type": "code",
   "execution_count": 68,
   "id": "3e9be401",
   "metadata": {},
   "outputs": [
    {
     "name": "stdout",
     "output_type": "stream",
     "text": [
      "Original DataFrame:\n",
      "  A  B\n",
      " 1  5\n",
      " 2  6\n",
      " 2  6\n",
      " 3  7\n",
      " 3  8\n",
      " 4  8\n",
      "\n",
      "Duplicate Rows:\n",
      "  A  B\n",
      " 2  6\n",
      "\n",
      "DataFrame after removing duplicates based on column 'A':\n",
      "  A  B\n",
      " 1  5\n",
      " 2  6\n",
      " 3  7\n",
      " 4  8\n"
     ]
    }
   ],
   "source": [
    "import pandas as pd\n",
    "\n",
    "# sample data\n",
    "data = {\n",
    "    'A': [1, 2, 2, 3, 3, 4],\n",
    "    'B': [5, 6, 6, 7, 8, 8]\n",
    "}\n",
    "df = pd.DataFrame(data)\n",
    "\n",
    "print(\"Original DataFrame:\\n\", df.to_string(index=False))\n",
    "\n",
    "# detect duplicates\n",
    "print(\"\\nDuplicate Rows:\\n\", df[df.duplicated()].to_string(index=False))\n",
    "\n",
    "# remove duplicates based on column 'A'\n",
    "df.drop_duplicates(subset=['A'], keep='first', inplace=True)\n",
    "\n",
    "print(\"\\nDataFrame after removing duplicates based on column 'A':\\n\", df.to_string(index=False))"
   ]
  },
  {
   "cell_type": "markdown",
   "id": "09198970",
   "metadata": {},
   "source": [
    "### Rename Column Names to Meaningful Names"
   ]
  },
  {
   "cell_type": "markdown",
   "id": "1fcd0108",
   "metadata": {},
   "source": [
    "To rename column names to more meaningful names in Pandas, we can use the rename() function."
   ]
  },
  {
   "cell_type": "code",
   "execution_count": 69,
   "id": "1e25e720",
   "metadata": {},
   "outputs": [
    {
     "name": "stdout",
     "output_type": "stream",
     "text": [
      " Age  Name  Salary\n",
      "  25  John   50000\n",
      "  30   Doe   60000\n",
      "  35 Smith   70000\n"
     ]
    }
   ],
   "source": [
    "import pandas as pd\n",
    "\n",
    "# sample data\n",
    "data = {\n",
    "    'A': [25, 30, 35],\n",
    "    'B': ['John', 'Doe', 'Smith'],\n",
    "    'C': [50000, 60000, 70000]\n",
    "}\n",
    "\n",
    "df = pd.DataFrame(data)\n",
    "\n",
    "# rename columns\n",
    "df.rename(columns={'A': 'Age', 'B': 'Name', 'C': 'Salary'}, inplace=True)\n",
    "\n",
    "print(df.to_string(index=False))"
   ]
  },
  {
   "cell_type": "markdown",
   "id": "97f6bd91",
   "metadata": {},
   "source": [
    "## Pandas Handling Missing Values"
   ]
  },
  {
   "cell_type": "markdown",
   "id": "a97f602d",
   "metadata": {},
   "source": [
    "Pandas provides a host of functions like dropna(), fillna() and combine_first() to handle missing values."
   ]
  },
  {
   "cell_type": "code",
   "execution_count": 70,
   "id": "3df368c7",
   "metadata": {},
   "outputs": [
    {
     "name": "stdout",
     "output_type": "stream",
     "text": [
      "     A    B    C  D\n",
      "0  1.0  NaN  1.0  1\n",
      "1  2.0  2.0  2.0  2\n",
      "2  NaN  3.0  3.0  3\n",
      "3  4.0  4.0  NaN  4\n",
      "4  5.0  5.0  5.0  5\n"
     ]
    }
   ],
   "source": [
    "import pandas as pd\n",
    "import numpy as np\n",
    "\n",
    "# create dataframe with missing values\n",
    "data = {\n",
    "    'A': [1, 2, np.nan, 4, 5],\n",
    "    'B': [np.nan, 2, 3, 4, 5],\n",
    "    'C': [1, 2, 3, np.nan, 5],\n",
    "    'D': [1, 2, 3, 4, 5]\n",
    "}\n",
    "df = pd.DataFrame(data)\n",
    "\n",
    "print(df)"
   ]
  },
  {
   "cell_type": "markdown",
   "id": "72f130e0",
   "metadata": {},
   "source": [
    "### Remove rows containing missing values"
   ]
  },
  {
   "cell_type": "markdown",
   "id": "3acb7f72",
   "metadata": {},
   "source": [
    "We use the dropna() function to remove rows containing at least one missing value. "
   ]
  },
  {
   "cell_type": "code",
   "execution_count": 71,
   "id": "ac567ccc",
   "metadata": {},
   "outputs": [
    {
     "name": "stdout",
     "output_type": "stream",
     "text": [
      "     A    B    C  D\n",
      "1  2.0  2.0  2.0  2\n",
      "4  5.0  5.0  5.0  5\n"
     ]
    }
   ],
   "source": [
    "import pandas as pd\n",
    "import numpy as np\n",
    "\n",
    "# create a dataframe with missing values\n",
    "data = {\n",
    "    'A': [1, 2, np.nan, 4, 5],\n",
    "    'B': [np.nan, 2, 3, 4, 5],\n",
    "    'C': [1, 2, 3, np.nan, 5],\n",
    "    'D': [1, 2, 3, 4, 5]\n",
    "}\n",
    "df = pd.DataFrame(data)\n",
    "\n",
    "# remove rows with missing values\n",
    "df.dropna(inplace=True)\n",
    "\n",
    "print(df)"
   ]
  },
  {
   "cell_type": "markdown",
   "id": "df77935c",
   "metadata": {},
   "source": [
    "### Replace Missing Values"
   ]
  },
  {
   "cell_type": "markdown",
   "id": "a5f19342",
   "metadata": {},
   "source": [
    "Instead of deleting the entire row containing missing values, we can replace the missing values with a specified value using fillna()."
   ]
  },
  {
   "cell_type": "code",
   "execution_count": 72,
   "id": "de288156",
   "metadata": {},
   "outputs": [
    {
     "name": "stdout",
     "output_type": "stream",
     "text": [
      "     A    B    C  D\n",
      "0  1.0  0.0  1.0  1\n",
      "1  2.0  2.0  2.0  2\n",
      "2  0.0  3.0  3.0  3\n",
      "3  4.0  4.0  0.0  4\n",
      "4  5.0  5.0  5.0  5\n"
     ]
    }
   ],
   "source": [
    "import pandas as pd\n",
    "import numpy as np\n",
    "\n",
    "# create a dataframe with missing values\n",
    "data = {\n",
    "    'A': [1, 2, np.nan, 4, 5],\n",
    "    'B': [np.nan, 2, 3, 4, 5],\n",
    "    'C': [1, 2, 3, np.nan, 5],\n",
    "    'D': [1, 2, 3, 4, 5]\n",
    "}\n",
    "df = pd.DataFrame(data)\n",
    "\n",
    "# replace missing values with 0\n",
    "df.fillna(value=0, inplace=True)\n",
    "\n",
    "print(df)"
   ]
  },
  {
   "cell_type": "markdown",
   "id": "3dbccfc4",
   "metadata": {},
   "source": [
    "### Replace Missing values with Mean, Median and Mode"
   ]
  },
  {
   "cell_type": "markdown",
   "id": "19385a7c",
   "metadata": {},
   "source": [
    "A more refined approach is to replace missing values with the mean, median, or mode of the remaining values in the column. This can give a more accurate representation than just replacing it with a default value."
   ]
  },
  {
   "cell_type": "markdown",
   "id": "842a8c0c",
   "metadata": {},
   "source": [
    "We can use the fillna() function with aggregate functions to replace missing values with mean, median or mode."
   ]
  },
  {
   "cell_type": "code",
   "execution_count": 4,
   "id": "1f8363c8",
   "metadata": {},
   "outputs": [
    {
     "name": "stdout",
     "output_type": "stream",
     "text": [
      "     A    B    C  D\n",
      "0  1.0  3.5  1.0  1\n",
      "1  2.0  2.0  2.0  2\n",
      "2  3.0  3.0  3.0  3\n",
      "3  4.0  4.0  1.0  4\n",
      "4  5.0  5.0  5.0  5\n"
     ]
    }
   ],
   "source": [
    "import pandas as pd\n",
    "import numpy as np\n",
    "\n",
    "# create a dataframe with missing values\n",
    "data = {\n",
    "    'A': [1, 2, np.nan, 4, 5],\n",
    "    'B': [np.nan, 2, 3, 4, 5],\n",
    "    'C': [1, 2, 3, np.nan, 5],\n",
    "    'D': [1, 2, 3, 4, 5]\n",
    "}\n",
    "df = pd.DataFrame(data)\n",
    "\n",
    "# replace missing values with mean\n",
    "df['A'].fillna(value=df['A'].mean(), inplace=True)\n",
    "\n",
    "# replace missing values with median\n",
    "df['B'].fillna(value=df['B'].median(), inplace=True)\n",
    "\n",
    "# replace missing values with mode\n",
    "df['C'].fillna(value=df['C'].mode()[0], inplace=True)\n",
    "\n",
    "print(df)"
   ]
  },
  {
   "cell_type": "markdown",
   "id": "534c149b",
   "metadata": {},
   "source": [
    "Here, mode()[0] returns the most frequent value. Since all the values have the same frequency, it returns the first value of the column."
   ]
  },
  {
   "cell_type": "markdown",
   "id": "4e53658f",
   "metadata": {},
   "source": [
    "### Replace Values using Another DataFrame"
   ]
  },
  {
   "cell_type": "markdown",
   "id": "7d6267be",
   "metadata": {},
   "source": [
    "We can replace missing values in one DataFrame using another DataFrame using the fillna() method."
   ]
  },
  {
   "cell_type": "code",
   "execution_count": 5,
   "id": "36d7e290",
   "metadata": {},
   "outputs": [
    {
     "name": "stdout",
     "output_type": "stream",
     "text": [
      "      A     B     C  D\n",
      "0   1.0  10.0   1.0  1\n",
      "1   2.0   2.0   2.0  2\n",
      "2  30.0   3.0   3.0  3\n",
      "3   4.0   4.0  40.0  4\n",
      "4   5.0   5.0   5.0  5\n"
     ]
    }
   ],
   "source": [
    "import pandas as pd\n",
    "import numpy as np\n",
    "\n",
    "# create a dataframe with missing values\n",
    "data1 = {\n",
    "    'A': [1, 2, np.nan, 4, 5],\n",
    "    'B': [np.nan, 2, 3, 4, 5],\n",
    "    'C': [1, 2, 3, np.nan, 5],\n",
    "    'D': [1, 2, 3, 4, 5]\n",
    "}\n",
    "df1 = pd.DataFrame(data1)\n",
    "\n",
    "# create datframe to fill the missing values with\n",
    "data2 = {\n",
    "    'A': [10, 20, 30, 40, 50],\n",
    "    'B': [10, 20, 30, 40, 50],\n",
    "    'C': [10, 20, 30, 40, 50],\n",
    "    'D': [10, 20, 30, 40, 50]\n",
    "}\n",
    "df2 = pd.DataFrame(data2)\n",
    "\n",
    "# replace missing values\n",
    "df1.fillna(df2, inplace=True)\n",
    "\n",
    "print(df1)"
   ]
  },
  {
   "cell_type": "markdown",
   "id": "cfa6d816",
   "metadata": {},
   "source": [
    "### How to remove columns containing only NaN values?"
   ]
  },
  {
   "cell_type": "markdown",
   "id": "2fdb70c3",
   "metadata": {},
   "source": [
    "We can remove the columns containing only NaN values by selecting such columns first using isnull() and all() methods first and then dropping the columns."
   ]
  },
  {
   "cell_type": "code",
   "execution_count": 6,
   "id": "617d7e18",
   "metadata": {},
   "outputs": [
    {
     "name": "stdout",
     "output_type": "stream",
     "text": [
      "   A    B   D\n",
      "0  1  5.0   9\n",
      "1  2  6.0  10\n",
      "2  3  NaN  11\n",
      "3  4  NaN  12\n"
     ]
    }
   ],
   "source": [
    "import pandas as pd\n",
    "import numpy as np\n",
    "\n",
    "# create a DataFrame\n",
    "data = {\n",
    "    'A': [1, 2, 3, 4],\n",
    "    'B': [5, 6, np.nan, np.nan],\n",
    "    'C': [np.nan, np.nan, np.nan, np.nan],\n",
    "    'D': [9, 10, 11, 12]\n",
    "}\n",
    "df = pd.DataFrame(data)\n",
    "\n",
    "# check which columns contain only NaN values\n",
    "columns_with_nan = df.columns[df.isnull().all()]\n",
    "\n",
    "# drop the columns containing only NaN values\n",
    "df = df.drop(columns=columns_with_nan)\n",
    "\n",
    "print(df)"
   ]
  },
  {
   "cell_type": "markdown",
   "id": "390ce2ae",
   "metadata": {},
   "source": [
    "Here,\n",
    "\n",
    "- df.columns[df.isnull().all()] - returns a list of columns where all values are null\n",
    "- df.drop() - removes the specified columns\n",
    "- Since column C has NaN values only, it is removed."
   ]
  },
  {
   "cell_type": "markdown",
   "id": "99da7e1b",
   "metadata": {},
   "source": [
    "### How to remove columns containing Nan Values that exceed a certain number?"
   ]
  },
  {
   "cell_type": "code",
   "execution_count": 7,
   "id": "c56b946a",
   "metadata": {},
   "outputs": [
    {
     "name": "stdout",
     "output_type": "stream",
     "text": [
      "     A    B   D\n",
      "0  1.0  5.0   9\n",
      "1  2.0  6.0  10\n",
      "2  3.0  NaN  11\n",
      "3  NaN  NaN  12\n"
     ]
    }
   ],
   "source": [
    "import pandas as pd\n",
    "import numpy as np\n",
    "\n",
    "# create a DataFrame\n",
    "data = {\n",
    "    'A': [1, 2, 3, np.nan],\n",
    "    'B': [5, 6, np.nan, np.nan],\n",
    "    'C': [np.nan, np.nan, np.nan, 7],\n",
    "    'D': [9, 10, 11, 12]\n",
    "}\n",
    "df = pd.DataFrame(data)\n",
    "\n",
    "# set the threshold for the maximum number of NaN values allowed\n",
    "threshold = 2\n",
    "\n",
    "# calculate the number of NaN values in each column\n",
    "nan_counts = df.isnull().sum()\n",
    "\n",
    "# remove columns that have more NaN values than the threshold\n",
    "columns_to_drop = nan_counts[nan_counts > threshold].index\n",
    "df = df.drop(columns=columns_to_drop)\n",
    "\n",
    "print(df)"
   ]
  },
  {
   "cell_type": "markdown",
   "id": "0326fa6d",
   "metadata": {},
   "source": [
    "Here,\n",
    "\n",
    "- df.isnull().sum() - returns a list of integers containing counts of NaN values in each column\n",
    "- nan_counts[nan_counts>threshold].index - returns a list of column indices whose NaN count exceeds the threshold value\n",
    "- df.drop() - removes the specified columns\n",
    "- The above code removes the columns containing more than two NaN values."
   ]
  },
  {
   "cell_type": "markdown",
   "id": "5ea60f90",
   "metadata": {},
   "source": [
    "### Pandas Handling Wrong Format"
   ]
  },
  {
   "cell_type": "markdown",
   "id": "1bba3603",
   "metadata": {},
   "source": [
    "In a real world scenario, data are taken from various sources which causes inconsistencies in format of the data. For example, a column can have data of integer and string type as the data is copied from different sources"
   ]
  },
  {
   "cell_type": "code",
   "execution_count": 8,
   "id": "b1b3ad6b",
   "metadata": {},
   "outputs": [
    {
     "ename": "TypeError",
     "evalue": "unsupported operand type(s) for +: 'float' and 'str'",
     "output_type": "error",
     "traceback": [
      "\u001b[1;31m---------------------------------------------------------------------------\u001b[0m",
      "\u001b[1;31mTypeError\u001b[0m                                 Traceback (most recent call last)",
      "Cell \u001b[1;32mIn[8], line 12\u001b[0m\n\u001b[0;32m      9\u001b[0m df \u001b[38;5;241m=\u001b[39m pd\u001b[38;5;241m.\u001b[39mDataFrame(data)\n\u001b[0;32m     11\u001b[0m \u001b[38;5;66;03m# calculate the mean temperature\u001b[39;00m\n\u001b[1;32m---> 12\u001b[0m mean_temperature \u001b[38;5;241m=\u001b[39m df[\u001b[38;5;124m'\u001b[39m\u001b[38;5;124mTemperature\u001b[39m\u001b[38;5;124m'\u001b[39m]\u001b[38;5;241m.\u001b[39mmean()\n\u001b[0;32m     14\u001b[0m \u001b[38;5;28mprint\u001b[39m(mean_temperature)\n",
      "File \u001b[1;32m~\\anaconda3\\Lib\\site-packages\\pandas\\core\\generic.py:11556\u001b[0m, in \u001b[0;36mNDFrame._add_numeric_operations.<locals>.mean\u001b[1;34m(self, axis, skipna, numeric_only, **kwargs)\u001b[0m\n\u001b[0;32m  11539\u001b[0m \u001b[38;5;129m@doc\u001b[39m(\n\u001b[0;32m  11540\u001b[0m     _num_doc,\n\u001b[0;32m  11541\u001b[0m     desc\u001b[38;5;241m=\u001b[39m\u001b[38;5;124m\"\u001b[39m\u001b[38;5;124mReturn the mean of the values over the requested axis.\u001b[39m\u001b[38;5;124m\"\u001b[39m,\n\u001b[1;32m   (...)\u001b[0m\n\u001b[0;32m  11554\u001b[0m     \u001b[38;5;241m*\u001b[39m\u001b[38;5;241m*\u001b[39mkwargs,\n\u001b[0;32m  11555\u001b[0m ):\n\u001b[1;32m> 11556\u001b[0m     \u001b[38;5;28;01mreturn\u001b[39;00m NDFrame\u001b[38;5;241m.\u001b[39mmean(\u001b[38;5;28mself\u001b[39m, axis, skipna, numeric_only, \u001b[38;5;241m*\u001b[39m\u001b[38;5;241m*\u001b[39mkwargs)\n",
      "File \u001b[1;32m~\\anaconda3\\Lib\\site-packages\\pandas\\core\\generic.py:11201\u001b[0m, in \u001b[0;36mNDFrame.mean\u001b[1;34m(self, axis, skipna, numeric_only, **kwargs)\u001b[0m\n\u001b[0;32m  11194\u001b[0m \u001b[38;5;28;01mdef\u001b[39;00m \u001b[38;5;21mmean\u001b[39m(\n\u001b[0;32m  11195\u001b[0m     \u001b[38;5;28mself\u001b[39m,\n\u001b[0;32m  11196\u001b[0m     axis: Axis \u001b[38;5;241m|\u001b[39m \u001b[38;5;28;01mNone\u001b[39;00m \u001b[38;5;241m=\u001b[39m \u001b[38;5;241m0\u001b[39m,\n\u001b[1;32m   (...)\u001b[0m\n\u001b[0;32m  11199\u001b[0m     \u001b[38;5;241m*\u001b[39m\u001b[38;5;241m*\u001b[39mkwargs,\n\u001b[0;32m  11200\u001b[0m ) \u001b[38;5;241m-\u001b[39m\u001b[38;5;241m>\u001b[39m Series \u001b[38;5;241m|\u001b[39m \u001b[38;5;28mfloat\u001b[39m:\n\u001b[1;32m> 11201\u001b[0m     \u001b[38;5;28;01mreturn\u001b[39;00m \u001b[38;5;28mself\u001b[39m\u001b[38;5;241m.\u001b[39m_stat_function(\n\u001b[0;32m  11202\u001b[0m         \u001b[38;5;124m\"\u001b[39m\u001b[38;5;124mmean\u001b[39m\u001b[38;5;124m\"\u001b[39m, nanops\u001b[38;5;241m.\u001b[39mnanmean, axis, skipna, numeric_only, \u001b[38;5;241m*\u001b[39m\u001b[38;5;241m*\u001b[39mkwargs\n\u001b[0;32m  11203\u001b[0m     )\n",
      "File \u001b[1;32m~\\anaconda3\\Lib\\site-packages\\pandas\\core\\generic.py:11158\u001b[0m, in \u001b[0;36mNDFrame._stat_function\u001b[1;34m(self, name, func, axis, skipna, numeric_only, **kwargs)\u001b[0m\n\u001b[0;32m  11154\u001b[0m     nv\u001b[38;5;241m.\u001b[39mvalidate_stat_func((), kwargs, fname\u001b[38;5;241m=\u001b[39mname)\n\u001b[0;32m  11156\u001b[0m validate_bool_kwarg(skipna, \u001b[38;5;124m\"\u001b[39m\u001b[38;5;124mskipna\u001b[39m\u001b[38;5;124m\"\u001b[39m, none_allowed\u001b[38;5;241m=\u001b[39m\u001b[38;5;28;01mFalse\u001b[39;00m)\n\u001b[1;32m> 11158\u001b[0m \u001b[38;5;28;01mreturn\u001b[39;00m \u001b[38;5;28mself\u001b[39m\u001b[38;5;241m.\u001b[39m_reduce(\n\u001b[0;32m  11159\u001b[0m     func, name\u001b[38;5;241m=\u001b[39mname, axis\u001b[38;5;241m=\u001b[39maxis, skipna\u001b[38;5;241m=\u001b[39mskipna, numeric_only\u001b[38;5;241m=\u001b[39mnumeric_only\n\u001b[0;32m  11160\u001b[0m )\n",
      "File \u001b[1;32m~\\anaconda3\\Lib\\site-packages\\pandas\\core\\series.py:4670\u001b[0m, in \u001b[0;36mSeries._reduce\u001b[1;34m(self, op, name, axis, skipna, numeric_only, filter_type, **kwds)\u001b[0m\n\u001b[0;32m   4665\u001b[0m     \u001b[38;5;28;01mraise\u001b[39;00m \u001b[38;5;167;01mTypeError\u001b[39;00m(\n\u001b[0;32m   4666\u001b[0m         \u001b[38;5;124mf\u001b[39m\u001b[38;5;124m\"\u001b[39m\u001b[38;5;124mSeries.\u001b[39m\u001b[38;5;132;01m{\u001b[39;00mname\u001b[38;5;132;01m}\u001b[39;00m\u001b[38;5;124m does not allow \u001b[39m\u001b[38;5;132;01m{\u001b[39;00mkwd_name\u001b[38;5;132;01m}\u001b[39;00m\u001b[38;5;124m=\u001b[39m\u001b[38;5;132;01m{\u001b[39;00mnumeric_only\u001b[38;5;132;01m}\u001b[39;00m\u001b[38;5;124m \u001b[39m\u001b[38;5;124m\"\u001b[39m\n\u001b[0;32m   4667\u001b[0m         \u001b[38;5;124m\"\u001b[39m\u001b[38;5;124mwith non-numeric dtypes.\u001b[39m\u001b[38;5;124m\"\u001b[39m\n\u001b[0;32m   4668\u001b[0m     )\n\u001b[0;32m   4669\u001b[0m \u001b[38;5;28;01mwith\u001b[39;00m np\u001b[38;5;241m.\u001b[39merrstate(\u001b[38;5;28mall\u001b[39m\u001b[38;5;241m=\u001b[39m\u001b[38;5;124m\"\u001b[39m\u001b[38;5;124mignore\u001b[39m\u001b[38;5;124m\"\u001b[39m):\n\u001b[1;32m-> 4670\u001b[0m     \u001b[38;5;28;01mreturn\u001b[39;00m op(delegate, skipna\u001b[38;5;241m=\u001b[39mskipna, \u001b[38;5;241m*\u001b[39m\u001b[38;5;241m*\u001b[39mkwds)\n",
      "File \u001b[1;32m~\\anaconda3\\Lib\\site-packages\\pandas\\core\\nanops.py:96\u001b[0m, in \u001b[0;36mdisallow.__call__.<locals>._f\u001b[1;34m(*args, **kwargs)\u001b[0m\n\u001b[0;32m     94\u001b[0m \u001b[38;5;28;01mtry\u001b[39;00m:\n\u001b[0;32m     95\u001b[0m     \u001b[38;5;28;01mwith\u001b[39;00m np\u001b[38;5;241m.\u001b[39merrstate(invalid\u001b[38;5;241m=\u001b[39m\u001b[38;5;124m\"\u001b[39m\u001b[38;5;124mignore\u001b[39m\u001b[38;5;124m\"\u001b[39m):\n\u001b[1;32m---> 96\u001b[0m         \u001b[38;5;28;01mreturn\u001b[39;00m f(\u001b[38;5;241m*\u001b[39margs, \u001b[38;5;241m*\u001b[39m\u001b[38;5;241m*\u001b[39mkwargs)\n\u001b[0;32m     97\u001b[0m \u001b[38;5;28;01mexcept\u001b[39;00m \u001b[38;5;167;01mValueError\u001b[39;00m \u001b[38;5;28;01mas\u001b[39;00m e:\n\u001b[0;32m     98\u001b[0m     \u001b[38;5;66;03m# we want to transform an object array\u001b[39;00m\n\u001b[0;32m     99\u001b[0m     \u001b[38;5;66;03m# ValueError message to the more typical TypeError\u001b[39;00m\n\u001b[0;32m    100\u001b[0m     \u001b[38;5;66;03m# e.g. this is normally a disallowed function on\u001b[39;00m\n\u001b[0;32m    101\u001b[0m     \u001b[38;5;66;03m# object arrays that contain strings\u001b[39;00m\n\u001b[0;32m    102\u001b[0m     \u001b[38;5;28;01mif\u001b[39;00m is_object_dtype(args[\u001b[38;5;241m0\u001b[39m]):\n",
      "File \u001b[1;32m~\\anaconda3\\Lib\\site-packages\\pandas\\core\\nanops.py:158\u001b[0m, in \u001b[0;36mbottleneck_switch.__call__.<locals>.f\u001b[1;34m(values, axis, skipna, **kwds)\u001b[0m\n\u001b[0;32m    156\u001b[0m         result \u001b[38;5;241m=\u001b[39m alt(values, axis\u001b[38;5;241m=\u001b[39maxis, skipna\u001b[38;5;241m=\u001b[39mskipna, \u001b[38;5;241m*\u001b[39m\u001b[38;5;241m*\u001b[39mkwds)\n\u001b[0;32m    157\u001b[0m \u001b[38;5;28;01melse\u001b[39;00m:\n\u001b[1;32m--> 158\u001b[0m     result \u001b[38;5;241m=\u001b[39m alt(values, axis\u001b[38;5;241m=\u001b[39maxis, skipna\u001b[38;5;241m=\u001b[39mskipna, \u001b[38;5;241m*\u001b[39m\u001b[38;5;241m*\u001b[39mkwds)\n\u001b[0;32m    160\u001b[0m \u001b[38;5;28;01mreturn\u001b[39;00m result\n",
      "File \u001b[1;32m~\\anaconda3\\Lib\\site-packages\\pandas\\core\\nanops.py:421\u001b[0m, in \u001b[0;36m_datetimelike_compat.<locals>.new_func\u001b[1;34m(values, axis, skipna, mask, **kwargs)\u001b[0m\n\u001b[0;32m    418\u001b[0m \u001b[38;5;28;01mif\u001b[39;00m datetimelike \u001b[38;5;129;01mand\u001b[39;00m mask \u001b[38;5;129;01mis\u001b[39;00m \u001b[38;5;28;01mNone\u001b[39;00m:\n\u001b[0;32m    419\u001b[0m     mask \u001b[38;5;241m=\u001b[39m isna(values)\n\u001b[1;32m--> 421\u001b[0m result \u001b[38;5;241m=\u001b[39m func(values, axis\u001b[38;5;241m=\u001b[39maxis, skipna\u001b[38;5;241m=\u001b[39mskipna, mask\u001b[38;5;241m=\u001b[39mmask, \u001b[38;5;241m*\u001b[39m\u001b[38;5;241m*\u001b[39mkwargs)\n\u001b[0;32m    423\u001b[0m \u001b[38;5;28;01mif\u001b[39;00m datetimelike:\n\u001b[0;32m    424\u001b[0m     result \u001b[38;5;241m=\u001b[39m _wrap_results(result, orig_values\u001b[38;5;241m.\u001b[39mdtype, fill_value\u001b[38;5;241m=\u001b[39miNaT)\n",
      "File \u001b[1;32m~\\anaconda3\\Lib\\site-packages\\pandas\\core\\nanops.py:727\u001b[0m, in \u001b[0;36mnanmean\u001b[1;34m(values, axis, skipna, mask)\u001b[0m\n\u001b[0;32m    724\u001b[0m     dtype_count \u001b[38;5;241m=\u001b[39m dtype\n\u001b[0;32m    726\u001b[0m count \u001b[38;5;241m=\u001b[39m _get_counts(values\u001b[38;5;241m.\u001b[39mshape, mask, axis, dtype\u001b[38;5;241m=\u001b[39mdtype_count)\n\u001b[1;32m--> 727\u001b[0m the_sum \u001b[38;5;241m=\u001b[39m _ensure_numeric(values\u001b[38;5;241m.\u001b[39msum(axis, dtype\u001b[38;5;241m=\u001b[39mdtype_sum))\n\u001b[0;32m    729\u001b[0m \u001b[38;5;28;01mif\u001b[39;00m axis \u001b[38;5;129;01mis\u001b[39;00m \u001b[38;5;129;01mnot\u001b[39;00m \u001b[38;5;28;01mNone\u001b[39;00m \u001b[38;5;129;01mand\u001b[39;00m \u001b[38;5;28mgetattr\u001b[39m(the_sum, \u001b[38;5;124m\"\u001b[39m\u001b[38;5;124mndim\u001b[39m\u001b[38;5;124m\"\u001b[39m, \u001b[38;5;28;01mFalse\u001b[39;00m):\n\u001b[0;32m    730\u001b[0m     count \u001b[38;5;241m=\u001b[39m cast(np\u001b[38;5;241m.\u001b[39mndarray, count)\n",
      "File \u001b[1;32m~\\anaconda3\\Lib\\site-packages\\numpy\\core\\_methods.py:49\u001b[0m, in \u001b[0;36m_sum\u001b[1;34m(a, axis, dtype, out, keepdims, initial, where)\u001b[0m\n\u001b[0;32m     47\u001b[0m \u001b[38;5;28;01mdef\u001b[39;00m \u001b[38;5;21m_sum\u001b[39m(a, axis\u001b[38;5;241m=\u001b[39m\u001b[38;5;28;01mNone\u001b[39;00m, dtype\u001b[38;5;241m=\u001b[39m\u001b[38;5;28;01mNone\u001b[39;00m, out\u001b[38;5;241m=\u001b[39m\u001b[38;5;28;01mNone\u001b[39;00m, keepdims\u001b[38;5;241m=\u001b[39m\u001b[38;5;28;01mFalse\u001b[39;00m,\n\u001b[0;32m     48\u001b[0m          initial\u001b[38;5;241m=\u001b[39m_NoValue, where\u001b[38;5;241m=\u001b[39m\u001b[38;5;28;01mTrue\u001b[39;00m):\n\u001b[1;32m---> 49\u001b[0m     \u001b[38;5;28;01mreturn\u001b[39;00m umr_sum(a, axis, dtype, out, keepdims, initial, where)\n",
      "\u001b[1;31mTypeError\u001b[0m: unsupported operand type(s) for +: 'float' and 'str'"
     ]
    }
   ],
   "source": [
    "import pandas as pd\n",
    "\n",
    "# create dataframe\n",
    "data = {\n",
    "    'Country': ['USA', 'Canada', 'Australia', 'Germany', 'Japan'],\n",
    "    'Date': ['2023-07-20', '2023-07-21', '2023-07-22', '2023-07-23', '2023-07-24'],\n",
    "    'Temperature': [25.5, '28.0', 30.2, 22.8, 26.3]\n",
    "}\n",
    "df = pd.DataFrame(data)\n",
    "\n",
    "# calculate the mean temperature\n",
    "mean_temperature = df['Temperature'].mean()\n",
    "\n",
    "print(mean_temperature)"
   ]
  },
  {
   "cell_type": "markdown",
   "id": "dea660fe",
   "metadata": {},
   "source": [
    "- Here, the Temperature column contains data in an inconsistent format, with a mixture of float and string types, which is causing a TypeError.\n",
    "\n",
    "- With Pandas, we can handle such issues by converting all the values in a column to a specific format."
   ]
  },
  {
   "cell_type": "markdown",
   "id": "a68e5f0d",
   "metadata": {},
   "source": [
    "### Convert Data to Correct Format"
   ]
  },
  {
   "cell_type": "markdown",
   "id": "54c0128e",
   "metadata": {},
   "source": [
    "We can remove inconsistencies in data by converting a column with inconsistencies to a specific format."
   ]
  },
  {
   "cell_type": "code",
   "execution_count": 9,
   "id": "daf6e61a",
   "metadata": {},
   "outputs": [
    {
     "name": "stdout",
     "output_type": "stream",
     "text": [
      "26.560000000000002\n"
     ]
    }
   ],
   "source": [
    "import pandas as pd\n",
    "\n",
    "# create dataframe\n",
    "data = {\n",
    "    'Country': ['USA', 'Canada', 'Australia', 'Germany', 'Japan'],\n",
    "    'Date': ['2023-07-20', '2023-07-21', '2023-07-22', '2023-07-23', '2023-07-24'],\n",
    "    'Temperature': [25.5, '28.0', 30.2, 22.8, 26.3]\n",
    "}\n",
    "df = pd.DataFrame(data)\n",
    "\n",
    "# convert temperature column to float\n",
    "df['Temperature'] = df['Temperature'].astype(float)\n",
    "\n",
    "# calculate the mean temperature\n",
    "mean_temperature = df['Temperature'].mean()\n",
    "\n",
    "print(mean_temperature)"
   ]
  },
  {
   "cell_type": "markdown",
   "id": "8c25329f",
   "metadata": {},
   "source": [
    "### Handling Mixed Date Formats"
   ]
  },
  {
   "cell_type": "markdown",
   "id": "1d20051e",
   "metadata": {},
   "source": [
    "- Another common example of inconsistency in data format that you often encounter in real life is mixed date formats.\n",
    "\n",
    "- Dates can be represented in various formats such as mm-dd-yyyy, dd-mm-yyyy, yyyy-mm-dd etc. Also, different separators such as /, -, . etc can be used.\n",
    "\n",
    "- We can handle this issue by converting the column containing dates to the DateTime format."
   ]
  },
  {
   "cell_type": "code",
   "execution_count": 10,
   "id": "9871543f",
   "metadata": {},
   "outputs": [
    {
     "name": "stdout",
     "output_type": "stream",
     "text": [
      "        date\n",
      "0 2022-12-01\n",
      "1 2022-02-01\n",
      "2 2022-03-23\n",
      "3 2022-02-03\n",
      "4 2023-04-03\n",
      "5 2023-09-30\n"
     ]
    }
   ],
   "source": [
    "import pandas as pd\n",
    "\n",
    "# create a sample dataframe with mixed date formats\n",
    "df = pd.DataFrame({'date': ['2022-12-01', '01/02/2022', '2022-03-23', '03/02/2022', '3 4 2023', '2023.9.30']})\n",
    "\n",
    "# convert the date column to datetime format\n",
    "df['date'] = pd.to_datetime(df['date'], format='mixed', dayfirst=True)\n",
    "\n",
    "print(df)"
   ]
  },
  {
   "cell_type": "markdown",
   "id": "aa6356c9",
   "metadata": {},
   "source": [
    "In the above example, we converted the mixed date formats to a uniform yyyy-mm-dd format. Here,\n",
    "\n",
    "format='mixed': specifies that the format of each given date can be different\n",
    "dayfirst=True: specifies that the day should be considered before the month when interpreting dates"
   ]
  },
  {
   "cell_type": "markdown",
   "id": "4de50d26",
   "metadata": {},
   "source": [
    "### Pandas Handling wrong data"
   ]
  },
  {
   "cell_type": "markdown",
   "id": "d8782a2f",
   "metadata": {},
   "source": [
    "Sometimes, a dataset can have inaccurate entries due to reasons such as human errors during data input, sourcing data from unreliable places, etc.\n",
    "\n",
    "This can significantly undermine the quality and reliability of the data analysis performed on it."
   ]
  },
  {
   "cell_type": "markdown",
   "id": "a5174c6a",
   "metadata": {},
   "source": [
    "      Name  Age Gender  Standard\n",
    "0     John    8      M         3\n",
    "1  Michael    9      M         4\n",
    "2      Tom    7      M        12\n",
    "3     Alex   80      F         3\n",
    "4     Ryan  100      M         5"
   ]
  },
  {
   "cell_type": "markdown",
   "id": "9cf7b472",
   "metadata": {},
   "source": [
    "In the above DataFrame, we can see a few obvious mistakes like:\n",
    "\n",
    "The ages of two students are listed as 80 and 100, which is too old for primary school students.\n",
    "The gender of Alex is marked as F. Since this is an all-boys school, it is obviously a mistake.\n",
    "Tom is listed as being in the 12th standard, which is simply not possible in an elementary school context.\n",
    "We can handle such wrong data in the following ways:\n",
    "\n",
    "- Replace Individual Values\n",
    "- Replace Values Based on a Condition\n",
    "- Remove Wrong Values"
   ]
  },
  {
   "cell_type": "markdown",
   "id": "db8e2721",
   "metadata": {},
   "source": [
    "### Replace Individual Values"
   ]
  },
  {
   "cell_type": "markdown",
   "id": "90d773d6",
   "metadata": {},
   "source": [
    "We can see that the value F for Gender column is an obvious mistake. Let's replace F with M to rectify the error."
   ]
  },
  {
   "cell_type": "code",
   "execution_count": 11,
   "id": "e4864244",
   "metadata": {},
   "outputs": [
    {
     "name": "stdout",
     "output_type": "stream",
     "text": [
      "      Name  Age Gender  Standard\n",
      "0     John    8      M         3\n",
      "1  Michael    9      M         4\n",
      "2      Tom    7      M        12\n",
      "3     Alex   80      M         3\n",
      "4     Ryan  100      M         5\n"
     ]
    }
   ],
   "source": [
    "import pandas as pd\n",
    "\n",
    "# create dataframe\n",
    "data = {\n",
    "    'Name': ['John', 'Michael', 'Tom', 'Alex', 'Ryan'],\n",
    "    'Age': [8, 9, 7, 80, 100],\n",
    "    'Gender': ['M', 'M', 'M', 'F', 'M'],\n",
    "    'Standard': [3, 4, 12, 3, 5]\n",
    "}\n",
    "df = pd.DataFrame(data)\n",
    "\n",
    "# replace F with M\n",
    "df.loc[3, 'Gender'] = 'M'\n",
    "\n",
    "print(df)"
   ]
  },
  {
   "cell_type": "markdown",
   "id": "0fc8b8f9",
   "metadata": {},
   "source": [
    "### Replace values based on a condition"
   ]
  },
  {
   "cell_type": "markdown",
   "id": "1512073b",
   "metadata": {},
   "source": [
    "- In cases where the values need to satisfy a particular condition, we can iterate through the values to check if the condition is satisfied and to make changes accordingly.\n",
    "\n",
    "- For example, the maximum age of students in this elementary school is 14. But there are two students whose ages are 80 and 100. This looks like a typo where an additional zero has been added unintentionally."
   ]
  },
  {
   "cell_type": "code",
   "execution_count": 12,
   "id": "e58f245e",
   "metadata": {},
   "outputs": [
    {
     "name": "stdout",
     "output_type": "stream",
     "text": [
      "      Name  Age Gender  Standard\n",
      "0     John    8      M         3\n",
      "1  Michael    9      M         4\n",
      "2      Tom    7      M        12\n",
      "3     Alex    8      M         3\n",
      "4     Ryan   10      M         5\n"
     ]
    }
   ],
   "source": [
    "import pandas as pd\n",
    "\n",
    "# create dataframe\n",
    "data = {\n",
    "    'Name': ['John', 'Michael', 'Tom', 'Alex', 'Ryan'],\n",
    "    'Age': [8, 9, 7, 80, 100],\n",
    "    'Gender': ['M', 'M', 'M', 'M', 'M'],\n",
    "    'Standard': [3, 4, 12, 3, 5]\n",
    "}\n",
    "df = pd.DataFrame(data)\n",
    "\n",
    "# replace values based on conditions\n",
    "for i  in df.index:\n",
    "    age_val = df.loc[i, 'Age']\n",
    "    if (age_val > 14) and (age_val%10 == 0):\n",
    "        df.loc[i, 'Age'] = age_val/10\n",
    "\n",
    "print(df)"
   ]
  },
  {
   "cell_type": "markdown",
   "id": "db7cc6d2",
   "metadata": {},
   "source": [
    "### Remove Wrong values"
   ]
  },
  {
   "cell_type": "markdown",
   "id": "c9e828ac",
   "metadata": {},
   "source": [
    "Some values can't be corrected. For example, the value 12 in Standard doesn't make any sense as this is an elementary school. But we can't also correct it because we don't know the right standard."
   ]
  },
  {
   "cell_type": "code",
   "execution_count": 13,
   "id": "80e8ecec",
   "metadata": {},
   "outputs": [
    {
     "name": "stdout",
     "output_type": "stream",
     "text": [
      "      Name  Age Gender  Standard\n",
      "0     John    8      M         3\n",
      "1  Michael    9      M         4\n",
      "3     Alex    8      M         3\n",
      "4     Ryan   10      M         5\n"
     ]
    }
   ],
   "source": [
    "import pandas as pd\n",
    "\n",
    "# create dataframe\n",
    "data = {\n",
    "    'Name': ['John', 'Michael', 'Tom', 'Alex', 'Ryan'],\n",
    "    'Age': [8, 9, 7, 8, 10],\n",
    "    'Gender': ['M', 'M', 'M', 'M', 'M'],\n",
    "    'Standard': [3, 4, 12, 3, 5]\n",
    "}\n",
    "df = pd.DataFrame(data)\n",
    "\n",
    "# remove mistaken values\n",
    "for i in df.index:\n",
    "    if df.loc[i,'Standard'] > 8:\n",
    "        df.drop(i, inplace=True)\n",
    "\n",
    "print(df)"
   ]
  },
  {
   "cell_type": "markdown",
   "id": "afe618e4",
   "metadata": {},
   "source": [
    "### Pandas Get Dummies"
   ]
  },
  {
   "cell_type": "markdown",
   "id": "c35882d6",
   "metadata": {},
   "source": [
    "- A dummy variable is a numerical representation used to encode categorical data.\n",
    "\n",
    "- Dummy variables exhibit binary values, exclusively 0 or 1.\n",
    "\n",
    "- For some data, each item can only belong to one category. For example, a car can be red or blue, but not both at the same time.\n",
    "\n",
    "- However, some data can belong to more than one category. Like a movie that's both action and comedy.\n",
    "\n",
    "- In both cases, the point of get_dummies() in Pandas is to change these categories into 0s and 1s. This makes it easier for computer programs to understand and work with the data."
   ]
  },
  {
   "cell_type": "markdown",
   "id": "02715e3e",
   "metadata": {},
   "source": [
    "In the context of a dummy variable:\n",
    "- The value 1 signifies the existence of a specific category.\n",
    "- The value 0 signifies the non-existence of a particular category.\n",
    "\n",
    "### Use get_dummies() on a DataFrame Column"
   ]
  },
  {
   "cell_type": "markdown",
   "id": "6d49cbc7",
   "metadata": {},
   "source": [
    "In Pandas, to use get_dummies() on the Dataframe, we pass the DataFrame inside the function."
   ]
  },
  {
   "cell_type": "code",
   "execution_count": 15,
   "id": "6221f064",
   "metadata": {},
   "outputs": [
    {
     "name": "stdout",
     "output_type": "stream",
     "text": [
      "   Color   Blue  Green    Red\n",
      "0    Red  False  False   True\n",
      "1  Green  False   True  False\n",
      "2   Blue   True  False  False\n",
      "3  Green  False   True  False\n",
      "4    Red  False  False   True\n"
     ]
    }
   ],
   "source": [
    "import pandas as pd\n",
    "\n",
    "# sample data\n",
    "data = {'Color': ['Red', 'Green', 'Blue', 'Green', 'Red']}\n",
    "\n",
    "# creating a DataFrame\n",
    "df = pd.DataFrame(data)\n",
    "\n",
    "# using get_dummies to convert the categorical column\n",
    "dummies = pd.get_dummies(df['Color'])\n",
    "\n",
    "# concatenating the dummies DataFrame with the original DataFrame\n",
    "df = pd.concat([df, dummies], axis=1)\n",
    "\n",
    "print(df)"
   ]
  },
  {
   "cell_type": "markdown",
   "id": "b00f310d",
   "metadata": {},
   "source": [
    "### Use of drop_first Inside get_dummies()"
   ]
  },
  {
   "cell_type": "markdown",
   "id": "e5d309cc",
   "metadata": {},
   "source": [
    "In Pandas, we can use the get_dummies() function to create dummy variables for a categorical column in a DataFrame and then drop the first category using the drop_first parameter."
   ]
  },
  {
   "cell_type": "code",
   "execution_count": 16,
   "id": "051fdc0d",
   "metadata": {},
   "outputs": [
    {
     "name": "stdout",
     "output_type": "stream",
     "text": [
      "DataFrame with all dummy columns:\n",
      "   Color   Blue  Green    Red\n",
      "0    Red  False  False   True\n",
      "1  Green  False   True  False\n",
      "2   Blue   True  False  False\n",
      "3  Green  False   True  False\n",
      "4    Red  False  False   True\n",
      "\n",
      "\n",
      "DataFrame after dropping 'Blue':\n",
      "   Color  Green    Red\n",
      "0    Red  False   True\n",
      "1  Green   True  False\n",
      "2   Blue  False  False\n",
      "3  Green   True  False\n",
      "4    Red  False   True\n"
     ]
    }
   ],
   "source": [
    "import pandas as pd\n",
    "\n",
    "# sample data\n",
    "data = {'Color': ['Red', 'Green', 'Blue', 'Green', 'Red']}\n",
    "\n",
    "# creating a DataFrame\n",
    "df = pd.DataFrame(data)\n",
    "\n",
    "# getting dummies without dropping any columns\n",
    "dummies_all = pd.get_dummies(df['Color'])\n",
    "\n",
    "# concatenating the dummies DataFrame with the original DataFrame\n",
    "df_all = pd.concat([df, dummies_all], axis=1)\n",
    "\n",
    "print(\"DataFrame with all dummy columns:\")\n",
    "print(df_all)\n",
    "print(\"\\n\")\n",
    "\n",
    "# getting dummies and dropping the first category column ('Blue' in this case)\n",
    "dummies = pd.get_dummies(df['Color'], drop_first=True)\n",
    "\n",
    "# concatenating the dummies DataFrame with the original DataFrame\n",
    "df = pd.concat([df, dummies], axis=1)\n",
    "\n",
    "print(\"DataFrame after dropping 'Blue':\")\n",
    "print(df)"
   ]
  },
  {
   "cell_type": "markdown",
   "id": "54fb6eed",
   "metadata": {},
   "source": [
    "### Use of prefix Inside get_dummies()"
   ]
  },
  {
   "cell_type": "markdown",
   "id": "ade6d1e5",
   "metadata": {},
   "source": [
    "We can use the prefix parameter inside the get_dummies() function to specify a prefix for the dummy variables created from a DataFrame column."
   ]
  },
  {
   "cell_type": "code",
   "execution_count": 1,
   "id": "745c0635",
   "metadata": {},
   "outputs": [
    {
     "name": "stdout",
     "output_type": "stream",
     "text": [
      "   Color  Color_Blue  Color_Green  Color_Red\n",
      "0    Red       False        False       True\n",
      "1  Green       False         True      False\n",
      "2   Blue        True        False      False\n",
      "3  Green       False         True      False\n",
      "4    Red       False        False       True\n"
     ]
    }
   ],
   "source": [
    "import pandas as pd\n",
    "\n",
    "# sample data\n",
    "data = {'Color': ['Red', 'Green', 'Blue', 'Green', 'Red']}\n",
    "\n",
    "# creating a DataFrame\n",
    "df = pd.DataFrame(data)\n",
    "\n",
    "# getting dummies with a specified prefix\n",
    "dummies = pd.get_dummies(df['Color'], prefix='Color')\n",
    "\n",
    "# concatenating the dummies DataFrame with the original DataFrame\n",
    "df = pd.concat([df, dummies], axis=1)\n",
    "\n",
    "print(df)"
   ]
  },
  {
   "cell_type": "markdown",
   "id": "0cc9d0c5",
   "metadata": {},
   "source": [
    "### Pandas Categorical"
   ]
  },
  {
   "cell_type": "markdown",
   "id": "0cdfc364",
   "metadata": {},
   "source": [
    "- Categorical data is a type of data that represents categories or labels rather than numerical values.\n",
    "\n",
    "- In simple words, it is a way of classifying into distinct categories, such as genders, country names, or education levels.\n",
    "\n",
    "- Categorical data is handy when we have data that naturally fit into predefined options."
   ]
  },
  {
   "cell_type": "markdown",
   "id": "2de0ebae",
   "metadata": {},
   "source": [
    "### Create Categorical Data Type in Pandas"
   ]
  },
  {
   "cell_type": "markdown",
   "id": "b59abcd8",
   "metadata": {},
   "source": [
    "In Pandas, the Categorical() method is used to create a categorical data type from a given sequence of values."
   ]
  },
  {
   "cell_type": "code",
   "execution_count": 2,
   "id": "c3227fc3",
   "metadata": {},
   "outputs": [
    {
     "name": "stdout",
     "output_type": "stream",
     "text": [
      "['red', 'blue', 'green', 'red', 'blue']\n",
      "Categories (3, object): ['blue', 'green', 'red']\n"
     ]
    }
   ],
   "source": [
    "import pandas as pd\n",
    "\n",
    "data = ['red', 'blue', 'green', 'red', 'blue']\n",
    "\n",
    "# create a categorical column\n",
    "categorical_data = pd.Categorical(data)\n",
    "\n",
    "print(categorical_data)"
   ]
  },
  {
   "cell_type": "markdown",
   "id": "2d070ae1",
   "metadata": {},
   "source": [
    "### convert pandas series to categorical series"
   ]
  },
  {
   "cell_type": "markdown",
   "id": "7ffaafad",
   "metadata": {},
   "source": [
    "In Pandas, we can convert a regular Pandas Series to a Categorical Series using either the astype() function or the dtype parameter within the pd.Series() constructor."
   ]
  },
  {
   "cell_type": "markdown",
   "id": "4cf0a515",
   "metadata": {},
   "source": [
    "#### using the astype() function"
   ]
  },
  {
   "cell_type": "code",
   "execution_count": 3,
   "id": "2d2de6e8",
   "metadata": {},
   "outputs": [
    {
     "name": "stdout",
     "output_type": "stream",
     "text": [
      "0      red\n",
      "1     blue\n",
      "2    green\n",
      "3      red\n",
      "4     blue\n",
      "dtype: category\n",
      "Categories (3, object): ['blue', 'green', 'red']\n"
     ]
    }
   ],
   "source": [
    "import pandas as pd\n",
    "\n",
    "# create a regular Series\n",
    "data = ['red', 'blue', 'green', 'red', 'blue']\n",
    "series1 = pd.Series(data)\n",
    "\n",
    "# convert the Series to a categorical Series using .astype()\n",
    "categorical_s = series1.astype('category')\n",
    "\n",
    "print(categorical_s)"
   ]
  },
  {
   "cell_type": "markdown",
   "id": "54ebe116",
   "metadata": {},
   "source": [
    "### using the dtype parameter inside Series()"
   ]
  },
  {
   "cell_type": "code",
   "execution_count": 4,
   "id": "b34bb788",
   "metadata": {},
   "outputs": [
    {
     "name": "stdout",
     "output_type": "stream",
     "text": [
      "0    A\n",
      "1    B\n",
      "2    A\n",
      "3    C\n",
      "4    B\n",
      "dtype: category\n",
      "Categories (3, object): ['A', 'B', 'C']\n"
     ]
    }
   ],
   "source": [
    "import pandas as pd\n",
    "\n",
    "# create a categorical Series\n",
    "data = ['A', 'B', 'A', 'C', 'B']\n",
    "cat_series = pd.Series(data, dtype=\"category\")\n",
    "\n",
    "print(cat_series)"
   ]
  },
  {
   "cell_type": "markdown",
   "id": "ebb445e4",
   "metadata": {},
   "source": [
    "### Access Categories and Codes in Pandas"
   ]
  },
  {
   "cell_type": "markdown",
   "id": "28e2ad3b",
   "metadata": {},
   "source": [
    "In Pandas, the cat accessor allows us to access categories and codes. Here's the attributes provided by the cat accessor to access categories and codes:\n",
    "\n",
    "- categories - returns the unique categories present in the categorical variable\n",
    "- codes - returns the integer codes representing the categories for each element in the categorical variable"
   ]
  },
  {
   "cell_type": "code",
   "execution_count": 5,
   "id": "2c6f0f7f",
   "metadata": {},
   "outputs": [
    {
     "name": "stdout",
     "output_type": "stream",
     "text": [
      "Index(['A', 'B', 'C'], dtype='object')\n",
      "0    0\n",
      "1    1\n",
      "2    0\n",
      "3    2\n",
      "4    1\n",
      "dtype: int8\n"
     ]
    }
   ],
   "source": [
    "import pandas as pd\n",
    "\n",
    "# create a categorical Series\n",
    "data = ['A', 'B', 'A', 'C', 'B']\n",
    "cat_series = pd.Series(data, dtype=\"category\")\n",
    "\n",
    "# using .cat accessor\n",
    "print(cat_series.cat.categories)\n",
    "print(cat_series.cat.codes)"
   ]
  },
  {
   "cell_type": "markdown",
   "id": "c8bc2443",
   "metadata": {},
   "source": [
    "Here,\n",
    "\n",
    "- The element at index 0 of cat_series is A, which corresponds to category 0.\n",
    "- The element at index 1 of cat_series is B, which corresponds to category 1.\n",
    "- The element at index 2 of cat_series is A, which again corresponds to category 0.\n",
    "- The element at index 3 of cat_series is C, which corresponds to category 2.\n",
    "- The element at index 4 of cat_series is B, which again corresponds to category 1.\n"
   ]
  },
  {
   "cell_type": "markdown",
   "id": "0108418c",
   "metadata": {},
   "source": [
    "### Rename Categories in Pandas"
   ]
  },
  {
   "cell_type": "markdown",
   "id": "add7808b",
   "metadata": {},
   "source": [
    "We can rename the categories in Pandas using the cat.rename_categories() method."
   ]
  },
  {
   "cell_type": "code",
   "execution_count": 6,
   "id": "da117c41",
   "metadata": {},
   "outputs": [
    {
     "name": "stdout",
     "output_type": "stream",
     "text": [
      "0    Category A\n",
      "1    Category B\n",
      "2    Category A\n",
      "3    Category C\n",
      "4    Category B\n",
      "dtype: category\n",
      "Categories (3, object): ['Category A', 'Category B', 'Category C']\n"
     ]
    }
   ],
   "source": [
    "import pandas as pd\n",
    "\n",
    "# create a categorical Series\n",
    "data = ['A', 'B', 'A', 'C', 'B']\n",
    "cat_series = pd.Series(data, dtype=\"category\")\n",
    "\n",
    "# create a dictionary for renaming categories\n",
    "category_mapping = {\"A\": \"Category A\", \"B\": \"Category B\", \"C\": \"Category C\"}\n",
    "\n",
    "# rename categories using .rename_categories() and recreate the Series\n",
    "cat_series_renamed = cat_series.cat.rename_categories(category_mapping)\n",
    "\n",
    "print(cat_series_renamed)"
   ]
  },
  {
   "cell_type": "markdown",
   "id": "80bd81c1",
   "metadata": {},
   "source": [
    "### Add New Categories in Pandas"
   ]
  },
  {
   "cell_type": "markdown",
   "id": "dc00e9da",
   "metadata": {},
   "source": [
    "In Pandas, we can add new categories to the existing set of categories using the cat.add_categories() method."
   ]
  },
  {
   "cell_type": "code",
   "execution_count": 7,
   "id": "cd8351f6",
   "metadata": {},
   "outputs": [
    {
     "name": "stdout",
     "output_type": "stream",
     "text": [
      "0    A\n",
      "1    B\n",
      "2    A\n",
      "3    C\n",
      "4    B\n",
      "dtype: category\n",
      "Categories (5, object): ['A', 'B', 'C', 'D', 'E']\n"
     ]
    }
   ],
   "source": [
    "import pandas as pd\n",
    "\n",
    "# create a categorical Series\n",
    "data = ['A', 'B', 'A', 'C', 'B']\n",
    "cat_series = pd.Series(data, dtype=\"category\")\n",
    "\n",
    "# add new categories and reassign the variable\n",
    "new_categories = ['D', 'E']\n",
    "cat_series = cat_series.cat.add_categories(new_categories)\n",
    "\n",
    "print(cat_series)"
   ]
  },
  {
   "cell_type": "markdown",
   "id": "dcbd1027",
   "metadata": {},
   "source": [
    "### Remove Categories in Pandas"
   ]
  },
  {
   "cell_type": "code",
   "execution_count": 8,
   "id": "ea2d37c1",
   "metadata": {},
   "outputs": [
    {
     "name": "stdout",
     "output_type": "stream",
     "text": [
      "Original Series:\n",
      "0    A\n",
      "1    B\n",
      "2    A\n",
      "3    C\n",
      "4    B\n",
      "dtype: category\n",
      "Categories (3, object): ['A', 'B', 'C']\n",
      "\n",
      "Modified Series:\n",
      "0      A\n",
      "1    NaN\n",
      "2      A\n",
      "3    NaN\n",
      "4    NaN\n",
      "dtype: category\n",
      "Categories (1, object): ['A']\n"
     ]
    }
   ],
   "source": [
    "import pandas as pd\n",
    "\n",
    "# create a categorical Series\n",
    "data = ['A', 'B', 'A', 'C', 'B']\n",
    "cat_series = pd.Series(data, dtype=\"category\")\n",
    "\n",
    "# display the original categorical variable\n",
    "print(\"Original Series:\")\n",
    "print(cat_series)\n",
    "\n",
    "# remove specific categories\n",
    "categories_to_remove = [\"B\", \"C\"]\n",
    "cat_series_removed = cat_series.cat.remove_categories(categories_to_remove)\n",
    "\n",
    "# display the modified categorical variable\n",
    "print(\"\\nModified Series:\")\n",
    "print(cat_series_removed)"
   ]
  },
  {
   "cell_type": "markdown",
   "id": "14dee2c7",
   "metadata": {},
   "source": [
    "### Check if categorical variable is ordered or not"
   ]
  },
  {
   "cell_type": "markdown",
   "id": "1d686944",
   "metadata": {},
   "source": [
    "In Pandas, to check if a categorical variable is ordered, you can use the ordered attribute provided by the cat accessor in pandas. "
   ]
  },
  {
   "cell_type": "code",
   "execution_count": 9,
   "id": "82aab516",
   "metadata": {},
   "outputs": [
    {
     "name": "stdout",
     "output_type": "stream",
     "text": [
      "Is ordered: True\n"
     ]
    }
   ],
   "source": [
    "import pandas as pd\n",
    "\n",
    "# create an ordered categorical Series\n",
    "data = ['low', 'medium', 'high', 'low', 'medium']\n",
    "ordered_cat_series = pd.Categorical(data, categories=['low', 'medium', 'high'], ordered=True)\n",
    "\n",
    "# check if the categorical variable is ordered\n",
    "is_ordered = ordered_cat_series.ordered\n",
    "\n",
    "print(\"Is ordered:\", is_ordered)"
   ]
  },
  {
   "cell_type": "markdown",
   "id": "a7ec62df",
   "metadata": {},
   "source": [
    "### Pandas Datetime"
   ]
  },
  {
   "cell_type": "markdown",
   "id": "192952a2",
   "metadata": {},
   "source": [
    "- In Pandas, DateTime is a data type that represents a single point in time. It is especially useful when dealing with time-series data like stock prices, weather records, economic indicators etc.\n",
    "\n",
    "- We use the to_datetime() function to convert strings to the DateTime object."
   ]
  },
  {
   "cell_type": "code",
   "execution_count": 10,
   "id": "bb89cf05",
   "metadata": {},
   "outputs": [
    {
     "name": "stdout",
     "output_type": "stream",
     "text": [
      "String: 2001-12-24 12:38\n",
      "DateTime: 2001-12-24 12:38:00\n",
      "<class 'pandas._libs.tslibs.timestamps.Timestamp'>\n"
     ]
    }
   ],
   "source": [
    "import pandas as pd\n",
    "\n",
    "# create a datetime string\n",
    "date_string = '2001-12-24 12:38'\n",
    "\n",
    "print(\"String:\", date_string)\n",
    "\n",
    "# convert string to datetime\n",
    "date = pd.to_datetime(date_string)\n",
    "\n",
    "print(\"DateTime:\", date)\n",
    "print(type(date))"
   ]
  },
  {
   "cell_type": "markdown",
   "id": "b45ae3c9",
   "metadata": {},
   "source": [
    "### Convert String to DateTime"
   ]
  },
  {
   "cell_type": "markdown",
   "id": "0f56de01",
   "metadata": {},
   "source": [
    "we can convert any valid string to DateTime using to_datetime()."
   ]
  },
  {
   "cell_type": "markdown",
   "id": "b05f00da",
   "metadata": {},
   "source": [
    "#### to_datetime() With Default Arguments"
   ]
  },
  {
   "cell_type": "code",
   "execution_count": 11,
   "id": "e48fe7ad",
   "metadata": {},
   "outputs": [
    {
     "name": "stdout",
     "output_type": "stream",
     "text": [
      "        date\n",
      "0 2021-01-13\n",
      "1 2022-10-22\n",
      "2 2023-12-03\n"
     ]
    }
   ],
   "source": [
    "import pandas as pd\n",
    "\n",
    "# create a dataframe with date strings\n",
    "df = pd.DataFrame({'date': ['2021-01-13', '2022-10-22', '2023-12-03']})\n",
    "\n",
    "# convert the 'date' column to datetime\n",
    "df['date'] = pd.to_datetime(df['date'])\n",
    "\n",
    "print(df)"
   ]
  },
  {
   "cell_type": "markdown",
   "id": "c005ece1",
   "metadata": {},
   "source": [
    "#### to_datetime() with Day First Format"
   ]
  },
  {
   "cell_type": "code",
   "execution_count": 12,
   "id": "9aa7fa96",
   "metadata": {},
   "outputs": [
    {
     "name": "stdout",
     "output_type": "stream",
     "text": [
      "        date\n",
      "0 2021-02-13\n",
      "1 2022-03-22\n",
      "2 2023-04-30\n"
     ]
    }
   ],
   "source": [
    "import pandas as pd\n",
    "\n",
    "# create a dataframe with date strings in day-first format\n",
    "df = pd.DataFrame({'date': ['13-02-2021', '22-03-2022', '30-04-2023']})\n",
    "\n",
    "# convert the 'date' column to datetime with day-first format\n",
    "df['date'] = pd.to_datetime(df['date'], dayfirst=True)\n",
    "\n",
    "print(df)"
   ]
  },
  {
   "cell_type": "markdown",
   "id": "d3be8b90",
   "metadata": {},
   "source": [
    "#### to_datetime() with custom format"
   ]
  },
  {
   "cell_type": "code",
   "execution_count": 13,
   "id": "da09ae65",
   "metadata": {},
   "outputs": [
    {
     "name": "stdout",
     "output_type": "stream",
     "text": [
      "        date\n",
      "0 2021-01-22\n",
      "1 2022-01-13\n",
      "2 2023-03-30\n"
     ]
    }
   ],
   "source": [
    "import pandas as pd\n",
    "\n",
    "# create a dataframe with date strings in custom format\n",
    "df = pd.DataFrame({'date': ['2021/22/01', '2022/13/01', '2023/30/03']})\n",
    "\n",
    "# convert the 'date' column to datetime with custom format\n",
    "df['date'] = pd.to_datetime(df['date'], format='%Y/%d/%m')\n",
    "\n",
    "print(df)"
   ]
  },
  {
   "cell_type": "markdown",
   "id": "98187c0a",
   "metadata": {},
   "source": [
    "### Get DateTime From Multiple columns"
   ]
  },
  {
   "cell_type": "markdown",
   "id": "47222428",
   "metadata": {},
   "source": [
    "We can also use the to_datetime() function to assemble the DateTime from multiple columns."
   ]
  },
  {
   "cell_type": "code",
   "execution_count": 14,
   "id": "7da2bf36",
   "metadata": {},
   "outputs": [
    {
     "name": "stdout",
     "output_type": "stream",
     "text": [
      "   year  month  day  hour  minute  second            datetime\n",
      "0  2021      1    1    10      30       0 2021-01-01 10:30:00\n",
      "1  2022      2    2    11      45       0 2022-02-02 11:45:00\n",
      "2  2023      3    3    12       0       0 2023-03-03 12:00:00\n"
     ]
    }
   ],
   "source": [
    "import pandas as pd\n",
    "\n",
    "# create a dataframe with separate date and time columns\n",
    "df = pd.DataFrame({'year': [2021, 2022, 2023],\n",
    "                   'month': [1, 2, 3],\n",
    "                   'day': [1, 2, 3],\n",
    "                   'hour': [10, 11, 12],\n",
    "                   'minute': [30, 45, 0],\n",
    "                   'second': [0, 0, 0]})\n",
    "\n",
    "# combine date and time columns to create a datetime column\n",
    "df['datetime'] = pd.to_datetime(df[['year', 'month', 'day', 'hour', 'minute', 'second']])\n",
    "\n",
    "print(df)"
   ]
  },
  {
   "cell_type": "markdown",
   "id": "f8c32be9",
   "metadata": {},
   "source": [
    "### Get Year, Month and Day from DateTime"
   ]
  },
  {
   "cell_type": "markdown",
   "id": "1dcf61f9",
   "metadata": {},
   "source": [
    "We can use the inbuilt attributes dt.year, dt.month and dt.day to get year, month and day respectively from Pandas DateTime object."
   ]
  },
  {
   "cell_type": "code",
   "execution_count": 15,
   "id": "f62f4185",
   "metadata": {},
   "outputs": [
    {
     "name": "stdout",
     "output_type": "stream",
     "text": [
      "    datetime  year  month  day\n",
      "0 2021-01-01  2021      1    1\n",
      "1 2022-02-02  2022      2    2\n",
      "2 2023-03-03  2023      3    3\n"
     ]
    }
   ],
   "source": [
    "import pandas as pd\n",
    "\n",
    "# create a dataframe with a datetime column\n",
    "df = pd.DataFrame({'datetime': ['2021-01-01', '2022-02-02', '2023-03-03']})\n",
    "\n",
    "# convert the 'datetime' column to datetime type\n",
    "df['datetime'] = pd.to_datetime(df['datetime'])\n",
    "\n",
    "# extract year, month, and day into separate columns\n",
    "df['year'] = df['datetime'].dt.year\n",
    "df['month'] = df['datetime'].dt.month\n",
    "df['day'] = df['datetime'].dt.day\n",
    "\n",
    "print(df)"
   ]
  },
  {
   "cell_type": "markdown",
   "id": "1ce02495",
   "metadata": {},
   "source": [
    "### Get Day of Week, Week of Year and Leap Year"
   ]
  },
  {
   "cell_type": "markdown",
   "id": "d8bc615d",
   "metadata": {},
   "source": [
    "We also have inbuilt attributes to get the day of the week, week of the year and to check whether the given year is a leap year."
   ]
  },
  {
   "cell_type": "code",
   "execution_count": 16,
   "id": "77958761",
   "metadata": {},
   "outputs": [
    {
     "name": "stdout",
     "output_type": "stream",
     "text": [
      "    datetime day_of_week  week_of_year  leap_year\n",
      "0 2021-01-01      Friday            53      False\n",
      "1 2024-02-02      Friday             5       True\n",
      "2 2023-03-03      Friday             9      False\n"
     ]
    }
   ],
   "source": [
    "import pandas as pd\n",
    "\n",
    "# create a dataframe with a datetime column\n",
    "df = pd.DataFrame({'datetime': ['2021-01-01', '2024-02-02', '2023-03-03']})\n",
    "\n",
    "# convert the 'datetime' column to datetime type\n",
    "df['datetime'] = pd.to_datetime(df['datetime'])\n",
    "\n",
    "# get the day of the week\n",
    "df['day_of_week'] = df['datetime'].dt.day_name()\n",
    "\n",
    "# get the week of the year\n",
    "df['week_of_year'] = df['datetime'].dt.isocalendar().week\n",
    "\n",
    "# check for leap year\n",
    "df['leap_year'] = df['datetime'].dt.is_leap_year\n",
    "\n",
    "print(df)"
   ]
  },
  {
   "cell_type": "markdown",
   "id": "c70bd408",
   "metadata": {},
   "source": [
    "### Pandas Aggregate Function"
   ]
  },
  {
   "cell_type": "markdown",
   "id": "7d44d930",
   "metadata": {},
   "source": [
    "Aggregate function in Pandas performs summary computations on data, often on grouped data. But it can also be used on Series objects."
   ]
  },
  {
   "cell_type": "markdown",
   "id": "ae7884e4",
   "metadata": {},
   "source": [
    "### Apply Single Aggregate Function"
   ]
  },
  {
   "cell_type": "code",
   "execution_count": 45,
   "id": "fcb2ce75",
   "metadata": {},
   "outputs": [
    {
     "name": "stdout",
     "output_type": "stream",
     "text": [
      "Total Sum: 135\n",
      "Average Value: 22.5\n",
      "Maximum Value: 35\n"
     ]
    }
   ],
   "source": [
    "import pandas as pd\n",
    "\n",
    "data = {\n",
    "    'Category': ['A', 'A', 'B', 'B', 'A', 'B'],\n",
    "    'Value': [10, 15, 20, 25, 30, 35]\n",
    "}\n",
    "\n",
    "df = pd.DataFrame(data)\n",
    "\n",
    "# calculate total sum of the Value column\n",
    "total_sum = df['Value'].aggregate('sum')\n",
    "print(\"Total Sum:\", total_sum)\n",
    "\n",
    "# calculate the mean of the Value column\n",
    "average_value = df['Value'].aggregate('mean')\n",
    "print(\"Average Value:\", average_value)\n",
    "\n",
    "# calculate the maximum value in the Value column\n",
    "max_value = df['Value'].aggregate('max')\n",
    "print(\"Maximum Value:\", max_value)"
   ]
  },
  {
   "cell_type": "markdown",
   "id": "dcb99409",
   "metadata": {},
   "source": [
    "### Apply Multiple Aggregate Functions in Pandas"
   ]
  },
  {
   "cell_type": "markdown",
   "id": "89e52d6c",
   "metadata": {},
   "source": [
    "We can also apply multiple aggregation functions to one or more columns using the aggregate() function in Pandas."
   ]
  },
  {
   "cell_type": "code",
   "execution_count": 46,
   "id": "f2ac5178",
   "metadata": {},
   "outputs": [
    {
     "name": "stdout",
     "output_type": "stream",
     "text": [
      "          sum       mean  max  min\n",
      "Category                          \n",
      "A          55  18.333333   30   10\n",
      "B          80  26.666667   35   20\n"
     ]
    }
   ],
   "source": [
    "import pandas as pd\n",
    "\n",
    "data = {\n",
    "    'Category': ['A', 'A', 'B', 'B', 'A', 'B'],\n",
    "    'Value': [10, 15, 20, 25, 30, 35]\n",
    "}\n",
    "\n",
    "df = pd.DataFrame(data)\n",
    "\n",
    "# applying multiple aggregation functions to a single column\n",
    "result = df.groupby('Category')['Value'].agg(['sum', 'mean', 'max', 'min'])\n",
    "print(result)"
   ]
  },
  {
   "cell_type": "markdown",
   "id": "e350beb5",
   "metadata": {},
   "source": [
    " we're using the aggregate() function to apply multiple aggregation functions (sum, mean, max, and min) to the Value column after grouping by the Category column."
   ]
  },
  {
   "cell_type": "markdown",
   "id": "830ac864",
   "metadata": {},
   "source": [
    "### Apply Different Aggregation Functions"
   ]
  },
  {
   "cell_type": "markdown",
   "id": "1a970dac",
   "metadata": {},
   "source": [
    "In Pandas, we can apply different aggregation functions to different columns using a dictionary with the aggregate() function. "
   ]
  },
  {
   "cell_type": "code",
   "execution_count": 47,
   "id": "e9aced5d",
   "metadata": {},
   "outputs": [
    {
     "name": "stdout",
     "output_type": "stream",
     "text": [
      "         Value1     Value2    \n",
      "            sum       mean max\n",
      "Category                      \n",
      "A            55  10.333333  18\n",
      "B            80  16.000000  21\n"
     ]
    }
   ],
   "source": [
    "import pandas as pd\n",
    "\n",
    "data = {\n",
    "    'Category': ['A', 'A', 'B', 'B', 'A', 'B'],\n",
    "    'Value1': [10, 15, 20, 25, 30, 35],\n",
    "    'Value2': [5, 8, 12, 15, 18, 21]\n",
    "}\n",
    "\n",
    "df = pd.DataFrame(data)\n",
    "\n",
    "agg_funcs = {\n",
    "\n",
    " # applying 'sum' to Value1 column\n",
    "    'Value1': 'sum',   \n",
    "       \n",
    "# applying 'mean' and 'max' to Value2 column \n",
    "    'Value2': ['mean', 'max']   \n",
    "}\n",
    "\n",
    "result = df.groupby('Category').aggregate(agg_funcs)\n",
    "print(result)"
   ]
  },
  {
   "cell_type": "markdown",
   "id": "24ea45f1",
   "metadata": {},
   "source": [
    "### Pandas Group By"
   ]
  },
  {
   "cell_type": "markdown",
   "id": "5199081b",
   "metadata": {},
   "source": [
    "- In Pandas, the groupby operation lets us group data based on specific columns. This means we can divide a DataFrame into smaller groups based on the values in these columns.\n",
    "\n",
    "- Once grouped, we can then apply functions to each group separately. These functions help summarize or aggregate the data in each group."
   ]
  },
  {
   "cell_type": "markdown",
   "id": "56143ee0",
   "metadata": {},
   "source": [
    "### Group By a Single column in Pandas"
   ]
  },
  {
   "cell_type": "markdown",
   "id": "9a35a82d",
   "metadata": {},
   "source": [
    "In Pandas, we use the groupby() function to group data by a single column and then calculate the aggregates."
   ]
  },
  {
   "cell_type": "code",
   "execution_count": 48,
   "id": "066fbfe0",
   "metadata": {},
   "outputs": [
    {
     "name": "stdout",
     "output_type": "stream",
     "text": [
      "Category\n",
      "Clothing        800\n",
      "Electronics    1800\n",
      "Name: Sales, dtype: int64\n"
     ]
    }
   ],
   "source": [
    "import pandas as pd\n",
    "\n",
    "# create a dictionary containing the data\n",
    "data = {'Category': ['Electronics', 'Clothing', 'Electronics', 'Clothing'],\n",
    "        'Sales': [1000, 500, 800, 300]}\n",
    "\n",
    "# create a DataFrame using the data dictionary\n",
    "df = pd.DataFrame(data)\n",
    "\n",
    "# group the DataFrame by the Category column and\n",
    "# calculate the sum of Sales for each category\n",
    "grouped = df.groupby('Category')['Sales'].sum()\n",
    "\n",
    "# print the grouped data\n",
    "print(grouped)"
   ]
  },
  {
   "cell_type": "markdown",
   "id": "9af3ef31",
   "metadata": {},
   "source": [
    "### Group by a Multiple Column in Pandas"
   ]
  },
  {
   "cell_type": "markdown",
   "id": "ffebe16b",
   "metadata": {},
   "source": [
    "We can also group multiple columns and calculate multiple aggregates in Pandas."
   ]
  },
  {
   "cell_type": "code",
   "execution_count": 49,
   "id": "653f7434",
   "metadata": {},
   "outputs": [
    {
     "name": "stdout",
     "output_type": "stream",
     "text": [
      "             Score    \n",
      "              mean max\n",
      "Gender Grade          \n",
      "Female A      88.0  88\n",
      "       B      85.0  85\n",
      "Male   A      91.0  92\n",
      "       B      78.0  78\n"
     ]
    }
   ],
   "source": [
    "import pandas as pd\n",
    "\n",
    "# create a DataFrame with student data\n",
    "data = {\n",
    "    'Gender': ['Male', 'Female', 'Male', 'Female', 'Male'],\n",
    "    'Grade': ['A', 'B', 'A', 'A', 'B'],\n",
    "    'Score': [90, 85, 92, 88, 78]\n",
    "}\n",
    "\n",
    "df = pd.DataFrame(data)\n",
    "\n",
    "# define the aggregate functions to be applied to the Score column\n",
    "agg_functions = {\n",
    "    # calculate both mean and maximum of the Score column\n",
    "    'Score': ['mean', 'max'] \n",
    "}\n",
    "\n",
    "# group the DataFrame by Gender and Grade, then apply the aggregate functions\n",
    "grouped = df.groupby(['Gender', 'Grade']).aggregate(agg_functions)\n",
    "\n",
    "# print the resulting grouped DataFrame\n",
    "print(grouped)"
   ]
  },
  {
   "cell_type": "markdown",
   "id": "e744357d",
   "metadata": {},
   "source": [
    "### Group with Categorical Data"
   ]
  },
  {
   "cell_type": "markdown",
   "id": "fae7a3ff",
   "metadata": {},
   "source": [
    "Pandas provides powerful tools to work with categorical data efficiently using the groupby() function."
   ]
  },
  {
   "cell_type": "code",
   "execution_count": 50,
   "id": "4ff57edf",
   "metadata": {},
   "outputs": [
    {
     "name": "stdout",
     "output_type": "stream",
     "text": [
      "Category\n",
      "A    600\n",
      "B    320\n",
      "Name: Sales, dtype: int64\n"
     ]
    }
   ],
   "source": [
    "import pandas as pd\n",
    "\n",
    "# sample data\n",
    "data = {'Category': ['A', 'B', 'A', 'B', 'A', 'B'],\n",
    "        'Sales': [100, 150, 200, 50, 300, 120]}\n",
    "\n",
    "df = pd.DataFrame(data)\n",
    "\n",
    "# convert Category column to categorical type\n",
    "df['Category'] = pd.Categorical(df['Category'])\n",
    "\n",
    "# group by Category  and calculate the total sales\n",
    "grouped = df.groupby('Category')['Sales'].sum()\n",
    "\n",
    "print(grouped)"
   ]
  },
  {
   "cell_type": "markdown",
   "id": "cf931357",
   "metadata": {},
   "source": [
    "### Pandas Filtering"
   ]
  },
  {
   "cell_type": "markdown",
   "id": "59e71508",
   "metadata": {},
   "source": [
    "- Filtering data is a common operation in data analysis. Pandas allows us to filter data based on different conditions.\n"
   ]
  },
  {
   "cell_type": "markdown",
   "id": "58c32d43",
   "metadata": {},
   "source": [
    "The filter() method in Pandas is used to filter rows and columns from a DataFrame based on specified conditions."
   ]
  },
  {
   "cell_type": "code",
   "execution_count": 52,
   "id": "c2b8781d",
   "metadata": {},
   "outputs": [
    {
     "name": "stdout",
     "output_type": "stream",
     "text": [
      "   A  C\n",
      "0  1  7\n",
      "1  2  8\n",
      "2  3  9\n"
     ]
    }
   ],
   "source": [
    "import pandas as pd\n",
    "\n",
    "# create a sample DataFrame\n",
    "data = {'A': [1, 2, 3],\n",
    "        'B': [4, 5, 6],\n",
    "        'C': [7, 8, 9]}\n",
    "\n",
    "df = pd.DataFrame(data)\n",
    "\n",
    "# use filter() to select specific columns by name\n",
    "selected_columns = df.filter(items=['A', 'C'])\n",
    "\n",
    "# print the resulting DataFrame\n",
    "print(selected_columns)\n"
   ]
  },
  {
   "cell_type": "markdown",
   "id": "40191e3a",
   "metadata": {},
   "source": [
    "#### select columns containing certain substring"
   ]
  },
  {
   "cell_type": "code",
   "execution_count": 53,
   "id": "087d24d8",
   "metadata": {},
   "outputs": [
    {
     "name": "stdout",
     "output_type": "stream",
     "text": [
      "      Name  Age\n",
      "0    Alice   25\n",
      "1      Bob   30\n",
      "2  Charlie   22\n"
     ]
    }
   ],
   "source": [
    "import pandas as pd\n",
    "\n",
    "# create a dictionary \n",
    "data = {\n",
    "    'Name': ['Alice', 'Bob', 'Charlie'],\n",
    "    'Age': [25, 30, 22],\n",
    "    'City': ['New York', 'Los Angeles', 'Chicago']\n",
    "}\n",
    "\n",
    "# create a DataFrame df from data\n",
    "df = pd.DataFrame(data)\n",
    "\n",
    "# use filter() to select specific columns ('Name' and 'Age') from df\n",
    "selected_columns = df.filter(items=['Name', 'Age'])\n",
    "\n",
    "# display the selected columns\n",
    "print(selected_columns)"
   ]
  },
  {
   "cell_type": "markdown",
   "id": "a2e65adc",
   "metadata": {},
   "source": [
    "#### use like parameter to select columns containing certain substring"
   ]
  },
  {
   "cell_type": "code",
   "execution_count": 54,
   "id": "db103cbb",
   "metadata": {},
   "outputs": [
    {
     "name": "stdout",
     "output_type": "stream",
     "text": [
      "   apple_count\n",
      "0            3\n",
      "1            2\n",
      "2            5\n"
     ]
    }
   ],
   "source": [
    "import pandas as pd\n",
    "\n",
    "# sample DataFrame\n",
    "data = {'apple_count': [3, 2, 5],\n",
    "        'banana_count': [1, 4, 6],\n",
    "        'orange_count': [4, 3, 2]}\n",
    "\n",
    "df = pd.DataFrame(data)\n",
    "\n",
    "# select columns containing the substring \"apple\"\n",
    "filtered_columns = df.filter(like='apple')\n",
    "\n",
    "print(filtered_columns)"
   ]
  },
  {
   "cell_type": "markdown",
   "id": "1b7d1dfc",
   "metadata": {},
   "source": [
    "We can filter the data in Pandas in two main ways:\n",
    "\n",
    "- By column names (Labels)\n",
    "- By the actual data inside (Values)"
   ]
  },
  {
   "cell_type": "markdown",
   "id": "19269446",
   "metadata": {},
   "source": [
    "### Filter Data by Labels"
   ]
  },
  {
   "cell_type": "markdown",
   "id": "cd900a85",
   "metadata": {},
   "source": [
    "We can use the filter() function to select columns by their names or labels."
   ]
  },
  {
   "cell_type": "code",
   "execution_count": 51,
   "id": "b0737286",
   "metadata": {},
   "outputs": [
    {
     "name": "stdout",
     "output_type": "stream",
     "text": [
      "Original DataFrame:\n",
      "      Name Department  Salary\n",
      "0    Alice         HR   50000\n",
      "1      Bob  Marketing   60000\n",
      "2  Charlie  Marketing   55000\n",
      "3    David         IT   70000\n",
      "\n",
      "\n",
      "Filtered DataFrame:\n",
      "      Name  Salary\n",
      "0    Alice   50000\n",
      "1      Bob   60000\n",
      "2  Charlie   55000\n",
      "3    David   70000\n"
     ]
    }
   ],
   "source": [
    "import pandas as pd\n",
    "\n",
    "# create a DataFrame\n",
    "data = {'Name': ['Alice', 'Bob', 'Charlie', 'David'],\n",
    "        'Department': ['HR', 'Marketing', 'Marketing', 'IT'],\n",
    "        'Salary': [50000, 60000, 55000, 70000]}\n",
    "\n",
    "df = pd.DataFrame(data)\n",
    "\n",
    "# display the original DataFrame\n",
    "print(\"Original DataFrame:\")\n",
    "print(df)\n",
    "print(\"\\n\")\n",
    "\n",
    "# use the filter() method to select columns based on a condition\n",
    "filtered_df = df.filter(items=['Name', 'Salary']) \n",
    "\n",
    "# display the filtered DataFrame\n",
    "print(\"Filtered DataFrame:\")\n",
    "print(filtered_df)"
   ]
  },
  {
   "cell_type": "markdown",
   "id": "4f62a9f2",
   "metadata": {},
   "source": [
    "### Filter Data by values"
   ]
  },
  {
   "cell_type": "markdown",
   "id": "0303c4c6",
   "metadata": {},
   "source": [
    "Some of the common ways to filter data by values are:\n",
    "- using logical operator\n",
    "- using isin() method\n",
    "- using str\n",
    "- using query()"
   ]
  },
  {
   "cell_type": "markdown",
   "id": "78a4a6e7",
   "metadata": {},
   "source": [
    "### Logical Operators"
   ]
  },
  {
   "cell_type": "code",
   "execution_count": 55,
   "id": "60224661",
   "metadata": {},
   "outputs": [
    {
     "name": "stdout",
     "output_type": "stream",
     "text": [
      "Original DataFrame:\n",
      "      Name Department  Salary\n",
      "0    Alice         HR   50000\n",
      "1      Bob  Marketing   60000\n",
      "2  Charlie  Marketing   55000\n",
      "3    David         IT   70000\n",
      "\n",
      "\n",
      "Filtered DataFrame:\n",
      "    Name Department  Salary\n",
      "1    Bob  Marketing   60000\n",
      "3  David         IT   70000\n"
     ]
    }
   ],
   "source": [
    "import pandas as pd\n",
    "\n",
    "# create a sample DataFrame\n",
    "data = {'Name': ['Alice', 'Bob', 'Charlie', 'David'],\n",
    "        'Department': ['HR', 'Marketing', 'Marketing', 'IT'],\n",
    "        'Salary': [50000, 60000, 55000, 70000]}\n",
    "\n",
    "df = pd.DataFrame(data)\n",
    "\n",
    "# display the original DataFrame\n",
    "print(\"Original DataFrame:\")\n",
    "print(df)\n",
    "print(\"\\n\")\n",
    "\n",
    "# use logical operators to filter\n",
    "filtered_df = df[df.Salary > 55000]\n",
    "\n",
    "# display the filtered DataFrame\n",
    "print(\"Filtered DataFrame:\")\n",
    "print(filtered_df)"
   ]
  },
  {
   "cell_type": "markdown",
   "id": "7c487217",
   "metadata": {},
   "source": [
    "### isin() method"
   ]
  },
  {
   "cell_type": "code",
   "execution_count": 58,
   "id": "15fe6942",
   "metadata": {},
   "outputs": [
    {
     "name": "stdout",
     "output_type": "stream",
     "text": [
      "Original DataFrame:\n",
      "      Name Department  Salary\n",
      "0    Alice         HR   50000\n",
      "1      Bob  Marketing   60000\n",
      "2  Charlie  Marketing   55000\n",
      "3    David         IT   70000\n",
      "\n",
      "\n",
      "Filtered DataFrame:\n",
      "    Name Department  Salary\n",
      "0  Alice         HR   50000\n",
      "3  David         IT   70000\n"
     ]
    }
   ],
   "source": [
    "import pandas as pd\n",
    "\n",
    "# create a sample DataFrame\n",
    "data = {'Name': ['Alice', 'Bob', 'Charlie', 'David'],\n",
    "        'Department': ['HR', 'Marketing', 'Marketing', 'IT'],\n",
    "        'Salary': [50000, 60000, 55000, 70000]}\n",
    "\n",
    "df = pd.DataFrame(data)\n",
    "\n",
    "# display the original DataFrame\n",
    "print(\"Original DataFrame:\")\n",
    "print(df)\n",
    "print(\"\\n\")\n",
    "\n",
    "# use isin() method\n",
    "departments = ['HR', 'IT']\n",
    "filtered_df = df[df.Department.isin(departments)]\n",
    "\n",
    "# display the filtered DataFrame\n",
    "print(\"Filtered DataFrame:\")\n",
    "print(filtered_df)"
   ]
  },
  {
   "cell_type": "markdown",
   "id": "374b0967",
   "metadata": {},
   "source": [
    "### The str Accessor"
   ]
  },
  {
   "cell_type": "code",
   "execution_count": 59,
   "id": "ed2ca200",
   "metadata": {},
   "outputs": [
    {
     "name": "stdout",
     "output_type": "stream",
     "text": [
      "Original DataFrame:\n",
      "      Name Department  Salary\n",
      "0    Alice         HR   50000\n",
      "1      Bob  Marketing   60000\n",
      "2  Charlie  Marketing   55000\n",
      "3    David         IT   70000\n",
      "\n",
      "\n",
      "Filtered DataFrame:\n",
      "      Name Department  Salary\n",
      "1      Bob  Marketing   60000\n",
      "2  Charlie  Marketing   55000\n"
     ]
    }
   ],
   "source": [
    "import pandas as pd\n",
    "\n",
    "# create a sample DataFrame\n",
    "data = {'Name': ['Alice', 'Bob', 'Charlie', 'David'],\n",
    "        'Department': ['HR', 'Marketing', 'Marketing', 'IT'],\n",
    "        'Salary': [50000, 60000, 55000, 70000]}\n",
    "\n",
    "df = pd.DataFrame(data)\n",
    "\n",
    "# display the original DataFrame\n",
    "print(\"Original DataFrame:\")\n",
    "print(df)\n",
    "print(\"\\n\")\n",
    "\n",
    "# use str accessor\n",
    "filtered_df = df[df.Department.str.contains('Market')]\n",
    "\n",
    "# display the filtered DataFrame\n",
    "print(\"Filtered DataFrame:\")\n",
    "print(filtered_df)"
   ]
  },
  {
   "cell_type": "markdown",
   "id": "eaea131d",
   "metadata": {},
   "source": [
    "### query() method"
   ]
  },
  {
   "cell_type": "markdown",
   "id": "902e05c7",
   "metadata": {},
   "source": [
    "This is the most flexible method for filtering a dataframe based on column values."
   ]
  },
  {
   "cell_type": "code",
   "execution_count": 60,
   "id": "954d586f",
   "metadata": {},
   "outputs": [
    {
     "name": "stdout",
     "output_type": "stream",
     "text": [
      "Original DataFrame:\n",
      "      Name Department  Salary\n",
      "0    Alice         HR   50000\n",
      "1      Bob  Marketing   60000\n",
      "2  Charlie  Marketing   55000\n",
      "3    David         IT   70000\n",
      "\n",
      "\n",
      "Filtered DataFrame:\n",
      "  Name Department  Salary\n",
      "1  Bob  Marketing   60000\n"
     ]
    }
   ],
   "source": [
    "import pandas as pd\n",
    "\n",
    "# create a sample DataFrame\n",
    "data = {'Name': ['Alice', 'Bob', 'Charlie', 'David'],\n",
    "        'Department': ['HR', 'Marketing', 'Marketing', 'IT'],\n",
    "        'Salary': [50000, 60000, 55000, 70000]}\n",
    "\n",
    "df = pd.DataFrame(data)\n",
    "\n",
    "# display the original DataFrame\n",
    "print(\"Original DataFrame:\")\n",
    "print(df)\n",
    "print(\"\\n\")\n",
    "\n",
    "# use query method\n",
    "filtered_df = df.query('Salary > 55000 and Department == \"Marketing\"')\n",
    "\n",
    "# display the filtered DataFrame\n",
    "print(\"Filtered DataFrame:\")\n",
    "print(filtered_df)"
   ]
  },
  {
   "cell_type": "markdown",
   "id": "1c1ad7cc",
   "metadata": {},
   "source": [
    "### Pandas Sort"
   ]
  },
  {
   "cell_type": "markdown",
   "id": "fb729087",
   "metadata": {},
   "source": [
    "- Sorting is a fundamental operation in data manipulation and analysis that involves arranging data in a specific order.\n",
    "\n",
    "- Sorting is crucial for tasks such as organizing data for better readability, identifying patterns, making comparisons, and facilitating further analysis."
   ]
  },
  {
   "cell_type": "markdown",
   "id": "49f9ab80",
   "metadata": {},
   "source": [
    "### Sort DataFrame in Pandas"
   ]
  },
  {
   "cell_type": "markdown",
   "id": "c5448ff0",
   "metadata": {},
   "source": [
    "In Pandas, we can use the sort_values() function to sort a DataFrame."
   ]
  },
  {
   "cell_type": "code",
   "execution_count": 69,
   "id": "5a9d8fe1",
   "metadata": {},
   "outputs": [
    {
     "name": "stdout",
     "output_type": "stream",
     "text": [
      "   Name  Age\n",
      "    Bob   22\n",
      "Charlie   25\n",
      "  Alice   28\n"
     ]
    }
   ],
   "source": [
    "import pandas as pd\n",
    "\n",
    "data = {'Name': ['Alice', 'Bob', 'Charlie'],\n",
    "        'Age': [28, 22, 25]}\n",
    "df = pd.DataFrame(data)\n",
    "\n",
    "# sort DataFrame by Age in ascending order\n",
    "sorted_df = df.sort_values(by='Age')\n",
    "\n",
    "print(sorted_df.to_string(index=False))"
   ]
  },
  {
   "cell_type": "markdown",
   "id": "cdcfca03",
   "metadata": {},
   "source": [
    "To sort values in descending order, we use the ascending parameter as:\n"
   ]
  },
  {
   "cell_type": "code",
   "execution_count": null,
   "id": "cdadbf54",
   "metadata": {},
   "outputs": [],
   "source": [
    "sorted_df = df.sort_values(by='Age', ascending=False)"
   ]
  },
  {
   "cell_type": "markdown",
   "id": "0c88c35c",
   "metadata": {},
   "source": [
    "### Sort Pandas DataFrame by Multiple columns"
   ]
  },
  {
   "cell_type": "markdown",
   "id": "737e1992",
   "metadata": {},
   "source": [
    "To sort by multiple columns in Pandas, you can pass the desired columns as a list to the by parameter in the sort_values() method."
   ]
  },
  {
   "cell_type": "code",
   "execution_count": 70,
   "id": "d2442781",
   "metadata": {},
   "outputs": [
    {
     "name": "stdout",
     "output_type": "stream",
     "text": [
      "Sorting by 'Age' (ascending) and then by 'Score' (ascending):\n",
      "\n",
      "   Name  Age  Score\n",
      "  David   22     80\n",
      "    Bob   22     90\n",
      "  Alice   25     85\n",
      "Charlie   30     75\n",
      "\n",
      "Sorting by 'Age' (ascending) and then by 'Score' (descending):\n",
      "\n",
      "   Name  Age  Score\n",
      "    Bob   22     90\n",
      "  David   22     80\n",
      "  Alice   25     85\n",
      "Charlie   30     75\n"
     ]
    }
   ],
   "source": [
    "import pandas as pd\n",
    "\n",
    "data = {'Name': ['Alice', 'Bob', 'Charlie', 'David'],\n",
    "        'Age': [25, 22, 30, 22],\n",
    "        'Score': [85, 90, 75, 80]}\n",
    "\n",
    "df = pd.DataFrame(data)\n",
    "\n",
    "# 1. Sort DataFrame by 'Age' and then by 'Score' (Both in ascending order)\n",
    "df1 = df.sort_values(by=['Age', 'Score'])\n",
    "\n",
    "print(\"Sorting by 'Age' (ascending) and then by 'Score' (ascending):\\n\")\n",
    "print(df1.to_string(index=False))\n",
    "\n",
    "print()\n",
    "# 2. Sort DataFrame by 'Age' in ascending order, and then by 'Score' in descending order\n",
    "df2 = df.sort_values(by=['Age', 'Score'], ascending=[True, False])\n",
    "\n",
    "print(\"Sorting by 'Age' (ascending) and then by 'Score' (descending):\\n\")\n",
    "print(df2.to_string(index=False))"
   ]
  },
  {
   "cell_type": "markdown",
   "id": "5296d72d",
   "metadata": {},
   "source": [
    "### Sort Pandas DataFrame using sort_index()"
   ]
  },
  {
   "cell_type": "markdown",
   "id": "cdcc57e0",
   "metadata": {},
   "source": [
    "The sort_index() function is used to sort a DataFrame or Series by its index. This is useful for organizing data in a logical order, improving query performance, and ensuring consistent data representation."
   ]
  },
  {
   "cell_type": "code",
   "execution_count": 71,
   "id": "18c3db14",
   "metadata": {},
   "outputs": [
    {
     "name": "stdout",
     "output_type": "stream",
     "text": [
      "Original DataFrame:\n",
      "      Name  Age\n",
      "2    Alice   28\n",
      "0      Bob   22\n",
      "1  Charlie   25\n",
      "\n",
      "\n",
      "Sorted DataFrame by index:\n",
      "      Name  Age\n",
      "0      Bob   22\n",
      "1  Charlie   25\n",
      "2    Alice   28\n"
     ]
    }
   ],
   "source": [
    "import pandas as pd\n",
    "\n",
    "data = {'Name': ['Alice', 'Bob', 'Charlie'],\n",
    "        'Age': [28, 22, 25]}\n",
    "# create a DataFrame with a non-sequential index\n",
    "df = pd.DataFrame(data, index=[2, 0, 1])\n",
    "\n",
    "print(\"Original DataFrame:\")\n",
    "print(df.to_string(index=True))\n",
    "print(\"\\n\")\n",
    "\n",
    "# sort DataFrame by index in ascending order\n",
    "sorted_df = df.sort_index()\n",
    "\n",
    "print(\"Sorted DataFrame by index:\")\n",
    "print(sorted_df.to_string(index=True))"
   ]
  },
  {
   "cell_type": "markdown",
   "id": "a45def06",
   "metadata": {},
   "source": [
    "### Pandas Correlation "
   ]
  },
  {
   "cell_type": "markdown",
   "id": "ef36487a",
   "metadata": {},
   "source": [
    "- Correlation is a statistical concept that quantifies the degree to which two variables are related to each other.\n",
    "\n",
    "- Correlation can be calculated in Pandas using the corr() function."
   ]
  },
  {
   "cell_type": "markdown",
   "id": "0468879b",
   "metadata": {},
   "source": [
    "#### Positive correlation"
   ]
  },
  {
   "cell_type": "markdown",
   "id": "83c11920",
   "metadata": {},
   "source": [
    "Positive correlation refers to a relationship between two variables where they both tend to change in the same direction. When one variable increases, the other variable also tends to increase, and when one variable decreases, the other variable also tends to decrease."
   ]
  },
  {
   "cell_type": "markdown",
   "id": "6b48fc4e",
   "metadata": {},
   "source": [
    "![Alt text](https://www.programiz.com/sites/tutorial2program/files/positive-correlation.png)"
   ]
  },
  {
   "cell_type": "markdown",
   "id": "c475ff1a",
   "metadata": {},
   "source": [
    "In the figure above, we can clearly see that ice cream sales increase with the increase in temperature. We can say that there is a positive correlation between temperature and ice cream sales."
   ]
  },
  {
   "cell_type": "markdown",
   "id": "e6c35132",
   "metadata": {},
   "source": [
    "#### Negative correlation"
   ]
  },
  {
   "cell_type": "markdown",
   "id": "3dce6a01",
   "metadata": {},
   "source": [
    "Negative correlation, on the other hand, refers to a relationship between two variables where they tend to change in opposite directions. When one variable increases, the other variable tends to decrease, and vice versa."
   ]
  },
  {
   "cell_type": "markdown",
   "id": "43e7d0bb",
   "metadata": {},
   "source": [
    "![Alt text](https://www.programiz.com/sites/tutorial2program/files/negative-correlation.png)"
   ]
  },
  {
   "cell_type": "markdown",
   "id": "c398fa5e",
   "metadata": {},
   "source": [
    "In the figure above, coffee sales decrease with increase in temperature. We can say that there is a negative correlation between temperature and coffee sales."
   ]
  },
  {
   "cell_type": "markdown",
   "id": "f10cfbb5",
   "metadata": {},
   "source": [
    "#### Correlation between Two columns"
   ]
  },
  {
   "cell_type": "markdown",
   "id": "93085d12",
   "metadata": {},
   "source": [
    "Instead of finding the whole correlation matrix, we can specify the columns to calculate correlation between them."
   ]
  },
  {
   "cell_type": "markdown",
   "id": "0b283ea3",
   "metadata": {},
   "source": [
    "The Syntax for doing so is:"
   ]
  },
  {
   "cell_type": "code",
   "execution_count": null,
   "id": "0f098e7d",
   "metadata": {},
   "outputs": [],
   "source": [
    "df['column1'].corr(df['column2'])"
   ]
  },
  {
   "cell_type": "code",
   "execution_count": 2,
   "id": "8b4d37bb",
   "metadata": {},
   "outputs": [
    {
     "name": "stdout",
     "output_type": "stream",
     "text": [
      "0.9234007664064656\n"
     ]
    }
   ],
   "source": [
    "import pandas as pd\n",
    "\n",
    "# create dataframe\n",
    "data = {\n",
    "    \"Temperature\": [22, 25, 32, 28, 30],\n",
    "    \"Ice_Cream_Sales\": [105, 120, 135, 130, 125]\n",
    "}\n",
    "\n",
    "df = pd.DataFrame(data)\n",
    "\n",
    "# calculate correlation coefficient\n",
    "correlation = df['Temperature'].corr(df[\"Ice_Cream_Sales\"])\n",
    "\n",
    "print(correlation)"
   ]
  },
  {
   "cell_type": "markdown",
   "id": "863ba9d7",
   "metadata": {},
   "source": [
    "#### Missing values"
   ]
  },
  {
   "cell_type": "markdown",
   "id": "11b9cfe8",
   "metadata": {},
   "source": [
    "DataFrame may contain missing values(NaN).The corr() function completely ignores the rows with NaN values."
   ]
  },
  {
   "cell_type": "code",
   "execution_count": 3,
   "id": "b49107cd",
   "metadata": {},
   "outputs": [
    {
     "name": "stdout",
     "output_type": "stream",
     "text": [
      "With NaN values\n",
      "   Temperature  Coffee_Sales\n",
      "0           22         158.0\n",
      "1           25         145.0\n",
      "2           32           NaN\n",
      "3           28           NaN\n",
      "4           30         140.0\n",
      "correlation = -0.923177938058926\n",
      "\n",
      "Without NaN values\n",
      "   Temperature  Coffee_Sales\n",
      "0           22         158.0\n",
      "1           25         145.0\n",
      "4           30         140.0\n",
      "correlation = -0.923177938058926\n",
      "\n"
     ]
    }
   ],
   "source": [
    "import pandas as pd\n",
    "import numpy as np\n",
    "\n",
    "# create a dataframe\n",
    "data = {\n",
    "    \"Temperature\": [22, 25, 32, 28, 30],\n",
    "    \"Coffee_Sales\": [158, 145, np.nan, np.nan, 140]\n",
    "}\n",
    "\n",
    "df = pd.DataFrame(data)\n",
    "\n",
    "# calculate correlation between Temperature and Ice_Cream_sales\n",
    "correlation1 = df[\"Temperature\"].corr(df[\"Coffee_Sales\"])\n",
    "\n",
    "print(\"With NaN values\")\n",
    "print(df)\n",
    "print(f\"correlation = {correlation1}\")\n",
    "print()\n",
    "\n",
    "# remove missing values\n",
    "df.dropna(inplace=True)\n",
    "\n",
    "# calculate correlation between Temperature and Ice_Cream_sales\n",
    "correlation2 = df[\"Temperature\"].corr(df[\"Coffee_Sales\"])\n",
    "\n",
    "print(\"Without NaN values\")\n",
    "print(df)\n",
    "print(f\"correlation = {correlation2}\")\n",
    "print()"
   ]
  },
  {
   "cell_type": "markdown",
   "id": "9fc87640",
   "metadata": {},
   "source": [
    "### Perfect, Good and Bad Correlation"
   ]
  },
  {
   "cell_type": "markdown",
   "id": "a8448808",
   "metadata": {},
   "source": [
    "### Perfect Correlation"
   ]
  },
  {
   "cell_type": "markdown",
   "id": "58940941",
   "metadata": {},
   "source": [
    "- A perfect positive correlation implies that for every increase in one variable, there is a proportionate increase in the other variable, indicated by a coefficient of +1.\n",
    "\n",
    "- A perfect negative correlation, represented by -1, signifies that an increase in one variable leads to a proportionate decrease in the other."
   ]
  },
  {
   "cell_type": "markdown",
   "id": "f47ac169",
   "metadata": {},
   "source": [
    "![Alt text](https://www.programiz.com/sites/tutorial2program/files/perfect-negative-correlation.png)"
   ]
  },
  {
   "cell_type": "markdown",
   "id": "704b1561",
   "metadata": {},
   "source": [
    "### Good Correlation"
   ]
  },
  {
   "cell_type": "markdown",
   "id": "d720cbac",
   "metadata": {},
   "source": [
    "A good correlation can range from 0.5 to 0.9 (positive or negative) and generally indicates a strong relationship between the variables, but it doesn't mean the relationship is perfect."
   ]
  },
  {
   "cell_type": "markdown",
   "id": "ed0045b6",
   "metadata": {},
   "source": [
    "![Alt text](https://www.programiz.com/sites/tutorial2program/files/good-negative-correlation.png)"
   ]
  },
  {
   "cell_type": "markdown",
   "id": "c784453a",
   "metadata": {},
   "source": [
    "### Bad Correlation"
   ]
  },
  {
   "cell_type": "markdown",
   "id": "0e274ef0",
   "metadata": {},
   "source": [
    "A bad correlation is typically close to zero, indicating that there is no relationship or any form of dependence between the two variables."
   ]
  },
  {
   "cell_type": "markdown",
   "id": "d606f9ce",
   "metadata": {},
   "source": [
    "![Alt text](https://www.programiz.com/sites/tutorial2program/files/bad-correlation.png)"
   ]
  },
  {
   "cell_type": "markdown",
   "id": "7d14ab70",
   "metadata": {},
   "source": [
    "### Pandas Plot"
   ]
  },
  {
   "cell_type": "markdown",
   "id": "20aae423",
   "metadata": {},
   "source": [
    "Pandas provides a convenient way to visualize data directly from DataFrames and Series using the plot() method.\n",
    "This method uses the Matplotlib library behind the scenes to create various types of plots."
   ]
  },
  {
   "cell_type": "markdown",
   "id": "18107f77",
   "metadata": {},
   "source": [
    "### Line Plot for Data Visualization"
   ]
  },
  {
   "cell_type": "markdown",
   "id": "c5bf4c8e",
   "metadata": {},
   "source": [
    "In Pandas,line plot display data as a series of points connected by a line. We use the plot() function to line plot the data, which takes two arguments ; x and y coordinate."
   ]
  },
  {
   "cell_type": "code",
   "execution_count": 1,
   "id": "9f52395c",
   "metadata": {},
   "outputs": [
    {
     "data": {
      "image/png": "[encoded data removed]",
      "text/plain": [
       "<Figure size 640x480 with 1 Axes>"
      ]
     },
     "metadata": {},
     "output_type": "display_data"
    }
   ],
   "source": [
    "import pandas as pd\n",
    "import matplotlib.pyplot as plt\n",
    "\n",
    "car = [\"Caterham\", \"Tesla\", \"Audi\", \"BMW\", \"Ford\", \"Jeep\"]\n",
    "weight = [0.48, 1.7, 2, 2, 2.3, 3]\n",
    "\n",
    "# create a DataFrame\n",
    "data = {'Car': car, 'Weight': weight}\n",
    "df = pd.DataFrame(data)\n",
    "\n",
    "# plot using Pandas\n",
    "df.plot(x='Car', y='Weight', kind='line', marker='o')\n",
    "plt.xlabel('Car')\n",
    "plt.ylabel('Weight')\n",
    "plt.title('Car Weights')\n",
    "plt.show()"
   ]
  },
  {
   "cell_type": "markdown",
   "id": "83f03447",
   "metadata": {},
   "source": [
    "### Scatter Plots for Data Visualization"
   ]
  },
  {
   "cell_type": "markdown",
   "id": "47a61009",
   "metadata": {},
   "source": [
    "Scatter Plot displays data as a collection of points. We use the plot() function with kind = 'scatter' to scatter plot the data points."
   ]
  },
  {
   "cell_type": "code",
   "execution_count": 2,
   "id": "b5c18dee",
   "metadata": {},
   "outputs": [
    {
     "data": {
      "image/png": "[encoded data removed]",
      "text/plain": [
       "<Figure size 640x480 with 1 Axes>"
      ]
     },
     "metadata": {},
     "output_type": "display_data"
    }
   ],
   "source": [
    "import pandas as pd\n",
    "import matplotlib.pyplot as plt\n",
    "\n",
    "car = [\"Caterham\", \"Tesla\", \"Audi\", \"BMW\", \"Ford\", \"Jeep\"]\n",
    "weight = [0.48, 1.7, 2, 2, 2.3, 3]\n",
    "\n",
    "# create a DataFrame\n",
    "data = {'Car': car, 'Weight': weight}\n",
    "df = pd.DataFrame(data)\n",
    "\n",
    "# scatter plot using Pandas\n",
    "df.plot(x='Car', y='Weight', kind='scatter', marker='o', color='blue')\n",
    "plt.xlabel('Car')\n",
    "plt.ylabel('Weight')\n",
    "plt.title('Car Weights (Scatter Plot)')\n",
    "plt.grid(True)\n",
    "plt.show()"
   ]
  },
  {
   "cell_type": "markdown",
   "id": "19f06399",
   "metadata": {},
   "source": [
    "### Bar Graphs for Data Visualization"
   ]
  },
  {
   "cell_type": "markdown",
   "id": "c6d8d966",
   "metadata": {},
   "source": [
    "Bar Graphs represent data using rectangular boxes. In Pandas, we pass kind = 'scatter' inside plot() to plot data in a bar graph."
   ]
  },
  {
   "cell_type": "code",
   "execution_count": 3,
   "id": "377a49a4",
   "metadata": {},
   "outputs": [
    {
     "data": {
      "image/png": "[encoded data removed]",
      "text/plain": [
       "<Figure size 640x480 with 1 Axes>"
      ]
     },
     "metadata": {},
     "output_type": "display_data"
    }
   ],
   "source": [
    "import pandas as pd\n",
    "import matplotlib.pyplot as plt\n",
    "\n",
    "car = [\"Caterham\", \"Tesla\", \"Audi\", \"BMW\", \"Ford\", \"Jeep\"]\n",
    "weight = [0.48, 1.7, 2, 2, 2.3, 3]\n",
    "\n",
    "# create a DataFrame\n",
    "data = {'Car': car, 'Weight': weight}\n",
    "df = pd.DataFrame(data)\n",
    "\n",
    "# bar graph using Pandas\n",
    "df.plot(x='Car', y='Weight', kind='bar', color='green')\n",
    "plt.xlabel('Car')\n",
    "plt.ylabel('Weight')\n",
    "plt.title('Car Weights (Bar Graph)')\n",
    "plt.tight_layout()\n",
    "plt.show()"
   ]
  },
  {
   "cell_type": "markdown",
   "id": "ad492404",
   "metadata": {},
   "source": [
    "### Histograms for Data visualization"
   ]
  },
  {
   "cell_type": "markdown",
   "id": "2cc24678",
   "metadata": {},
   "source": [
    "In Pandas, we use kind = 'hist' inside plot() to create a histogram."
   ]
  },
  {
   "cell_type": "code",
   "execution_count": 5,
   "id": "7967a355",
   "metadata": {},
   "outputs": [
    {
     "data": {
      "image/png": "[encoded data removed]",
      "text/plain": [
       "<Figure size 640x480 with 1 Axes>"
      ]
     },
     "metadata": {},
     "output_type": "display_data"
    }
   ],
   "source": [
    "import pandas as pd\n",
    "import matplotlib.pyplot as plt\n",
    "\n",
    "weight = [0.48, 1.7, 2, 3]\n",
    "\n",
    "# create a DataFrame\n",
    "data = {'Weight': weight}\n",
    "df = pd.DataFrame(data)\n",
    "\n",
    "# histogram using Pandas\n",
    "df['Weight'].plot(kind='hist', bins=10, edgecolor='black', color='blue')\n",
    "plt.show()"
   ]
  },
  {
   "cell_type": "code",
   "execution_count": null,
   "id": "4aad8daf",
   "metadata": {},
   "outputs": [],
   "source": []
  }
 ],
 "metadata": {
  "kernelspec": {
   "display_name": "base",
   "language": "python",
   "name": "python3"
  },
  "language_info": {
   "codemirror_mode": {
    "name": "ipython",
    "version": 3
   },
   "file_extension": ".py",
   "mimetype": "text/x-python",
   "name": "python",
   "nbconvert_exporter": "python",
   "pygments_lexer": "ipython3",
   "version": "3.12.7"
  }
 },
 "nbformat": 4,
 "nbformat_minor": 5
}
