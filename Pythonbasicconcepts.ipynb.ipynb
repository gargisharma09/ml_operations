{
 "cells": [
  {
   "cell_type": "markdown",
   "id": "998c6853",
   "metadata": {},
   "source": [
    "### **dictionary**"
   ]
  },
  {
   "cell_type": "code",
   "execution_count": 1,
   "id": "06a2acc7",
   "metadata": {},
   "outputs": [
    {
     "data": {
      "text/plain": [
       "(1, 3, 4, 5, 6, 6, 6, 6)"
      ]
     },
     "execution_count": 1,
     "metadata": {},
     "output_type": "execute_result"
    }
   ],
   "source": [
    "t = (1,3,4,5,6,6,6,6)\n",
    "t"
   ]
  },
  {
   "cell_type": "code",
   "execution_count": 2,
   "id": "5c28660a",
   "metadata": {},
   "outputs": [
    {
     "data": {
      "text/plain": [
       "[1, 4, 6, 6]"
      ]
     },
     "execution_count": 2,
     "metadata": {},
     "output_type": "execute_result"
    }
   ],
   "source": [
    "l = [1,4,6,6]\n",
    "l"
   ]
  },
  {
   "cell_type": "code",
   "execution_count": 3,
   "id": "df3a68b8",
   "metadata": {},
   "outputs": [
    {
     "data": {
      "text/plain": [
       "{1, 3.4, 55, 'Asj'}"
      ]
     },
     "execution_count": 3,
     "metadata": {},
     "output_type": "execute_result"
    }
   ],
   "source": [
    "s= {1,\"Asj\",55,3.4}\n",
    "s"
   ]
  },
  {
   "cell_type": "code",
   "execution_count": 4,
   "id": "17c98dee",
   "metadata": {},
   "outputs": [
    {
     "data": {
      "text/plain": [
       "{1: 1, 2: 4, 3: 9, 4: 16, 5: 25}"
      ]
     },
     "execution_count": 4,
     "metadata": {},
     "output_type": "execute_result"
    }
   ],
   "source": [
    "d= { x:x**2 for x in range(1,6)}\n",
    "d"
   ]
  },
  {
   "cell_type": "markdown",
   "id": "8efb0474",
   "metadata": {},
   "source": [
    "## **conditionl statements**"
   ]
  },
  {
   "cell_type": "code",
   "execution_count": 5,
   "id": "f3246a8a",
   "metadata": {},
   "outputs": [
    {
     "name": "stdout",
     "output_type": "stream",
     "text": [
      "Enter quantity :12\n",
      "Enter price :23.4\n",
      "280.79999999999995\n"
     ]
    }
   ],
   "source": [
    "quantity = int(input(\"Enter quantity :\"))\n",
    "price = float(input(\"Enter price :\"))\n",
    "total = quantity*price\n",
    "if quantity>1000:\n",
    "    total*=0.9\n",
    "    print(total)\n",
    "else:\n",
    "    print(total)"
   ]
  },
  {
   "cell_type": "markdown",
   "id": "03eb973c",
   "metadata": {},
   "source": [
    "# **datatypes in python**"
   ]
  },
  {
   "cell_type": "code",
   "execution_count": null,
   "id": "70502237",
   "metadata": {},
   "outputs": [],
   "source": [
    "int , float , bool , str, chr"
   ]
  },
  {
   "cell_type": "code",
   "execution_count": null,
   "id": "b48b5151",
   "metadata": {},
   "outputs": [],
   "source": [
    "a= 1 #int\n",
    "b=3.24 # float\n",
    "c= True # bool\n",
    "d=\"PK\" # string \n",
    "e = 'a'# char\n"
   ]
  },
  {
   "cell_type": "code",
   "execution_count": 14,
   "id": "cb24ae0d",
   "metadata": {},
   "outputs": [
    {
     "data": {
      "text/plain": [
       "[1, 4, 5, 'Ask', 3.14]"
      ]
     },
     "execution_count": 14,
     "metadata": {},
     "output_type": "execute_result"
    }
   ],
   "source": [
    "l = [ 1,4,5,\"Ask\",3.14 ]#list\n",
    "l"
   ]
  },
  {
   "cell_type": "markdown",
   "id": "a8986bdf",
   "metadata": {},
   "source": [
    "### ** append ammend/pop count**"
   ]
  },
  {
   "cell_type": "code",
   "execution_count": 15,
   "id": "c020412d",
   "metadata": {},
   "outputs": [],
   "source": [
    "l.append(44)# adding element "
   ]
  },
  {
   "cell_type": "code",
   "execution_count": 16,
   "id": "ff1f732b",
   "metadata": {},
   "outputs": [
    {
     "data": {
      "text/plain": [
       "44"
      ]
     },
     "execution_count": 16,
     "metadata": {},
     "output_type": "execute_result"
    }
   ],
   "source": [
    "l.pop() # remove element "
   ]
  },
  {
   "cell_type": "code",
   "execution_count": 17,
   "id": "5eb4f8f8",
   "metadata": {},
   "outputs": [
    {
     "data": {
      "text/plain": [
       "[1, 4, 5, 'Ask', 3.14]"
      ]
     },
     "execution_count": 17,
     "metadata": {},
     "output_type": "execute_result"
    }
   ],
   "source": [
    "l"
   ]
  },
  {
   "cell_type": "code",
   "execution_count": 18,
   "id": "26db3e4f",
   "metadata": {},
   "outputs": [
    {
     "data": {
      "text/plain": [
       "5"
      ]
     },
     "execution_count": 18,
     "metadata": {},
     "output_type": "execute_result"
    }
   ],
   "source": [
    "len(l) # length of list"
   ]
  },
  {
   "cell_type": "code",
   "execution_count": 7,
   "id": "6c8775f9",
   "metadata": {},
   "outputs": [
    {
     "data": {
      "text/plain": [
       "(1, 4, 6, 'a', 1.4)"
      ]
     },
     "execution_count": 7,
     "metadata": {},
     "output_type": "execute_result"
    }
   ],
   "source": [
    "t = ( 1,4,6,\"a\",1.4 )\n",
    "t"
   ]
  },
  {
   "cell_type": "code",
   "execution_count": 26,
   "id": "a115bd07",
   "metadata": {},
   "outputs": [],
   "source": [
    "s= \"rise and Grind\""
   ]
  },
  {
   "cell_type": "code",
   "execution_count": 20,
   "id": "4d8a2c9a",
   "metadata": {},
   "outputs": [
    {
     "data": {
      "text/plain": [
       "'RISE AND GRIND'"
      ]
     },
     "execution_count": 20,
     "metadata": {},
     "output_type": "execute_result"
    }
   ],
   "source": [
    "s.upper(\n",
    ")# uppercase "
   ]
  },
  {
   "cell_type": "code",
   "execution_count": 21,
   "id": "9c0ad5f7",
   "metadata": {},
   "outputs": [
    {
     "data": {
      "text/plain": [
       "'rise and grind'"
      ]
     },
     "execution_count": 21,
     "metadata": {},
     "output_type": "execute_result"
    }
   ],
   "source": [
    "s.lower(\n",
    ")# lowercase "
   ]
  },
  {
   "cell_type": "code",
   "execution_count": 24,
   "id": "1d65b7c3",
   "metadata": {},
   "outputs": [
    {
     "data": {
      "text/plain": [
       "2"
      ]
     },
     "execution_count": 24,
     "metadata": {},
     "output_type": "execute_result"
    }
   ],
   "source": [
    "s.count(\"i\") # count of the word inside the function "
   ]
  },
  {
   "cell_type": "code",
   "execution_count": 27,
   "id": "2919aeb2",
   "metadata": {},
   "outputs": [
    {
     "data": {
      "text/plain": [
       "'Rise and grind'"
      ]
     },
     "execution_count": 27,
     "metadata": {},
     "output_type": "execute_result"
    }
   ],
   "source": [
    "s.capitalize()"
   ]
  },
  {
   "cell_type": "code",
   "execution_count": 28,
   "id": "9b1d59e6",
   "metadata": {},
   "outputs": [],
   "source": [
    "t= (3,5,3,\"r\")"
   ]
  },
  {
   "cell_type": "code",
   "execution_count": 30,
   "id": "13265d4f",
   "metadata": {},
   "outputs": [
    {
     "data": {
      "text/plain": [
       "(3, 5, 3, 'r')"
      ]
     },
     "execution_count": 30,
     "metadata": {},
     "output_type": "execute_result"
    }
   ],
   "source": [
    "t"
   ]
  },
  {
   "cell_type": "markdown",
   "id": "4cf5f400",
   "metadata": {},
   "source": [
    "### **tuple**\n"
   ]
  },
  {
   "cell_type": "code",
   "execution_count": 31,
   "id": "ca8f5b1d",
   "metadata": {},
   "outputs": [],
   "source": [
    "l2 = list(t)# conversion of tuple to list "
   ]
  },
  {
   "cell_type": "code",
   "execution_count": 32,
   "id": "fc35da4c",
   "metadata": {},
   "outputs": [
    {
     "data": {
      "text/plain": [
       "[3, 5, 3, 'r']"
      ]
     },
     "execution_count": 32,
     "metadata": {},
     "output_type": "execute_result"
    }
   ],
   "source": [
    "l2"
   ]
  },
  {
   "cell_type": "code",
   "execution_count": 33,
   "id": "da21f04e",
   "metadata": {},
   "outputs": [
    {
     "data": {
      "text/plain": [
       "{1, 2, 4, 5}"
      ]
     },
     "execution_count": 33,
     "metadata": {},
     "output_type": "execute_result"
    }
   ],
   "source": [
    "s={1,1,2,4,5} #set \n",
    "s"
   ]
  },
  {
   "cell_type": "code",
   "execution_count": 36,
   "id": "58b09a36",
   "metadata": {},
   "outputs": [],
   "source": [
    "s.add(7)"
   ]
  },
  {
   "cell_type": "code",
   "execution_count": 37,
   "id": "c86cbb7b",
   "metadata": {},
   "outputs": [
    {
     "data": {
      "text/plain": [
       "{1, 2, 4, 5, 7}"
      ]
     },
     "execution_count": 37,
     "metadata": {},
     "output_type": "execute_result"
    }
   ],
   "source": [
    "s"
   ]
  }
 ],
 "metadata": {
  "kernelspec": {
   "display_name": "Python 3 (ipykernel)",
   "language": "python",
   "name": "python3"
  },
  "language_info": {
   "codemirror_mode": {
    "name": "ipython",
    "version": 3
   },
   "file_extension": ".py",
   "mimetype": "text/x-python",
   "name": "python",
   "nbconvert_exporter": "python",
   "pygments_lexer": "ipython3",
   "version": "3.11.4"
  }
 },
 "nbformat": 4,
 "nbformat_minor": 5
}
