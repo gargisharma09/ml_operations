{
 "cells": [
  {
   "cell_type": "code",
   "execution_count": 3,
   "metadata": {},
   "outputs": [
    {
     "data": {
      "text/plain": [
       "[1, 4, 9, 16, 25, 36, 49, 64, 81, 100]"
      ]
     },
     "execution_count": 3,
     "metadata": {},
     "output_type": "execute_result"
    }
   ],
   "source": [
    "#square of numbers\n",
    "#use list comprehension to  generate a square of numbers from 1 to 10 \n",
    "square=[(i**2)for  i in range (1,11) ]\n",
    "square"
   ]
  },
  {
   "cell_type": "code",
   "execution_count": 4,
   "metadata": {},
   "outputs": [
    {
     "data": {
      "text/plain": [
       "[1, 3, 5]"
      ]
     },
     "execution_count": 4,
     "metadata": {},
     "output_type": "execute_result"
    }
   ],
   "source": [
    "# even odd \n",
    "#list comprihension\n",
    "l= [i for i in range(1,6) if i%2!=0]\n",
    "l"
   ]
  },
  {
   "cell_type": "code",
   "execution_count": 1,
   "metadata": {},
   "outputs": [
    {
     "data": {
      "text/plain": [
       "[1, 'even', 3, 'even', 5]"
      ]
     },
     "execution_count": 1,
     "metadata": {},
     "output_type": "execute_result"
    }
   ],
   "source": [
    "# preint even odd after digits\n",
    "\n",
    "l2=[i if i%2!=0 else \"even\" for i in range (1,6) ]\n",
    "l2"
   ]
  },
  {
   "cell_type": "code",
   "execution_count": 5,
   "metadata": {},
   "outputs": [
    {
     "data": {
      "text/plain": [
       "['me']"
      ]
     },
     "execution_count": 5,
     "metadata": {},
     "output_type": "execute_result"
    }
   ],
   "source": [
    "# check string length and print even odd\n",
    "\n",
    "l=[\"gargi\",\"suhana\",\"me\"]\n",
    "l3=[i for i in l if len(i)<=4]\n",
    "l3 "
   ]
  },
  {
   "cell_type": "code",
   "execution_count": 7,
   "metadata": {},
   "outputs": [
    {
     "data": {
      "text/plain": [
       "{1: 1, 2: 4, 3: 9, 4: 16, 5: 25, 6: 36, 7: 49}"
      ]
     },
     "execution_count": 7,
     "metadata": {},
     "output_type": "execute_result"
    }
   ],
   "source": [
    "# dictionary comprehension\n",
    "# create dictionary \n",
    "\n",
    "d={i:i**2 for i in range(1,8) }\n",
    "d"
   ]
  },
  {
   "cell_type": "code",
   "execution_count": 20,
   "metadata": {},
   "outputs": [
    {
     "data": {
      "text/plain": [
       "{1: 1, 2: 8, 3: 27, 4: 64, 5: 125, 6: 216, 7: 343}"
      ]
     },
     "execution_count": 20,
     "metadata": {},
     "output_type": "execute_result"
    }
   ],
   "source": [
    "# nested number dictionary\n",
    "# create a nested dic. with numbers 1-5 storing eachh  number square and cube\n",
    "d={i:i**3 for i in range(1,8) }\n",
    "d"
   ]
  },
  {
   "cell_type": "code",
   "execution_count": 17,
   "metadata": {},
   "outputs": [
    {
     "name": "stdout",
     "output_type": "stream",
     "text": [
      "(1, 1) 2\n",
      "(1, 3) 4\n",
      "(2, 2) 4\n",
      "(2, 4) 6\n",
      "(3, 1) 4\n",
      "(3, 3) 6\n",
      "(4, 2) 6\n",
      "(4, 4) 8\n"
     ]
    }
   ],
   "source": [
    "#use dict. comprehension to swap key and values in a given dict .clear\n",
    "for k,v in d.items():\n",
    "  print(k,v)\n"
   ]
  },
  {
   "cell_type": "code",
   "execution_count": 1,
   "metadata": {},
   "outputs": [
    {
     "name": "stdout",
     "output_type": "stream",
     "text": [
      "{'!': 1, 'r': 1, ' ': 2, 'u': 1, 's': 3, 'w': 1, 'e': 1, 'y': 1, 'h': 1, 'o': 2, 'i': 1}\n"
     ]
    }
   ],
   "source": [
    "#counting  character frequency in a string  \n",
    "s=\"why so serious!\"\n",
    "d={c:s.count(c) for c in set(s)}\n",
    "print(d)"
   ]
  },
  {
   "cell_type": "code",
   "execution_count": 2,
   "metadata": {},
   "outputs": [
    {
     "data": {
      "text/plain": [
       "{(2, 2): 4}"
      ]
     },
     "execution_count": 2,
     "metadata": {},
     "output_type": "execute_result"
    }
   ],
   "source": [
    "#tuple sum with their sum values for even sums\n",
    "d={(2,2):4}\n",
    "d"
   ]
  },
  {
   "cell_type": "code",
   "execution_count": 27,
   "metadata": {},
   "outputs": [
    {
     "data": {
      "text/plain": [
       "['gargi', 'aditi', 'friends']"
      ]
     },
     "execution_count": 27,
     "metadata": {},
     "output_type": "execute_result"
    }
   ],
   "source": [
    "#mapping words to the length \n",
    "l=[\"gargi\",\"aditi\",\"friends\"]\n",
    "l3=[i for i in l if len(i)>=5]\n",
    "l3 "
   ]
  },
  {
   "cell_type": "code",
   "execution_count": 5,
   "metadata": {},
   "outputs": [
    {
     "data": {
      "text/plain": [
       "[1, 'even', 3, 'even', 5, 'even', 7, 'even', 9]"
      ]
     },
     "execution_count": 5,
     "metadata": {},
     "output_type": "execute_result"
    }
   ],
   "source": [
    "#classify numbers from  1-10 even or odd\n",
    "l2=[i if i%2!=0 else \"even\" for i in range (1,10) ]\n",
    "l2 "
   ]
  },
  {
   "cell_type": "code",
   "execution_count": 6,
   "metadata": {},
   "outputs": [
    {
     "data": {
      "text/plain": [
       "[1, 4, 9, 16, 25, 36, 49, 64, 81, 100]"
      ]
     },
     "execution_count": 6,
     "metadata": {},
     "output_type": "execute_result"
    }
   ],
   "source": [
    "#key values are squared from 1-10\n",
    "square=[(i**2)for  i in range (1,11) ]\n",
    "square\n"
   ]
  },
  {
   "cell_type": "code",
   "execution_count": 1,
   "metadata": {},
   "outputs": [
    {
     "name": "stdout",
     "output_type": "stream",
     "text": [
      "{1: 'a', 2: 'b', 3: 'c'}\n"
     ]
    }
   ],
   "source": [
    "d = {'a': 1, 'b': 2, 'c': 3}\n",
    "\n",
    "# Swap keys and values using dictionary comprehension\n",
    "swapped = {v: k for k, v in d.items()}\n",
    "\n",
    "# Print the swapped dictionary\n",
    "print(swapped)\n"
   ]
  },
  {
   "cell_type": "code",
   "execution_count": 18,
   "metadata": {},
   "outputs": [
    {
     "name": "stdout",
     "output_type": "stream",
     "text": [
      "{'g': '4', 'a': '2', 'r': '3', 'i': '5'}\n"
     ]
    }
   ],
   "source": [
    "d={'1':'g','2':'a','3':'r','4':'g','5':'i'}\n",
    "swapped={v:k for k,v in d.items()}\n",
    "print(swapped)"
   ]
  },
  {
   "cell_type": "code",
   "execution_count": 11,
   "metadata": {},
   "outputs": [],
   "source": [
    "#function \n",
    "def square(x):\n",
    "    print(x**2)"
   ]
  },
  {
   "cell_type": "code",
   "execution_count": 16,
   "metadata": {},
   "outputs": [],
   "source": [
    "#positional arguments\n",
    "\n",
    "def greet(name,age):\n",
    "    print(f\"hello{name},you are {age}yearsold\")\n",
    "    greet(age=25,name=arun)#keyword arguments"
   ]
  },
  {
   "cell_type": "code",
   "execution_count": 10,
   "metadata": {},
   "outputs": [
    {
     "name": "stdout",
     "output_type": "stream",
     "text": [
      "{(1, 1): 2, (1, 3): 4, (2, 2): 4, (2, 4): 6, (3, 1): 4, (3, 3): 6, (4, 2): 6, (4, 4): 8}\n"
     ]
    }
   ],
   "source": [
    "# tuple sum \n",
    "d={(i,j):i+j for i in range(1,5) for j in range(1,5) if (i+j)%2==0} \n",
    "print(d)"
   ]
  }
 ],
 "metadata": {
  "kernelspec": {
   "display_name": "Python 3",
   "language": "python",
   "name": "python3"
  },
  "language_info": {
   "codemirror_mode": {
    "name": "ipython",
    "version": 3
   },
   "file_extension": ".py",
   "mimetype": "text/x-python",
   "name": "python",
   "nbconvert_exporter": "python",
   "pygments_lexer": "ipython3",
   "version": "3.13.1"
  }
 },
 "nbformat": 4,
 "nbformat_minor": 2
}
