{
 "cells": [
  {
   "cell_type": "markdown",
   "id": "d4c419bc",
   "metadata": {},
   "source": [
    "### Linear Regression Implementation"
   ]
  },
  {
   "cell_type": "markdown",
   "id": "d0f6b7d5",
   "metadata": {},
   "source": [
    "#### Predicting house price"
   ]
  },
  {
   "cell_type": "markdown",
   "id": "977b8411",
   "metadata": {},
   "source": [
    "About dataset:\n",
    "- square feet is the Area of house.\n",
    "- Price is the corresponding cost of that house."
   ]
  },
  {
   "cell_type": "markdown",
   "id": "e017352c",
   "metadata": {},
   "source": [
    "Steps to follow:\n",
    "- As we learn linear regression we know that we have to find linear line for this data so that we can get θ0 and θ1.\n",
    "- Hypothesis equation looks like this"
   ]
  },
  {
   "cell_type": "markdown",
   "id": "3d821988",
   "metadata": {},
   "source": [
    "![Alt text](https://dataaspirant.com/wp-content/uploads/2014/09/image-7.png)"
   ]
  },
  {
   "cell_type": "markdown",
   "id": "22f5dfc9",
   "metadata": {},
   "source": [
    "where:\n",
    "- hθ(x) is nothing but the value price(which we are going to predicate ) for particular square_feet  ( means price is a linear function of square_feet)\n",
    "- θ0 is a constant\n",
    "- θ1 is the regression coefficient    "
   ]
  },
  {
   "cell_type": "code",
   "execution_count": 2,
   "id": "2ca822cb",
   "metadata": {},
   "outputs": [
    {
     "ename": "NameError",
     "evalue": "name 'pd' is not defined",
     "output_type": "error",
     "traceback": [
      "\u001b[1;31m---------------------------------------------------------------------------\u001b[0m",
      "\u001b[1;31mNameError\u001b[0m                                 Traceback (most recent call last)",
      "Cell \u001b[1;32mIn[2], line 1\u001b[0m\n\u001b[1;32m----> 1\u001b[0m \u001b[38;5;28;01mimport\u001b[39;00m \u001b[38;5;21;01mpandas\u001b[39;00m \u001b[38;5;28;01mas\u001b[39;00m \u001b[38;5;21;01mpd\u001b[39;00m\n\u001b[0;32m      2\u001b[0m \u001b[38;5;28;01mimport\u001b[39;00m \u001b[38;5;21;01mnumpy\u001b[39;00m \u001b[38;5;28;01mas\u001b[39;00m \u001b[38;5;21;01mnp\u001b[39;00m\n\u001b[0;32m      3\u001b[0m \u001b[38;5;28;01mimport\u001b[39;00m \u001b[38;5;21;01mmatplotlib\u001b[39;00m\u001b[38;5;21;01m.\u001b[39;00m\u001b[38;5;21;01mpyplot\u001b[39;00m \u001b[38;5;28;01mas\u001b[39;00m \u001b[38;5;21;01mplt\u001b[39;00m\n",
      "File \u001b[1;32mc:\\Users\\GARGI SHARMA\\Downloads\\pandas.py:3\u001b[0m\n\u001b[0;32m      1\u001b[0m \u001b[38;5;28;01mimport\u001b[39;00m \u001b[38;5;21;01mpandas\u001b[39;00m \u001b[38;5;28;01mas\u001b[39;00m \u001b[38;5;21;01mpandas\u001b[39;00m\n\u001b[0;32m      2\u001b[0m data \u001b[38;5;241m=\u001b[39m[\u001b[38;5;124m'\u001b[39m\u001b[38;5;124mSteve\u001b[39m\u001b[38;5;124m'\u001b[39m,\u001b[38;5;124m'\u001b[39m\u001b[38;5;124m35\u001b[39m\u001b[38;5;124m'\u001b[39m,\u001b[38;5;124m'\u001b[39m\u001b[38;5;124mMale\u001b[39m\u001b[38;5;124m'\u001b[39m,\u001b[38;5;124m'\u001b[39m\u001b[38;5;124m3.5\u001b[39m\u001b[38;5;124m'\u001b[39m]\n\u001b[1;32m----> 3\u001b[0m series\u001b[38;5;241m=\u001b[39mpd\u001b[38;5;241m.\u001b[39mSeries(data,index\u001b[38;5;241m=\u001b[39m[\u001b[38;5;124m'\u001b[39m\u001b[38;5;124mName\u001b[39m\u001b[38;5;124m'\u001b[39m,\u001b[38;5;124m'\u001b[39m\u001b[38;5;124mAge\u001b[39m\u001b[38;5;124m'\u001b[39m,\u001b[38;5;124m'\u001b[39m\u001b[38;5;124mGender\u001b[39m\u001b[38;5;124m'\u001b[39m,\u001b[38;5;124m'\u001b[39m\u001b[38;5;124mRating\u001b[39m\u001b[38;5;124m'\u001b[39m])\n\u001b[0;32m      4\u001b[0m \u001b[38;5;28mprint\u001b[39m(series)\n",
      "\u001b[1;31mNameError\u001b[0m: name 'pd' is not defined"
     ]
    }
   ],
   "source": [
    "import pandas as pd\n",
    "import numpy as np\n",
    "import matplotlib.pyplot as plt\n",
    "from sklearn.linear_model import LinearRegression\n",
    "from sklearn.metrics import mean_squared_error, r2_score"
   ]
  },
  {
   "cell_type": "code",
   "execution_count": 4,
   "id": "4fd864ae",
   "metadata": {},
   "outputs": [
    {
     "data": {
      "text/html": [
       "<div>\n",
       "<style scoped>\n",
       "    .dataframe tbody tr th:only-of-type {\n",
       "        vertical-align: middle;\n",
       "    }\n",
       "\n",
       "    .dataframe tbody tr th {\n",
       "        vertical-align: top;\n",
       "    }\n",
       "\n",
       "    .dataframe thead th {\n",
       "        text-align: right;\n",
       "    }\n",
       "</style>\n",
       "<table border=\"1\" class=\"dataframe\">\n",
       "  <thead>\n",
       "    <tr style=\"text-align: right;\">\n",
       "      <th></th>\n",
       "      <th>No.</th>\n",
       "      <th>square_feet</th>\n",
       "      <th>price</th>\n",
       "    </tr>\n",
       "  </thead>\n",
       "  <tbody>\n",
       "    <tr>\n",
       "      <th>0</th>\n",
       "      <td>1</td>\n",
       "      <td>150</td>\n",
       "      <td>6450</td>\n",
       "    </tr>\n",
       "    <tr>\n",
       "      <th>1</th>\n",
       "      <td>2</td>\n",
       "      <td>200</td>\n",
       "      <td>7450</td>\n",
       "    </tr>\n",
       "    <tr>\n",
       "      <th>2</th>\n",
       "      <td>3</td>\n",
       "      <td>250</td>\n",
       "      <td>8450</td>\n",
       "    </tr>\n",
       "    <tr>\n",
       "      <th>3</th>\n",
       "      <td>4</td>\n",
       "      <td>300</td>\n",
       "      <td>9450</td>\n",
       "    </tr>\n",
       "    <tr>\n",
       "      <th>4</th>\n",
       "      <td>5</td>\n",
       "      <td>350</td>\n",
       "      <td>11450</td>\n",
       "    </tr>\n",
       "    <tr>\n",
       "      <th>5</th>\n",
       "      <td>6</td>\n",
       "      <td>400</td>\n",
       "      <td>15450</td>\n",
       "    </tr>\n",
       "    <tr>\n",
       "      <th>6</th>\n",
       "      <td>7</td>\n",
       "      <td>600</td>\n",
       "      <td>18450</td>\n",
       "    </tr>\n",
       "  </tbody>\n",
       "</table>\n",
       "</div>"
      ],
      "text/plain": [
       "   No.  square_feet  price\n",
       "0    1          150   6450\n",
       "1    2          200   7450\n",
       "2    3          250   8450\n",
       "3    4          300   9450\n",
       "4    5          350  11450\n",
       "5    6          400  15450\n",
       "6    7          600  18450"
      ]
     },
     "execution_count": 4,
     "metadata": {},
     "output_type": "execute_result"
    }
   ],
   "source": [
    "df = pd.read_excel(r\"C:\\Users\\91971\\Desktop\\organized\\python\\Python datasets\\Home_price_dataset.xlsx\")\n",
    "df"
   ]
  },
  {
   "cell_type": "code",
   "execution_count": 3,
   "id": "c4e6486a",
   "metadata": {},
   "outputs": [
    {
     "ename": "NameError",
     "evalue": "name 'df' is not defined",
     "output_type": "error",
     "traceback": [
      "\u001b[1;31m---------------------------------------------------------------------------\u001b[0m",
      "\u001b[1;31mNameError\u001b[0m                                 Traceback (most recent call last)",
      "Cell \u001b[1;32mIn[3], line 2\u001b[0m\n\u001b[0;32m      1\u001b[0m \u001b[38;5;66;03m# Step 2: Prepare the data\u001b[39;00m\n\u001b[1;32m----> 2\u001b[0m X \u001b[38;5;241m=\u001b[39m df[[\u001b[38;5;124m'\u001b[39m\u001b[38;5;124msquare_feet\u001b[39m\u001b[38;5;124m'\u001b[39m]]  \u001b[38;5;66;03m# Features (independent variable)\u001b[39;00m\n\u001b[0;32m      3\u001b[0m y \u001b[38;5;241m=\u001b[39m df[\u001b[38;5;124m'\u001b[39m\u001b[38;5;124mprice\u001b[39m\u001b[38;5;124m'\u001b[39m]\n",
      "\u001b[1;31mNameError\u001b[0m: name 'df' is not defined"
     ]
    }
   ],
   "source": [
    "# Step 2: Prepare the data\n",
    "X = df[['square_feet']]  # Features (independent variable)\n",
    "y = df['price']          # Target (dependent variable)\n"
   ]
  },
  {
   "cell_type": "code",
   "execution_count": 4,
   "id": "8e28b30f",
   "metadata": {},
   "outputs": [
    {
     "ename": "NameError",
     "evalue": "name 'LinearRegression' is not defined",
     "output_type": "error",
     "traceback": [
      "\u001b[1;31m---------------------------------------------------------------------------\u001b[0m",
      "\u001b[1;31mNameError\u001b[0m                                 Traceback (most recent call last)",
      "Cell \u001b[1;32mIn[4], line 2\u001b[0m\n\u001b[0;32m      1\u001b[0m \u001b[38;5;66;03m# Step 3: Train the linear regression model\u001b[39;00m\n\u001b[1;32m----> 2\u001b[0m model \u001b[38;5;241m=\u001b[39m LinearRegression()\n\u001b[0;32m      3\u001b[0m model\u001b[38;5;241m.\u001b[39mfit(X, y)\n",
      "\u001b[1;31mNameError\u001b[0m: name 'LinearRegression' is not defined"
     ]
    }
   ],
   "source": [
    "# Step 3: Train the linear regression model\n",
    "model = LinearRegression()\n",
    "model.fit(X, y)\n"
   ]
  },
  {
   "cell_type": "markdown",
   "id": "cb0b3992",
   "metadata": {},
   "source": [
    "When you call fit(X, y), the model learns the coefficients for the linear equation that best fits the data. The goal is to minimize the difference between the predicted values and the actual values of y."
   ]
  },
  {
   "cell_type": "code",
   "execution_count": 5,
   "id": "dd12f7d8",
   "metadata": {},
   "outputs": [
    {
     "ename": "NameError",
     "evalue": "name 'model' is not defined",
     "output_type": "error",
     "traceback": [
      "\u001b[1;31m---------------------------------------------------------------------------\u001b[0m",
      "\u001b[1;31mNameError\u001b[0m                                 Traceback (most recent call last)",
      "Cell \u001b[1;32mIn[5], line 2\u001b[0m\n\u001b[0;32m      1\u001b[0m \u001b[38;5;66;03m# Step 4: Make predictions\u001b[39;00m\n\u001b[1;32m----> 2\u001b[0m predictions \u001b[38;5;241m=\u001b[39m model\u001b[38;5;241m.\u001b[39mpredict(X)\n",
      "\u001b[1;31mNameError\u001b[0m: name 'model' is not defined"
     ]
    }
   ],
   "source": [
    "# Step 4: Make predictions\n",
    "predictions = model.predict(X)"
   ]
  },
  {
   "cell_type": "code",
   "execution_count": 6,
   "id": "94a328e3",
   "metadata": {},
   "outputs": [
    {
     "ename": "NameError",
     "evalue": "name 'np' is not defined",
     "output_type": "error",
     "traceback": [
      "\u001b[1;31m---------------------------------------------------------------------------\u001b[0m",
      "\u001b[1;31mNameError\u001b[0m                                 Traceback (most recent call last)",
      "Cell \u001b[1;32mIn[6], line 1\u001b[0m\n\u001b[1;32m----> 1\u001b[0m rmse \u001b[38;5;241m=\u001b[39m np\u001b[38;5;241m.\u001b[39msqrt(mean_squared_error(y, predictions))\n\u001b[0;32m      2\u001b[0m r2 \u001b[38;5;241m=\u001b[39m r2_score(y, predictions)\n\u001b[0;32m      4\u001b[0m \u001b[38;5;28mprint\u001b[39m(\u001b[38;5;124mf\u001b[39m\u001b[38;5;124m\"\u001b[39m\u001b[38;5;124mRoot Mean Squared Error (RMSE): \u001b[39m\u001b[38;5;132;01m{\u001b[39;00mrmse\u001b[38;5;132;01m}\u001b[39;00m\u001b[38;5;124m\"\u001b[39m)\n",
      "\u001b[1;31mNameError\u001b[0m: name 'np' is not defined"
     ]
    }
   ],
   "source": [
    "rmse = np.sqrt(mean_squared_error(y, predictions))\n",
    "r2 = r2_score(y, predictions)\n",
    "\n",
    "print(f\"Root Mean Squared Error (RMSE): {rmse}\")\n",
    "print(f\"R-squared (R²): {r2}\")"
   ]
  },
  {
   "cell_type": "markdown",
   "id": "48e147b3",
   "metadata": {},
   "source": [
    "### Root Mean Squared Error (RMSE):\n",
    "\n",
    "Measures the average deviation of predictions from actual values.\n",
    "\n",
    "Lower RMSE indicates better model performance.\n"
   ]
  },
  {
   "cell_type": "markdown",
   "id": "779ee38f",
   "metadata": {},
   "source": [
    "### R² (R-Squared):\n",
    "\n",
    "Represents the proportion of variance in the target variable explained by the model.\n",
    "\n",
    "R² ranges from 0 to 1\n",
    "\n",
    "R²=1 :- Perfect fit.\n",
    "\n",
    "R²=0: Model does not explain any variance."
   ]
  },
  {
   "cell_type": "code",
   "execution_count": 11,
   "id": "c6abd01b",
   "metadata": {},
   "outputs": [
    {
     "data": {
      "image/png": "[encoded data removed]",
      "text/plain": [
       "<Figure size 640x480 with 1 Axes>"
      ]
     },
     "metadata": {},
     "output_type": "display_data"
    }
   ],
   "source": [
    "# Step 5: Visualize the results\n",
    "plt.scatter(X, y, color='blue', label='Actual Prices')\n",
    "plt.plot(X, predictions, color='red', label='Regression Line')\n",
    "plt.xlabel('Square Feet')\n",
    "plt.ylabel('Price')\n",
    "plt.title('Linear Regression: House Prices vs. Square Feet')\n",
    "plt.legend()\n",
    "plt.show()\n"
   ]
  },
  {
   "cell_type": "code",
   "execution_count": 13,
   "id": "a0f67d5a",
   "metadata": {},
   "outputs": [
    {
     "name": "stdout",
     "output_type": "stream",
     "text": [
      "Coefficient: [28.77659574]\n",
      "Intercept: 1771.8085106382969\n"
     ]
    }
   ],
   "source": [
    "# Display the coefficient and intercept of the regression line\n",
    "print(f\"Coefficient: {model.coef_}\")\n",
    "print(f\"Intercept: {model.intercept_}\")"
   ]
  },
  {
   "cell_type": "markdown",
   "id": "b92cf60e",
   "metadata": {},
   "source": [
    "Coefficient\n",
    "- In a simple linear regression, the coefficient tells you how much the dependent variable is expected to increase (or decrease) when the feature increases by one unit.\n"
   ]
  },
  {
   "cell_type": "markdown",
   "id": "b3cca3e8",
   "metadata": {},
   "source": [
    "Intercept\n",
    "- The intercept is the value of the dependent variable when all the independent variables are zero.It represents the baseline level of the dependent variable before considering the effects of the independent variables."
   ]
  },
  {
   "cell_type": "code",
   "execution_count": 14,
   "id": "5e1e4c9c",
   "metadata": {},
   "outputs": [
    {
     "name": "stdout",
     "output_type": "stream",
     "text": [
      "Predicted price for 1800 square feet:  [53569.68085106]\n"
     ]
    },
    {
     "name": "stderr",
     "output_type": "stream",
     "text": [
      "C:\\Users\\91971\\anaconda3\\Lib\\site-packages\\sklearn\\base.py:464: UserWarning: X does not have valid feature names, but LinearRegression was fitted with feature names\n",
      "  warnings.warn(\n"
     ]
    }
   ],
   "source": [
    "# Example prediction\n",
    "example_square_feet = 1800\n",
    "predicted_price = model.predict([[example_square_feet]])\n",
    "print('Predicted price for',example_square_feet, 'square feet: ',predicted_price)\n"
   ]
  },
  {
   "cell_type": "code",
   "execution_count": null,
   "id": "3fb7c333",
   "metadata": {},
   "outputs": [],
   "source": []
  },
  {
   "cell_type": "code",
   "execution_count": null,
   "id": "713fbad5",
   "metadata": {},
   "outputs": [],
   "source": []
  }
 ],
 "metadata": {
  "kernelspec": {
   "display_name": "base",
   "language": "python",
   "name": "python3"
  },
  "language_info": {
   "codemirror_mode": {
    "name": "ipython",
    "version": 3
   },
   "file_extension": ".py",
   "mimetype": "text/x-python",
   "name": "python",
   "nbconvert_exporter": "python",
   "pygments_lexer": "ipython3",
   "version": "3.12.7"
  }
 },
 "nbformat": 4,
 "nbformat_minor": 5
}
